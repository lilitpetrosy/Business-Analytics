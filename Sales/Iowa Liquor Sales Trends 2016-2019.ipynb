{
 "cells": [
  {
   "cell_type": "markdown",
   "metadata": {
    "hideCode": false,
    "hidePrompt": false
   },
   "source": [
    "# Iowa Liquor Sales Trends 2016-2019\n",
    "\n",
    "![](banner_iowa_liquor.jpg)\n",
    "\n",
    "Kernel Density Estimation (KDE)"
   ]
  },
  {
   "cell_type": "code",
   "execution_count": 1,
   "metadata": {},
   "outputs": [
    {
     "data": {
      "text/html": [
       "<p style=\"text-align:center; font-size:10px;\">\n",
       ".................................................... start of document ....................................................\n",
       "</p>"
      ]
     },
     "metadata": {},
     "output_type": "display_data"
    }
   ],
   "source": [
    "f = \"setup.R\"; for (i in 1:10) { if (file.exists(f)) break else f = paste0(\"../\", f) }; source(f)"
   ]
  },
  {
   "cell_type": "markdown",
   "metadata": {},
   "source": [
    "## Situation\n",
    "\n",
    "The Iowa Department of Commerce requires that every store that sells alcohol in bottled form for off-the-premises consumption must hold a class \"E\" liquor license (an arrangement typical of most of the state alcohol regulatory bodies). All alcohol sales made by stores registered thusly with the Iowa Department of Commerce are logged in the Commerce department system, which is in turn published as open data by the State of Iowa.  The full dataset contains information on the name, kind, price, quantity, and location of sale of sales of individual containers or packages of containers of alcoholic beverages.  The datasets we use here are paritions of the full dataset by years 2017, 2018, and 2019, and have been prepared for analysis.\n",
    "\n",
    "* **Role:** Sales & marketing manager or product manager for a liquor wholesaler, Iowa region. \n",
    "* **Business Decisions:** What is your product bundling strategy?  What is your product pricing strategy?\n",
    "* **Approach:** Determine (an approximation of) the underlying processes for Iowa retail liquor sales in 2017, 2018, and 2019 periods, use insights to inform your strategy decisions.  \n",
    "* **Dataset:** State of Iowa, Department of Commerce, Retail Liquor Sales (https://data.iowa.gov/Economy/Iowa-Liquor-Sales/m3tr-qhgy)"
   ]
  },
  {
   "cell_type": "markdown",
   "metadata": {},
   "source": [
    "## Underlying Process for 2019 Sales Transactions"
   ]
  },
  {
   "cell_type": "markdown",
   "metadata": {},
   "source": [
    "### Retrieve data for 2019."
   ]
  },
  {
   "cell_type": "code",
   "execution_count": 18,
   "metadata": {},
   "outputs": [
    {
     "data": {
      "text/html": [
       "<table>\n",
       "<thead><tr><th scope=col>Date</th><th scope=col>Store.Number</th><th scope=col>Store.Name</th><th scope=col>Sale..Dollars.</th><th scope=col>Volume.Sold..Liters.</th></tr></thead>\n",
       "<tbody>\n",
       "\t<tr><td>05/19/2014                   </td><td>3700                         </td><td>Avoca Liquor                 </td><td>26.26                        </td><td>1.50                         </td></tr>\n",
       "\t<tr><td>08/15/2012                   </td><td>3762                         </td><td>Wine and Spirits Gallery     </td><td>22.49                        </td><td>1.00                         </td></tr>\n",
       "\t<tr><td>01/16/2012                   </td><td>2622                         </td><td>Hy-Vee Food Store / Iowa City</td><td>86.97                        </td><td>2.25                         </td></tr>\n",
       "</tbody>\n",
       "</table>\n"
      ],
      "text/latex": [
       "\\begin{tabular}{r|lllll}\n",
       " Date & Store.Number & Store.Name & Sale..Dollars. & Volume.Sold..Liters.\\\\\n",
       "\\hline\n",
       "\t 05/19/2014                    & 3700                          & Avoca Liquor                  & 26.26                         & 1.50                         \\\\\n",
       "\t 08/15/2012                    & 3762                          & Wine and Spirits Gallery      & 22.49                         & 1.00                         \\\\\n",
       "\t 01/16/2012                    & 2622                          & Hy-Vee Food Store / Iowa City & 86.97                         & 2.25                         \\\\\n",
       "\\end{tabular}\n"
      ],
      "text/markdown": [
       "\n",
       "| Date | Store.Number | Store.Name | Sale..Dollars. | Volume.Sold..Liters. |\n",
       "|---|---|---|---|---|\n",
       "| 05/19/2014                    | 3700                          | Avoca Liquor                  | 26.26                         | 1.50                          |\n",
       "| 08/15/2012                    | 3762                          | Wine and Spirits Gallery      | 22.49                         | 1.00                          |\n",
       "| 01/16/2012                    | 2622                          | Hy-Vee Food Store / Iowa City | 86.97                         | 2.25                          |\n",
       "\n"
      ],
      "text/plain": [
       "  Date       Store.Number Store.Name                    Sale..Dollars.\n",
       "1 05/19/2014 3700         Avoca Liquor                  26.26         \n",
       "2 08/15/2012 3762         Wine and Spirits Gallery      22.49         \n",
       "3 01/16/2012 2622         Hy-Vee Food Store / Iowa City 86.97         \n",
       "  Volume.Sold..Liters.\n",
       "1 1.50                \n",
       "2 1.00                \n",
       "3 2.25                "
      ]
     },
     "metadata": {},
     "output_type": "display_data"
    },
    {
     "name": "stdout",
     "output_type": "stream",
     "text": [
      "Time difference of 20.58503 mins\n"
     ]
    }
   ],
   "source": [
    "clock.start()\n",
    "datax = read.csv(\"Iowa_Liquor_Sales.csv\")\n",
    "datax = datax[, c(2,3,4,22,23)]\n",
    "datax[1:3,]\n",
    "clock.stop()"
   ]
  },
  {
   "cell_type": "code",
   "execution_count": 19,
   "metadata": {},
   "outputs": [
    {
     "name": "stdout",
     "output_type": "stream",
     "text": [
      "Time difference of 20.64717 secs\n"
     ]
    }
   ],
   "source": [
    "clock.start()\n",
    "x = mdy(datax$Date)\n",
    "clock.stop()\n"
   ]
  },
  {
   "cell_type": "code",
   "execution_count": 20,
   "metadata": {},
   "outputs": [
    {
     "name": "stdout",
     "output_type": "stream",
     "text": [
      "Time difference of 13.43685 secs\n"
     ]
    }
   ],
   "source": [
    "clock.start()\n",
    "datax$year = year(x)\n",
    "datax$month = month(x)\n",
    "datax$day = day(x)\n",
    "clock.stop()"
   ]
  },
  {
   "cell_type": "code",
   "execution_count": 21,
   "metadata": {},
   "outputs": [],
   "source": [
    "datax$Date = NULL"
   ]
  },
  {
   "cell_type": "code",
   "execution_count": 22,
   "metadata": {},
   "outputs": [],
   "source": [
    "colnames(datax) = c(\"store_ID\",\"store_name\",\"sale.dollars\",\"volume.gallons\",\"year\",\"month\",\"day\")"
   ]
  },
  {
   "cell_type": "code",
   "execution_count": 23,
   "metadata": {},
   "outputs": [
    {
     "data": {
      "text/html": [
       "<table>\n",
       "<thead><tr><th scope=col>store_ID</th><th scope=col>store_name</th><th scope=col>sale.dollars</th><th scope=col>volume.gallons</th><th scope=col>year</th><th scope=col>month</th><th scope=col>day</th></tr></thead>\n",
       "<tbody>\n",
       "\t<tr><td>3700                         </td><td>Avoca Liquor                 </td><td>26.26                        </td><td>1.50                         </td><td>2014                         </td><td>5                            </td><td>19                           </td></tr>\n",
       "\t<tr><td>3762                         </td><td>Wine and Spirits Gallery     </td><td>22.49                        </td><td>1.00                         </td><td>2012                         </td><td>8                            </td><td>15                           </td></tr>\n",
       "\t<tr><td>2622                         </td><td>Hy-Vee Food Store / Iowa City</td><td>86.97                        </td><td>2.25                         </td><td>2012                         </td><td>1                            </td><td>16                           </td></tr>\n",
       "</tbody>\n",
       "</table>\n"
      ],
      "text/latex": [
       "\\begin{tabular}{r|lllllll}\n",
       " store\\_ID & store\\_name & sale.dollars & volume.gallons & year & month & day\\\\\n",
       "\\hline\n",
       "\t 3700                          & Avoca Liquor                  & 26.26                         & 1.50                          & 2014                          & 5                             & 19                           \\\\\n",
       "\t 3762                          & Wine and Spirits Gallery      & 22.49                         & 1.00                          & 2012                          & 8                             & 15                           \\\\\n",
       "\t 2622                          & Hy-Vee Food Store / Iowa City & 86.97                         & 2.25                          & 2012                          & 1                             & 16                           \\\\\n",
       "\\end{tabular}\n"
      ],
      "text/markdown": [
       "\n",
       "| store_ID | store_name | sale.dollars | volume.gallons | year | month | day |\n",
       "|---|---|---|---|---|---|---|\n",
       "| 3700                          | Avoca Liquor                  | 26.26                         | 1.50                          | 2014                          | 5                             | 19                            |\n",
       "| 3762                          | Wine and Spirits Gallery      | 22.49                         | 1.00                          | 2012                          | 8                             | 15                            |\n",
       "| 2622                          | Hy-Vee Food Store / Iowa City | 86.97                         | 2.25                          | 2012                          | 1                             | 16                            |\n",
       "\n"
      ],
      "text/plain": [
       "  store_ID store_name                    sale.dollars volume.gallons year month\n",
       "1 3700     Avoca Liquor                  26.26        1.50           2014 5    \n",
       "2 3762     Wine and Spirits Gallery      22.49        1.00           2012 8    \n",
       "3 2622     Hy-Vee Food Store / Iowa City 86.97        2.25           2012 1    \n",
       "  day\n",
       "1 19 \n",
       "2 15 \n",
       "3 16 "
      ]
     },
     "metadata": {},
     "output_type": "display_data"
    }
   ],
   "source": [
    "datax[1:3,]"
   ]
  },
  {
   "cell_type": "code",
   "execution_count": 29,
   "metadata": {},
   "outputs": [],
   "source": [
    "datax.2019 = datax[datax$year==2019,]\n",
    "write.csv(datax.2019, \"Iowa Liquor 2019.csv\", row.names=FALSE)"
   ]
  },
  {
   "cell_type": "code",
   "execution_count": null,
   "metadata": {},
   "outputs": [],
   "source": []
  },
  {
   "cell_type": "code",
   "execution_count": null,
   "metadata": {},
   "outputs": [],
   "source": []
  },
  {
   "cell_type": "code",
   "execution_count": null,
   "metadata": {},
   "outputs": [],
   "source": []
  },
  {
   "cell_type": "code",
   "execution_count": null,
   "metadata": {},
   "outputs": [],
   "source": []
  },
  {
   "cell_type": "code",
   "execution_count": 30,
   "metadata": {
    "hideCode": false,
    "hidePrompt": false,
    "run_control": {
     "marked": false
    },
    "scrolled": true
   },
   "outputs": [
    {
     "data": {
      "text/html": [
       "<table>\n",
       "<thead><tr><th scope=col>observations</th><th scope=col>variables</th></tr></thead>\n",
       "<tbody>\n",
       "\t<tr><td>2380345</td><td>7      </td></tr>\n",
       "</tbody>\n",
       "</table>\n"
      ],
      "text/latex": [
       "\\begin{tabular}{r|ll}\n",
       " observations & variables\\\\\n",
       "\\hline\n",
       "\t 2380345 & 7      \\\\\n",
       "\\end{tabular}\n"
      ],
      "text/markdown": [
       "\n",
       "| observations | variables |\n",
       "|---|---|\n",
       "| 2380345 | 7       |\n",
       "\n"
      ],
      "text/plain": [
       "  observations variables\n",
       "1 2380345      7        "
      ]
     },
     "metadata": {},
     "output_type": "display_data"
    },
    {
     "data": {
      "text/html": [
       "<table>\n",
       "<thead><tr><th scope=col>store_ID</th><th scope=col>store_name</th><th scope=col>sale.dollars</th><th scope=col>volume.gallons</th><th scope=col>year</th><th scope=col>month</th><th scope=col>day</th></tr></thead>\n",
       "<tbody>\n",
       "\t<tr><td>5068                                  </td><td>Tobacco Shop / Arnolds Park           </td><td>  43.56                               </td><td> 12.00                                </td><td>2019                                  </td><td>5                                     </td><td>15                                    </td></tr>\n",
       "\t<tr><td>2588                                  </td><td>Hy-Vee Food and Drug #6 / Cedar Rapids</td><td>  19.89                               </td><td>  0.75                                </td><td>2019                                  </td><td>5                                     </td><td>16                                    </td></tr>\n",
       "\t<tr><td>2647                                  </td><td>Hy-Vee #7 / Cedar Rapids              </td><td>  60.72                               </td><td>  9.00                                </td><td>2019                                  </td><td>5                                     </td><td>15                                    </td></tr>\n",
       "\t<tr><td>5202                                  </td><td>Casey's General Store #2900 / Gilber  </td><td>  33.72                               </td><td>  2.25                                </td><td>2019                                  </td><td>5                                     </td><td>14                                    </td></tr>\n",
       "\t<tr><td>2552                                  </td><td>Hy-Vee Food Store #3 / Cedar Rapids   </td><td>  22.50                               </td><td>  1.00                                </td><td>2019                                  </td><td>5                                     </td><td>13                                    </td></tr>\n",
       "\t<tr><td>5097                                  </td><td>Fareway Stores #151 / Cedar Rapids    </td><td>1761.84                               </td><td>126.00                                </td><td>2019                                  </td><td>5                                     </td><td>16                                    </td></tr>\n",
       "</tbody>\n",
       "</table>\n"
      ],
      "text/latex": [
       "\\begin{tabular}{r|lllllll}\n",
       " store\\_ID & store\\_name & sale.dollars & volume.gallons & year & month & day\\\\\n",
       "\\hline\n",
       "\t 5068                                   & Tobacco Shop / Arnolds Park            &   43.56                                &  12.00                                 & 2019                                   & 5                                      & 15                                    \\\\\n",
       "\t 2588                                     & Hy-Vee Food and Drug \\#6 / Cedar Rapids &   19.89                                  &   0.75                                   & 2019                                     & 5                                        & 16                                      \\\\\n",
       "\t 2647                                     & Hy-Vee \\#7 / Cedar Rapids               &   60.72                                  &   9.00                                   & 2019                                     & 5                                        & 15                                      \\\\\n",
       "\t 5202                                     & Casey's General Store \\#2900 / Gilber   &   33.72                                  &   2.25                                   & 2019                                     & 5                                        & 14                                      \\\\\n",
       "\t 2552                                     & Hy-Vee Food Store \\#3 / Cedar Rapids    &   22.50                                  &   1.00                                   & 2019                                     & 5                                        & 13                                      \\\\\n",
       "\t 5097                                     & Fareway Stores \\#151 / Cedar Rapids     & 1761.84                                  & 126.00                                   & 2019                                     & 5                                        & 16                                      \\\\\n",
       "\\end{tabular}\n"
      ],
      "text/markdown": [
       "\n",
       "| store_ID | store_name | sale.dollars | volume.gallons | year | month | day |\n",
       "|---|---|---|---|---|---|---|\n",
       "| 5068                                   | Tobacco Shop / Arnolds Park            |   43.56                                |  12.00                                 | 2019                                   | 5                                      | 15                                     |\n",
       "| 2588                                   | Hy-Vee Food and Drug #6 / Cedar Rapids |   19.89                                |   0.75                                 | 2019                                   | 5                                      | 16                                     |\n",
       "| 2647                                   | Hy-Vee #7 / Cedar Rapids               |   60.72                                |   9.00                                 | 2019                                   | 5                                      | 15                                     |\n",
       "| 5202                                   | Casey's General Store #2900 / Gilber   |   33.72                                |   2.25                                 | 2019                                   | 5                                      | 14                                     |\n",
       "| 2552                                   | Hy-Vee Food Store #3 / Cedar Rapids    |   22.50                                |   1.00                                 | 2019                                   | 5                                      | 13                                     |\n",
       "| 5097                                   | Fareway Stores #151 / Cedar Rapids     | 1761.84                                | 126.00                                 | 2019                                   | 5                                      | 16                                     |\n",
       "\n"
      ],
      "text/plain": [
       "  store_ID store_name                             sale.dollars volume.gallons\n",
       "1 5068     Tobacco Shop / Arnolds Park              43.56       12.00        \n",
       "2 2588     Hy-Vee Food and Drug #6 / Cedar Rapids   19.89        0.75        \n",
       "3 2647     Hy-Vee #7 / Cedar Rapids                 60.72        9.00        \n",
       "4 5202     Casey's General Store #2900 / Gilber     33.72        2.25        \n",
       "5 2552     Hy-Vee Food Store #3 / Cedar Rapids      22.50        1.00        \n",
       "6 5097     Fareway Stores #151 / Cedar Rapids     1761.84      126.00        \n",
       "  year month day\n",
       "1 2019 5     15 \n",
       "2 2019 5     16 \n",
       "3 2019 5     15 \n",
       "4 2019 5     14 \n",
       "5 2019 5     13 \n",
       "6 2019 5     16 "
      ]
     },
     "metadata": {},
     "output_type": "display_data"
    }
   ],
   "source": [
    "data.2019.all = read.csv(\"Iowa Liquor 2019.csv\")\n",
    "size(data.2019.all)\n",
    "head(data.2019.all)"
   ]
  },
  {
   "cell_type": "code",
   "execution_count": 31,
   "metadata": {},
   "outputs": [
    {
     "data": {
      "image/png": "[encoded data removed]",
      "text/plain": [
       "plot without title"
      ]
     },
     "metadata": {},
     "output_type": "display_data"
    }
   ],
   "source": [
    "ggplot(data.2019.all) + ggtitle(\"2019 All Sales\") + geom_histogram(aes(x=sale.dollars), binwidth=10, fill=PALETTE[1])"
   ]
  },
  {
   "cell_type": "markdown",
   "metadata": {},
   "source": [
    "### Focus on sub-\\\\$500 transactions."
   ]
  },
  {
   "cell_type": "code",
   "execution_count": 32,
   "metadata": {},
   "outputs": [
    {
     "data": {
      "text/html": [
       "<table>\n",
       "<thead><tr><th scope=col>min_value</th><th scope=col>max_value</th><th scope=col>number_transactions_over_500</th><th scope=col>fraction_transactions_over_500</th></tr></thead>\n",
       "<tbody>\n",
       "\t<tr><td>1.34      </td><td>78435     </td><td>73647     </td><td>0.03093963</td></tr>\n",
       "</tbody>\n",
       "</table>\n"
      ],
      "text/latex": [
       "\\begin{tabular}{r|llll}\n",
       " min\\_value & max\\_value & number\\_transactions\\_over\\_500 & fraction\\_transactions\\_over\\_500\\\\\n",
       "\\hline\n",
       "\t 1.34       & 78435      & 73647      & 0.03093963\\\\\n",
       "\\end{tabular}\n"
      ],
      "text/markdown": [
       "\n",
       "| min_value | max_value | number_transactions_over_500 | fraction_transactions_over_500 |\n",
       "|---|---|---|---|\n",
       "| 1.34       | 78435      | 73647      | 0.03093963 |\n",
       "\n"
      ],
      "text/plain": [
       "  min_value max_value number_transactions_over_500\n",
       "1 1.34      78435     73647                       \n",
       "  fraction_transactions_over_500\n",
       "1 0.03093963                    "
      ]
     },
     "metadata": {},
     "output_type": "display_data"
    }
   ],
   "source": [
    "data.frame(min_value=min(data.2019.all$sale.dollars), # minimum value transaction\n",
    "           max_value=max(data.2019.all$sale.dollars), # maximum value transaction\n",
    "           number_transactions_over_500=length(which(data.2019.all$sale.dollars > 500)), # number of transactions over $500\n",
    "           fraction_transactions_over_500=length(which(data.2019.all$sale.dollars > 500)) / nrow(data.2019.all)) # fraction of transactions over $500"
   ]
  },
  {
   "cell_type": "code",
   "execution_count": 34,
   "metadata": {},
   "outputs": [
    {
     "data": {
      "text/html": [
       "<table>\n",
       "<thead><tr><th scope=col>observations</th><th scope=col>variables</th></tr></thead>\n",
       "<tbody>\n",
       "\t<tr><td>2306698</td><td>7      </td></tr>\n",
       "</tbody>\n",
       "</table>\n"
      ],
      "text/latex": [
       "\\begin{tabular}{r|ll}\n",
       " observations & variables\\\\\n",
       "\\hline\n",
       "\t 2306698 & 7      \\\\\n",
       "\\end{tabular}\n"
      ],
      "text/markdown": [
       "\n",
       "| observations | variables |\n",
       "|---|---|\n",
       "| 2306698 | 7       |\n",
       "\n"
      ],
      "text/plain": [
       "  observations variables\n",
       "1 2306698      7        "
      ]
     },
     "metadata": {},
     "output_type": "display_data"
    },
    {
     "data": {
      "text/html": [
       "<table>\n",
       "<thead><tr><th></th><th scope=col>store_ID</th><th scope=col>store_name</th><th scope=col>sale.dollars</th><th scope=col>volume.gallons</th><th scope=col>year</th><th scope=col>month</th><th scope=col>day</th></tr></thead>\n",
       "<tbody>\n",
       "\t<tr><th scope=row>1</th><td>5068                                  </td><td>Tobacco Shop / Arnolds Park           </td><td>43.56                                 </td><td>12.00                                 </td><td>2019                                  </td><td>5                                     </td><td>15                                    </td></tr>\n",
       "\t<tr><th scope=row>2</th><td>2588                                  </td><td>Hy-Vee Food and Drug #6 / Cedar Rapids</td><td>19.89                                 </td><td> 0.75                                 </td><td>2019                                  </td><td>5                                     </td><td>16                                    </td></tr>\n",
       "\t<tr><th scope=row>3</th><td>2647                                  </td><td>Hy-Vee #7 / Cedar Rapids              </td><td>60.72                                 </td><td> 9.00                                 </td><td>2019                                  </td><td>5                                     </td><td>15                                    </td></tr>\n",
       "\t<tr><th scope=row>4</th><td>5202                                  </td><td>Casey's General Store #2900 / Gilber  </td><td>33.72                                 </td><td> 2.25                                 </td><td>2019                                  </td><td>5                                     </td><td>14                                    </td></tr>\n",
       "\t<tr><th scope=row>5</th><td>2552                                  </td><td>Hy-Vee Food Store #3 / Cedar Rapids   </td><td>22.50                                 </td><td> 1.00                                 </td><td>2019                                  </td><td>5                                     </td><td>13                                    </td></tr>\n",
       "\t<tr><th scope=row>7</th><td>5593                                  </td><td>Grandview Mart                        </td><td>13.31                                 </td><td> 0.50                                 </td><td>2019                                  </td><td>5                                     </td><td>13                                    </td></tr>\n",
       "</tbody>\n",
       "</table>\n"
      ],
      "text/latex": [
       "\\begin{tabular}{r|lllllll}\n",
       "  & store\\_ID & store\\_name & sale.dollars & volume.gallons & year & month & day\\\\\n",
       "\\hline\n",
       "\t1 & 5068                                   & Tobacco Shop / Arnolds Park            & 43.56                                  & 12.00                                  & 2019                                   & 5                                      & 15                                    \\\\\n",
       "\t2 & 2588                                     & Hy-Vee Food and Drug \\#6 / Cedar Rapids & 19.89                                    &  0.75                                    & 2019                                     & 5                                        & 16                                      \\\\\n",
       "\t3 & 2647                                     & Hy-Vee \\#7 / Cedar Rapids               & 60.72                                    &  9.00                                    & 2019                                     & 5                                        & 15                                      \\\\\n",
       "\t4 & 5202                                     & Casey's General Store \\#2900 / Gilber   & 33.72                                    &  2.25                                    & 2019                                     & 5                                        & 14                                      \\\\\n",
       "\t5 & 2552                                     & Hy-Vee Food Store \\#3 / Cedar Rapids    & 22.50                                    &  1.00                                    & 2019                                     & 5                                        & 13                                      \\\\\n",
       "\t7 & 5593                                   & Grandview Mart                         & 13.31                                  &  0.50                                  & 2019                                   & 5                                      & 13                                    \\\\\n",
       "\\end{tabular}\n"
      ],
      "text/markdown": [
       "\n",
       "| <!--/--> | store_ID | store_name | sale.dollars | volume.gallons | year | month | day |\n",
       "|---|---|---|---|---|---|---|---|\n",
       "| 1 | 5068                                   | Tobacco Shop / Arnolds Park            | 43.56                                  | 12.00                                  | 2019                                   | 5                                      | 15                                     |\n",
       "| 2 | 2588                                   | Hy-Vee Food and Drug #6 / Cedar Rapids | 19.89                                  |  0.75                                  | 2019                                   | 5                                      | 16                                     |\n",
       "| 3 | 2647                                   | Hy-Vee #7 / Cedar Rapids               | 60.72                                  |  9.00                                  | 2019                                   | 5                                      | 15                                     |\n",
       "| 4 | 5202                                   | Casey's General Store #2900 / Gilber   | 33.72                                  |  2.25                                  | 2019                                   | 5                                      | 14                                     |\n",
       "| 5 | 2552                                   | Hy-Vee Food Store #3 / Cedar Rapids    | 22.50                                  |  1.00                                  | 2019                                   | 5                                      | 13                                     |\n",
       "| 7 | 5593                                   | Grandview Mart                         | 13.31                                  |  0.50                                  | 2019                                   | 5                                      | 13                                     |\n",
       "\n"
      ],
      "text/plain": [
       "  store_ID store_name                             sale.dollars volume.gallons\n",
       "1 5068     Tobacco Shop / Arnolds Park            43.56        12.00         \n",
       "2 2588     Hy-Vee Food and Drug #6 / Cedar Rapids 19.89         0.75         \n",
       "3 2647     Hy-Vee #7 / Cedar Rapids               60.72         9.00         \n",
       "4 5202     Casey's General Store #2900 / Gilber   33.72         2.25         \n",
       "5 2552     Hy-Vee Food Store #3 / Cedar Rapids    22.50         1.00         \n",
       "7 5593     Grandview Mart                         13.31         0.50         \n",
       "  year month day\n",
       "1 2019 5     15 \n",
       "2 2019 5     16 \n",
       "3 2019 5     15 \n",
       "4 2019 5     14 \n",
       "5 2019 5     13 \n",
       "7 2019 5     13 "
      ]
     },
     "metadata": {},
     "output_type": "display_data"
    }
   ],
   "source": [
    "data.2019 = read.csv(\"Iowa Liquor 2019.csv\") # not strictly necessary to read file again\n",
    "data.2019 = data.2019[data.2019$sale.dollars<=500,]\n",
    "size(data.2019)\n",
    "head(data.2019)"
   ]
  },
  {
   "cell_type": "code",
   "execution_count": 35,
   "metadata": {},
   "outputs": [
    {
     "data": {
      "image/png": "[encoded data removed]",
      "text/plain": [
       "plot without title"
      ]
     },
     "metadata": {},
     "output_type": "display_data"
    }
   ],
   "source": [
    "ggplot(data.2019) + ggtitle(\"2019\") + geom_histogram(aes(x=sale.dollars), binwidth=0.2, fill=PALETTE[1])"
   ]
  },
  {
   "cell_type": "markdown",
   "metadata": {},
   "source": [
    "### Explore possible underlying processes.\n",
    "\n",
    "Try kernel density estimation with gaussian, rectangular, and triangular kernels, all at bandwidth 50."
   ]
  },
  {
   "cell_type": "code",
   "execution_count": 36,
   "metadata": {},
   "outputs": [
    {
     "data": {
      "image/png": "[encoded data removed]",
      "text/plain": [
       "plot without title"
      ]
     },
     "metadata": {},
     "output_type": "display_data"
    }
   ],
   "source": [
    "p = ggplot(data.2019)\n",
    "\n",
    "grid.arrange(p + ggtitle(\"Gaussian, bw=50\")    + geom_density(aes(sale.dollars), kernel=\"gaussian\",    bw=50),\n",
    "             p + ggtitle(\"Rectangular, bw=50\") + geom_density(aes(sale.dollars), kernel=\"rectangular\", bw=50),\n",
    "             p + ggtitle(\"Triangular, bw=50\")  + geom_density(aes(sale.dollars), kernel=\"triangular\",  bw=50),\n",
    "             nrow=1)"
   ]
  },
  {
   "cell_type": "markdown",
   "metadata": {},
   "source": [
    "### Explore more possible underlying processes.\n",
    "\n",
    "Try kernel density estimation with gaussian kernel as bandwidths (standard deviations) 1, 10, 50."
   ]
  },
  {
   "cell_type": "code",
   "execution_count": 37,
   "metadata": {},
   "outputs": [
    {
     "data": {
      "image/png": "[encoded data removed]",
      "text/plain": [
       "plot without title"
      ]
     },
     "metadata": {},
     "output_type": "display_data"
    }
   ],
   "source": [
    "p = ggplot(data.2019)\n",
    "\n",
    "grid.arrange(p + ggtitle(\"Gaussian, bw=1\")  + geom_density(aes(sale.dollars), kernel=\"gaussian\", bw=1),\n",
    "             p + ggtitle(\"Gaussian, bw=10\") + geom_density(aes(sale.dollars), kernel=\"gaussian\", bw=10),\n",
    "             p + ggtitle(\"Gaussian, bw=50\") + geom_density(aes(sale.dollars), kernel=\"gaussian\", bw=50),\n",
    "             nrow=1)"
   ]
  },
  {
   "cell_type": "markdown",
   "metadata": {},
   "source": [
    "## Compare Underlying Processes for 2016, 2017, 2018, 2019"
   ]
  },
  {
   "cell_type": "markdown",
   "metadata": {},
   "source": [
    "### Retrieve data for 2016, 2017, 2018, 2019.  Focus on sub-\\\\$500 transactions."
   ]
  },
  {
   "cell_type": "code",
   "execution_count": 38,
   "metadata": {},
   "outputs": [
    {
     "data": {
      "text/html": [
       "<table>\n",
       "<thead><tr><th scope=col>observations</th><th scope=col>variables</th></tr></thead>\n",
       "<tbody>\n",
       "\t<tr><td>2279879</td><td>7      </td></tr>\n",
       "</tbody>\n",
       "</table>\n"
      ],
      "text/latex": [
       "\\begin{tabular}{r|ll}\n",
       " observations & variables\\\\\n",
       "\\hline\n",
       "\t 2279879 & 7      \\\\\n",
       "\\end{tabular}\n"
      ],
      "text/markdown": [
       "\n",
       "| observations | variables |\n",
       "|---|---|\n",
       "| 2279879 | 7       |\n",
       "\n"
      ],
      "text/plain": [
       "  observations variables\n",
       "1 2279879      7        "
      ]
     },
     "metadata": {},
     "output_type": "display_data"
    },
    {
     "data": {
      "text/html": [
       "<table>\n",
       "<thead><tr><th scope=col>observations</th><th scope=col>variables</th></tr></thead>\n",
       "<tbody>\n",
       "\t<tr><td>2242670</td><td>7      </td></tr>\n",
       "</tbody>\n",
       "</table>\n"
      ],
      "text/latex": [
       "\\begin{tabular}{r|ll}\n",
       " observations & variables\\\\\n",
       "\\hline\n",
       "\t 2242670 & 7      \\\\\n",
       "\\end{tabular}\n"
      ],
      "text/markdown": [
       "\n",
       "| observations | variables |\n",
       "|---|---|\n",
       "| 2242670 | 7       |\n",
       "\n"
      ],
      "text/plain": [
       "  observations variables\n",
       "1 2242670      7        "
      ]
     },
     "metadata": {},
     "output_type": "display_data"
    },
    {
     "data": {
      "text/html": [
       "<table>\n",
       "<thead><tr><th></th><th scope=col>store_ID</th><th scope=col>store_name</th><th scope=col>sale.dollars</th><th scope=col>volume.gallons</th><th scope=col>year</th><th scope=col>month</th><th scope=col>day</th></tr></thead>\n",
       "<tbody>\n",
       "\t<tr><th scope=row>1</th><td>3621                               </td><td>Jensen Liquors, Ltd.               </td><td> 32.25                             </td><td>0.20                               </td><td>2016                               </td><td>1                                  </td><td>26                                 </td></tr>\n",
       "\t<tr><th scope=row>2</th><td>2552                               </td><td>Hy-Vee Food Store #3 / Cedar Rapids</td><td> 58.74                             </td><td>0.40                               </td><td>2016                               </td><td>1                                  </td><td>12                                 </td></tr>\n",
       "\t<tr><th scope=row>3</th><td>2513                               </td><td>Hy-Vee Food Store #2 / Iowa City   </td><td>352.44                             </td><td>2.38                               </td><td>2016                               </td><td>1                                  </td><td>13                                 </td></tr>\n",
       "\t<tr><th scope=row>4</th><td>3869                               </td><td>Bootleggin' Barzini's Fin          </td><td> 88.11                             </td><td>0.59                               </td><td>2016                               </td><td>1                                  </td><td>13                                 </td></tr>\n",
       "\t<tr><th scope=row>5</th><td>2106                               </td><td>Hillstreet News and Tobacco        </td><td> 29.37                             </td><td>0.20                               </td><td>2016                               </td><td>1                                  </td><td>14                                 </td></tr>\n",
       "\t<tr><th scope=row>7</th><td>2651                               </td><td>Hy-Vee / Waverly                   </td><td> 29.37                             </td><td>0.20                               </td><td>2016                               </td><td>1                                  </td><td> 5                                 </td></tr>\n",
       "</tbody>\n",
       "</table>\n"
      ],
      "text/latex": [
       "\\begin{tabular}{r|lllllll}\n",
       "  & store\\_ID & store\\_name & sale.dollars & volume.gallons & year & month & day\\\\\n",
       "\\hline\n",
       "\t1 & 3621                                & Jensen Liquors, Ltd.                &  32.25                              & 0.20                                & 2016                                & 1                                   & 26                                 \\\\\n",
       "\t2 & 2552                                  & Hy-Vee Food Store \\#3 / Cedar Rapids &  58.74                                & 0.40                                  & 2016                                  & 1                                     & 12                                   \\\\\n",
       "\t3 & 2513                                  & Hy-Vee Food Store \\#2 / Iowa City    & 352.44                                & 2.38                                  & 2016                                  & 1                                     & 13                                   \\\\\n",
       "\t4 & 3869                                & Bootleggin' Barzini's Fin           &  88.11                              & 0.59                                & 2016                                & 1                                   & 13                                 \\\\\n",
       "\t5 & 2106                                & Hillstreet News and Tobacco         &  29.37                              & 0.20                                & 2016                                & 1                                   & 14                                 \\\\\n",
       "\t7 & 2651                                & Hy-Vee / Waverly                    &  29.37                              & 0.20                                & 2016                                & 1                                   &  5                                 \\\\\n",
       "\\end{tabular}\n"
      ],
      "text/markdown": [
       "\n",
       "| <!--/--> | store_ID | store_name | sale.dollars | volume.gallons | year | month | day |\n",
       "|---|---|---|---|---|---|---|---|\n",
       "| 1 | 3621                                | Jensen Liquors, Ltd.                |  32.25                              | 0.20                                | 2016                                | 1                                   | 26                                  |\n",
       "| 2 | 2552                                | Hy-Vee Food Store #3 / Cedar Rapids |  58.74                              | 0.40                                | 2016                                | 1                                   | 12                                  |\n",
       "| 3 | 2513                                | Hy-Vee Food Store #2 / Iowa City    | 352.44                              | 2.38                                | 2016                                | 1                                   | 13                                  |\n",
       "| 4 | 3869                                | Bootleggin' Barzini's Fin           |  88.11                              | 0.59                                | 2016                                | 1                                   | 13                                  |\n",
       "| 5 | 2106                                | Hillstreet News and Tobacco         |  29.37                              | 0.20                                | 2016                                | 1                                   | 14                                  |\n",
       "| 7 | 2651                                | Hy-Vee / Waverly                    |  29.37                              | 0.20                                | 2016                                | 1                                   |  5                                  |\n",
       "\n"
      ],
      "text/plain": [
       "  store_ID store_name                          sale.dollars volume.gallons year\n",
       "1 3621     Jensen Liquors, Ltd.                 32.25       0.20           2016\n",
       "2 2552     Hy-Vee Food Store #3 / Cedar Rapids  58.74       0.40           2016\n",
       "3 2513     Hy-Vee Food Store #2 / Iowa City    352.44       2.38           2016\n",
       "4 3869     Bootleggin' Barzini's Fin            88.11       0.59           2016\n",
       "5 2106     Hillstreet News and Tobacco          29.37       0.20           2016\n",
       "7 2651     Hy-Vee / Waverly                     29.37       0.20           2016\n",
       "  month day\n",
       "1 1     26 \n",
       "2 1     12 \n",
       "3 1     13 \n",
       "4 1     13 \n",
       "5 1     14 \n",
       "7 1      5 "
      ]
     },
     "metadata": {},
     "output_type": "display_data"
    }
   ],
   "source": [
    "data.2016 = read.csv(\"Iowa Liquor 2016.csv\")\n",
    "size(data.2016)\n",
    "\n",
    "data.2016 = data.2016[data.2016$sale.dollars<500,]\n",
    "size(data.2016)\n",
    "head(data.2016)"
   ]
  },
  {
   "cell_type": "code",
   "execution_count": 39,
   "metadata": {},
   "outputs": [
    {
     "data": {
      "text/html": [
       "<table>\n",
       "<thead><tr><th scope=col>observations</th><th scope=col>variables</th></tr></thead>\n",
       "<tbody>\n",
       "\t<tr><td>2291276</td><td>7      </td></tr>\n",
       "</tbody>\n",
       "</table>\n"
      ],
      "text/latex": [
       "\\begin{tabular}{r|ll}\n",
       " observations & variables\\\\\n",
       "\\hline\n",
       "\t 2291276 & 7      \\\\\n",
       "\\end{tabular}\n"
      ],
      "text/markdown": [
       "\n",
       "| observations | variables |\n",
       "|---|---|\n",
       "| 2291276 | 7       |\n",
       "\n"
      ],
      "text/plain": [
       "  observations variables\n",
       "1 2291276      7        "
      ]
     },
     "metadata": {},
     "output_type": "display_data"
    },
    {
     "data": {
      "text/html": [
       "<table>\n",
       "<thead><tr><th scope=col>observations</th><th scope=col>variables</th></tr></thead>\n",
       "<tbody>\n",
       "\t<tr><td>2226444</td><td>7      </td></tr>\n",
       "</tbody>\n",
       "</table>\n"
      ],
      "text/latex": [
       "\\begin{tabular}{r|ll}\n",
       " observations & variables\\\\\n",
       "\\hline\n",
       "\t 2226444 & 7      \\\\\n",
       "\\end{tabular}\n"
      ],
      "text/markdown": [
       "\n",
       "| observations | variables |\n",
       "|---|---|\n",
       "| 2226444 | 7       |\n",
       "\n"
      ],
      "text/plain": [
       "  observations variables\n",
       "1 2226444      7        "
      ]
     },
     "metadata": {},
     "output_type": "display_data"
    },
    {
     "data": {
      "text/html": [
       "<table>\n",
       "<thead><tr><th scope=col>store_ID</th><th scope=col>store_name</th><th scope=col>sale.dollars</th><th scope=col>volume.gallons</th><th scope=col>year</th><th scope=col>month</th><th scope=col>day</th></tr></thead>\n",
       "<tbody>\n",
       "\t<tr><td>2543                          </td><td>Hy-Vee Food Store #1 / Ottumwa</td><td> 18.00                        </td><td>1.50                          </td><td>2017                          </td><td>11                            </td><td> 8                            </td></tr>\n",
       "\t<tr><td>5320                          </td><td>Central Grocery               </td><td> 72.00                        </td><td>9.00                          </td><td>2017                          </td><td> 1                            </td><td>30                            </td></tr>\n",
       "\t<tr><td>5070                          </td><td>Jeff's Market / Wilton        </td><td> 13.26                        </td><td>2.00                          </td><td>2017                          </td><td> 1                            </td><td> 9                            </td></tr>\n",
       "\t<tr><td>4478                          </td><td>U S Gas                       </td><td>  7.20                        </td><td>0.50                          </td><td>2017                          </td><td> 3                            </td><td>24                            </td></tr>\n",
       "\t<tr><td>4478                          </td><td>U S Gas                       </td><td> 37.08                        </td><td>2.25                          </td><td>2017                          </td><td> 2                            </td><td> 3                            </td></tr>\n",
       "\t<tr><td>4640                          </td><td>Mart Stop #1 / Davenport      </td><td>368.64                        </td><td>9.00                          </td><td>2017                          </td><td>12                            </td><td> 6                            </td></tr>\n",
       "</tbody>\n",
       "</table>\n"
      ],
      "text/latex": [
       "\\begin{tabular}{r|lllllll}\n",
       " store\\_ID & store\\_name & sale.dollars & volume.gallons & year & month & day\\\\\n",
       "\\hline\n",
       "\t 2543                             & Hy-Vee Food Store \\#1 / Ottumwa &  18.00                           & 1.50                             & 2017                             & 11                               &  8                              \\\\\n",
       "\t 5320                           & Central Grocery                &  72.00                         & 9.00                           & 2017                           &  1                             & 30                            \\\\\n",
       "\t 5070                           & Jeff's Market / Wilton         &  13.26                         & 2.00                           & 2017                           &  1                             &  9                            \\\\\n",
       "\t 4478                           & U S Gas                        &   7.20                         & 0.50                           & 2017                           &  3                             & 24                            \\\\\n",
       "\t 4478                           & U S Gas                        &  37.08                         & 2.25                           & 2017                           &  2                             &  3                            \\\\\n",
       "\t 4640                             & Mart Stop \\#1 / Davenport       & 368.64                           & 9.00                             & 2017                             & 12                               &  6                              \\\\\n",
       "\\end{tabular}\n"
      ],
      "text/markdown": [
       "\n",
       "| store_ID | store_name | sale.dollars | volume.gallons | year | month | day |\n",
       "|---|---|---|---|---|---|---|\n",
       "| 2543                           | Hy-Vee Food Store #1 / Ottumwa |  18.00                         | 1.50                           | 2017                           | 11                             |  8                             |\n",
       "| 5320                           | Central Grocery                |  72.00                         | 9.00                           | 2017                           |  1                             | 30                             |\n",
       "| 5070                           | Jeff's Market / Wilton         |  13.26                         | 2.00                           | 2017                           |  1                             |  9                             |\n",
       "| 4478                           | U S Gas                        |   7.20                         | 0.50                           | 2017                           |  3                             | 24                             |\n",
       "| 4478                           | U S Gas                        |  37.08                         | 2.25                           | 2017                           |  2                             |  3                             |\n",
       "| 4640                           | Mart Stop #1 / Davenport       | 368.64                         | 9.00                           | 2017                           | 12                             |  6                             |\n",
       "\n"
      ],
      "text/plain": [
       "  store_ID store_name                     sale.dollars volume.gallons year\n",
       "1 2543     Hy-Vee Food Store #1 / Ottumwa  18.00       1.50           2017\n",
       "2 5320     Central Grocery                 72.00       9.00           2017\n",
       "3 5070     Jeff's Market / Wilton          13.26       2.00           2017\n",
       "4 4478     U S Gas                          7.20       0.50           2017\n",
       "5 4478     U S Gas                         37.08       2.25           2017\n",
       "6 4640     Mart Stop #1 / Davenport       368.64       9.00           2017\n",
       "  month day\n",
       "1 11     8 \n",
       "2  1    30 \n",
       "3  1     9 \n",
       "4  3    24 \n",
       "5  2     3 \n",
       "6 12     6 "
      ]
     },
     "metadata": {},
     "output_type": "display_data"
    }
   ],
   "source": [
    "data.2017 = read.csv(\"Iowa Liquor 2017.csv\")\n",
    "size(data.2017)\n",
    "\n",
    "data.2017 = data.2017[data.2017$sale.dollars<500,]\n",
    "size(data.2017)\n",
    "head(data.2017)"
   ]
  },
  {
   "cell_type": "code",
   "execution_count": 40,
   "metadata": {},
   "outputs": [
    {
     "data": {
      "text/html": [
       "<table>\n",
       "<thead><tr><th scope=col>observations</th><th scope=col>variables</th></tr></thead>\n",
       "<tbody>\n",
       "\t<tr><td>2355558</td><td>7      </td></tr>\n",
       "</tbody>\n",
       "</table>\n"
      ],
      "text/latex": [
       "\\begin{tabular}{r|ll}\n",
       " observations & variables\\\\\n",
       "\\hline\n",
       "\t 2355558 & 7      \\\\\n",
       "\\end{tabular}\n"
      ],
      "text/markdown": [
       "\n",
       "| observations | variables |\n",
       "|---|---|\n",
       "| 2355558 | 7       |\n",
       "\n"
      ],
      "text/plain": [
       "  observations variables\n",
       "1 2355558      7        "
      ]
     },
     "metadata": {},
     "output_type": "display_data"
    },
    {
     "data": {
      "text/html": [
       "<table>\n",
       "<thead><tr><th scope=col>observations</th><th scope=col>variables</th></tr></thead>\n",
       "<tbody>\n",
       "\t<tr><td>2285881</td><td>7      </td></tr>\n",
       "</tbody>\n",
       "</table>\n"
      ],
      "text/latex": [
       "\\begin{tabular}{r|ll}\n",
       " observations & variables\\\\\n",
       "\\hline\n",
       "\t 2285881 & 7      \\\\\n",
       "\\end{tabular}\n"
      ],
      "text/markdown": [
       "\n",
       "| observations | variables |\n",
       "|---|---|\n",
       "| 2285881 | 7       |\n",
       "\n"
      ],
      "text/plain": [
       "  observations variables\n",
       "1 2285881      7        "
      ]
     },
     "metadata": {},
     "output_type": "display_data"
    },
    {
     "data": {
      "text/html": [
       "<table>\n",
       "<thead><tr><th></th><th scope=col>store_ID</th><th scope=col>store_name</th><th scope=col>sale.dollars</th><th scope=col>volume.gallons</th><th scope=col>year</th><th scope=col>month</th><th scope=col>day</th></tr></thead>\n",
       "<tbody>\n",
       "\t<tr><th scope=row>1</th><td>4617                            </td><td>Lickety Liquor                  </td><td> 93.44                          </td><td> 3                              </td><td>2018                            </td><td> 9                              </td><td> 4                              </td></tr>\n",
       "\t<tr><th scope=row>2</th><td>4004                            </td><td>Wal-Mart 4256 / Ames            </td><td>342.00                          </td><td>21                              </td><td>2018                            </td><td>10                              </td><td>24                              </td></tr>\n",
       "\t<tr><th scope=row>3</th><td>4129                            </td><td>Cyclone Liquors                 </td><td> 42.52                          </td><td> 2                              </td><td>2018                            </td><td>10                              </td><td>24                              </td></tr>\n",
       "\t<tr><th scope=row>4</th><td>2502                            </td><td>Hy-Vee Wine and Spirits / Ankeny</td><td>495.00                          </td><td> 9                              </td><td>2018                            </td><td>10                              </td><td>24                              </td></tr>\n",
       "\t<tr><th scope=row>5</th><td>5600                                                                        </td><td><span style=white-space:pre-wrap>H &amp; A Mini Mart                 </span></td><td> 60.72                                                                      </td><td> 9                                                                          </td><td>2018                                                                        </td><td>10                                                                          </td><td>29                                                                          </td></tr>\n",
       "\t<tr><th scope=row>7</th><td>2651                            </td><td>Hy-Vee / Waverly                </td><td> 16.26                          </td><td> 2                              </td><td>2018                            </td><td>10                              </td><td>29                              </td></tr>\n",
       "</tbody>\n",
       "</table>\n"
      ],
      "text/latex": [
       "\\begin{tabular}{r|lllllll}\n",
       "  & store\\_ID & store\\_name & sale.dollars & volume.gallons & year & month & day\\\\\n",
       "\\hline\n",
       "\t1 & 4617                             & Lickety Liquor                   &  93.44                           &  3                               & 2018                             &  9                               &  4                              \\\\\n",
       "\t2 & 4004                             & Wal-Mart 4256 / Ames             & 342.00                           & 21                               & 2018                             & 10                               & 24                              \\\\\n",
       "\t3 & 4129                             & Cyclone Liquors                  &  42.52                           &  2                               & 2018                             & 10                               & 24                              \\\\\n",
       "\t4 & 2502                             & Hy-Vee Wine and Spirits / Ankeny & 495.00                           &  9                               & 2018                             & 10                               & 24                              \\\\\n",
       "\t5 & 5600                               & H \\& A Mini Mart                  &  60.72                             &  9                                 & 2018                               & 10                                 & 29                                \\\\\n",
       "\t7 & 2651                             & Hy-Vee / Waverly                 &  16.26                           &  2                               & 2018                             & 10                               & 29                              \\\\\n",
       "\\end{tabular}\n"
      ],
      "text/markdown": [
       "\n",
       "| <!--/--> | store_ID | store_name | sale.dollars | volume.gallons | year | month | day |\n",
       "|---|---|---|---|---|---|---|---|\n",
       "| 1 | 4617                             | Lickety Liquor                   |  93.44                           |  3                               | 2018                             |  9                               |  4                               |\n",
       "| 2 | 4004                             | Wal-Mart 4256 / Ames             | 342.00                           | 21                               | 2018                             | 10                               | 24                               |\n",
       "| 3 | 4129                             | Cyclone Liquors                  |  42.52                           |  2                               | 2018                             | 10                               | 24                               |\n",
       "| 4 | 2502                             | Hy-Vee Wine and Spirits / Ankeny | 495.00                           |  9                               | 2018                             | 10                               | 24                               |\n",
       "| 5 | 5600                             | H & A Mini Mart                  |  60.72                           |  9                               | 2018                             | 10                               | 29                               |\n",
       "| 7 | 2651                             | Hy-Vee / Waverly                 |  16.26                           |  2                               | 2018                             | 10                               | 29                               |\n",
       "\n"
      ],
      "text/plain": [
       "  store_ID store_name                       sale.dollars volume.gallons year\n",
       "1 4617     Lickety Liquor                    93.44        3             2018\n",
       "2 4004     Wal-Mart 4256 / Ames             342.00       21             2018\n",
       "3 4129     Cyclone Liquors                   42.52        2             2018\n",
       "4 2502     Hy-Vee Wine and Spirits / Ankeny 495.00        9             2018\n",
       "5 5600     H & A Mini Mart                   60.72        9             2018\n",
       "7 2651     Hy-Vee / Waverly                  16.26        2             2018\n",
       "  month day\n",
       "1  9     4 \n",
       "2 10    24 \n",
       "3 10    24 \n",
       "4 10    24 \n",
       "5 10    29 \n",
       "7 10    29 "
      ]
     },
     "metadata": {},
     "output_type": "display_data"
    }
   ],
   "source": [
    "data.2018 = read.csv(\"Iowa Liquor 2018.csv\")\n",
    "size(data.2018)\n",
    "\n",
    "data.2018 = data.2018[data.2018$sale.dollars<500,]\n",
    "size(data.2018)\n",
    "head(data.2018)"
   ]
  },
  {
   "cell_type": "markdown",
   "metadata": {},
   "source": [
    "### Compare total transactions by year."
   ]
  },
  {
   "cell_type": "code",
   "execution_count": 41,
   "metadata": {},
   "outputs": [
    {
     "data": {
      "text/html": [
       "<table>\n",
       "<thead><tr><th scope=col>year</th><th scope=col>transactions</th></tr></thead>\n",
       "<tbody>\n",
       "\t<tr><td>2016   </td><td>2242670</td></tr>\n",
       "\t<tr><td>2017   </td><td>2226444</td></tr>\n",
       "\t<tr><td>2018   </td><td>2285881</td></tr>\n",
       "\t<tr><td>2019   </td><td>2306698</td></tr>\n",
       "</tbody>\n",
       "</table>\n"
      ],
      "text/latex": [
       "\\begin{tabular}{r|ll}\n",
       " year & transactions\\\\\n",
       "\\hline\n",
       "\t 2016    & 2242670\\\\\n",
       "\t 2017    & 2226444\\\\\n",
       "\t 2018    & 2285881\\\\\n",
       "\t 2019    & 2306698\\\\\n",
       "\\end{tabular}\n"
      ],
      "text/markdown": [
       "\n",
       "| year | transactions |\n",
       "|---|---|\n",
       "| 2016    | 2242670 |\n",
       "| 2017    | 2226444 |\n",
       "| 2018    | 2285881 |\n",
       "| 2019    | 2306698 |\n",
       "\n"
      ],
      "text/plain": [
       "  year transactions\n",
       "1 2016 2242670     \n",
       "2 2017 2226444     \n",
       "3 2018 2285881     \n",
       "4 2019 2306698     "
      ]
     },
     "metadata": {},
     "output_type": "display_data"
    },
    {
     "data": {
      "image/png": "[encoded data removed]",
      "text/plain": [
       "plot without title"
      ]
     },
     "metadata": {},
     "output_type": "display_data"
    }
   ],
   "source": [
    "data.compare_transactions = data.frame(year=c(\"2016\", \"2017\", \"2018\", \"2019\"),\n",
    "                                       transactions=c(nrow(data.2016), nrow(data.2017), nrow(data.2018), nrow(data.2019)))\n",
    "data.compare_transactions\n",
    "\n",
    "ggplot(data.compare_transactions) +\n",
    "geom_line(aes(x=year, y=transactions, group=1)) +\n",
    "geom_point(aes(x=year, y=transactions, color=year)) +\n",
    "scale_color_manual(values=rev(PALETTE[1:4])) +\n",
    "theme.no_legend"
   ]
  },
  {
   "cell_type": "markdown",
   "metadata": {},
   "source": [
    "### Compare total sales by year."
   ]
  },
  {
   "cell_type": "code",
   "execution_count": 42,
   "metadata": {},
   "outputs": [
    {
     "data": {
      "text/html": [
       "<table>\n",
       "<thead><tr><th scope=col>year</th><th scope=col>sales</th></tr></thead>\n",
       "<tbody>\n",
       "\t<tr><td>2016     </td><td>198275574</td></tr>\n",
       "\t<tr><td>2017     </td><td>212521376</td></tr>\n",
       "\t<tr><td>2018     </td><td>222445636</td></tr>\n",
       "\t<tr><td>2019     </td><td>232454793</td></tr>\n",
       "</tbody>\n",
       "</table>\n"
      ],
      "text/latex": [
       "\\begin{tabular}{r|ll}\n",
       " year & sales\\\\\n",
       "\\hline\n",
       "\t 2016      & 198275574\\\\\n",
       "\t 2017      & 212521376\\\\\n",
       "\t 2018      & 222445636\\\\\n",
       "\t 2019      & 232454793\\\\\n",
       "\\end{tabular}\n"
      ],
      "text/markdown": [
       "\n",
       "| year | sales |\n",
       "|---|---|\n",
       "| 2016      | 198275574 |\n",
       "| 2017      | 212521376 |\n",
       "| 2018      | 222445636 |\n",
       "| 2019      | 232454793 |\n",
       "\n"
      ],
      "text/plain": [
       "  year sales    \n",
       "1 2016 198275574\n",
       "2 2017 212521376\n",
       "3 2018 222445636\n",
       "4 2019 232454793"
      ]
     },
     "metadata": {},
     "output_type": "display_data"
    },
    {
     "data": {
      "image/png": "[encoded data removed]",
      "text/plain": [
       "plot without title"
      ]
     },
     "metadata": {},
     "output_type": "display_data"
    }
   ],
   "source": [
    "data.compare_sales = data.frame(year=c(\"2016\", \"2017\", \"2018\", \"2019\"),\n",
    "                                sales=c(sum(data.2016$sale.dollars), sum(data.2017$sale.dollars), sum(data.2018$sale.dollars), sum(data.2019$sale.dollars)))\n",
    "data.compare_sales\n",
    "\n",
    "ggplot(data.compare_sales) +\n",
    "geom_line(aes(x=year, y=sales, group=1)) +\n",
    "geom_point(aes(x=year, y=sales, color=year)) +\n",
    "scale_color_manual(values=rev(PALETTE[1:4])) +\n",
    "theme.no_legend"
   ]
  },
  {
   "cell_type": "markdown",
   "metadata": {},
   "source": [
    "### Compare distributions by year."
   ]
  },
  {
   "cell_type": "code",
   "execution_count": 43,
   "metadata": {
    "scrolled": false
   },
   "outputs": [
    {
     "data": {
      "image/png": "[encoded data removed]",
      "text/plain": [
       "plot without title"
      ]
     },
     "metadata": {},
     "output_type": "display_data"
    },
    {
     "data": {
      "image/png": "[encoded data removed]",
      "text/plain": [
       "plot without title"
      ]
     },
     "metadata": {},
     "output_type": "display_data"
    }
   ],
   "source": [
    "p1 = ggplot(data.2016) + ggtitle(\"2016\") + ylim(0,25000) + geom_histogram(aes(x=sale.dollars), binwidth=0.2, fill=PALETTE[4], na.rm=TRUE)\n",
    "p2 = ggplot(data.2017) + ggtitle(\"2017\") + ylim(0,25000) + geom_histogram(aes(x=sale.dollars), binwidth=0.2, fill=PALETTE[3], na.rm=TRUE)\n",
    "p3 = ggplot(data.2018) + ggtitle(\"2018\") + ylim(0,25000) + geom_histogram(aes(x=sale.dollars), binwidth=0.2, fill=PALETTE[2], na.rm=TRUE)\n",
    "p4 = ggplot(data.2019) + ggtitle(\"2019\") + ylim(0,25000) + geom_histogram(aes(x=sale.dollars), binwidth=0.2, fill=PALETTE[1], na.rm=TRUE)\n",
    "\n",
    "grid.arrange(p1, p2, p3, p4, nrow=2, ncol=2)\n",
    "\n",
    "ggplot() + xlim(0,500) +\n",
    "geom_histogram(aes(x=sale.dollars), data=data.2016, binwidth=0.2, fill=PALETTE[4], alpha=0.4, na.rm=TRUE) +\n",
    "geom_histogram(aes(x=sale.dollars), data=data.2017, binwidth=0.2, fill=PALETTE[3], alpha=0.4, na.rm=TRUE) +\n",
    "geom_histogram(aes(x=sale.dollars), data=data.2018, binwidth=0.2, fill=PALETTE[2], alpha=0.4, na.rm=TRUE) +\n",
    "geom_histogram(aes(x=sale.dollars), data=data.2019, binwidth=0.2, fill=PALETTE[1], alpha=0.4, na.rm=TRUE)"
   ]
  },
  {
   "cell_type": "markdown",
   "metadata": {},
   "source": [
    "### Choose a useful underlying process."
   ]
  },
  {
   "cell_type": "code",
   "execution_count": 44,
   "metadata": {
    "scrolled": false
   },
   "outputs": [
    {
     "data": {
      "image/png": "[encoded data removed]",
      "text/plain": [
       "plot without title"
      ]
     },
     "metadata": {},
     "output_type": "display_data"
    },
    {
     "data": {
      "image/png": "[encoded data removed]",
      "text/plain": [
       "plot without title"
      ]
     },
     "metadata": {},
     "output_type": "display_data"
    }
   ],
   "source": [
    "bandwidth = 0.01\n",
    "\n",
    "p1 = ggplot(data.2016) + ggtitle(\"2016\") + xlim(0,500) +\n",
    "     geom_density(aes(sale.dollars), kernel=\"gaussian\", bw=bandwidth, fill=PALETTE[4])\n",
    "\n",
    "p2 = ggplot(data.2017) + ggtitle(\"2017\") + xlim(0,500) +\n",
    "     geom_density(aes(sale.dollars), kernel=\"gaussian\", bw=bandwidth, fill=PALETTE[3])\n",
    "\n",
    "p3 = ggplot(data.2018) + ggtitle(\"2018\") + xlim(0,500) +\n",
    "     geom_density(aes(sale.dollars), kernel=\"gaussian\", bw=bandwidth, fill=PALETTE[2])\n",
    "\n",
    "p4 = ggplot(data.2019) + ggtitle(\"2019\") + xlim(0,500) +\n",
    "     geom_density(aes(sale.dollars), kernel=\"gaussian\", bw=bandwidth, fill=PALETTE[1])\n",
    "\n",
    "grid.arrange(p1, p2, p3, p4, nrow=2, ncol=2)\n",
    "\n",
    "ggplot() + ggtitle(sprintf(\"bw = %0.2f\", bandwidth)) + xlim(0,500) +\n",
    "geom_density(aes(sale.dollars), data=data.2016, kernel=\"gaussian\", bw=bandwidth, fill=PALETTE[4], alpha=0.4) +\n",
    "geom_density(aes(sale.dollars), data=data.2017, kernel=\"gaussian\", bw=bandwidth, fill=PALETTE[3], alpha=0.4) +\n",
    "geom_density(aes(sale.dollars), data=data.2018, kernel=\"gaussian\", bw=bandwidth, fill=PALETTE[2], alpha=0.4) +\n",
    "geom_density(aes(sale.dollars), data=data.2019, kernel=\"gaussian\", bw=bandwidth, fill=PALETTE[1], alpha=0.4)"
   ]
  },
  {
   "cell_type": "code",
   "execution_count": 45,
   "metadata": {
    "scrolled": false
   },
   "outputs": [
    {
     "data": {
      "image/png": "[encoded data removed]",
      "text/plain": [
       "plot without title"
      ]
     },
     "metadata": {},
     "output_type": "display_data"
    },
    {
     "data": {
      "image/png": "[encoded data removed]",
      "text/plain": [
       "plot without title"
      ]
     },
     "metadata": {},
     "output_type": "display_data"
    }
   ],
   "source": [
    "bandwidth = 100\n",
    "\n",
    "p1 = ggplot(data.2016) + ggtitle(\"2016\") + xlim(0,500) +\n",
    "     geom_density(aes(sale.dollars), kernel=\"gaussian\", bw=bandwidth, fill=PALETTE[4])\n",
    "\n",
    "p2 = ggplot(data.2017) + ggtitle(\"2017\") + xlim(0,500) +\n",
    "     geom_density(aes(sale.dollars), kernel=\"gaussian\", bw=bandwidth, fill=PALETTE[3])\n",
    "\n",
    "p3 = ggplot(data.2018) + ggtitle(\"2018\") + xlim(0,500) +\n",
    "     geom_density(aes(sale.dollars), kernel=\"gaussian\", bw=bandwidth, fill=PALETTE[2])\n",
    "\n",
    "p4 = ggplot(data.2019) + ggtitle(\"2019\") + xlim(0,500) +\n",
    "     geom_density(aes(sale.dollars), kernel=\"gaussian\", bw=bandwidth, fill=PALETTE[1])\n",
    "\n",
    "grid.arrange(p1, p2, p3, p4, nrow=2, ncol=2)\n",
    "\n",
    "ggplot() + ggtitle(sprintf(\"bw = %0.2f\", bandwidth)) + xlim(0,500) +\n",
    "geom_density(aes(sale.dollars), data=data.2016, kernel=\"gaussian\", bw=bandwidth, fill=PALETTE[4], alpha=0.4) +\n",
    "geom_density(aes(sale.dollars), data=data.2017, kernel=\"gaussian\", bw=bandwidth, fill=PALETTE[3], alpha=0.4) +\n",
    "geom_density(aes(sale.dollars), data=data.2018, kernel=\"gaussian\", bw=bandwidth, fill=PALETTE[2], alpha=0.4) +\n",
    "geom_density(aes(sale.dollars), data=data.2019, kernel=\"gaussian\", bw=bandwidth, fill=PALETTE[1], alpha=0.4)"
   ]
  },
  {
   "cell_type": "code",
   "execution_count": 46,
   "metadata": {
    "scrolled": false
   },
   "outputs": [
    {
     "data": {
      "image/png": "[encoded data removed]",
      "text/plain": [
       "plot without title"
      ]
     },
     "metadata": {},
     "output_type": "display_data"
    },
    {
     "data": {
      "image/png": "[encoded data removed]",
      "text/plain": [
       "plot without title"
      ]
     },
     "metadata": {},
     "output_type": "display_data"
    }
   ],
   "source": [
    "bandwidth = 10\n",
    "\n",
    "p1 = ggplot(data.2016) + ggtitle(\"2016\") + xlim(0,500) +\n",
    "     geom_density(aes(sale.dollars), kernel=\"gaussian\", bw=bandwidth, fill=PALETTE[4])\n",
    "\n",
    "p2 = ggplot(data.2017) + ggtitle(\"2017\") + xlim(0,500) +\n",
    "     geom_density(aes(sale.dollars), kernel=\"gaussian\", bw=bandwidth, fill=PALETTE[3])\n",
    "\n",
    "p3 = ggplot(data.2018) + ggtitle(\"2018\") + xlim(0,500) +\n",
    "     geom_density(aes(sale.dollars), kernel=\"gaussian\", bw=bandwidth, fill=PALETTE[2])\n",
    "\n",
    "p4 = ggplot(data.2019) + ggtitle(\"2019\") + xlim(0,500) +\n",
    "     geom_density(aes(sale.dollars), kernel=\"gaussian\", bw=bandwidth, fill=PALETTE[1])\n",
    "\n",
    "grid.arrange(p1, p2, p3, p4, nrow=2, ncol=2)\n",
    "\n",
    "ggplot() + ggtitle(sprintf(\"bw = %0.2f\", bandwidth)) + xlim(0,500) +\n",
    "geom_density(aes(sale.dollars), data=data.2016, kernel=\"gaussian\", bw=bandwidth, fill=PALETTE[4], alpha=0.4) +\n",
    "geom_density(aes(sale.dollars), data=data.2017, kernel=\"gaussian\", bw=bandwidth, fill=PALETTE[3], alpha=0.4) +\n",
    "geom_density(aes(sale.dollars), data=data.2018, kernel=\"gaussian\", bw=bandwidth, fill=PALETTE[2], alpha=0.4) +\n",
    "geom_density(aes(sale.dollars), data=data.2019, kernel=\"gaussian\", bw=bandwidth, fill=PALETTE[1], alpha=0.4)"
   ]
  },
  {
   "cell_type": "markdown",
   "metadata": {},
   "source": [
    "## Implications for Low-\\\\$ Transactions"
   ]
  },
  {
   "cell_type": "markdown",
   "metadata": {},
   "source": [
    "### \\\\$0 to \\\\$20"
   ]
  },
  {
   "cell_type": "code",
   "execution_count": 47,
   "metadata": {},
   "outputs": [
    {
     "data": {
      "text/html": [
       "<table>\n",
       "<thead><tr><th scope=col>p.2016.0_20</th></tr></thead>\n",
       "<tbody>\n",
       "\t<tr><td>0.1809047</td></tr>\n",
       "</tbody>\n",
       "</table>\n"
      ],
      "text/latex": [
       "\\begin{tabular}{r|l}\n",
       " p.2016.0\\_20\\\\\n",
       "\\hline\n",
       "\t 0.1809047\\\\\n",
       "\\end{tabular}\n"
      ],
      "text/markdown": [
       "\n",
       "| p.2016.0_20 |\n",
       "|---|\n",
       "| 0.1809047 |\n",
       "\n"
      ],
      "text/plain": [
       "  p.2016.0_20\n",
       "1 0.1809047  "
      ]
     },
     "metadata": {},
     "output_type": "display_data"
    }
   ],
   "source": [
    "d = density(data.2016$sale.dollars, kernel=\"gaussian\", bw=10, from=0, to=500)\n",
    "pdf = approxfun(d)\n",
    "p.2016.0_20 = integrate(pdf, 0, 20)$value\n",
    "data.frame(p.2016.0_20)"
   ]
  },
  {
   "cell_type": "code",
   "execution_count": 48,
   "metadata": {
    "scrolled": false
   },
   "outputs": [
    {
     "data": {
      "image/png": "[encoded data removed]",
      "text/plain": [
       "plot without title"
      ]
     },
     "metadata": {},
     "output_type": "display_data"
    }
   ],
   "source": [
    "ggplot(data=data.2016) + xlim(0,500) +\n",
    "stat_function(fun=pdf, geom=\"area\", fill=PALETTE[4]) +\n",
    "stat_function(fun=pdf, geom=\"area\", xlim=c(0,20), fill=PALETTE[5]) +\n",
    "geom_vline(xintercept=0) + geom_vline(xintercept=20)"
   ]
  },
  {
   "cell_type": "code",
   "execution_count": 49,
   "metadata": {},
   "outputs": [
    {
     "data": {
      "text/html": [
       "<table>\n",
       "<thead><tr><th scope=col>p.2017.0_20</th></tr></thead>\n",
       "<tbody>\n",
       "\t<tr><td>0.1312675</td></tr>\n",
       "</tbody>\n",
       "</table>\n"
      ],
      "text/latex": [
       "\\begin{tabular}{r|l}\n",
       " p.2017.0\\_20\\\\\n",
       "\\hline\n",
       "\t 0.1312675\\\\\n",
       "\\end{tabular}\n"
      ],
      "text/markdown": [
       "\n",
       "| p.2017.0_20 |\n",
       "|---|\n",
       "| 0.1312675 |\n",
       "\n"
      ],
      "text/plain": [
       "  p.2017.0_20\n",
       "1 0.1312675  "
      ]
     },
     "metadata": {},
     "output_type": "display_data"
    }
   ],
   "source": [
    "d = density(data.2017$sale.dollars, kernel=\"gaussian\", bw=10, from=0, to=500)\n",
    "pdf = approxfun(d)\n",
    "p.2017.0_20 = integrate(pdf, 0, 20)$value\n",
    "data.frame(p.2017.0_20)"
   ]
  },
  {
   "cell_type": "code",
   "execution_count": 50,
   "metadata": {},
   "outputs": [
    {
     "data": {
      "image/png": "[encoded data removed]",
      "text/plain": [
       "plot without title"
      ]
     },
     "metadata": {},
     "output_type": "display_data"
    }
   ],
   "source": [
    "ggplot(data=data.2017) + xlim(0,500) +\n",
    "stat_function(fun=pdf, geom=\"area\", fill=PALETTE[3]) +\n",
    "stat_function(fun=pdf, geom=\"area\", xlim=c(0,20), fill=PALETTE[5]) +\n",
    "geom_vline(xintercept=0) + geom_vline(xintercept=20)"
   ]
  },
  {
   "cell_type": "code",
   "execution_count": 51,
   "metadata": {},
   "outputs": [
    {
     "data": {
      "text/html": [
       "<table>\n",
       "<thead><tr><th scope=col>p.2018.0_20</th></tr></thead>\n",
       "<tbody>\n",
       "\t<tr><td>0.1278739</td></tr>\n",
       "</tbody>\n",
       "</table>\n"
      ],
      "text/latex": [
       "\\begin{tabular}{r|l}\n",
       " p.2018.0\\_20\\\\\n",
       "\\hline\n",
       "\t 0.1278739\\\\\n",
       "\\end{tabular}\n"
      ],
      "text/markdown": [
       "\n",
       "| p.2018.0_20 |\n",
       "|---|\n",
       "| 0.1278739 |\n",
       "\n"
      ],
      "text/plain": [
       "  p.2018.0_20\n",
       "1 0.1278739  "
      ]
     },
     "metadata": {},
     "output_type": "display_data"
    }
   ],
   "source": [
    "d = density(data.2018$sale.dollars, kernel=\"gaussian\", bw=10, from=0, to=500)\n",
    "pdf = approxfun(d)\n",
    "p.2018.0_20 = integrate(pdf, 0, 20)$value\n",
    "data.frame(p.2018.0_20)"
   ]
  },
  {
   "cell_type": "code",
   "execution_count": 52,
   "metadata": {},
   "outputs": [
    {
     "data": {
      "image/png": "[encoded data removed]",
      "text/plain": [
       "plot without title"
      ]
     },
     "metadata": {},
     "output_type": "display_data"
    }
   ],
   "source": [
    "ggplot(data=data.2018) + xlim(0,500) +\n",
    "stat_function(fun=pdf, geom=\"area\", fill=PALETTE[2]) +\n",
    "stat_function(fun=pdf, geom=\"area\", xlim=c(0,20), fill=PALETTE[5]) +\n",
    "geom_vline(xintercept=0) + geom_vline(xintercept=20)"
   ]
  },
  {
   "cell_type": "code",
   "execution_count": 53,
   "metadata": {},
   "outputs": [
    {
     "data": {
      "text/html": [
       "<table>\n",
       "<thead><tr><th scope=col>p.2019.0_20</th></tr></thead>\n",
       "<tbody>\n",
       "\t<tr><td>0.1196529</td></tr>\n",
       "</tbody>\n",
       "</table>\n"
      ],
      "text/latex": [
       "\\begin{tabular}{r|l}\n",
       " p.2019.0\\_20\\\\\n",
       "\\hline\n",
       "\t 0.1196529\\\\\n",
       "\\end{tabular}\n"
      ],
      "text/markdown": [
       "\n",
       "| p.2019.0_20 |\n",
       "|---|\n",
       "| 0.1196529 |\n",
       "\n"
      ],
      "text/plain": [
       "  p.2019.0_20\n",
       "1 0.1196529  "
      ]
     },
     "metadata": {},
     "output_type": "display_data"
    }
   ],
   "source": [
    "d = density(data.2019$sale.dollars, kernel=\"gaussian\", bw=10, from=0, to=500)\n",
    "pdf = approxfun(d)\n",
    "p.2019.0_20 = integrate(pdf, 0, 20)$value\n",
    "data.frame(p.2019.0_20)"
   ]
  },
  {
   "cell_type": "code",
   "execution_count": 54,
   "metadata": {
    "scrolled": false
   },
   "outputs": [
    {
     "data": {
      "image/png": "[encoded data removed]",
      "text/plain": [
       "plot without title"
      ]
     },
     "metadata": {},
     "output_type": "display_data"
    }
   ],
   "source": [
    "ggplot(data=data.2019) + xlim(0,500) +\n",
    "stat_function(fun=pdf, geom=\"area\", fill=PALETTE[1]) +\n",
    "stat_function(fun=pdf, geom=\"area\", xlim=c(0,20), fill=PALETTE[5]) +\n",
    "geom_vline(xintercept=0) + geom_vline(xintercept=20)"
   ]
  },
  {
   "cell_type": "code",
   "execution_count": 55,
   "metadata": {},
   "outputs": [
    {
     "data": {
      "text/html": [
       "<table>\n",
       "<thead><tr><th scope=col>year</th><th scope=col>probability</th></tr></thead>\n",
       "<tbody>\n",
       "\t<tr><td>2016     </td><td>0.1809047</td></tr>\n",
       "\t<tr><td>2017     </td><td>0.1312675</td></tr>\n",
       "\t<tr><td>2018     </td><td>0.1278739</td></tr>\n",
       "\t<tr><td>2019     </td><td>0.1196529</td></tr>\n",
       "</tbody>\n",
       "</table>\n"
      ],
      "text/latex": [
       "\\begin{tabular}{r|ll}\n",
       " year & probability\\\\\n",
       "\\hline\n",
       "\t 2016      & 0.1809047\\\\\n",
       "\t 2017      & 0.1312675\\\\\n",
       "\t 2018      & 0.1278739\\\\\n",
       "\t 2019      & 0.1196529\\\\\n",
       "\\end{tabular}\n"
      ],
      "text/markdown": [
       "\n",
       "| year | probability |\n",
       "|---|---|\n",
       "| 2016      | 0.1809047 |\n",
       "| 2017      | 0.1312675 |\n",
       "| 2018      | 0.1278739 |\n",
       "| 2019      | 0.1196529 |\n",
       "\n"
      ],
      "text/plain": [
       "  year probability\n",
       "1 2016 0.1809047  \n",
       "2 2017 0.1312675  \n",
       "3 2018 0.1278739  \n",
       "4 2019 0.1196529  "
      ]
     },
     "metadata": {},
     "output_type": "display_data"
    },
    {
     "data": {
      "image/png": "[encoded data removed]",
      "text/plain": [
       "plot without title"
      ]
     },
     "metadata": {},
     "output_type": "display_data"
    }
   ],
   "source": [
    "data.0_20 = data.frame(year=c(\"2016\", \"2017\", \"2018\", \"2019\"),\n",
    "                       probability=c(p.2016.0_20, p.2017.0_20, p.2018.0_20, p.2019.0_20))\n",
    "data.0_20\n",
    "\n",
    "ggplot(data.0_20) + ggtitle(\"$0 to $20\") + ylab(\"probability\") +\n",
    "geom_col(aes(x=year, y=1), fill=\"gray\") +\n",
    "geom_col(aes(x=year, y=probability, fill=year)) +\n",
    "geom_hline(yintercept=data.0_20$probability[4]) +\n",
    "scale_fill_manual(values=rev(PALETTE[1:4])) +\n",
    "theme.no_legend"
   ]
  },
  {
   "cell_type": "markdown",
   "metadata": {},
   "source": [
    "### \\\\$20 to \\\\$50"
   ]
  },
  {
   "cell_type": "code",
   "execution_count": 56,
   "metadata": {},
   "outputs": [
    {
     "data": {
      "text/html": [
       "<table>\n",
       "<thead><tr><th scope=col>p.2016.20_50</th></tr></thead>\n",
       "<tbody>\n",
       "\t<tr><td>0.2029079</td></tr>\n",
       "</tbody>\n",
       "</table>\n"
      ],
      "text/latex": [
       "\\begin{tabular}{r|l}\n",
       " p.2016.20\\_50\\\\\n",
       "\\hline\n",
       "\t 0.2029079\\\\\n",
       "\\end{tabular}\n"
      ],
      "text/markdown": [
       "\n",
       "| p.2016.20_50 |\n",
       "|---|\n",
       "| 0.2029079 |\n",
       "\n"
      ],
      "text/plain": [
       "  p.2016.20_50\n",
       "1 0.2029079   "
      ]
     },
     "metadata": {},
     "output_type": "display_data"
    }
   ],
   "source": [
    "d = density(data.2016$sale.dollars, kernel=\"gaussian\", bw=10, from=0, to=500)\n",
    "pdf = approxfun(d)\n",
    "p.2016.20_50 = integrate(pdf, 20, 50)$value\n",
    "data.frame(p.2016.20_50)"
   ]
  },
  {
   "cell_type": "code",
   "execution_count": 57,
   "metadata": {},
   "outputs": [
    {
     "data": {
      "text/html": [
       "<table>\n",
       "<thead><tr><th scope=col>p.2017.20_50</th></tr></thead>\n",
       "<tbody>\n",
       "\t<tr><td>0.2271491</td></tr>\n",
       "</tbody>\n",
       "</table>\n"
      ],
      "text/latex": [
       "\\begin{tabular}{r|l}\n",
       " p.2017.20\\_50\\\\\n",
       "\\hline\n",
       "\t 0.2271491\\\\\n",
       "\\end{tabular}\n"
      ],
      "text/markdown": [
       "\n",
       "| p.2017.20_50 |\n",
       "|---|\n",
       "| 0.2271491 |\n",
       "\n"
      ],
      "text/plain": [
       "  p.2017.20_50\n",
       "1 0.2271491   "
      ]
     },
     "metadata": {},
     "output_type": "display_data"
    }
   ],
   "source": [
    "d = density(data.2017$sale.dollars, kernel=\"gaussian\", bw=10, from=0, to=500)\n",
    "pdf = approxfun(d)\n",
    "p.2017.20_50 = integrate(pdf, 20, 50)$value\n",
    "data.frame(p.2017.20_50)"
   ]
  },
  {
   "cell_type": "code",
   "execution_count": 58,
   "metadata": {},
   "outputs": [
    {
     "data": {
      "text/html": [
       "<table>\n",
       "<thead><tr><th scope=col>p.2018.20_50</th></tr></thead>\n",
       "<tbody>\n",
       "\t<tr><td>0.223197</td></tr>\n",
       "</tbody>\n",
       "</table>\n"
      ],
      "text/latex": [
       "\\begin{tabular}{r|l}\n",
       " p.2018.20\\_50\\\\\n",
       "\\hline\n",
       "\t 0.223197\\\\\n",
       "\\end{tabular}\n"
      ],
      "text/markdown": [
       "\n",
       "| p.2018.20_50 |\n",
       "|---|\n",
       "| 0.223197 |\n",
       "\n"
      ],
      "text/plain": [
       "  p.2018.20_50\n",
       "1 0.223197    "
      ]
     },
     "metadata": {},
     "output_type": "display_data"
    }
   ],
   "source": [
    "d = density(data.2018$sale.dollars, kernel=\"gaussian\", bw=10, from=0, to=500)\n",
    "pdf = approxfun(d)\n",
    "p.2018.20_50 = integrate(pdf, 20, 50)$value\n",
    "data.frame(p.2018.20_50)"
   ]
  },
  {
   "cell_type": "code",
   "execution_count": 59,
   "metadata": {},
   "outputs": [
    {
     "data": {
      "text/html": [
       "<table>\n",
       "<thead><tr><th scope=col>p.2019.20_50</th></tr></thead>\n",
       "<tbody>\n",
       "\t<tr><td>0.2128981</td></tr>\n",
       "</tbody>\n",
       "</table>\n"
      ],
      "text/latex": [
       "\\begin{tabular}{r|l}\n",
       " p.2019.20\\_50\\\\\n",
       "\\hline\n",
       "\t 0.2128981\\\\\n",
       "\\end{tabular}\n"
      ],
      "text/markdown": [
       "\n",
       "| p.2019.20_50 |\n",
       "|---|\n",
       "| 0.2128981 |\n",
       "\n"
      ],
      "text/plain": [
       "  p.2019.20_50\n",
       "1 0.2128981   "
      ]
     },
     "metadata": {},
     "output_type": "display_data"
    }
   ],
   "source": [
    "d = density(data.2019$sale.dollars, kernel=\"gaussian\", bw=10, from=0, to=500)\n",
    "pdf = approxfun(d)\n",
    "p.2019.20_50 = integrate(pdf, 20, 50)$value\n",
    "data.frame(p.2019.20_50)"
   ]
  },
  {
   "cell_type": "code",
   "execution_count": 60,
   "metadata": {},
   "outputs": [
    {
     "data": {
      "text/html": [
       "<table>\n",
       "<thead><tr><th scope=col>year</th><th scope=col>probability</th></tr></thead>\n",
       "<tbody>\n",
       "\t<tr><td>2016     </td><td>0.2029079</td></tr>\n",
       "\t<tr><td>2017     </td><td>0.2271491</td></tr>\n",
       "\t<tr><td>2018     </td><td>0.2231970</td></tr>\n",
       "\t<tr><td>2019     </td><td>0.2128981</td></tr>\n",
       "</tbody>\n",
       "</table>\n"
      ],
      "text/latex": [
       "\\begin{tabular}{r|ll}\n",
       " year & probability\\\\\n",
       "\\hline\n",
       "\t 2016      & 0.2029079\\\\\n",
       "\t 2017      & 0.2271491\\\\\n",
       "\t 2018      & 0.2231970\\\\\n",
       "\t 2019      & 0.2128981\\\\\n",
       "\\end{tabular}\n"
      ],
      "text/markdown": [
       "\n",
       "| year | probability |\n",
       "|---|---|\n",
       "| 2016      | 0.2029079 |\n",
       "| 2017      | 0.2271491 |\n",
       "| 2018      | 0.2231970 |\n",
       "| 2019      | 0.2128981 |\n",
       "\n"
      ],
      "text/plain": [
       "  year probability\n",
       "1 2016 0.2029079  \n",
       "2 2017 0.2271491  \n",
       "3 2018 0.2231970  \n",
       "4 2019 0.2128981  "
      ]
     },
     "metadata": {},
     "output_type": "display_data"
    },
    {
     "data": {
      "image/png": "[encoded data removed]",
      "text/plain": [
       "plot without title"
      ]
     },
     "metadata": {},
     "output_type": "display_data"
    }
   ],
   "source": [
    "data.20_50 = data.frame(year=c(\"2016\", \"2017\", \"2018\", \"2019\"), probability=c(p.2016.20_50, p.2017.20_50, p.2018.20_50, p.2019.20_50))\n",
    "data.20_50\n",
    "\n",
    "ggplot(data.20_50) + ggtitle(\"$20 to $50\") + ylab(\"probability\") +\n",
    "geom_col(aes(x=year, y=1), fill=\"gray\") +\n",
    "geom_col(aes(x=year, y=probability, fill=year)) +\n",
    "geom_hline(yintercept=data.20_50$probability[4]) +\n",
    "scale_fill_manual(values=rev(PALETTE[1:4])) + \n",
    "theme.no_legend"
   ]
  },
  {
   "cell_type": "markdown",
   "metadata": {},
   "source": [
    "## Discussion\n",
    "\n",
    "* What insights are provided by the data that can inform your decision?\n",
    "* What other insights might you find with more data exploration?\n",
    "* What is your bundling strategy?\n",
    "* What is your pricing strategy?"
   ]
  },
  {
   "cell_type": "markdown",
   "metadata": {},
   "source": [
    "<font size=1;>\n",
    "<p style=\"text-align: left;\">\n",
    "Copyright (c) Berkeley Data Analytics Group, LLC\n",
    "<span style=\"float: right;\">\n",
    "document revised February 12, 2020\n",
    "</span>\n",
    "</p>\n",
    "</font>"
   ]
  }
 ],
 "metadata": {
  "hide_code_all_hidden": false,
  "hide_input": false,
  "kernelspec": {
   "display_name": "R",
   "language": "R",
   "name": "ir"
  },
  "language_info": {
   "codemirror_mode": "r",
   "file_extension": ".r",
   "mimetype": "text/x-r-source",
   "name": "R",
   "pygments_lexer": "r",
   "version": "3.6.1"
  },
  "toc": {
   "base_numbering": 1,
   "nav_menu": {},
   "number_sections": true,
   "sideBar": true,
   "skip_h1_title": true,
   "title_cell": "Table of Contents",
   "title_sidebar": "Contents",
   "toc_cell": false,
   "toc_position": {},
   "toc_section_display": true,
   "toc_window_display": true
  }
 },
 "nbformat": 4,
 "nbformat_minor": 2
}
