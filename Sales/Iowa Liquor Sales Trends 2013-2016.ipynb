{
 "cells": [
  {
   "cell_type": "markdown",
   "metadata": {
    "hideCode": false,
    "hidePrompt": false
   },
   "source": [
    "# Iowa Liquor Sales Trends 2013-2016\n",
    "\n",
    "### Lilit Petrosyan\n",
    "\n",
    "![](liquor_sales.png)\n",
    "\n",
    "Kernel Density Estimation (KDE)"
   ]
  },
  {
   "cell_type": "code",
   "execution_count": 1,
   "metadata": {},
   "outputs": [
    {
     "data": {
      "text/html": [
       "<p style=\"text-align:center; font-size:10px;\">\n",
       ".................................................... start of document ....................................................\n",
       "</p>"
      ]
     },
     "metadata": {},
     "output_type": "display_data"
    }
   ],
   "source": [
    "f = \"setup.R\"; for (i in 1:10) { if (file.exists(f)) break else f = paste0(\"../\", f) }; source(f)"
   ]
  },
  {
   "cell_type": "markdown",
   "metadata": {},
   "source": [
    "## Situation\n",
    "\n",
    "The Iowa Department of Commerce requires that every store that sells alcohol in bottled form for off-the-premises consumption must hold a class \"E\" liquor license (an arrangement typical of most of the state alcohol regulatory bodies). All alcohol sales made by stores registered thusly with the Iowa Department of Commerce are logged in the Commerce department system, which is in turn published as open data by the State of Iowa.  The full dataset contains information on the name, kind, price, quantity, and location of sale of sales of individual containers or packages of containers of alcoholic beverages.  The datasets we use here are paritions of the full dataset by years 2013, 2014, 2015, and 2016, and have been prepared for analysis.\n",
    "\n",
    "* **Role:** Sales & marketing manager or product manager for a liquor wholesaler, Iowa region. \n",
    "* **Business Decisions:** What is your product bundling strategy?  What is your product pricing strategy?\n",
    "* **Approach:** Determine (an approximation of) the underlying processes for Iowa retail liquor sales in 2013, 2014, 2015, and 2016 periods, use insights to inform your strategy decisions.  \n",
    "* **Dataset:** State of Iowa, Department of Commerce, Retail Liquor Sales (https://data.iowa.gov/Economy/Iowa-Liquor-Sales/m3tr-qhgy)"
   ]
  },
  {
   "cell_type": "markdown",
   "metadata": {},
   "source": [
    "## Underlying Process for 2016 Sales Transactions"
   ]
  },
  {
   "cell_type": "markdown",
   "metadata": {},
   "source": [
    "### Retrieve data for 2016."
   ]
  },
  {
   "cell_type": "code",
   "execution_count": 2,
   "metadata": {
    "hideCode": false,
    "hidePrompt": false,
    "run_control": {
     "marked": false
    },
    "scrolled": true
   },
   "outputs": [
    {
     "data": {
      "text/html": [
       "<table>\n",
       "<thead><tr><th scope=col>observations</th><th scope=col>variables</th></tr></thead>\n",
       "<tbody>\n",
       "\t<tr><td>2279879</td><td>7      </td></tr>\n",
       "</tbody>\n",
       "</table>\n"
      ],
      "text/latex": [
       "\\begin{tabular}{r|ll}\n",
       " observations & variables\\\\\n",
       "\\hline\n",
       "\t 2279879 & 7      \\\\\n",
       "\\end{tabular}\n"
      ],
      "text/markdown": [
       "\n",
       "| observations | variables |\n",
       "|---|---|\n",
       "| 2279879 | 7       |\n",
       "\n"
      ],
      "text/plain": [
       "  observations variables\n",
       "1 2279879      7        "
      ]
     },
     "metadata": {},
     "output_type": "display_data"
    },
    {
     "data": {
      "text/html": [
       "<table>\n",
       "<thead><tr><th scope=col>store_ID</th><th scope=col>store_name</th><th scope=col>sale.dollars</th><th scope=col>volume.gallons</th><th scope=col>year</th><th scope=col>month</th><th scope=col>day</th></tr></thead>\n",
       "<tbody>\n",
       "\t<tr><td>3621                               </td><td>Jensen Liquors, Ltd.               </td><td>  32.25                            </td><td>0.20                               </td><td>2016                               </td><td>1                                  </td><td>26                                 </td></tr>\n",
       "\t<tr><td>2552                               </td><td>Hy-Vee Food Store #3 / Cedar Rapids</td><td>  58.74                            </td><td>0.40                               </td><td>2016                               </td><td>1                                  </td><td>12                                 </td></tr>\n",
       "\t<tr><td>2513                               </td><td>Hy-Vee Food Store #2 / Iowa City   </td><td> 352.44                            </td><td>2.38                               </td><td>2016                               </td><td>1                                  </td><td>13                                 </td></tr>\n",
       "\t<tr><td>3869                               </td><td>Bootleggin' Barzini's Fin          </td><td>  88.11                            </td><td>0.59                               </td><td>2016                               </td><td>1                                  </td><td>13                                 </td></tr>\n",
       "\t<tr><td>2106                               </td><td>Hillstreet News and Tobacco        </td><td>  29.37                            </td><td>0.20                               </td><td>2016                               </td><td>1                                  </td><td>14                                 </td></tr>\n",
       "\t<tr><td>2248                               </td><td>Ingersoll Liquor and Beverage      </td><td>1057.32                            </td><td>7.13                               </td><td>2016                               </td><td>1                                  </td><td>28                                 </td></tr>\n",
       "</tbody>\n",
       "</table>\n"
      ],
      "text/latex": [
       "\\begin{tabular}{r|lllllll}\n",
       " store\\_ID & store\\_name & sale.dollars & volume.gallons & year & month & day\\\\\n",
       "\\hline\n",
       "\t 3621                                & Jensen Liquors, Ltd.                &   32.25                             & 0.20                                & 2016                                & 1                                   & 26                                 \\\\\n",
       "\t 2552                                  & Hy-Vee Food Store \\#3 / Cedar Rapids &   58.74                               & 0.40                                  & 2016                                  & 1                                     & 12                                   \\\\\n",
       "\t 2513                                  & Hy-Vee Food Store \\#2 / Iowa City    &  352.44                               & 2.38                                  & 2016                                  & 1                                     & 13                                   \\\\\n",
       "\t 3869                                & Bootleggin' Barzini's Fin           &   88.11                             & 0.59                                & 2016                                & 1                                   & 13                                 \\\\\n",
       "\t 2106                                & Hillstreet News and Tobacco         &   29.37                             & 0.20                                & 2016                                & 1                                   & 14                                 \\\\\n",
       "\t 2248                                & Ingersoll Liquor and Beverage       & 1057.32                             & 7.13                                & 2016                                & 1                                   & 28                                 \\\\\n",
       "\\end{tabular}\n"
      ],
      "text/markdown": [
       "\n",
       "| store_ID | store_name | sale.dollars | volume.gallons | year | month | day |\n",
       "|---|---|---|---|---|---|---|\n",
       "| 3621                                | Jensen Liquors, Ltd.                |   32.25                             | 0.20                                | 2016                                | 1                                   | 26                                  |\n",
       "| 2552                                | Hy-Vee Food Store #3 / Cedar Rapids |   58.74                             | 0.40                                | 2016                                | 1                                   | 12                                  |\n",
       "| 2513                                | Hy-Vee Food Store #2 / Iowa City    |  352.44                             | 2.38                                | 2016                                | 1                                   | 13                                  |\n",
       "| 3869                                | Bootleggin' Barzini's Fin           |   88.11                             | 0.59                                | 2016                                | 1                                   | 13                                  |\n",
       "| 2106                                | Hillstreet News and Tobacco         |   29.37                             | 0.20                                | 2016                                | 1                                   | 14                                  |\n",
       "| 2248                                | Ingersoll Liquor and Beverage       | 1057.32                             | 7.13                                | 2016                                | 1                                   | 28                                  |\n",
       "\n"
      ],
      "text/plain": [
       "  store_ID store_name                          sale.dollars volume.gallons year\n",
       "1 3621     Jensen Liquors, Ltd.                  32.25      0.20           2016\n",
       "2 2552     Hy-Vee Food Store #3 / Cedar Rapids   58.74      0.40           2016\n",
       "3 2513     Hy-Vee Food Store #2 / Iowa City     352.44      2.38           2016\n",
       "4 3869     Bootleggin' Barzini's Fin             88.11      0.59           2016\n",
       "5 2106     Hillstreet News and Tobacco           29.37      0.20           2016\n",
       "6 2248     Ingersoll Liquor and Beverage       1057.32      7.13           2016\n",
       "  month day\n",
       "1 1     26 \n",
       "2 1     12 \n",
       "3 1     13 \n",
       "4 1     13 \n",
       "5 1     14 \n",
       "6 1     28 "
      ]
     },
     "metadata": {},
     "output_type": "display_data"
    }
   ],
   "source": [
    "data.2016.all = read.csv(\"Iowa Liquor 2016.csv\")\n",
    "size(data.2016.all)\n",
    "head(data.2016.all)"
   ]
  },
  {
   "cell_type": "code",
   "execution_count": 3,
   "metadata": {},
   "outputs": [
    {
     "data": {
      "image/png": "[encoded data removed]",
      "text/plain": [
       "plot without title"
      ]
     },
     "metadata": {},
     "output_type": "display_data"
    }
   ],
   "source": [
    "ggplot(data.2016.all) + ggtitle(\"2016 All Sales\") + geom_histogram(aes(x=sale.dollars), binwidth=10, fill=PALETTE[1])"
   ]
  },
  {
   "cell_type": "markdown",
   "metadata": {},
   "source": [
    "### Focus on sub-\\\\$500 transactions."
   ]
  },
  {
   "cell_type": "code",
   "execution_count": 4,
   "metadata": {},
   "outputs": [
    {
     "data": {
      "text/html": [
       "<table>\n",
       "<thead><tr><th scope=col>min_value</th><th scope=col>max_value</th><th scope=col>number_transactions_over_500</th><th scope=col>fraction_transactions_over_500</th></tr></thead>\n",
       "<tbody>\n",
       "\t<tr><td>0        </td><td>181962   </td><td>37209    </td><td>0.0163206</td></tr>\n",
       "</tbody>\n",
       "</table>\n"
      ],
      "text/latex": [
       "\\begin{tabular}{r|llll}\n",
       " min\\_value & max\\_value & number\\_transactions\\_over\\_500 & fraction\\_transactions\\_over\\_500\\\\\n",
       "\\hline\n",
       "\t 0         & 181962    & 37209     & 0.0163206\\\\\n",
       "\\end{tabular}\n"
      ],
      "text/markdown": [
       "\n",
       "| min_value | max_value | number_transactions_over_500 | fraction_transactions_over_500 |\n",
       "|---|---|---|---|\n",
       "| 0         | 181962    | 37209     | 0.0163206 |\n",
       "\n"
      ],
      "text/plain": [
       "  min_value max_value number_transactions_over_500\n",
       "1 0         181962    37209                       \n",
       "  fraction_transactions_over_500\n",
       "1 0.0163206                     "
      ]
     },
     "metadata": {},
     "output_type": "display_data"
    }
   ],
   "source": [
    "data.frame(min_value=min(data.2016.all$sale.dollars), # minimum value transaction\n",
    "           max_value=max(data.2016.all$sale.dollars), # maximum value transaction\n",
    "           number_transactions_over_500=length(which(data.2016.all$sale.dollars > 500)), # number of transactions over $500\n",
    "           fraction_transactions_over_500=length(which(data.2016.all$sale.dollars > 500)) / nrow(data.2016.all)) # fraction of transactions over $500"
   ]
  },
  {
   "cell_type": "code",
   "execution_count": 5,
   "metadata": {},
   "outputs": [
    {
     "data": {
      "text/html": [
       "<table>\n",
       "<thead><tr><th scope=col>observations</th><th scope=col>variables</th></tr></thead>\n",
       "<tbody>\n",
       "\t<tr><td>2242670</td><td>7      </td></tr>\n",
       "</tbody>\n",
       "</table>\n"
      ],
      "text/latex": [
       "\\begin{tabular}{r|ll}\n",
       " observations & variables\\\\\n",
       "\\hline\n",
       "\t 2242670 & 7      \\\\\n",
       "\\end{tabular}\n"
      ],
      "text/markdown": [
       "\n",
       "| observations | variables |\n",
       "|---|---|\n",
       "| 2242670 | 7       |\n",
       "\n"
      ],
      "text/plain": [
       "  observations variables\n",
       "1 2242670      7        "
      ]
     },
     "metadata": {},
     "output_type": "display_data"
    },
    {
     "data": {
      "text/html": [
       "<table>\n",
       "<thead><tr><th></th><th scope=col>store_ID</th><th scope=col>store_name</th><th scope=col>sale.dollars</th><th scope=col>volume.gallons</th><th scope=col>year</th><th scope=col>month</th><th scope=col>day</th></tr></thead>\n",
       "<tbody>\n",
       "\t<tr><th scope=row>1</th><td>3621                               </td><td>Jensen Liquors, Ltd.               </td><td> 32.25                             </td><td>0.20                               </td><td>2016                               </td><td>1                                  </td><td>26                                 </td></tr>\n",
       "\t<tr><th scope=row>2</th><td>2552                               </td><td>Hy-Vee Food Store #3 / Cedar Rapids</td><td> 58.74                             </td><td>0.40                               </td><td>2016                               </td><td>1                                  </td><td>12                                 </td></tr>\n",
       "\t<tr><th scope=row>3</th><td>2513                               </td><td>Hy-Vee Food Store #2 / Iowa City   </td><td>352.44                             </td><td>2.38                               </td><td>2016                               </td><td>1                                  </td><td>13                                 </td></tr>\n",
       "\t<tr><th scope=row>4</th><td>3869                               </td><td>Bootleggin' Barzini's Fin          </td><td> 88.11                             </td><td>0.59                               </td><td>2016                               </td><td>1                                  </td><td>13                                 </td></tr>\n",
       "\t<tr><th scope=row>5</th><td>2106                               </td><td>Hillstreet News and Tobacco        </td><td> 29.37                             </td><td>0.20                               </td><td>2016                               </td><td>1                                  </td><td>14                                 </td></tr>\n",
       "\t<tr><th scope=row>7</th><td>2651                               </td><td>Hy-Vee / Waverly                   </td><td> 29.37                             </td><td>0.20                               </td><td>2016                               </td><td>1                                  </td><td> 5                                 </td></tr>\n",
       "</tbody>\n",
       "</table>\n"
      ],
      "text/latex": [
       "\\begin{tabular}{r|lllllll}\n",
       "  & store\\_ID & store\\_name & sale.dollars & volume.gallons & year & month & day\\\\\n",
       "\\hline\n",
       "\t1 & 3621                                & Jensen Liquors, Ltd.                &  32.25                              & 0.20                                & 2016                                & 1                                   & 26                                 \\\\\n",
       "\t2 & 2552                                  & Hy-Vee Food Store \\#3 / Cedar Rapids &  58.74                                & 0.40                                  & 2016                                  & 1                                     & 12                                   \\\\\n",
       "\t3 & 2513                                  & Hy-Vee Food Store \\#2 / Iowa City    & 352.44                                & 2.38                                  & 2016                                  & 1                                     & 13                                   \\\\\n",
       "\t4 & 3869                                & Bootleggin' Barzini's Fin           &  88.11                              & 0.59                                & 2016                                & 1                                   & 13                                 \\\\\n",
       "\t5 & 2106                                & Hillstreet News and Tobacco         &  29.37                              & 0.20                                & 2016                                & 1                                   & 14                                 \\\\\n",
       "\t7 & 2651                                & Hy-Vee / Waverly                    &  29.37                              & 0.20                                & 2016                                & 1                                   &  5                                 \\\\\n",
       "\\end{tabular}\n"
      ],
      "text/markdown": [
       "\n",
       "| <!--/--> | store_ID | store_name | sale.dollars | volume.gallons | year | month | day |\n",
       "|---|---|---|---|---|---|---|---|\n",
       "| 1 | 3621                                | Jensen Liquors, Ltd.                |  32.25                              | 0.20                                | 2016                                | 1                                   | 26                                  |\n",
       "| 2 | 2552                                | Hy-Vee Food Store #3 / Cedar Rapids |  58.74                              | 0.40                                | 2016                                | 1                                   | 12                                  |\n",
       "| 3 | 2513                                | Hy-Vee Food Store #2 / Iowa City    | 352.44                              | 2.38                                | 2016                                | 1                                   | 13                                  |\n",
       "| 4 | 3869                                | Bootleggin' Barzini's Fin           |  88.11                              | 0.59                                | 2016                                | 1                                   | 13                                  |\n",
       "| 5 | 2106                                | Hillstreet News and Tobacco         |  29.37                              | 0.20                                | 2016                                | 1                                   | 14                                  |\n",
       "| 7 | 2651                                | Hy-Vee / Waverly                    |  29.37                              | 0.20                                | 2016                                | 1                                   |  5                                  |\n",
       "\n"
      ],
      "text/plain": [
       "  store_ID store_name                          sale.dollars volume.gallons year\n",
       "1 3621     Jensen Liquors, Ltd.                 32.25       0.20           2016\n",
       "2 2552     Hy-Vee Food Store #3 / Cedar Rapids  58.74       0.40           2016\n",
       "3 2513     Hy-Vee Food Store #2 / Iowa City    352.44       2.38           2016\n",
       "4 3869     Bootleggin' Barzini's Fin            88.11       0.59           2016\n",
       "5 2106     Hillstreet News and Tobacco          29.37       0.20           2016\n",
       "7 2651     Hy-Vee / Waverly                     29.37       0.20           2016\n",
       "  month day\n",
       "1 1     26 \n",
       "2 1     12 \n",
       "3 1     13 \n",
       "4 1     13 \n",
       "5 1     14 \n",
       "7 1      5 "
      ]
     },
     "metadata": {},
     "output_type": "display_data"
    }
   ],
   "source": [
    "data.2016 = read.csv(\"Iowa Liquor 2016.csv\") # not strictly necessary to read file again\n",
    "data.2016 = data.2016[data.2016$sale.dollars<=500,]\n",
    "size(data.2016)\n",
    "head(data.2016)"
   ]
  },
  {
   "cell_type": "code",
   "execution_count": 6,
   "metadata": {},
   "outputs": [
    {
     "data": {
      "image/png": "[encoded data removed]",
      "text/plain": [
       "plot without title"
      ]
     },
     "metadata": {},
     "output_type": "display_data"
    }
   ],
   "source": [
    "ggplot(data.2016) + ggtitle(\"2016\") + geom_histogram(aes(x=sale.dollars), binwidth=0.2, fill=PALETTE[1])"
   ]
  },
  {
   "cell_type": "markdown",
   "metadata": {},
   "source": [
    "### Explore possible underlying processes.\n",
    "\n",
    "Try kernel density estimation with gaussian, rectangular, and triangular kernels, all at bandwidth 50."
   ]
  },
  {
   "cell_type": "code",
   "execution_count": 7,
   "metadata": {},
   "outputs": [
    {
     "data": {
      "image/png": "[encoded data removed]",
      "text/plain": [
       "plot without title"
      ]
     },
     "metadata": {},
     "output_type": "display_data"
    }
   ],
   "source": [
    "p = ggplot(data.2016)\n",
    "\n",
    "grid.arrange(p + ggtitle(\"Gaussian, bw=50\")    + geom_density(aes(sale.dollars), kernel=\"gaussian\",    bw=50),\n",
    "             p + ggtitle(\"Rectangular, bw=50\") + geom_density(aes(sale.dollars), kernel=\"rectangular\", bw=50),\n",
    "             p + ggtitle(\"Triangular, bw=50\")  + geom_density(aes(sale.dollars), kernel=\"triangular\",  bw=50),\n",
    "             nrow=1)"
   ]
  },
  {
   "cell_type": "markdown",
   "metadata": {},
   "source": [
    "### Explore more possible underlying processes.\n",
    "\n",
    "Try kernel density estimation with gaussian kernel as bandwidths (standard deviations) 1, 10, 50."
   ]
  },
  {
   "cell_type": "code",
   "execution_count": 8,
   "metadata": {},
   "outputs": [
    {
     "data": {
      "image/png": "[encoded data removed]",
      "text/plain": [
       "plot without title"
      ]
     },
     "metadata": {},
     "output_type": "display_data"
    }
   ],
   "source": [
    "p = ggplot(data.2016)\n",
    "\n",
    "grid.arrange(p + ggtitle(\"Gaussian, bw=1\")  + geom_density(aes(sale.dollars), kernel=\"gaussian\", bw=1),\n",
    "             p + ggtitle(\"Gaussian, bw=10\") + geom_density(aes(sale.dollars), kernel=\"gaussian\", bw=10),\n",
    "             p + ggtitle(\"Gaussian, bw=50\") + geom_density(aes(sale.dollars), kernel=\"gaussian\", bw=50),\n",
    "             nrow=1)"
   ]
  },
  {
   "cell_type": "markdown",
   "metadata": {},
   "source": [
    "## Compare Underlying Processes for 2013, 2014, 2015, 2016"
   ]
  },
  {
   "cell_type": "markdown",
   "metadata": {},
   "source": [
    "### Retrieve data for 2013, 2014, 2015.  Focus on sub-\\\\$500 transactions."
   ]
  },
  {
   "cell_type": "code",
   "execution_count": 9,
   "metadata": {},
   "outputs": [
    {
     "data": {
      "text/html": [
       "<table>\n",
       "<thead><tr><th scope=col>observations</th><th scope=col>variables</th></tr></thead>\n",
       "<tbody>\n",
       "\t<tr><td>2063763</td><td>7      </td></tr>\n",
       "</tbody>\n",
       "</table>\n"
      ],
      "text/latex": [
       "\\begin{tabular}{r|ll}\n",
       " observations & variables\\\\\n",
       "\\hline\n",
       "\t 2063763 & 7      \\\\\n",
       "\\end{tabular}\n"
      ],
      "text/markdown": [
       "\n",
       "| observations | variables |\n",
       "|---|---|\n",
       "| 2063763 | 7       |\n",
       "\n"
      ],
      "text/plain": [
       "  observations variables\n",
       "1 2063763      7        "
      ]
     },
     "metadata": {},
     "output_type": "display_data"
    },
    {
     "data": {
      "text/html": [
       "<table>\n",
       "<thead><tr><th scope=col>observations</th><th scope=col>variables</th></tr></thead>\n",
       "<tbody>\n",
       "\t<tr><td>2015258</td><td>7      </td></tr>\n",
       "</tbody>\n",
       "</table>\n"
      ],
      "text/latex": [
       "\\begin{tabular}{r|ll}\n",
       " observations & variables\\\\\n",
       "\\hline\n",
       "\t 2015258 & 7      \\\\\n",
       "\\end{tabular}\n"
      ],
      "text/markdown": [
       "\n",
       "| observations | variables |\n",
       "|---|---|\n",
       "| 2015258 | 7       |\n",
       "\n"
      ],
      "text/plain": [
       "  observations variables\n",
       "1 2015258      7        "
      ]
     },
     "metadata": {},
     "output_type": "display_data"
    },
    {
     "data": {
      "text/html": [
       "<table>\n",
       "<thead><tr><th></th><th scope=col>store_ID</th><th scope=col>store_name</th><th scope=col>sale.dollars</th><th scope=col>volume.gallons</th><th scope=col>year</th><th scope=col>month</th><th scope=col>day</th></tr></thead>\n",
       "<tbody>\n",
       "\t<tr><th scope=row>1</th><td>4794                                </td><td>Smokin' Joe's #17 Tobacco and Liquor</td><td>130.00                              </td><td>0.79                                </td><td>2013                                </td><td> 2                                  </td><td>20                                  </td></tr>\n",
       "\t<tr><th scope=row>2</th><td>3908                                </td><td>County Market #214 / Fort Madison   </td><td>135.00                              </td><td>3.17                                </td><td>2013                                </td><td> 7                                  </td><td> 8                                  </td></tr>\n",
       "\t<tr><th scope=row>3</th><td>3929                                </td><td>Liquor And Tobacco Outlet           </td><td> 51.00                              </td><td>0.21                                </td><td>2013                                </td><td> 5                                  </td><td>21                                  </td></tr>\n",
       "\t<tr><th scope=row>4</th><td>2551                                </td><td>Hy-Vee Food Store / Chariton        </td><td> 98.82                              </td><td>1.19                                </td><td>2013                                </td><td>11                                  </td><td>26                                  </td></tr>\n",
       "\t<tr><th scope=row>5</th><td>3990                                </td><td>Cork and Bottle / Oskaloosa         </td><td> 37.30                              </td><td>0.40                                </td><td>2013                                </td><td> 4                                  </td><td>17                                  </td></tr>\n",
       "\t<tr><th scope=row>7</th><td>3858                                </td><td>Harolds Jack N Jill / Davenport     </td><td> 43.95                              </td><td>0.13                                </td><td>2013                                </td><td> 4                                  </td><td> 2                                  </td></tr>\n",
       "</tbody>\n",
       "</table>\n"
      ],
      "text/latex": [
       "\\begin{tabular}{r|lllllll}\n",
       "  & store\\_ID & store\\_name & sale.dollars & volume.gallons & year & month & day\\\\\n",
       "\\hline\n",
       "\t1 & 4794                                   & Smokin' Joe's \\#17 Tobacco and Liquor & 130.00                                 & 0.79                                   & 2013                                   &  2                                     & 20                                    \\\\\n",
       "\t2 & 3908                                   & County Market \\#214 / Fort Madison    & 135.00                                 & 3.17                                   & 2013                                   &  7                                     &  8                                    \\\\\n",
       "\t3 & 3929                                 & Liquor And Tobacco Outlet            &  51.00                               & 0.21                                 & 2013                                 &  5                                   & 21                                  \\\\\n",
       "\t4 & 2551                                 & Hy-Vee Food Store / Chariton         &  98.82                               & 1.19                                 & 2013                                 & 11                                   & 26                                  \\\\\n",
       "\t5 & 3990                                 & Cork and Bottle / Oskaloosa          &  37.30                               & 0.40                                 & 2013                                 &  4                                   & 17                                  \\\\\n",
       "\t7 & 3858                                 & Harolds Jack N Jill / Davenport      &  43.95                               & 0.13                                 & 2013                                 &  4                                   &  2                                  \\\\\n",
       "\\end{tabular}\n"
      ],
      "text/markdown": [
       "\n",
       "| <!--/--> | store_ID | store_name | sale.dollars | volume.gallons | year | month | day |\n",
       "|---|---|---|---|---|---|---|---|\n",
       "| 1 | 4794                                 | Smokin' Joe's #17 Tobacco and Liquor | 130.00                               | 0.79                                 | 2013                                 |  2                                   | 20                                   |\n",
       "| 2 | 3908                                 | County Market #214 / Fort Madison    | 135.00                               | 3.17                                 | 2013                                 |  7                                   |  8                                   |\n",
       "| 3 | 3929                                 | Liquor And Tobacco Outlet            |  51.00                               | 0.21                                 | 2013                                 |  5                                   | 21                                   |\n",
       "| 4 | 2551                                 | Hy-Vee Food Store / Chariton         |  98.82                               | 1.19                                 | 2013                                 | 11                                   | 26                                   |\n",
       "| 5 | 3990                                 | Cork and Bottle / Oskaloosa          |  37.30                               | 0.40                                 | 2013                                 |  4                                   | 17                                   |\n",
       "| 7 | 3858                                 | Harolds Jack N Jill / Davenport      |  43.95                               | 0.13                                 | 2013                                 |  4                                   |  2                                   |\n",
       "\n"
      ],
      "text/plain": [
       "  store_ID store_name                           sale.dollars volume.gallons\n",
       "1 4794     Smokin' Joe's #17 Tobacco and Liquor 130.00       0.79          \n",
       "2 3908     County Market #214 / Fort Madison    135.00       3.17          \n",
       "3 3929     Liquor And Tobacco Outlet             51.00       0.21          \n",
       "4 2551     Hy-Vee Food Store / Chariton          98.82       1.19          \n",
       "5 3990     Cork and Bottle / Oskaloosa           37.30       0.40          \n",
       "7 3858     Harolds Jack N Jill / Davenport       43.95       0.13          \n",
       "  year month day\n",
       "1 2013  2    20 \n",
       "2 2013  7     8 \n",
       "3 2013  5    21 \n",
       "4 2013 11    26 \n",
       "5 2013  4    17 \n",
       "7 2013  4     2 "
      ]
     },
     "metadata": {},
     "output_type": "display_data"
    }
   ],
   "source": [
    "data.2013 = read.csv(\"Iowa Liquor 2013.csv\")\n",
    "size(data.2013)\n",
    "\n",
    "data.2013 = data.2013[data.2013$sale.dollars<500,]\n",
    "size(data.2013)\n",
    "head(data.2013)"
   ]
  },
  {
   "cell_type": "code",
   "execution_count": 10,
   "metadata": {},
   "outputs": [
    {
     "data": {
      "text/html": [
       "<table>\n",
       "<thead><tr><th scope=col>observations</th><th scope=col>variables</th></tr></thead>\n",
       "<tbody>\n",
       "\t<tr><td>2097796</td><td>7      </td></tr>\n",
       "</tbody>\n",
       "</table>\n"
      ],
      "text/latex": [
       "\\begin{tabular}{r|ll}\n",
       " observations & variables\\\\\n",
       "\\hline\n",
       "\t 2097796 & 7      \\\\\n",
       "\\end{tabular}\n"
      ],
      "text/markdown": [
       "\n",
       "| observations | variables |\n",
       "|---|---|\n",
       "| 2097796 | 7       |\n",
       "\n"
      ],
      "text/plain": [
       "  observations variables\n",
       "1 2097796      7        "
      ]
     },
     "metadata": {},
     "output_type": "display_data"
    },
    {
     "data": {
      "text/html": [
       "<table>\n",
       "<thead><tr><th scope=col>observations</th><th scope=col>variables</th></tr></thead>\n",
       "<tbody>\n",
       "\t<tr><td>2045298</td><td>7      </td></tr>\n",
       "</tbody>\n",
       "</table>\n"
      ],
      "text/latex": [
       "\\begin{tabular}{r|ll}\n",
       " observations & variables\\\\\n",
       "\\hline\n",
       "\t 2045298 & 7      \\\\\n",
       "\\end{tabular}\n"
      ],
      "text/markdown": [
       "\n",
       "| observations | variables |\n",
       "|---|---|\n",
       "| 2045298 | 7       |\n",
       "\n"
      ],
      "text/plain": [
       "  observations variables\n",
       "1 2045298      7        "
      ]
     },
     "metadata": {},
     "output_type": "display_data"
    },
    {
     "data": {
      "text/html": [
       "<table>\n",
       "<thead><tr><th scope=col>store_ID</th><th scope=col>store_name</th><th scope=col>sale.dollars</th><th scope=col>volume.gallons</th><th scope=col>year</th><th scope=col>month</th><th scope=col>day</th></tr></thead>\n",
       "<tbody>\n",
       "\t<tr><td>2614                                </td><td>Hy-Vee #3 Food and Drugstore        </td><td>78.00                               </td><td>0.79                                </td><td>2014                                </td><td> 2                                  </td><td>26                                  </td></tr>\n",
       "\t<tr><td>2603                                </td><td>Hy-Vee Wine and Spirits / Bettendorf</td><td>98.94                               </td><td>2.77                                </td><td>2014                                </td><td> 4                                  </td><td> 7                                  </td></tr>\n",
       "\t<tr><td>4819                                </td><td>Super Stop 2 / Altoona              </td><td>62.28                               </td><td>2.77                                </td><td>2014                                </td><td> 6                                  </td><td>12                                  </td></tr>\n",
       "\t<tr><td>2515                                </td><td>Hy-Vee Food Store #1 / Mason City   </td><td>66.22                               </td><td>0.40                                </td><td>2014                                </td><td> 5                                  </td><td>23                                  </td></tr>\n",
       "\t<tr><td>4167                                </td><td>Iowa Street Market, Inc.            </td><td>99.12                               </td><td>2.38                                </td><td>2014                                </td><td> 4                                  </td><td> 2                                  </td></tr>\n",
       "\t<tr><td>2642                                </td><td>Hy-Vee Wine and Spirits / Pella     </td><td>97.92                               </td><td>2.38                                </td><td>2014                                </td><td>10                                  </td><td> 8                                  </td></tr>\n",
       "</tbody>\n",
       "</table>\n"
      ],
      "text/latex": [
       "\\begin{tabular}{r|lllllll}\n",
       " store\\_ID & store\\_name & sale.dollars & volume.gallons & year & month & day\\\\\n",
       "\\hline\n",
       "\t 2614                                   & Hy-Vee \\#3 Food and Drugstore         & 78.00                                  & 0.79                                   & 2014                                   &  2                                     & 26                                    \\\\\n",
       "\t 2603                                 & Hy-Vee Wine and Spirits / Bettendorf & 98.94                                & 2.77                                 & 2014                                 &  4                                   &  7                                  \\\\\n",
       "\t 4819                                 & Super Stop 2 / Altoona               & 62.28                                & 2.77                                 & 2014                                 &  6                                   & 12                                  \\\\\n",
       "\t 2515                                   & Hy-Vee Food Store \\#1 / Mason City    & 66.22                                  & 0.40                                   & 2014                                   &  5                                     & 23                                    \\\\\n",
       "\t 4167                                 & Iowa Street Market, Inc.             & 99.12                                & 2.38                                 & 2014                                 &  4                                   &  2                                  \\\\\n",
       "\t 2642                                 & Hy-Vee Wine and Spirits / Pella      & 97.92                                & 2.38                                 & 2014                                 & 10                                   &  8                                  \\\\\n",
       "\\end{tabular}\n"
      ],
      "text/markdown": [
       "\n",
       "| store_ID | store_name | sale.dollars | volume.gallons | year | month | day |\n",
       "|---|---|---|---|---|---|---|\n",
       "| 2614                                 | Hy-Vee #3 Food and Drugstore         | 78.00                                | 0.79                                 | 2014                                 |  2                                   | 26                                   |\n",
       "| 2603                                 | Hy-Vee Wine and Spirits / Bettendorf | 98.94                                | 2.77                                 | 2014                                 |  4                                   |  7                                   |\n",
       "| 4819                                 | Super Stop 2 / Altoona               | 62.28                                | 2.77                                 | 2014                                 |  6                                   | 12                                   |\n",
       "| 2515                                 | Hy-Vee Food Store #1 / Mason City    | 66.22                                | 0.40                                 | 2014                                 |  5                                   | 23                                   |\n",
       "| 4167                                 | Iowa Street Market, Inc.             | 99.12                                | 2.38                                 | 2014                                 |  4                                   |  2                                   |\n",
       "| 2642                                 | Hy-Vee Wine and Spirits / Pella      | 97.92                                | 2.38                                 | 2014                                 | 10                                   |  8                                   |\n",
       "\n"
      ],
      "text/plain": [
       "  store_ID store_name                           sale.dollars volume.gallons\n",
       "1 2614     Hy-Vee #3 Food and Drugstore         78.00        0.79          \n",
       "2 2603     Hy-Vee Wine and Spirits / Bettendorf 98.94        2.77          \n",
       "3 4819     Super Stop 2 / Altoona               62.28        2.77          \n",
       "4 2515     Hy-Vee Food Store #1 / Mason City    66.22        0.40          \n",
       "5 4167     Iowa Street Market, Inc.             99.12        2.38          \n",
       "6 2642     Hy-Vee Wine and Spirits / Pella      97.92        2.38          \n",
       "  year month day\n",
       "1 2014  2    26 \n",
       "2 2014  4     7 \n",
       "3 2014  6    12 \n",
       "4 2014  5    23 \n",
       "5 2014  4     2 \n",
       "6 2014 10     8 "
      ]
     },
     "metadata": {},
     "output_type": "display_data"
    }
   ],
   "source": [
    "data.2014 = read.csv(\"Iowa Liquor 2014.csv\")\n",
    "size(data.2014)\n",
    "\n",
    "data.2014 = data.2014[data.2014$sale.dollars<500,]\n",
    "size(data.2014)\n",
    "head(data.2014)"
   ]
  },
  {
   "cell_type": "code",
   "execution_count": 11,
   "metadata": {},
   "outputs": [
    {
     "data": {
      "text/html": [
       "<table>\n",
       "<thead><tr><th scope=col>observations</th><th scope=col>variables</th></tr></thead>\n",
       "<tbody>\n",
       "\t<tr><td>2184483</td><td>7      </td></tr>\n",
       "</tbody>\n",
       "</table>\n"
      ],
      "text/latex": [
       "\\begin{tabular}{r|ll}\n",
       " observations & variables\\\\\n",
       "\\hline\n",
       "\t 2184483 & 7      \\\\\n",
       "\\end{tabular}\n"
      ],
      "text/markdown": [
       "\n",
       "| observations | variables |\n",
       "|---|---|\n",
       "| 2184483 | 7       |\n",
       "\n"
      ],
      "text/plain": [
       "  observations variables\n",
       "1 2184483      7        "
      ]
     },
     "metadata": {},
     "output_type": "display_data"
    },
    {
     "data": {
      "text/html": [
       "<table>\n",
       "<thead><tr><th scope=col>observations</th><th scope=col>variables</th></tr></thead>\n",
       "<tbody>\n",
       "\t<tr><td>2128269</td><td>7      </td></tr>\n",
       "</tbody>\n",
       "</table>\n"
      ],
      "text/latex": [
       "\\begin{tabular}{r|ll}\n",
       " observations & variables\\\\\n",
       "\\hline\n",
       "\t 2128269 & 7      \\\\\n",
       "\\end{tabular}\n"
      ],
      "text/markdown": [
       "\n",
       "| observations | variables |\n",
       "|---|---|\n",
       "| 2128269 | 7       |\n",
       "\n"
      ],
      "text/plain": [
       "  observations variables\n",
       "1 2128269      7        "
      ]
     },
     "metadata": {},
     "output_type": "display_data"
    },
    {
     "data": {
      "text/html": [
       "<table>\n",
       "<thead><tr><th scope=col>store_ID</th><th scope=col>store_name</th><th scope=col>sale.dollars</th><th scope=col>volume.gallons</th><th scope=col>year</th><th scope=col>month</th><th scope=col>day</th></tr></thead>\n",
       "<tbody>\n",
       "\t<tr><td>2191                            </td><td>Keokuk Spirits                  </td><td>162.84                          </td><td>1.19                            </td><td>2015                            </td><td>11                              </td><td>20                              </td></tr>\n",
       "\t<tr><td>2205                            </td><td>Ding's Honk And Holler          </td><td>325.68                          </td><td>2.38                            </td><td>2015                            </td><td>11                              </td><td>21                              </td></tr>\n",
       "\t<tr><td>3549                            </td><td>Quicker Liquor Store            </td><td> 19.20                          </td><td>0.08                            </td><td>2015                            </td><td>11                              </td><td>16                              </td></tr>\n",
       "\t<tr><td>2513                            </td><td>Hy-Vee Food Store #2 / Iowa City</td><td>160.02                          </td><td>1.39                            </td><td>2015                            </td><td>11                              </td><td> 4                              </td></tr>\n",
       "\t<tr><td>3942                            </td><td>Twin Town Liquor                </td><td> 19.20                          </td><td>0.08                            </td><td>2015                            </td><td>11                              </td><td>17                              </td></tr>\n",
       "\t<tr><td>3650                            </td><td>Spirits, Stogies and Stuff      </td><td> 53.34                          </td><td>0.46                            </td><td>2015                            </td><td>11                              </td><td>11                              </td></tr>\n",
       "</tbody>\n",
       "</table>\n"
      ],
      "text/latex": [
       "\\begin{tabular}{r|lllllll}\n",
       " store\\_ID & store\\_name & sale.dollars & volume.gallons & year & month & day\\\\\n",
       "\\hline\n",
       "\t 2191                             & Keokuk Spirits                   & 162.84                           & 1.19                             & 2015                             & 11                               & 20                              \\\\\n",
       "\t 2205                             & Ding's Honk And Holler           & 325.68                           & 2.38                             & 2015                             & 11                               & 21                              \\\\\n",
       "\t 3549                             & Quicker Liquor Store             &  19.20                           & 0.08                             & 2015                             & 11                               & 16                              \\\\\n",
       "\t 2513                               & Hy-Vee Food Store \\#2 / Iowa City & 160.02                             & 1.39                               & 2015                               & 11                                 &  4                                \\\\\n",
       "\t 3942                             & Twin Town Liquor                 &  19.20                           & 0.08                             & 2015                             & 11                               & 17                              \\\\\n",
       "\t 3650                             & Spirits, Stogies and Stuff       &  53.34                           & 0.46                             & 2015                             & 11                               & 11                              \\\\\n",
       "\\end{tabular}\n"
      ],
      "text/markdown": [
       "\n",
       "| store_ID | store_name | sale.dollars | volume.gallons | year | month | day |\n",
       "|---|---|---|---|---|---|---|\n",
       "| 2191                             | Keokuk Spirits                   | 162.84                           | 1.19                             | 2015                             | 11                               | 20                               |\n",
       "| 2205                             | Ding's Honk And Holler           | 325.68                           | 2.38                             | 2015                             | 11                               | 21                               |\n",
       "| 3549                             | Quicker Liquor Store             |  19.20                           | 0.08                             | 2015                             | 11                               | 16                               |\n",
       "| 2513                             | Hy-Vee Food Store #2 / Iowa City | 160.02                           | 1.39                             | 2015                             | 11                               |  4                               |\n",
       "| 3942                             | Twin Town Liquor                 |  19.20                           | 0.08                             | 2015                             | 11                               | 17                               |\n",
       "| 3650                             | Spirits, Stogies and Stuff       |  53.34                           | 0.46                             | 2015                             | 11                               | 11                               |\n",
       "\n"
      ],
      "text/plain": [
       "  store_ID store_name                       sale.dollars volume.gallons year\n",
       "1 2191     Keokuk Spirits                   162.84       1.19           2015\n",
       "2 2205     Ding's Honk And Holler           325.68       2.38           2015\n",
       "3 3549     Quicker Liquor Store              19.20       0.08           2015\n",
       "4 2513     Hy-Vee Food Store #2 / Iowa City 160.02       1.39           2015\n",
       "5 3942     Twin Town Liquor                  19.20       0.08           2015\n",
       "6 3650     Spirits, Stogies and Stuff        53.34       0.46           2015\n",
       "  month day\n",
       "1 11    20 \n",
       "2 11    21 \n",
       "3 11    16 \n",
       "4 11     4 \n",
       "5 11    17 \n",
       "6 11    11 "
      ]
     },
     "metadata": {},
     "output_type": "display_data"
    }
   ],
   "source": [
    "data.2015 = read.csv(\"Iowa Liquor 2015.csv\")\n",
    "size(data.2015)\n",
    "\n",
    "data.2015 = data.2015[data.2015$sale.dollars<=500,]\n",
    "size(data.2015)\n",
    "head(data.2015)"
   ]
  },
  {
   "cell_type": "markdown",
   "metadata": {},
   "source": [
    "### Compare total transactions by year."
   ]
  },
  {
   "cell_type": "code",
   "execution_count": 12,
   "metadata": {},
   "outputs": [
    {
     "data": {
      "text/html": [
       "<table>\n",
       "<thead><tr><th scope=col>year</th><th scope=col>transactions</th></tr></thead>\n",
       "<tbody>\n",
       "\t<tr><td>2013   </td><td>2015258</td></tr>\n",
       "\t<tr><td>2014   </td><td>2045298</td></tr>\n",
       "\t<tr><td>2015   </td><td>2128269</td></tr>\n",
       "\t<tr><td>2016   </td><td>2242670</td></tr>\n",
       "</tbody>\n",
       "</table>\n"
      ],
      "text/latex": [
       "\\begin{tabular}{r|ll}\n",
       " year & transactions\\\\\n",
       "\\hline\n",
       "\t 2013    & 2015258\\\\\n",
       "\t 2014    & 2045298\\\\\n",
       "\t 2015    & 2128269\\\\\n",
       "\t 2016    & 2242670\\\\\n",
       "\\end{tabular}\n"
      ],
      "text/markdown": [
       "\n",
       "| year | transactions |\n",
       "|---|---|\n",
       "| 2013    | 2015258 |\n",
       "| 2014    | 2045298 |\n",
       "| 2015    | 2128269 |\n",
       "| 2016    | 2242670 |\n",
       "\n"
      ],
      "text/plain": [
       "  year transactions\n",
       "1 2013 2015258     \n",
       "2 2014 2045298     \n",
       "3 2015 2128269     \n",
       "4 2016 2242670     "
      ]
     },
     "metadata": {},
     "output_type": "display_data"
    },
    {
     "data": {
      "image/png": "[encoded data removed]",
      "text/plain": [
       "plot without title"
      ]
     },
     "metadata": {},
     "output_type": "display_data"
    }
   ],
   "source": [
    "data.compare_transactions = data.frame(year=c(\"2013\", \"2014\", \"2015\", \"2016\"),\n",
    "                                       transactions=c(nrow(data.2013), nrow(data.2014), nrow(data.2015), nrow(data.2016)))\n",
    "data.compare_transactions\n",
    "\n",
    "ggplot(data.compare_transactions) +\n",
    "geom_line(aes(x=year, y=transactions, group=1)) +\n",
    "geom_point(aes(x=year, y=transactions, color=year)) +\n",
    "scale_color_manual(values=rev(PALETTE[1:4])) +\n",
    "theme.no_legend"
   ]
  },
  {
   "cell_type": "markdown",
   "metadata": {},
   "source": [
    "### Compare total sales by year."
   ]
  },
  {
   "cell_type": "code",
   "execution_count": 13,
   "metadata": {},
   "outputs": [
    {
     "data": {
      "text/html": [
       "<table>\n",
       "<thead><tr><th scope=col>year</th><th scope=col>sales</th></tr></thead>\n",
       "<tbody>\n",
       "\t<tr><td>2013     </td><td>186509707</td></tr>\n",
       "\t<tr><td>2014     </td><td>192273720</td></tr>\n",
       "\t<tr><td>2015     </td><td>200854930</td></tr>\n",
       "\t<tr><td>2016     </td><td>198275574</td></tr>\n",
       "</tbody>\n",
       "</table>\n"
      ],
      "text/latex": [
       "\\begin{tabular}{r|ll}\n",
       " year & sales\\\\\n",
       "\\hline\n",
       "\t 2013      & 186509707\\\\\n",
       "\t 2014      & 192273720\\\\\n",
       "\t 2015      & 200854930\\\\\n",
       "\t 2016      & 198275574\\\\\n",
       "\\end{tabular}\n"
      ],
      "text/markdown": [
       "\n",
       "| year | sales |\n",
       "|---|---|\n",
       "| 2013      | 186509707 |\n",
       "| 2014      | 192273720 |\n",
       "| 2015      | 200854930 |\n",
       "| 2016      | 198275574 |\n",
       "\n"
      ],
      "text/plain": [
       "  year sales    \n",
       "1 2013 186509707\n",
       "2 2014 192273720\n",
       "3 2015 200854930\n",
       "4 2016 198275574"
      ]
     },
     "metadata": {},
     "output_type": "display_data"
    },
    {
     "data": {
      "image/png": "[encoded data removed]",
      "text/plain": [
       "plot without title"
      ]
     },
     "metadata": {},
     "output_type": "display_data"
    }
   ],
   "source": [
    "data.compare_sales = data.frame(year=c(\"2013\", \"2014\", \"2015\", \"2016\"),\n",
    "                                sales=c(sum(data.2013$sale.dollars), sum(data.2014$sale.dollars), sum(data.2015$sale.dollars), sum(data.2016$sale.dollars)))\n",
    "data.compare_sales\n",
    "\n",
    "ggplot(data.compare_sales) +\n",
    "geom_line(aes(x=year, y=sales, group=1)) +\n",
    "geom_point(aes(x=year, y=sales, color=year)) +\n",
    "scale_color_manual(values=rev(PALETTE[1:4])) +\n",
    "theme.no_legend"
   ]
  },
  {
   "cell_type": "markdown",
   "metadata": {},
   "source": [
    "### Compare distributions by year."
   ]
  },
  {
   "cell_type": "code",
   "execution_count": 19,
   "metadata": {
    "scrolled": false
   },
   "outputs": [
    {
     "data": {
      "image/png": "[encoded data removed]",
      "text/plain": [
       "plot without title"
      ]
     },
     "metadata": {},
     "output_type": "display_data"
    },
    {
     "data": {
      "image/png": "[encoded data removed]",
      "text/plain": [
       "plot without title"
      ]
     },
     "metadata": {},
     "output_type": "display_data"
    }
   ],
   "source": [
    "p1 = ggplot(data.2013) + ggtitle(\"2013\") + ylim(0,25000) + geom_histogram(aes(x=sale.dollars), binwidth=0.2, fill=PALETTE[4], na.rm=TRUE)\n",
    "p2 = ggplot(data.2014) + ggtitle(\"2014\") + ylim(0,25000) + geom_histogram(aes(x=sale.dollars), binwidth=0.2, fill=PALETTE[3], na.rm=TRUE)\n",
    "p3 = ggplot(data.2015) + ggtitle(\"2015\") + ylim(0,25000) + geom_histogram(aes(x=sale.dollars), binwidth=0.2, fill=PALETTE[2], na.rm=TRUE)\n",
    "p4 = ggplot(data.2016) + ggtitle(\"2016\") + ylim(0,25000) + geom_histogram(aes(x=sale.dollars), binwidth=0.2, fill=PALETTE[1], na.rm=TRUE)\n",
    "\n",
    "grid.arrange(p1, p2, p3, p4, nrow=2, ncol=2)\n",
    "\n",
    "ggplot() + xlim(0,500) +\n",
    "geom_histogram(aes(x=sale.dollars), data=data.2013, binwidth=0.2, fill=PALETTE[4], alpha=0.4, na.rm=TRUE) +\n",
    "geom_histogram(aes(x=sale.dollars), data=data.2014, binwidth=0.2, fill=PALETTE[3], alpha=0.4, na.rm=TRUE) +\n",
    "geom_histogram(aes(x=sale.dollars), data=data.2015, binwidth=0.2, fill=PALETTE[2], alpha=0.4, na.rm=TRUE) +\n",
    "geom_histogram(aes(x=sale.dollars), data=data.2016, binwidth=0.2, fill=PALETTE[1], alpha=0.4, na.rm=TRUE)"
   ]
  },
  {
   "cell_type": "markdown",
   "metadata": {},
   "source": [
    "### Choose a useful underlying process."
   ]
  },
  {
   "cell_type": "code",
   "execution_count": 17,
   "metadata": {
    "scrolled": false
   },
   "outputs": [
    {
     "data": {
      "image/png": "[encoded data removed]",
      "text/plain": [
       "plot without title"
      ]
     },
     "metadata": {},
     "output_type": "display_data"
    },
    {
     "data": {
      "image/png": "[encoded data removed]",
      "text/plain": [
       "plot without title"
      ]
     },
     "metadata": {},
     "output_type": "display_data"
    }
   ],
   "source": [
    "bandwidth = 0.01\n",
    "\n",
    "p1 = ggplot(data.2013) + ggtitle(\"2013\") + xlim(0,500) +\n",
    "     geom_density(aes(sale.dollars), kernel=\"gaussian\", bw=bandwidth, fill=PALETTE[4])\n",
    "\n",
    "p2 = ggplot(data.2014) + ggtitle(\"2014\") + xlim(0,500) +\n",
    "     geom_density(aes(sale.dollars), kernel=\"gaussian\", bw=bandwidth, fill=PALETTE[3])\n",
    "\n",
    "p3 = ggplot(data.2015) + ggtitle(\"2015\") + xlim(0,500) +\n",
    "     geom_density(aes(sale.dollars), kernel=\"gaussian\", bw=bandwidth, fill=PALETTE[2])\n",
    "\n",
    "p4 = ggplot(data.2016) + ggtitle(\"2016\") + xlim(0,500) +\n",
    "     geom_density(aes(sale.dollars), kernel=\"gaussian\", bw=bandwidth, fill=PALETTE[1])\n",
    "\n",
    "grid.arrange(p1, p2, p3, p4, nrow=2, ncol=2)\n",
    "\n",
    "ggplot() + ggtitle(sprintf(\"bw = %0.2f\", bandwidth)) + xlim(0,500) +\n",
    "geom_density(aes(sale.dollars), data=data.2013, kernel=\"gaussian\", bw=bandwidth, fill=PALETTE[4], alpha=0.4) +\n",
    "geom_density(aes(sale.dollars), data=data.2014, kernel=\"gaussian\", bw=bandwidth, fill=PALETTE[3], alpha=0.4) +\n",
    "geom_density(aes(sale.dollars), data=data.2015, kernel=\"gaussian\", bw=bandwidth, fill=PALETTE[2], alpha=0.4) +\n",
    "geom_density(aes(sale.dollars), data=data.2016, kernel=\"gaussian\", bw=bandwidth, fill=PALETTE[1], alpha=0.4)"
   ]
  },
  {
   "cell_type": "code",
   "execution_count": 18,
   "metadata": {
    "scrolled": false
   },
   "outputs": [
    {
     "data": {
      "image/png": "[encoded data removed]",
      "text/plain": [
       "plot without title"
      ]
     },
     "metadata": {},
     "output_type": "display_data"
    },
    {
     "data": {
      "image/png": "[encoded data removed]",
      "text/plain": [
       "plot without title"
      ]
     },
     "metadata": {},
     "output_type": "display_data"
    }
   ],
   "source": [
    "bandwidth = 100\n",
    "\n",
    "p1 = ggplot(data.2013) + ggtitle(\"2013\") + xlim(0,500) +\n",
    "     geom_density(aes(sale.dollars), kernel=\"gaussian\", bw=bandwidth, fill=PALETTE[4])\n",
    "\n",
    "p2 = ggplot(data.2014) + ggtitle(\"2014\") + xlim(0,500) +\n",
    "     geom_density(aes(sale.dollars), kernel=\"gaussian\", bw=bandwidth, fill=PALETTE[3])\n",
    "\n",
    "p3 = ggplot(data.2015) + ggtitle(\"2015\") + xlim(0,500) +\n",
    "     geom_density(aes(sale.dollars), kernel=\"gaussian\", bw=bandwidth, fill=PALETTE[2])\n",
    "\n",
    "p4 = ggplot(data.2016) + ggtitle(\"2016\") + xlim(0,500) +\n",
    "     geom_density(aes(sale.dollars), kernel=\"gaussian\", bw=bandwidth, fill=PALETTE[1])\n",
    "\n",
    "grid.arrange(p1, p2, p3, p4, nrow=2, ncol=2)\n",
    "\n",
    "ggplot() + ggtitle(sprintf(\"bw = %0.2f\", bandwidth)) + xlim(0,500) +\n",
    "geom_density(aes(sale.dollars), data=data.2013, kernel=\"gaussian\", bw=bandwidth, fill=PALETTE[4], alpha=0.4) +\n",
    "geom_density(aes(sale.dollars), data=data.2014, kernel=\"gaussian\", bw=bandwidth, fill=PALETTE[3], alpha=0.4) +\n",
    "geom_density(aes(sale.dollars), data=data.2015, kernel=\"gaussian\", bw=bandwidth, fill=PALETTE[2], alpha=0.4) +\n",
    "geom_density(aes(sale.dollars), data=data.2016, kernel=\"gaussian\", bw=bandwidth, fill=PALETTE[1], alpha=0.4)"
   ]
  },
  {
   "cell_type": "code",
   "execution_count": 19,
   "metadata": {
    "scrolled": false
   },
   "outputs": [
    {
     "data": {
      "image/png": "[encoded data removed]",
      "text/plain": [
       "plot without title"
      ]
     },
     "metadata": {},
     "output_type": "display_data"
    },
    {
     "data": {
      "image/png": "[encoded data removed]",
      "text/plain": [
       "plot without title"
      ]
     },
     "metadata": {},
     "output_type": "display_data"
    }
   ],
   "source": [
    "bandwidth = 10\n",
    "\n",
    "p1 = ggplot(data.2013) + ggtitle(\"2013\") + xlim(0,500) +\n",
    "     geom_density(aes(sale.dollars), kernel=\"gaussian\", bw=bandwidth, fill=PALETTE[4])\n",
    "\n",
    "p2 = ggplot(data.2014) + ggtitle(\"2014\") + xlim(0,500) +\n",
    "     geom_density(aes(sale.dollars), kernel=\"gaussian\", bw=bandwidth, fill=PALETTE[3])\n",
    "\n",
    "p3 = ggplot(data.2015) + ggtitle(\"2015\") + xlim(0,500) +\n",
    "     geom_density(aes(sale.dollars), kernel=\"gaussian\", bw=bandwidth, fill=PALETTE[2])\n",
    "\n",
    "p4 = ggplot(data.2016) + ggtitle(\"2016\") + xlim(0,500) +\n",
    "     geom_density(aes(sale.dollars), kernel=\"gaussian\", bw=bandwidth, fill=PALETTE[1])\n",
    "\n",
    "grid.arrange(p1, p2, p3, p4, nrow=2, ncol=2)\n",
    "\n",
    "ggplot() + ggtitle(sprintf(\"bw = %0.2f\", bandwidth)) + xlim(0,500) +\n",
    "geom_density(aes(sale.dollars), data=data.2013, kernel=\"gaussian\", bw=bandwidth, fill=PALETTE[4], alpha=0.4) +\n",
    "geom_density(aes(sale.dollars), data=data.2014, kernel=\"gaussian\", bw=bandwidth, fill=PALETTE[3], alpha=0.4) +\n",
    "geom_density(aes(sale.dollars), data=data.2015, kernel=\"gaussian\", bw=bandwidth, fill=PALETTE[2], alpha=0.4) +\n",
    "geom_density(aes(sale.dollars), data=data.2016, kernel=\"gaussian\", bw=bandwidth, fill=PALETTE[1], alpha=0.4)"
   ]
  },
  {
   "cell_type": "markdown",
   "metadata": {},
   "source": [
    "## Implications for Low-\\\\$ Transactions"
   ]
  },
  {
   "cell_type": "markdown",
   "metadata": {},
   "source": [
    "### \\\\$0 to \\\\$20"
   ]
  },
  {
   "cell_type": "code",
   "execution_count": 20,
   "metadata": {},
   "outputs": [
    {
     "data": {
      "text/html": [
       "<table>\n",
       "<thead><tr><th scope=col>p.2013.0_20</th></tr></thead>\n",
       "<tbody>\n",
       "\t<tr><td>0.1311276</td></tr>\n",
       "</tbody>\n",
       "</table>\n"
      ],
      "text/latex": [
       "\\begin{tabular}{r|l}\n",
       " p.2013.0\\_20\\\\\n",
       "\\hline\n",
       "\t 0.1311276\\\\\n",
       "\\end{tabular}\n"
      ],
      "text/markdown": [
       "\n",
       "| p.2013.0_20 |\n",
       "|---|\n",
       "| 0.1311276 |\n",
       "\n"
      ],
      "text/plain": [
       "  p.2013.0_20\n",
       "1 0.1311276  "
      ]
     },
     "metadata": {},
     "output_type": "display_data"
    }
   ],
   "source": [
    "d = density(data.2013$sale.dollars, kernel=\"gaussian\", bw=10, from=0, to=500)\n",
    "pdf = approxfun(d)\n",
    "p.2013.0_20 = integrate(pdf, 0, 20)$value\n",
    "data.frame(p.2013.0_20)"
   ]
  },
  {
   "cell_type": "code",
   "execution_count": 21,
   "metadata": {
    "scrolled": false
   },
   "outputs": [
    {
     "data": {
      "image/png": "[encoded data removed]",
      "text/plain": [
       "plot without title"
      ]
     },
     "metadata": {},
     "output_type": "display_data"
    }
   ],
   "source": [
    "ggplot(data=data.2013) + xlim(0,500) +\n",
    "stat_function(fun=pdf, geom=\"area\", fill=PALETTE[4]) +\n",
    "stat_function(fun=pdf, geom=\"area\", xlim=c(0,20), fill=PALETTE[5]) +\n",
    "geom_vline(xintercept=0) + geom_vline(xintercept=20)"
   ]
  },
  {
   "cell_type": "code",
   "execution_count": 22,
   "metadata": {},
   "outputs": [
    {
     "data": {
      "text/html": [
       "<table>\n",
       "<thead><tr><th scope=col>p.2014.0_20</th></tr></thead>\n",
       "<tbody>\n",
       "\t<tr><td>0.1285568</td></tr>\n",
       "</tbody>\n",
       "</table>\n"
      ],
      "text/latex": [
       "\\begin{tabular}{r|l}\n",
       " p.2014.0\\_20\\\\\n",
       "\\hline\n",
       "\t 0.1285568\\\\\n",
       "\\end{tabular}\n"
      ],
      "text/markdown": [
       "\n",
       "| p.2014.0_20 |\n",
       "|---|\n",
       "| 0.1285568 |\n",
       "\n"
      ],
      "text/plain": [
       "  p.2014.0_20\n",
       "1 0.1285568  "
      ]
     },
     "metadata": {},
     "output_type": "display_data"
    }
   ],
   "source": [
    "d = density(data.2014$sale.dollars, kernel=\"gaussian\", bw=10, from=0, to=500)\n",
    "pdf = approxfun(d)\n",
    "p.2014.0_20 = integrate(pdf, 0, 20)$value\n",
    "data.frame(p.2014.0_20)"
   ]
  },
  {
   "cell_type": "code",
   "execution_count": 23,
   "metadata": {},
   "outputs": [
    {
     "data": {
      "image/png": "[encoded data removed]",
      "text/plain": [
       "plot without title"
      ]
     },
     "metadata": {},
     "output_type": "display_data"
    }
   ],
   "source": [
    "ggplot(data=data.2014) + xlim(0,500) +\n",
    "stat_function(fun=pdf, geom=\"area\", fill=PALETTE[3]) +\n",
    "stat_function(fun=pdf, geom=\"area\", xlim=c(0,20), fill=PALETTE[5]) +\n",
    "geom_vline(xintercept=0) + geom_vline(xintercept=20)"
   ]
  },
  {
   "cell_type": "code",
   "execution_count": 24,
   "metadata": {},
   "outputs": [
    {
     "data": {
      "text/html": [
       "<table>\n",
       "<thead><tr><th scope=col>p.2015.0_20</th></tr></thead>\n",
       "<tbody>\n",
       "\t<tr><td>0.1314526</td></tr>\n",
       "</tbody>\n",
       "</table>\n"
      ],
      "text/latex": [
       "\\begin{tabular}{r|l}\n",
       " p.2015.0\\_20\\\\\n",
       "\\hline\n",
       "\t 0.1314526\\\\\n",
       "\\end{tabular}\n"
      ],
      "text/markdown": [
       "\n",
       "| p.2015.0_20 |\n",
       "|---|\n",
       "| 0.1314526 |\n",
       "\n"
      ],
      "text/plain": [
       "  p.2015.0_20\n",
       "1 0.1314526  "
      ]
     },
     "metadata": {},
     "output_type": "display_data"
    }
   ],
   "source": [
    "d = density(data.2015$sale.dollars, kernel=\"gaussian\", bw=10, from=0, to=500)\n",
    "pdf = approxfun(d)\n",
    "p.2015.0_20 = integrate(pdf, 0, 20)$value\n",
    "data.frame(p.2015.0_20)"
   ]
  },
  {
   "cell_type": "code",
   "execution_count": 25,
   "metadata": {},
   "outputs": [
    {
     "data": {
      "image/png": "[encoded data removed]",
      "text/plain": [
       "plot without title"
      ]
     },
     "metadata": {},
     "output_type": "display_data"
    }
   ],
   "source": [
    "ggplot(data=data.2015) + xlim(0,500) +\n",
    "stat_function(fun=pdf, geom=\"area\", fill=PALETTE[2]) +\n",
    "stat_function(fun=pdf, geom=\"area\", xlim=c(0,20), fill=PALETTE[5]) +\n",
    "geom_vline(xintercept=0) + geom_vline(xintercept=20)"
   ]
  },
  {
   "cell_type": "code",
   "execution_count": 26,
   "metadata": {},
   "outputs": [
    {
     "data": {
      "text/html": [
       "<table>\n",
       "<thead><tr><th scope=col>p.2016.0_20</th></tr></thead>\n",
       "<tbody>\n",
       "\t<tr><td>0.1809047</td></tr>\n",
       "</tbody>\n",
       "</table>\n"
      ],
      "text/latex": [
       "\\begin{tabular}{r|l}\n",
       " p.2016.0\\_20\\\\\n",
       "\\hline\n",
       "\t 0.1809047\\\\\n",
       "\\end{tabular}\n"
      ],
      "text/markdown": [
       "\n",
       "| p.2016.0_20 |\n",
       "|---|\n",
       "| 0.1809047 |\n",
       "\n"
      ],
      "text/plain": [
       "  p.2016.0_20\n",
       "1 0.1809047  "
      ]
     },
     "metadata": {},
     "output_type": "display_data"
    }
   ],
   "source": [
    "d = density(data.2016$sale.dollars, kernel=\"gaussian\", bw=10, from=0, to=500)\n",
    "pdf = approxfun(d)\n",
    "p.2016.0_20 = integrate(pdf, 0, 20)$value\n",
    "data.frame(p.2016.0_20)"
   ]
  },
  {
   "cell_type": "code",
   "execution_count": 27,
   "metadata": {
    "scrolled": false
   },
   "outputs": [
    {
     "data": {
      "image/png": "[encoded data removed]",
      "text/plain": [
       "plot without title"
      ]
     },
     "metadata": {},
     "output_type": "display_data"
    }
   ],
   "source": [
    "ggplot(data=data.2016) + xlim(0,500) +\n",
    "stat_function(fun=pdf, geom=\"area\", fill=PALETTE[1]) +\n",
    "stat_function(fun=pdf, geom=\"area\", xlim=c(0,20), fill=PALETTE[5]) +\n",
    "geom_vline(xintercept=0) + geom_vline(xintercept=20)"
   ]
  },
  {
   "cell_type": "code",
   "execution_count": 28,
   "metadata": {},
   "outputs": [
    {
     "data": {
      "text/html": [
       "<table>\n",
       "<thead><tr><th scope=col>year</th><th scope=col>probability</th></tr></thead>\n",
       "<tbody>\n",
       "\t<tr><td>2013     </td><td>0.1311276</td></tr>\n",
       "\t<tr><td>2014     </td><td>0.1285568</td></tr>\n",
       "\t<tr><td>2015     </td><td>0.1314526</td></tr>\n",
       "\t<tr><td>2016     </td><td>0.1809047</td></tr>\n",
       "</tbody>\n",
       "</table>\n"
      ],
      "text/latex": [
       "\\begin{tabular}{r|ll}\n",
       " year & probability\\\\\n",
       "\\hline\n",
       "\t 2013      & 0.1311276\\\\\n",
       "\t 2014      & 0.1285568\\\\\n",
       "\t 2015      & 0.1314526\\\\\n",
       "\t 2016      & 0.1809047\\\\\n",
       "\\end{tabular}\n"
      ],
      "text/markdown": [
       "\n",
       "| year | probability |\n",
       "|---|---|\n",
       "| 2013      | 0.1311276 |\n",
       "| 2014      | 0.1285568 |\n",
       "| 2015      | 0.1314526 |\n",
       "| 2016      | 0.1809047 |\n",
       "\n"
      ],
      "text/plain": [
       "  year probability\n",
       "1 2013 0.1311276  \n",
       "2 2014 0.1285568  \n",
       "3 2015 0.1314526  \n",
       "4 2016 0.1809047  "
      ]
     },
     "metadata": {},
     "output_type": "display_data"
    },
    {
     "data": {
      "image/png": "[encoded data removed]",
      "text/plain": [
       "plot without title"
      ]
     },
     "metadata": {},
     "output_type": "display_data"
    }
   ],
   "source": [
    "data.0_20 = data.frame(year=c(\"2013\", \"2014\", \"2015\", \"2016\"),\n",
    "                       probability=c(p.2013.0_20, p.2014.0_20, p.2015.0_20, p.2016.0_20))\n",
    "data.0_20\n",
    "\n",
    "ggplot(data.0_20) + ggtitle(\"$0 to $20\") + ylab(\"probability\") +\n",
    "geom_col(aes(x=year, y=1), fill=\"gray\") +\n",
    "geom_col(aes(x=year, y=probability, fill=year)) +\n",
    "geom_hline(yintercept=data.0_20$probability[4]) +\n",
    "scale_fill_manual(values=rev(PALETTE[1:4])) +\n",
    "theme.no_legend"
   ]
  },
  {
   "cell_type": "markdown",
   "metadata": {},
   "source": [
    "### \\\\$20 to \\\\$50"
   ]
  },
  {
   "cell_type": "code",
   "execution_count": 29,
   "metadata": {},
   "outputs": [
    {
     "data": {
      "text/html": [
       "<table>\n",
       "<thead><tr><th scope=col>p.2013.20_50</th></tr></thead>\n",
       "<tbody>\n",
       "\t<tr><td>0.2263016</td></tr>\n",
       "</tbody>\n",
       "</table>\n"
      ],
      "text/latex": [
       "\\begin{tabular}{r|l}\n",
       " p.2013.20\\_50\\\\\n",
       "\\hline\n",
       "\t 0.2263016\\\\\n",
       "\\end{tabular}\n"
      ],
      "text/markdown": [
       "\n",
       "| p.2013.20_50 |\n",
       "|---|\n",
       "| 0.2263016 |\n",
       "\n"
      ],
      "text/plain": [
       "  p.2013.20_50\n",
       "1 0.2263016   "
      ]
     },
     "metadata": {},
     "output_type": "display_data"
    }
   ],
   "source": [
    "d = density(data.2013$sale.dollars, kernel=\"gaussian\", bw=10, from=0, to=500)\n",
    "pdf = approxfun(d)\n",
    "p.2013.20_50 = integrate(pdf, 20, 50)$value\n",
    "data.frame(p.2013.20_50)"
   ]
  },
  {
   "cell_type": "code",
   "execution_count": 30,
   "metadata": {},
   "outputs": [
    {
     "data": {
      "text/html": [
       "<table>\n",
       "<thead><tr><th scope=col>p.2014.20_50</th></tr></thead>\n",
       "<tbody>\n",
       "\t<tr><td>0.2250215</td></tr>\n",
       "</tbody>\n",
       "</table>\n"
      ],
      "text/latex": [
       "\\begin{tabular}{r|l}\n",
       " p.2014.20\\_50\\\\\n",
       "\\hline\n",
       "\t 0.2250215\\\\\n",
       "\\end{tabular}\n"
      ],
      "text/markdown": [
       "\n",
       "| p.2014.20_50 |\n",
       "|---|\n",
       "| 0.2250215 |\n",
       "\n"
      ],
      "text/plain": [
       "  p.2014.20_50\n",
       "1 0.2250215   "
      ]
     },
     "metadata": {},
     "output_type": "display_data"
    }
   ],
   "source": [
    "d = density(data.2014$sale.dollars, kernel=\"gaussian\", bw=10, from=0, to=500)\n",
    "pdf = approxfun(d)\n",
    "p.2014.20_50 = integrate(pdf, 20, 50)$value\n",
    "data.frame(p.2014.20_50)"
   ]
  },
  {
   "cell_type": "code",
   "execution_count": 31,
   "metadata": {},
   "outputs": [
    {
     "data": {
      "text/html": [
       "<table>\n",
       "<thead><tr><th scope=col>p.2015.20_50</th></tr></thead>\n",
       "<tbody>\n",
       "\t<tr><td>0.2262596</td></tr>\n",
       "</tbody>\n",
       "</table>\n"
      ],
      "text/latex": [
       "\\begin{tabular}{r|l}\n",
       " p.2015.20\\_50\\\\\n",
       "\\hline\n",
       "\t 0.2262596\\\\\n",
       "\\end{tabular}\n"
      ],
      "text/markdown": [
       "\n",
       "| p.2015.20_50 |\n",
       "|---|\n",
       "| 0.2262596 |\n",
       "\n"
      ],
      "text/plain": [
       "  p.2015.20_50\n",
       "1 0.2262596   "
      ]
     },
     "metadata": {},
     "output_type": "display_data"
    }
   ],
   "source": [
    "d = density(data.2015$sale.dollars, kernel=\"gaussian\", bw=10, from=0, to=500)\n",
    "pdf = approxfun(d)\n",
    "p.2015.20_50 = integrate(pdf, 20, 50)$value\n",
    "data.frame(p.2015.20_50)"
   ]
  },
  {
   "cell_type": "code",
   "execution_count": 32,
   "metadata": {},
   "outputs": [
    {
     "data": {
      "text/html": [
       "<table>\n",
       "<thead><tr><th scope=col>p.2016.20_50</th></tr></thead>\n",
       "<tbody>\n",
       "\t<tr><td>0.2029079</td></tr>\n",
       "</tbody>\n",
       "</table>\n"
      ],
      "text/latex": [
       "\\begin{tabular}{r|l}\n",
       " p.2016.20\\_50\\\\\n",
       "\\hline\n",
       "\t 0.2029079\\\\\n",
       "\\end{tabular}\n"
      ],
      "text/markdown": [
       "\n",
       "| p.2016.20_50 |\n",
       "|---|\n",
       "| 0.2029079 |\n",
       "\n"
      ],
      "text/plain": [
       "  p.2016.20_50\n",
       "1 0.2029079   "
      ]
     },
     "metadata": {},
     "output_type": "display_data"
    }
   ],
   "source": [
    "d = density(data.2016$sale.dollars, kernel=\"gaussian\", bw=10, from=0, to=500)\n",
    "pdf = approxfun(d)\n",
    "p.2016.20_50 = integrate(pdf, 20, 50)$value\n",
    "data.frame(p.2016.20_50)"
   ]
  },
  {
   "cell_type": "code",
   "execution_count": 33,
   "metadata": {},
   "outputs": [
    {
     "data": {
      "text/html": [
       "<table>\n",
       "<thead><tr><th scope=col>year</th><th scope=col>probability</th></tr></thead>\n",
       "<tbody>\n",
       "\t<tr><td>2013     </td><td>0.2263016</td></tr>\n",
       "\t<tr><td>2014     </td><td>0.2250215</td></tr>\n",
       "\t<tr><td>2015     </td><td>0.2262596</td></tr>\n",
       "\t<tr><td>2016     </td><td>0.2029079</td></tr>\n",
       "</tbody>\n",
       "</table>\n"
      ],
      "text/latex": [
       "\\begin{tabular}{r|ll}\n",
       " year & probability\\\\\n",
       "\\hline\n",
       "\t 2013      & 0.2263016\\\\\n",
       "\t 2014      & 0.2250215\\\\\n",
       "\t 2015      & 0.2262596\\\\\n",
       "\t 2016      & 0.2029079\\\\\n",
       "\\end{tabular}\n"
      ],
      "text/markdown": [
       "\n",
       "| year | probability |\n",
       "|---|---|\n",
       "| 2013      | 0.2263016 |\n",
       "| 2014      | 0.2250215 |\n",
       "| 2015      | 0.2262596 |\n",
       "| 2016      | 0.2029079 |\n",
       "\n"
      ],
      "text/plain": [
       "  year probability\n",
       "1 2013 0.2263016  \n",
       "2 2014 0.2250215  \n",
       "3 2015 0.2262596  \n",
       "4 2016 0.2029079  "
      ]
     },
     "metadata": {},
     "output_type": "display_data"
    },
    {
     "data": {
      "image/png": "[encoded data removed]",
      "text/plain": [
       "plot without title"
      ]
     },
     "metadata": {},
     "output_type": "display_data"
    }
   ],
   "source": [
    "data.20_50 = data.frame(year=c(\"2013\", \"2014\", \"2015\", \"2016\"), probability=c(p.2013.20_50, p.2014.20_50, p.2015.20_50, p.2016.20_50))\n",
    "data.20_50\n",
    "\n",
    "ggplot(data.20_50) + ggtitle(\"$20 to $50\") + ylab(\"probability\") +\n",
    "geom_col(aes(x=year, y=1), fill=\"gray\") +\n",
    "geom_col(aes(x=year, y=probability, fill=year)) +\n",
    "geom_hline(yintercept=data.20_50$probability[4]) +\n",
    "scale_fill_manual(values=rev(PALETTE[1:4])) + \n",
    "theme.no_legend"
   ]
  },
  {
   "cell_type": "markdown",
   "metadata": {},
   "source": [
    "<font size=1;>\n",
    "<p style=\"text-align: left;\">\n",
    "Copyright (c) Berkeley Data Analytics Group, LLC\n",
    "<span style=\"float: right;\">\n",
    "document revised February 9, 2020\n",
    "</span>\n",
    "</p>\n",
    "</font>"
   ]
  }
 ],
 "metadata": {
  "hide_code_all_hidden": false,
  "hide_input": false,
  "kernelspec": {
   "display_name": "R",
   "language": "R",
   "name": "ir"
  },
  "language_info": {
   "codemirror_mode": "r",
   "file_extension": ".r",
   "mimetype": "text/x-r-source",
   "name": "R",
   "pygments_lexer": "r",
   "version": "3.6.1"
  },
  "toc": {
   "base_numbering": 1,
   "nav_menu": {},
   "number_sections": true,
   "sideBar": true,
   "skip_h1_title": true,
   "title_cell": "Table of Contents",
   "title_sidebar": "Contents",
   "toc_cell": false,
   "toc_position": {},
   "toc_section_display": true,
   "toc_window_display": true
  }
 },
 "nbformat": 4,
 "nbformat_minor": 2
}
