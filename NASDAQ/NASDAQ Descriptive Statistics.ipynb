{
 "cells": [
  {
   "cell_type": "markdown",
   "metadata": {
    "hideCode": false,
    "hidePrompt": false
   },
   "source": [
    "# Descriptive Statistics $\\,\\, \\tiny\\text{Application | NASDAQ & NYSE (Stock Market)}$\n",
    "<img src=\"banner lab.jpg\" align=left>"
   ]
  },
  {
   "cell_type": "markdown",
   "metadata": {},
   "source": [
    "### About the Business Situation & Data\n",
    "___\n",
    "\n",
    "We continue our analysis of high-tech stock returns."
   ]
  },
  {
   "cell_type": "markdown",
   "metadata": {},
   "source": [
    "### Apparatus\n",
    "___"
   ]
  },
  {
   "cell_type": "code",
   "execution_count": 7,
   "metadata": {
    "scrolled": false
   },
   "outputs": [],
   "source": [
    "options(warn=-1)\n",
    "\n",
    "# Load some required functions\n",
    "library(rJava,      verbose=FALSE, warn.conflicts=FALSE, quietly=TRUE)\n",
    "library(xlsxjars,   verbose=FALSE, warn.conflicts=FALSE, quietly=TRUE)\n",
    "library(xlsx,       verbose=FALSE, warn.conflicts=FALSE, quietly=TRUE) # Also, ensure Java version (32-bit or 64-bit) matches R kernel\n",
    "library(psych,      verbose=FALSE, warn.conflicts=FALSE, quietly=TRUE)\n",
    "library(plyr,       verbose=FALSE, warn.conflicts=FALSE, quietly=TRUE)"
   ]
  },
  {
   "cell_type": "markdown",
   "metadata": {},
   "source": [
    "We use the `library` function (provided by the R system) multiple times to load specific libraries of functions.  The functions result in providing us all of the many functions contained in the libraries, which we can use later."
   ]
  },
  {
   "cell_type": "markdown",
   "metadata": {},
   "source": [
    "### Data Retrieval\n",
    "___"
   ]
  },
  {
   "cell_type": "code",
   "execution_count": 8,
   "metadata": {
    "hideCode": false,
    "hidePrompt": false,
    "run_control": {
     "marked": false
    },
    "scrolled": false
   },
   "outputs": [
    {
     "data": {
      "text/html": [
       "<ol class=list-inline>\n",
       "\t<li>261</li>\n",
       "\t<li>12</li>\n",
       "</ol>\n"
      ],
      "text/latex": [
       "\\begin{enumerate*}\n",
       "\\item 261\n",
       "\\item 12\n",
       "\\end{enumerate*}\n"
      ],
      "text/markdown": [
       "1. 261\n",
       "2. 12\n",
       "\n",
       "\n"
      ],
      "text/plain": [
       "[1] 261  12"
      ]
     },
     "metadata": {},
     "output_type": "display_data"
    },
    {
     "data": {
      "text/html": [
       "<ol class=list-inline>\n",
       "\t<li>'Date'</li>\n",
       "\t<li>'Apple.Return'</li>\n",
       "\t<li>'Dell.Return'</li>\n",
       "\t<li>'IBM.Return'</li>\n",
       "\t<li>'Microsoft.Return'</li>\n",
       "\t<li>'Value.weighted.Market.Return'</li>\n",
       "\t<li>'SP.500.Return'</li>\n",
       "\t<li>'Price..Dell'</li>\n",
       "\t<li>'Price..Apple'</li>\n",
       "\t<li>'Price..IBM'</li>\n",
       "\t<li>'Price..Microsoft'</li>\n",
       "\t<li>'Calendar.Date'</li>\n",
       "</ol>\n"
      ],
      "text/latex": [
       "\\begin{enumerate*}\n",
       "\\item 'Date'\n",
       "\\item 'Apple.Return'\n",
       "\\item 'Dell.Return'\n",
       "\\item 'IBM.Return'\n",
       "\\item 'Microsoft.Return'\n",
       "\\item 'Value.weighted.Market.Return'\n",
       "\\item 'SP.500.Return'\n",
       "\\item 'Price..Dell'\n",
       "\\item 'Price..Apple'\n",
       "\\item 'Price..IBM'\n",
       "\\item 'Price..Microsoft'\n",
       "\\item 'Calendar.Date'\n",
       "\\end{enumerate*}\n"
      ],
      "text/markdown": [
       "1. 'Date'\n",
       "2. 'Apple.Return'\n",
       "3. 'Dell.Return'\n",
       "4. 'IBM.Return'\n",
       "5. 'Microsoft.Return'\n",
       "6. 'Value.weighted.Market.Return'\n",
       "7. 'SP.500.Return'\n",
       "8. 'Price..Dell'\n",
       "9. 'Price..Apple'\n",
       "10. 'Price..IBM'\n",
       "11. 'Price..Microsoft'\n",
       "12. 'Calendar.Date'\n",
       "\n",
       "\n"
      ],
      "text/plain": [
       " [1] \"Date\"                         \"Apple.Return\"                \n",
       " [3] \"Dell.Return\"                  \"IBM.Return\"                  \n",
       " [5] \"Microsoft.Return\"             \"Value.weighted.Market.Return\"\n",
       " [7] \"SP.500.Return\"                \"Price..Dell\"                 \n",
       " [9] \"Price..Apple\"                 \"Price..IBM\"                  \n",
       "[11] \"Price..Microsoft\"             \"Calendar.Date\"               "
      ]
     },
     "metadata": {},
     "output_type": "display_data"
    }
   ],
   "source": [
    "data = read.xlsx(\"../DATASETS/DATASET High-Tech Stocks.xlsx\", sheetIndex=1, header=TRUE)\n",
    "dim(data)\n",
    "colnames(data)"
   ]
  },
  {
   "cell_type": "markdown",
   "metadata": {},
   "source": [
    "To retrieve the dataset in file `dataset tech stocks.xlsx`, we use the `read.xlsx` function.  To confirm that the dataset has been retrieved and assigned, we use the `dim` and `colname` functions. "
   ]
  },
  {
   "cell_type": "markdown",
   "metadata": {
    "hideCode": false,
    "hidePrompt": false
   },
   "source": [
    "### Descriptive Statistics\n",
    "___"
   ]
  },
  {
   "cell_type": "markdown",
   "metadata": {
    "hideCode": false,
    "hidePrompt": false
   },
   "source": [
    "#### List summary statistics for the 5 return variables."
   ]
  },
  {
   "cell_type": "code",
   "execution_count": 15,
   "metadata": {
    "hideCode": false,
    "hidePrompt": false,
    "scrolled": true
   },
   "outputs": [
    {
     "data": {
      "text/html": [
       "<table>\n",
       "<thead><tr><th></th><th scope=col>vars</th><th scope=col>n</th><th scope=col>mean</th><th scope=col>sd</th><th scope=col>median</th><th scope=col>trimmed</th><th scope=col>mad</th><th scope=col>min</th><th scope=col>max</th><th scope=col>range</th><th scope=col>skew</th><th scope=col>kurtosis</th><th scope=col>se</th></tr></thead>\n",
       "<tbody>\n",
       "\t<tr><th scope=row>Apple.Return</th><td>1          </td><td>261        </td><td>0.024850092</td><td>0.13912179 </td><td>0.02950000 </td><td>0.026282809</td><td>0.12528711 </td><td>-0.5774360 </td><td>0.453782   </td><td>1.0312180  </td><td>-0.2473137 </td><td>1.0817514  </td><td>0.008611422</td></tr>\n",
       "\t<tr><th scope=row>Dell.Return</th><td>2          </td><td>261        </td><td>0.031596149</td><td>0.14600402 </td><td>0.01645900 </td><td>0.027904284</td><td>0.12919777 </td><td>-0.3474576 </td><td>0.498208   </td><td>0.8456656  </td><td> 0.3181188 </td><td>0.3161894  </td><td>0.009037422</td></tr>\n",
       "\t<tr><th scope=row>IBM.Return</th><td>3          </td><td>261        </td><td>0.012554695</td><td>0.08306518 </td><td>0.01123596 </td><td>0.011198189</td><td>0.07235835 </td><td>-0.2619048 </td><td>0.353799   </td><td>0.6157038  </td><td> 0.2478666 </td><td>1.6619541  </td><td>0.005141605</td></tr>\n",
       "\t<tr><th scope=row>Microsoft.Return</th><td>4          </td><td>261        </td><td>0.019967847</td><td>0.09827313 </td><td>0.02151900 </td><td>0.016454182</td><td>0.08471705 </td><td>-0.3435294 </td><td>0.407781   </td><td>0.7513104  </td><td> 0.4283578 </td><td>1.6365214  </td><td>0.006082954</td></tr>\n",
       "\t<tr><th scope=row>SP.500.Return</th><td>5          </td><td>261        </td><td>0.005431793</td><td>0.04364626 </td><td>0.01010800 </td><td>0.007643967</td><td>0.03965658 </td><td>-0.1694250 </td><td>0.111588   </td><td>0.2810130  </td><td>-0.5985709 </td><td>0.9578046  </td><td>0.002701636</td></tr>\n",
       "</tbody>\n",
       "</table>\n"
      ],
      "text/latex": [
       "\\begin{tabular}{r|lllllllllllll}\n",
       "  & vars & n & mean & sd & median & trimmed & mad & min & max & range & skew & kurtosis & se\\\\\n",
       "\\hline\n",
       "\tApple.Return & 1           & 261         & 0.024850092 & 0.13912179  & 0.02950000  & 0.026282809 & 0.12528711  & -0.5774360  & 0.453782    & 1.0312180   & -0.2473137  & 1.0817514   & 0.008611422\\\\\n",
       "\tDell.Return & 2           & 261         & 0.031596149 & 0.14600402  & 0.01645900  & 0.027904284 & 0.12919777  & -0.3474576  & 0.498208    & 0.8456656   &  0.3181188  & 0.3161894   & 0.009037422\\\\\n",
       "\tIBM.Return & 3           & 261         & 0.012554695 & 0.08306518  & 0.01123596  & 0.011198189 & 0.07235835  & -0.2619048  & 0.353799    & 0.6157038   &  0.2478666  & 1.6619541   & 0.005141605\\\\\n",
       "\tMicrosoft.Return & 4           & 261         & 0.019967847 & 0.09827313  & 0.02151900  & 0.016454182 & 0.08471705  & -0.3435294  & 0.407781    & 0.7513104   &  0.4283578  & 1.6365214   & 0.006082954\\\\\n",
       "\tSP.500.Return & 5           & 261         & 0.005431793 & 0.04364626  & 0.01010800  & 0.007643967 & 0.03965658  & -0.1694250  & 0.111588    & 0.2810130   & -0.5985709  & 0.9578046   & 0.002701636\\\\\n",
       "\\end{tabular}\n"
      ],
      "text/markdown": [
       "\n",
       "| <!--/--> | vars | n | mean | sd | median | trimmed | mad | min | max | range | skew | kurtosis | se | \n",
       "|---|---|---|---|---|\n",
       "| Apple.Return | 1           | 261         | 0.024850092 | 0.13912179  | 0.02950000  | 0.026282809 | 0.12528711  | -0.5774360  | 0.453782    | 1.0312180   | -0.2473137  | 1.0817514   | 0.008611422 | \n",
       "| Dell.Return | 2           | 261         | 0.031596149 | 0.14600402  | 0.01645900  | 0.027904284 | 0.12919777  | -0.3474576  | 0.498208    | 0.8456656   |  0.3181188  | 0.3161894   | 0.009037422 | \n",
       "| IBM.Return | 3           | 261         | 0.012554695 | 0.08306518  | 0.01123596  | 0.011198189 | 0.07235835  | -0.2619048  | 0.353799    | 0.6157038   |  0.2478666  | 1.6619541   | 0.005141605 | \n",
       "| Microsoft.Return | 4           | 261         | 0.019967847 | 0.09827313  | 0.02151900  | 0.016454182 | 0.08471705  | -0.3435294  | 0.407781    | 0.7513104   |  0.4283578  | 1.6365214   | 0.006082954 | \n",
       "| SP.500.Return | 5           | 261         | 0.005431793 | 0.04364626  | 0.01010800  | 0.007643967 | 0.03965658  | -0.1694250  | 0.111588    | 0.2810130   | -0.5985709  | 0.9578046   | 0.002701636 | \n",
       "\n",
       "\n"
      ],
      "text/plain": [
       "                 vars n   mean        sd         median     trimmed    \n",
       "Apple.Return     1    261 0.024850092 0.13912179 0.02950000 0.026282809\n",
       "Dell.Return      2    261 0.031596149 0.14600402 0.01645900 0.027904284\n",
       "IBM.Return       3    261 0.012554695 0.08306518 0.01123596 0.011198189\n",
       "Microsoft.Return 4    261 0.019967847 0.09827313 0.02151900 0.016454182\n",
       "SP.500.Return    5    261 0.005431793 0.04364626 0.01010800 0.007643967\n",
       "                 mad        min        max      range     skew       kurtosis \n",
       "Apple.Return     0.12528711 -0.5774360 0.453782 1.0312180 -0.2473137 1.0817514\n",
       "Dell.Return      0.12919777 -0.3474576 0.498208 0.8456656  0.3181188 0.3161894\n",
       "IBM.Return       0.07235835 -0.2619048 0.353799 0.6157038  0.2478666 1.6619541\n",
       "Microsoft.Return 0.08471705 -0.3435294 0.407781 0.7513104  0.4283578 1.6365214\n",
       "SP.500.Return    0.03965658 -0.1694250 0.111588 0.2810130 -0.5985709 0.9578046\n",
       "                 se         \n",
       "Apple.Return     0.008611422\n",
       "Dell.Return      0.009037422\n",
       "IBM.Return       0.005141605\n",
       "Microsoft.Return 0.006082954\n",
       "SP.500.Return    0.002701636"
      ]
     },
     "metadata": {},
     "output_type": "display_data"
    },
    {
     "data": {
      "text/html": [
       "0.0315961488888889"
      ],
      "text/latex": [
       "0.0315961488888889"
      ],
      "text/markdown": [
       "0.0315961488888889"
      ],
      "text/plain": [
       "[1] 0.03159615"
      ]
     },
     "metadata": {},
     "output_type": "display_data"
    },
    {
     "data": {
      "text/html": [
       "0.0315961488888889"
      ],
      "text/latex": [
       "0.0315961488888889"
      ],
      "text/markdown": [
       "0.0315961488888889"
      ],
      "text/plain": [
       "[1] 0.03159615"
      ]
     },
     "metadata": {},
     "output_type": "display_data"
    }
   ],
   "source": [
    "d = describe(data[,c(2:5,7)])\n",
    "d\n",
    "d[2,\"mean\"]\n",
    "d$mean[2]"
   ]
  },
  {
   "cell_type": "markdown",
   "metadata": {},
   "source": [
    "To compute summary statistics, we use the `describe` function.  The parameter is (part of) a table, in this case `data[,c(2:5,7)]`.  The row indices are blank and so assumed to be all rows.  The column indices are 2, 3, 4, 5, and 7, corresponding to the 5 columns of returns values.  Note, each statistic is calculated over all values within a column because we referenced the table portion comprising all rows."
   ]
  },
  {
   "cell_type": "markdown",
   "metadata": {
    "hideCode": false,
    "hidePrompt": false
   },
   "source": [
    "<br>\n",
    "#### Show the correlation table for the 5 return variables."
   ]
  },
  {
   "cell_type": "code",
   "execution_count": 16,
   "metadata": {
    "scrolled": true
   },
   "outputs": [
    {
     "data": {
      "text/html": [
       "0.413485756117903"
      ],
      "text/latex": [
       "0.413485756117903"
      ],
      "text/markdown": [
       "0.413485756117903"
      ],
      "text/plain": [
       "[1] 0.4134858"
      ]
     },
     "metadata": {},
     "output_type": "display_data"
    }
   ],
   "source": [
    "cor(data$Apple.Return, data$SP.500.Return)"
   ]
  },
  {
   "cell_type": "code",
   "execution_count": 17,
   "metadata": {
    "scrolled": true
   },
   "outputs": [
    {
     "data": {
      "text/html": [
       "<table>\n",
       "<thead><tr><th></th><th scope=col>Apple.Return</th><th scope=col>Dell.Return</th><th scope=col>IBM.Return</th><th scope=col>Microsoft.Return</th><th scope=col>SP.500.Return</th></tr></thead>\n",
       "<tbody>\n",
       "\t<tr><th scope=row>Apple.Return</th><td>1.0000000</td><td>0.4889076</td><td>0.3477979</td><td>0.3727310</td><td>0.4134858</td></tr>\n",
       "\t<tr><th scope=row>Dell.Return</th><td>0.4889076</td><td>1.0000000</td><td>0.3696172</td><td>0.5602641</td><td>0.4931103</td></tr>\n",
       "\t<tr><th scope=row>IBM.Return</th><td>0.3477979</td><td>0.3696172</td><td>1.0000000</td><td>0.4629375</td><td>0.5391675</td></tr>\n",
       "\t<tr><th scope=row>Microsoft.Return</th><td>0.3727310</td><td>0.5602641</td><td>0.4629375</td><td>1.0000000</td><td>0.5816254</td></tr>\n",
       "\t<tr><th scope=row>SP.500.Return</th><td>0.4134858</td><td>0.4931103</td><td>0.5391675</td><td>0.5816254</td><td>1.0000000</td></tr>\n",
       "</tbody>\n",
       "</table>\n"
      ],
      "text/latex": [
       "\\begin{tabular}{r|lllll}\n",
       "  & Apple.Return & Dell.Return & IBM.Return & Microsoft.Return & SP.500.Return\\\\\n",
       "\\hline\n",
       "\tApple.Return & 1.0000000 & 0.4889076 & 0.3477979 & 0.3727310 & 0.4134858\\\\\n",
       "\tDell.Return & 0.4889076 & 1.0000000 & 0.3696172 & 0.5602641 & 0.4931103\\\\\n",
       "\tIBM.Return & 0.3477979 & 0.3696172 & 1.0000000 & 0.4629375 & 0.5391675\\\\\n",
       "\tMicrosoft.Return & 0.3727310 & 0.5602641 & 0.4629375 & 1.0000000 & 0.5816254\\\\\n",
       "\tSP.500.Return & 0.4134858 & 0.4931103 & 0.5391675 & 0.5816254 & 1.0000000\\\\\n",
       "\\end{tabular}\n"
      ],
      "text/markdown": [
       "\n",
       "| <!--/--> | Apple.Return | Dell.Return | IBM.Return | Microsoft.Return | SP.500.Return | \n",
       "|---|---|---|---|---|\n",
       "| Apple.Return | 1.0000000 | 0.4889076 | 0.3477979 | 0.3727310 | 0.4134858 | \n",
       "| Dell.Return | 0.4889076 | 1.0000000 | 0.3696172 | 0.5602641 | 0.4931103 | \n",
       "| IBM.Return | 0.3477979 | 0.3696172 | 1.0000000 | 0.4629375 | 0.5391675 | \n",
       "| Microsoft.Return | 0.3727310 | 0.5602641 | 0.4629375 | 1.0000000 | 0.5816254 | \n",
       "| SP.500.Return | 0.4134858 | 0.4931103 | 0.5391675 | 0.5816254 | 1.0000000 | \n",
       "\n",
       "\n"
      ],
      "text/plain": [
       "                 Apple.Return Dell.Return IBM.Return Microsoft.Return\n",
       "Apple.Return     1.0000000    0.4889076   0.3477979  0.3727310       \n",
       "Dell.Return      0.4889076    1.0000000   0.3696172  0.5602641       \n",
       "IBM.Return       0.3477979    0.3696172   1.0000000  0.4629375       \n",
       "Microsoft.Return 0.3727310    0.5602641   0.4629375  1.0000000       \n",
       "SP.500.Return    0.4134858    0.4931103   0.5391675  0.5816254       \n",
       "                 SP.500.Return\n",
       "Apple.Return     0.4134858    \n",
       "Dell.Return      0.4931103    \n",
       "IBM.Return       0.5391675    \n",
       "Microsoft.Return 0.5816254    \n",
       "SP.500.Return    1.0000000    "
      ]
     },
     "metadata": {},
     "output_type": "display_data"
    }
   ],
   "source": [
    "cor(data[, c(2:5,7)])"
   ]
  },
  {
   "cell_type": "markdown",
   "metadata": {},
   "source": [
    "To compute the correlation between the `Apple.Return` column of values and the `SP.500.Return` column of values, we use the `cor` function.  The 2 parameters are the 2 columns, in this case `data$Apple.Return` and `data$SP.500.Return`.\n",
    "\n",
    "To compute the correlations between every pair of returns column of values, we again use the `cor` function, but provide only one parameter, the table portion comprising all 5 returns columns, in this case `data[,c(2:5,7]`.  Note, the function's behavior depends on how many parameters are provided."
   ]
  },
  {
   "cell_type": "markdown",
   "metadata": {
    "hideCode": false,
    "hidePrompt": false
   },
   "source": [
    "#### Show a table of S&P 500 returns followed by the tech returns, followed by the means of the 4 tech returns."
   ]
  },
  {
   "cell_type": "code",
   "execution_count": 21,
   "metadata": {},
   "outputs": [
    {
     "data": {
      "text/html": [
       "0.0125546949042146"
      ],
      "text/latex": [
       "0.0125546949042146"
      ],
      "text/markdown": [
       "0.0125546949042146"
      ],
      "text/plain": [
       "[1] 0.01255469"
      ]
     },
     "metadata": {},
     "output_type": "display_data"
    }
   ],
   "source": [
    "mean(data[,4])"
   ]
  },
  {
   "cell_type": "code",
   "execution_count": 18,
   "metadata": {
    "hideCode": false,
    "hidePrompt": false,
    "scrolled": false
   },
   "outputs": [
    {
     "data": {
      "text/html": [
       "<table>\n",
       "<thead><tr><th scope=col>SP.500.Return</th><th scope=col>Apple.Return</th><th scope=col>Dell.Return</th><th scope=col>IBM.Return</th><th scope=col>Microsoft.Return</th><th scope=col>Mean.Tech.Return</th></tr></thead>\n",
       "<tbody>\n",
       "\t<tr><td>-0.068817  </td><td>-0.035461  </td><td>-0.1590909 </td><td> 0.04780877</td><td>0.06321839 </td><td>-0.02088119</td></tr>\n",
       "\t<tr><td> 0.008539  </td><td> 0.003235  </td><td> 0.3513514 </td><td> 0.06550063</td><td>0.06756756 </td><td> 0.12191364</td></tr>\n",
       "\t<tr><td> 0.024255  </td><td> 0.183824  </td><td> 0.2200000 </td><td> 0.02166065</td><td>0.12151898 </td><td> 0.13675091</td></tr>\n",
       "\t<tr><td>-0.026887  </td><td>-0.021739  </td><td> 0.1147541 </td><td> 0.02709069</td><td>0.04740406 </td><td> 0.04187746</td></tr>\n",
       "\t<tr><td> 0.091989  </td><td> 0.050413  </td><td> 0.2941177 </td><td> 0.11201835</td><td>0.25862068 </td><td> 0.17879242</td></tr>\n",
       "\t<tr><td>-0.008886  </td><td> 0.084848  </td><td> 0.1477273 </td><td>-0.02083330</td><td>0.04109589 </td><td> 0.06320947</td></tr>\n",
       "</tbody>\n",
       "</table>\n"
      ],
      "text/latex": [
       "\\begin{tabular}{r|llllll}\n",
       " SP.500.Return & Apple.Return & Dell.Return & IBM.Return & Microsoft.Return & Mean.Tech.Return\\\\\n",
       "\\hline\n",
       "\t -0.068817   & -0.035461   & -0.1590909  &  0.04780877 & 0.06321839  & -0.02088119\\\\\n",
       "\t  0.008539   &  0.003235   &  0.3513514  &  0.06550063 & 0.06756756  &  0.12191364\\\\\n",
       "\t  0.024255   &  0.183824   &  0.2200000  &  0.02166065 & 0.12151898  &  0.13675091\\\\\n",
       "\t -0.026887   & -0.021739   &  0.1147541  &  0.02709069 & 0.04740406  &  0.04187746\\\\\n",
       "\t  0.091989   &  0.050413   &  0.2941177  &  0.11201835 & 0.25862068  &  0.17879242\\\\\n",
       "\t -0.008886   &  0.084848   &  0.1477273  & -0.02083330 & 0.04109589  &  0.06320947\\\\\n",
       "\\end{tabular}\n"
      ],
      "text/markdown": [
       "\n",
       "SP.500.Return | Apple.Return | Dell.Return | IBM.Return | Microsoft.Return | Mean.Tech.Return | \n",
       "|---|---|---|---|---|---|\n",
       "| -0.068817   | -0.035461   | -0.1590909  |  0.04780877 | 0.06321839  | -0.02088119 | \n",
       "|  0.008539   |  0.003235   |  0.3513514  |  0.06550063 | 0.06756756  |  0.12191364 | \n",
       "|  0.024255   |  0.183824   |  0.2200000  |  0.02166065 | 0.12151898  |  0.13675091 | \n",
       "| -0.026887   | -0.021739   |  0.1147541  |  0.02709069 | 0.04740406  |  0.04187746 | \n",
       "|  0.091989   |  0.050413   |  0.2941177  |  0.11201835 | 0.25862068  |  0.17879242 | \n",
       "| -0.008886   |  0.084848   |  0.1477273  | -0.02083330 | 0.04109589  |  0.06320947 | \n",
       "\n",
       "\n"
      ],
      "text/plain": [
       "  SP.500.Return Apple.Return Dell.Return IBM.Return  Microsoft.Return\n",
       "1 -0.068817     -0.035461    -0.1590909   0.04780877 0.06321839      \n",
       "2  0.008539      0.003235     0.3513514   0.06550063 0.06756756      \n",
       "3  0.024255      0.183824     0.2200000   0.02166065 0.12151898      \n",
       "4 -0.026887     -0.021739     0.1147541   0.02709069 0.04740406      \n",
       "5  0.091989      0.050413     0.2941177   0.11201835 0.25862068      \n",
       "6 -0.008886      0.084848     0.1477273  -0.02083330 0.04109589      \n",
       "  Mean.Tech.Return\n",
       "1 -0.02088119     \n",
       "2  0.12191364     \n",
       "3  0.13675091     \n",
       "4  0.04187746     \n",
       "5  0.17879242     \n",
       "6  0.06320947     "
      ]
     },
     "metadata": {},
     "output_type": "display_data"
    },
    {
     "data": {
      "text/html": [
       "<table>\n",
       "<thead><tr><th></th><th scope=col>SP.500.Return</th><th scope=col>Apple.Return</th><th scope=col>Dell.Return</th><th scope=col>IBM.Return</th><th scope=col>Microsoft.Return</th><th scope=col>Mean.Tech.Return</th></tr></thead>\n",
       "<tbody>\n",
       "\t<tr><th scope=row>256</th><td> 0.028495  </td><td> 0.004656  </td><td> 0.066161  </td><td> 0.046054  </td><td> 0.020874  </td><td> 0.03443625</td></tr>\n",
       "\t<tr><th scope=row>257</th><td>-0.013501  </td><td>-0.006569  </td><td> 0.039431  </td><td>-0.005276  </td><td>-0.028935  </td><td>-0.00033725</td></tr>\n",
       "\t<tr><th scope=row>258</th><td>-0.018258  </td><td>-0.034960  </td><td> 0.036692  </td><td> 0.015509  </td><td> 0.039584  </td><td> 0.01420625</td></tr>\n",
       "\t<tr><th scope=row>259</th><td>-0.021474  </td><td> 0.163285  </td><td>-0.025795  </td><td> 0.060041  </td><td> 0.053846  </td><td> 0.06284425</td></tr>\n",
       "\t<tr><th scope=row>260</th><td>-0.056791  </td><td>-0.014469  </td><td>-0.084667  </td><td>-0.050536  </td><td>-0.023358  </td><td>-0.04325750</td></tr>\n",
       "\t<tr><th scope=row>261</th><td>-0.071762  </td><td>-0.009121  </td><td>-0.048772  </td><td> 0.017218  </td><td>-0.064286  </td><td>-0.02624025</td></tr>\n",
       "</tbody>\n",
       "</table>\n"
      ],
      "text/latex": [
       "\\begin{tabular}{r|llllll}\n",
       "  & SP.500.Return & Apple.Return & Dell.Return & IBM.Return & Microsoft.Return & Mean.Tech.Return\\\\\n",
       "\\hline\n",
       "\t256 &  0.028495   &  0.004656   &  0.066161   &  0.046054   &  0.020874   &  0.03443625\\\\\n",
       "\t257 & -0.013501   & -0.006569   &  0.039431   & -0.005276   & -0.028935   & -0.00033725\\\\\n",
       "\t258 & -0.018258   & -0.034960   &  0.036692   &  0.015509   &  0.039584   &  0.01420625\\\\\n",
       "\t259 & -0.021474   &  0.163285   & -0.025795   &  0.060041   &  0.053846   &  0.06284425\\\\\n",
       "\t260 & -0.056791   & -0.014469   & -0.084667   & -0.050536   & -0.023358   & -0.04325750\\\\\n",
       "\t261 & -0.071762   & -0.009121   & -0.048772   &  0.017218   & -0.064286   & -0.02624025\\\\\n",
       "\\end{tabular}\n"
      ],
      "text/markdown": [
       "\n",
       "| <!--/--> | SP.500.Return | Apple.Return | Dell.Return | IBM.Return | Microsoft.Return | Mean.Tech.Return | \n",
       "|---|---|---|---|---|---|\n",
       "| 256 |  0.028495   |  0.004656   |  0.066161   |  0.046054   |  0.020874   |  0.03443625 | \n",
       "| 257 | -0.013501   | -0.006569   |  0.039431   | -0.005276   | -0.028935   | -0.00033725 | \n",
       "| 258 | -0.018258   | -0.034960   |  0.036692   |  0.015509   |  0.039584   |  0.01420625 | \n",
       "| 259 | -0.021474   |  0.163285   | -0.025795   |  0.060041   |  0.053846   |  0.06284425 | \n",
       "| 260 | -0.056791   | -0.014469   | -0.084667   | -0.050536   | -0.023358   | -0.04325750 | \n",
       "| 261 | -0.071762   | -0.009121   | -0.048772   |  0.017218   | -0.064286   | -0.02624025 | \n",
       "\n",
       "\n"
      ],
      "text/plain": [
       "    SP.500.Return Apple.Return Dell.Return IBM.Return Microsoft.Return\n",
       "256  0.028495      0.004656     0.066161    0.046054   0.020874       \n",
       "257 -0.013501     -0.006569     0.039431   -0.005276  -0.028935       \n",
       "258 -0.018258     -0.034960     0.036692    0.015509   0.039584       \n",
       "259 -0.021474      0.163285    -0.025795    0.060041   0.053846       \n",
       "260 -0.056791     -0.014469    -0.084667   -0.050536  -0.023358       \n",
       "261 -0.071762     -0.009121    -0.048772    0.017218  -0.064286       \n",
       "    Mean.Tech.Return\n",
       "256  0.03443625     \n",
       "257 -0.00033725     \n",
       "258  0.01420625     \n",
       "259  0.06284425     \n",
       "260 -0.04325750     \n",
       "261 -0.02624025     "
      ]
     },
     "metadata": {},
     "output_type": "display_data"
    }
   ],
   "source": [
    "data.present = data[,c(7, 2:5)]\n",
    "data.present$Mean.Tech.Return = rowMeans(data[,2:5])\n",
    "head(data.present)\n",
    "tail(data.present)"
   ]
  },
  {
   "cell_type": "markdown",
   "metadata": {},
   "source": [
    "To inspect the returns columns of `data`, with the columns sorted to present `SP.500.Return` first, we reference the column indices we want in the order we want, in this case `data[,c(7, 2:5)]`.  We assign the resulting table the new name `data.present`.  Note the 1st column of `data.present` matches the 7th column of `data`, the 2nd column of `data.present` matches the 2nd column of `data`, etc.  Taken all together, it looks like this:<br>\n",
    "`data.present = data[,c(7, 2:5)]`\n",
    "\n",
    "To add a new column `Mean.Tech.Return` to `data.present`, we assign a vector of mean tech return values to that column - the column will be created automatically.  \n",
    "\n",
    "To get the vector of mean tech return values, we compute the mean tech return value for each row, stepping through rows one at a time, and then combine all the resulting values together.  We use the `aaply` function to step through the rows.  The 1st parameter is the row indices, in this case 1 through the last row index.  (We use the `nrow` function to find the last row index; its parameter is the table, in this case `data`.)  The 2nd parameter for our purposes is typically 1.  The 3rd parameter is a function definition.  It says how to compute the mean tech return value for the $i^{th}$ row, in this case it says to compute the value as `mean(as.numeric(data[i,2:5]))`.  See that `data[i,2:5]` references the $i^{th}$ row of values in the tech return columns 2, 3, 4, and 5.  We use the `as.numeric` function to force these values to all be numeric (since in general different columns could have different types of values), and then use the `mean` function to calculate the mean of these 4 numeric values.\n",
    "\n",
    "To confirm that the new table has been constructed properly, we use the `head` and `tail` functions to inspect the first few and last few rows of data."
   ]
  },
  {
   "cell_type": "markdown",
   "metadata": {},
   "source": [
    "$\\tiny \\text{Copyright (c) Berkeley Data Analytics Group, LLC}$"
   ]
  }
 ],
 "metadata": {
  "hide_code_all_hidden": false,
  "hide_input": false,
  "kernelspec": {
   "display_name": "R",
   "language": "R",
   "name": "ir"
  },
  "language_info": {
   "codemirror_mode": "r",
   "file_extension": ".r",
   "mimetype": "text/x-r-source",
   "name": "R",
   "pygments_lexer": "r",
   "version": "3.6.1"
  },
  "toc": {
   "base_numbering": 1,
   "nav_menu": {},
   "number_sections": false,
   "sideBar": true,
   "skip_h1_title": true,
   "title_cell": "Table of Contents",
   "title_sidebar": "Contents",
   "toc_cell": false,
   "toc_position": {},
   "toc_section_display": true,
   "toc_window_display": true
  }
 },
 "nbformat": 4,
 "nbformat_minor": 2
}
