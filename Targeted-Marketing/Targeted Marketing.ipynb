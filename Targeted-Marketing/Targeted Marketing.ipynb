{
 "cells": [
  {
   "cell_type": "markdown",
   "metadata": {
    "hideCode": false,
    "hidePrompt": false
   },
   "source": [
    "# Targeted Marketing\n",
    "\n",
    "##  <font color='#4267B2'> Connectivity and Networks: Social Network Analysis <font>\n",
    "### Lilit Petrosyan\n",
    "---\n",
    "![](marketing.png)\n"
   ]
  },
  {
   "cell_type": "code",
   "execution_count": 1,
   "metadata": {
    "hide_input": true,
    "scrolled": true
   },
   "outputs": [
    {
     "data": {
      "text/html": [
       "<p style=\"text-align:center; font-size:10px;\">\n",
       ".................................................... document start ....................................................\n",
       "</p>"
      ]
     },
     "metadata": {},
     "output_type": "display_data"
    }
   ],
   "source": [
    "f = \"setup.R\"; for (i in 1:10) { if (file.exists(f)) break else f = paste0(\"../\", f) }; source(f)"
   ]
  },
  {
   "cell_type": "markdown",
   "metadata": {},
   "source": [
    "## Situation\n"
   ]
  },
  {
   "cell_type": "markdown",
   "metadata": {},
   "source": [
    "## Business Model"
   ]
  },
  {
   "cell_type": "code",
   "execution_count": 2,
   "metadata": {
    "hide_input": true
   },
   "outputs": [
    {
     "data": {
      "text/html": [
       "<table>\n",
       "<caption><center><font color=\"black\"><b>business parameters</b></font></center></caption>\n",
       " <thead>\n",
       "  <tr>\n",
       "   <th style=\"text-align:right;\"> initial_interest </th>\n",
       "   <th style=\"text-align:right;\"> referal_weight </th>\n",
       "   <th style=\"text-align:right;\"> budget </th>\n",
       "   <th style=\"text-align:right;\"> spend_impact_rate </th>\n",
       "   <th style=\"text-align:right;\"> spend_impact_offset </th>\n",
       "  </tr>\n",
       " </thead>\n",
       "<tbody>\n",
       "  <tr>\n",
       "   <td style=\"text-align:right;\"> 0.01 </td>\n",
       "   <td style=\"text-align:right;\"> 0.1 </td>\n",
       "   <td style=\"text-align:right;\"> 200000 </td>\n",
       "   <td style=\"text-align:right;\"> 0.000009 </td>\n",
       "   <td style=\"text-align:right;\"> -0.08 </td>\n",
       "  </tr>\n",
       "</tbody>\n",
       "</table>"
      ]
     },
     "metadata": {},
     "output_type": "display_data"
    }
   ],
   "source": [
    "initial_interest = 0.01\n",
    "referal_weight = 0.10\n",
    "budget = 200000\n",
    "spend_impact_rate = 0.000009\n",
    "spend_impact_offset = -0.08\n",
    "\n",
    "data.frame(initial_interest, referal_weight, budget, spend_impact_rate, spend_impact_offset) %>% caption(\"business parameters\")"
   ]
  },
  {
   "cell_type": "markdown",
   "metadata": {},
   "source": [
    "## Data "
   ]
  },
  {
   "cell_type": "code",
   "execution_count": 3,
   "metadata": {
    "hide_input": true,
    "scrolled": false
   },
   "outputs": [
    {
     "data": {
      "text/html": [
       "<table><tr><td style=\"background-color:white; vertical-align:top; padding-right:40px;\"><table>\n",
       "<caption><center><font color=\"black\"><b>nodes</b></font></center></caption>\n",
       " <thead>\n",
       "  <tr>\n",
       "   <th style=\"text-align:right;\"> name </th>\n",
       "   <th style=\"text-align:right;\"> product </th>\n",
       "  </tr>\n",
       " </thead>\n",
       "<tbody>\n",
       "  <tr>\n",
       "   <td style=\"text-align:right;\"> Melvin Ashe </td>\n",
       "   <td style=\"text-align:right;\"> A </td>\n",
       "  </tr>\n",
       "  <tr>\n",
       "   <td style=\"text-align:right;\"> Winston Allen </td>\n",
       "   <td style=\"text-align:right;\"> A </td>\n",
       "  </tr>\n",
       "  <tr>\n",
       "   <td style=\"text-align:right;\"> Walter Alex </td>\n",
       "   <td style=\"text-align:right;\"> A </td>\n",
       "  </tr>\n",
       "  <tr>\n",
       "   <td style=\"text-align:right;\"> Sam Sutter </td>\n",
       "   <td style=\"text-align:right;\"> A </td>\n",
       "  </tr>\n",
       "  <tr>\n",
       "   <td style=\"text-align:right;\"> Andrew O'Reilly </td>\n",
       "   <td style=\"text-align:right;\"> A </td>\n",
       "  </tr>\n",
       "  <tr>\n",
       "   <td style=\"text-align:right;\"> Kevin Miller </td>\n",
       "   <td style=\"text-align:right;\"> B </td>\n",
       "  </tr>\n",
       "  <tr>\n",
       "   <td style=\"text-align:right;\"> Mary Miller </td>\n",
       "   <td style=\"text-align:right;\"> B </td>\n",
       "  </tr>\n",
       "  <tr>\n",
       "   <td style=\"text-align:right;\"> Sam Albright </td>\n",
       "   <td style=\"text-align:right;\"> B </td>\n",
       "  </tr>\n",
       "  <tr>\n",
       "   <td style=\"text-align:right;\"> Nancy Albright </td>\n",
       "   <td style=\"text-align:right;\"> B </td>\n",
       "  </tr>\n",
       "  <tr>\n",
       "   <td style=\"text-align:right;\"> Hank Hanover </td>\n",
       "   <td style=\"text-align:right;\"> B </td>\n",
       "  </tr>\n",
       "  <tr>\n",
       "   <td style=\"text-align:right;\"> Mark Shelley </td>\n",
       "   <td style=\"text-align:right;\"> C </td>\n",
       "  </tr>\n",
       "  <tr>\n",
       "   <td style=\"text-align:right;\"> Francis Aguilar </td>\n",
       "   <td style=\"text-align:right;\"> C </td>\n",
       "  </tr>\n",
       "  <tr>\n",
       "   <td style=\"text-align:right;\"> Angela Atkins </td>\n",
       "   <td style=\"text-align:right;\"> C </td>\n",
       "  </tr>\n",
       "  <tr>\n",
       "   <td style=\"text-align:right;\"> Homer Atkins </td>\n",
       "   <td style=\"text-align:right;\"> C </td>\n",
       "  </tr>\n",
       "  <tr>\n",
       "   <td style=\"text-align:right;\"> Michelle Allen </td>\n",
       "   <td style=\"text-align:right;\"> C </td>\n",
       "  </tr>\n",
       "  <tr>\n",
       "   <td style=\"text-align:right;\"> Zeb Jordan </td>\n",
       "   <td style=\"text-align:right;\"> D </td>\n",
       "  </tr>\n",
       "  <tr>\n",
       "   <td style=\"text-align:right;\"> Arthur Ah </td>\n",
       "   <td style=\"text-align:right;\"> D </td>\n",
       "  </tr>\n",
       "  <tr>\n",
       "   <td style=\"text-align:right;\"> Arthur Abbot </td>\n",
       "   <td style=\"text-align:right;\"> D </td>\n",
       "  </tr>\n",
       "  <tr>\n",
       "   <td style=\"text-align:right;\"> Sarah Atkins </td>\n",
       "   <td style=\"text-align:right;\"> D </td>\n",
       "  </tr>\n",
       "</tbody>\n",
       "</table></td><td style=\"background-color:white; vertical-align:top;\"><table>\n",
       "<caption><center><font color=\"black\"><b>links</b></font></center></caption>\n",
       " <thead>\n",
       "  <tr>\n",
       "   <th style=\"text-align:right;\"> person_1 </th>\n",
       "   <th style=\"text-align:right;\"> person_2 </th>\n",
       "  </tr>\n",
       " </thead>\n",
       "<tbody>\n",
       "  <tr>\n",
       "   <td style=\"text-align:right;\"> Mary Miller </td>\n",
       "   <td style=\"text-align:right;\"> Hank Hanover </td>\n",
       "  </tr>\n",
       "  <tr>\n",
       "   <td style=\"text-align:right;\"> Hank Hanover </td>\n",
       "   <td style=\"text-align:right;\"> Kevin Miller </td>\n",
       "  </tr>\n",
       "  <tr>\n",
       "   <td style=\"text-align:right;\"> Hank Hanover </td>\n",
       "   <td style=\"text-align:right;\"> Nancy Albright </td>\n",
       "  </tr>\n",
       "  <tr>\n",
       "   <td style=\"text-align:right;\"> Nancy Albright </td>\n",
       "   <td style=\"text-align:right;\"> Kevin Miller </td>\n",
       "  </tr>\n",
       "  <tr>\n",
       "   <td style=\"text-align:right;\"> Nancy Albright </td>\n",
       "   <td style=\"text-align:right;\"> Sam Albright </td>\n",
       "  </tr>\n",
       "  <tr>\n",
       "   <td style=\"text-align:right;\"> Nancy Albright </td>\n",
       "   <td style=\"text-align:right;\"> Arthur Abbot </td>\n",
       "  </tr>\n",
       "  <tr>\n",
       "   <td style=\"text-align:right;\"> Nancy Albright </td>\n",
       "   <td style=\"text-align:right;\"> Sarah Atkins </td>\n",
       "  </tr>\n",
       "  <tr>\n",
       "   <td style=\"text-align:right;\"> Nancy Albright </td>\n",
       "   <td style=\"text-align:right;\"> Homer Atkins </td>\n",
       "  </tr>\n",
       "  <tr>\n",
       "   <td style=\"text-align:right;\"> Arthur Abbot </td>\n",
       "   <td style=\"text-align:right;\"> Sarah Atkins </td>\n",
       "  </tr>\n",
       "  <tr>\n",
       "   <td style=\"text-align:right;\"> Homer Atkins </td>\n",
       "   <td style=\"text-align:right;\"> Angela Atkins </td>\n",
       "  </tr>\n",
       "  <tr>\n",
       "   <td style=\"text-align:right;\"> Sarah Atkins </td>\n",
       "   <td style=\"text-align:right;\"> Homer Atkins </td>\n",
       "  </tr>\n",
       "  <tr>\n",
       "   <td style=\"text-align:right;\"> Homer Atkins </td>\n",
       "   <td style=\"text-align:right;\"> Arthur Ah </td>\n",
       "  </tr>\n",
       "  <tr>\n",
       "   <td style=\"text-align:right;\"> Arthur Ah </td>\n",
       "   <td style=\"text-align:right;\"> Sarah Atkins </td>\n",
       "  </tr>\n",
       "  <tr>\n",
       "   <td style=\"text-align:right;\"> Homer Atkins </td>\n",
       "   <td style=\"text-align:right;\"> Michelle Allen </td>\n",
       "  </tr>\n",
       "  <tr>\n",
       "   <td style=\"text-align:right;\"> Michelle Allen </td>\n",
       "   <td style=\"text-align:right;\"> Francis Aguilar </td>\n",
       "  </tr>\n",
       "  <tr>\n",
       "   <td style=\"text-align:right;\"> Arthur Ah </td>\n",
       "   <td style=\"text-align:right;\"> Zeb Jordan </td>\n",
       "  </tr>\n",
       "  <tr>\n",
       "   <td style=\"text-align:right;\"> Francis Aguilar </td>\n",
       "   <td style=\"text-align:right;\"> Mark Shelley </td>\n",
       "  </tr>\n",
       "  <tr>\n",
       "   <td style=\"text-align:right;\"> Zeb Jordan </td>\n",
       "   <td style=\"text-align:right;\"> Mark Shelley </td>\n",
       "  </tr>\n",
       "  <tr>\n",
       "   <td style=\"text-align:right;\"> Zeb Jordan </td>\n",
       "   <td style=\"text-align:right;\"> Melvin Ashe </td>\n",
       "  </tr>\n",
       "  <tr>\n",
       "   <td style=\"text-align:right;\"> Mark Shelley </td>\n",
       "   <td style=\"text-align:right;\"> Melvin Ashe </td>\n",
       "  </tr>\n",
       "  <tr>\n",
       "   <td style=\"text-align:right;\"> Mark Shelley </td>\n",
       "   <td style=\"text-align:right;\"> Andrew O'Reilly </td>\n",
       "  </tr>\n",
       "  <tr>\n",
       "   <td style=\"text-align:right;\"> Andrew O'Reilly </td>\n",
       "   <td style=\"text-align:right;\"> Melvin Ashe </td>\n",
       "  </tr>\n",
       "  <tr>\n",
       "   <td style=\"text-align:right;\"> Andrew O'Reilly </td>\n",
       "   <td style=\"text-align:right;\"> Winston Allen </td>\n",
       "  </tr>\n",
       "  <tr>\n",
       "   <td style=\"text-align:right;\"> Winston Allen </td>\n",
       "   <td style=\"text-align:right;\"> Sam Sutter </td>\n",
       "  </tr>\n",
       "  <tr>\n",
       "   <td style=\"text-align:right;\"> Winston Allen </td>\n",
       "   <td style=\"text-align:right;\"> Walter Alex </td>\n",
       "  </tr>\n",
       "  <tr>\n",
       "   <td style=\"text-align:right;\"> Sam Sutter </td>\n",
       "   <td style=\"text-align:right;\"> Walter Alex </td>\n",
       "  </tr>\n",
       "  <tr>\n",
       "   <td style=\"text-align:right;\"> Sam Albright </td>\n",
       "   <td style=\"text-align:right;\"> Mark Shelley </td>\n",
       "  </tr>\n",
       "  <tr>\n",
       "   <td style=\"text-align:right;\"> Sam Albright </td>\n",
       "   <td style=\"text-align:right;\"> Zeb Jordan </td>\n",
       "  </tr>\n",
       "  <tr>\n",
       "   <td style=\"text-align:right;\"> Nancy Albright </td>\n",
       "   <td style=\"text-align:right;\"> Melvin Ashe </td>\n",
       "  </tr>\n",
       "  <tr>\n",
       "   <td style=\"text-align:right;\"> Zeb Jordan </td>\n",
       "   <td style=\"text-align:right;\"> Hank Hanover </td>\n",
       "  </tr>\n",
       "  <tr>\n",
       "   <td style=\"text-align:right;\"> Mark Shelley </td>\n",
       "   <td style=\"text-align:right;\"> Hank Hanover </td>\n",
       "  </tr>\n",
       "  <tr>\n",
       "   <td style=\"text-align:right;\"> Melvin Ashe </td>\n",
       "   <td style=\"text-align:right;\"> Hank Hanover </td>\n",
       "  </tr>\n",
       "</tbody>\n",
       "</table></td></tr></table>"
      ]
     },
     "metadata": {},
     "output_type": "display_data"
    }
   ],
   "source": [
    "data.nodes = read.csv(\"nodes.csv\")\n",
    "data.links = read.csv(\"links.csv\")\n",
    "\n",
    "real_name = data.nodes[, 2]\n",
    "data.nodes = data.nodes[, c(1,3)]\n",
    "\n",
    "row.arrange(data.nodes %>% captionx(\"nodes\"), data.links %>% captionx(\"links\"))  "
   ]
  },
  {
   "cell_type": "markdown",
   "metadata": {},
   "source": [
    "## Network Diagram"
   ]
  },
  {
   "cell_type": "code",
   "execution_count": 4,
   "metadata": {
    "hide_input": true,
    "scrolled": false
   },
   "outputs": [
    {
     "data": {
      "image/png": "[encoded data removed]",
      "text/plain": [
       "Plot with title \"\""
      ]
     },
     "metadata": {},
     "output_type": "display_data"
    }
   ],
   "source": [
    "g = graph_from_data_frame(data.links, directed=FALSE, vertices=data.nodes)\n",
    "set.seed(00021)\n",
    "mylayout = layout_with_gem(g)\n",
    "\n",
    "output_size(9,7)\n",
    "set.seed(00021)\n",
    "plot(g, layout=mylayout, \n",
    "     vertex.color=data.nodes$product, palette=lighten(PALETTE, amount=0.2),\n",
    "     asp=0)\n",
    "output_size(restore)"
   ]
  },
  {
   "cell_type": "markdown",
   "metadata": {},
   "source": [
    "## Descriptive Statistics"
   ]
  },
  {
   "cell_type": "markdown",
   "metadata": {},
   "source": [
    "### Network-Level Statistics"
   ]
  },
  {
   "cell_type": "code",
   "execution_count": 5,
   "metadata": {
    "hide_input": true
   },
   "outputs": [
    {
     "data": {
      "text/html": [
       "<table>\n",
       "<caption><center><font color=\"black\"><b>network-level statistics</b></font></center></caption>\n",
       " <thead>\n",
       "  <tr>\n",
       "   <th style=\"text-align:right;\"> size </th>\n",
       "   <th style=\"text-align:right;\"> order </th>\n",
       "   <th style=\"text-align:right;\"> diameter </th>\n",
       "   <th style=\"text-align:right;\"> average_path_length </th>\n",
       "   <th style=\"text-align:right;\"> density </th>\n",
       "   <th style=\"text-align:right;\"> giant </th>\n",
       "  </tr>\n",
       " </thead>\n",
       "<tbody>\n",
       "  <tr>\n",
       "   <td style=\"text-align:right;\"> 32 </td>\n",
       "   <td style=\"text-align:right;\"> 19 </td>\n",
       "   <td style=\"text-align:right;\"> 6 </td>\n",
       "   <td style=\"text-align:right;\"> 2.637427 </td>\n",
       "   <td style=\"text-align:right;\"> 0.1871345 </td>\n",
       "   <td style=\"text-align:right;\"> 19 </td>\n",
       "  </tr>\n",
       "</tbody>\n",
       "</table>"
      ]
     },
     "metadata": {},
     "output_type": "display_data"
    }
   ],
   "source": [
    "data.frame(size=ecount(g),\n",
    "           order=vcount(g),\n",
    "           diameter=diameter(g),\n",
    "           average_path_length=mean_distance(g),\n",
    "           density=edge_density(g),\n",
    "           giant=max(components(g, \"strong\")$csize)) %>% caption(\"network-level statistics\", row.names=FALSE)"
   ]
  },
  {
   "cell_type": "markdown",
   "metadata": {},
   "source": [
    "### Node-Level Statistics"
   ]
  },
  {
   "cell_type": "code",
   "execution_count": 6,
   "metadata": {
    "hide_input": true
   },
   "outputs": [
    {
     "data": {
      "text/html": [
       "<table>\n",
       "<caption><center><font color=\"black\"><b>Shortest Path Length</b></font></center></caption>\n",
       " <thead>\n",
       "  <tr>\n",
       "   <th style=\"text-align:left;\">   </th>\n",
       "   <th style=\"text-align:right;\"> Melvin Ashe </th>\n",
       "   <th style=\"text-align:right;\"> Winston Allen </th>\n",
       "   <th style=\"text-align:right;\"> Walter Alex </th>\n",
       "   <th style=\"text-align:right;\"> Sam Sutter </th>\n",
       "   <th style=\"text-align:right;\"> Andrew O'Reilly </th>\n",
       "   <th style=\"text-align:right;\"> Kevin Miller </th>\n",
       "   <th style=\"text-align:right;\"> Mary Miller </th>\n",
       "   <th style=\"text-align:right;\"> Sam Albright </th>\n",
       "   <th style=\"text-align:right;\"> Nancy Albright </th>\n",
       "   <th style=\"text-align:right;\"> Hank Hanover </th>\n",
       "   <th style=\"text-align:right;\"> Mark Shelley </th>\n",
       "   <th style=\"text-align:right;\"> Francis Aguilar </th>\n",
       "   <th style=\"text-align:right;\"> Angela Atkins </th>\n",
       "   <th style=\"text-align:right;\"> Homer Atkins </th>\n",
       "   <th style=\"text-align:right;\"> Michelle Allen </th>\n",
       "   <th style=\"text-align:right;\"> Zeb Jordan </th>\n",
       "   <th style=\"text-align:right;\"> Arthur Ah </th>\n",
       "   <th style=\"text-align:right;\"> Arthur Abbot </th>\n",
       "   <th style=\"text-align:right;\"> Sarah Atkins </th>\n",
       "  </tr>\n",
       " </thead>\n",
       "<tbody>\n",
       "  <tr>\n",
       "   <td style=\"text-align:left;\"> Melvin Ashe </td>\n",
       "   <td style=\"text-align:right;\"> 0 </td>\n",
       "   <td style=\"text-align:right;\"> 2 </td>\n",
       "   <td style=\"text-align:right;\"> 3 </td>\n",
       "   <td style=\"text-align:right;\"> 3 </td>\n",
       "   <td style=\"text-align:right;\"> 1 </td>\n",
       "   <td style=\"text-align:right;\"> 2 </td>\n",
       "   <td style=\"text-align:right;\"> 2 </td>\n",
       "   <td style=\"text-align:right;\"> 2 </td>\n",
       "   <td style=\"text-align:right;\"> 1 </td>\n",
       "   <td style=\"text-align:right;\"> 1 </td>\n",
       "   <td style=\"text-align:right;\"> 1 </td>\n",
       "   <td style=\"text-align:right;\"> 2 </td>\n",
       "   <td style=\"text-align:right;\"> 3 </td>\n",
       "   <td style=\"text-align:right;\"> 2 </td>\n",
       "   <td style=\"text-align:right;\"> 3 </td>\n",
       "   <td style=\"text-align:right;\"> 1 </td>\n",
       "   <td style=\"text-align:right;\"> 2 </td>\n",
       "   <td style=\"text-align:right;\"> 2 </td>\n",
       "   <td style=\"text-align:right;\"> 2 </td>\n",
       "  </tr>\n",
       "  <tr>\n",
       "   <td style=\"text-align:left;\"> Winston Allen </td>\n",
       "   <td style=\"text-align:right;\"> 2 </td>\n",
       "   <td style=\"text-align:right;\"> 0 </td>\n",
       "   <td style=\"text-align:right;\"> 1 </td>\n",
       "   <td style=\"text-align:right;\"> 1 </td>\n",
       "   <td style=\"text-align:right;\"> 1 </td>\n",
       "   <td style=\"text-align:right;\"> 4 </td>\n",
       "   <td style=\"text-align:right;\"> 4 </td>\n",
       "   <td style=\"text-align:right;\"> 3 </td>\n",
       "   <td style=\"text-align:right;\"> 3 </td>\n",
       "   <td style=\"text-align:right;\"> 3 </td>\n",
       "   <td style=\"text-align:right;\"> 2 </td>\n",
       "   <td style=\"text-align:right;\"> 3 </td>\n",
       "   <td style=\"text-align:right;\"> 5 </td>\n",
       "   <td style=\"text-align:right;\"> 4 </td>\n",
       "   <td style=\"text-align:right;\"> 4 </td>\n",
       "   <td style=\"text-align:right;\"> 3 </td>\n",
       "   <td style=\"text-align:right;\"> 4 </td>\n",
       "   <td style=\"text-align:right;\"> 4 </td>\n",
       "   <td style=\"text-align:right;\"> 4 </td>\n",
       "  </tr>\n",
       "  <tr>\n",
       "   <td style=\"text-align:left;\"> Walter Alex </td>\n",
       "   <td style=\"text-align:right;\"> 3 </td>\n",
       "   <td style=\"text-align:right;\"> 1 </td>\n",
       "   <td style=\"text-align:right;\"> 0 </td>\n",
       "   <td style=\"text-align:right;\"> 1 </td>\n",
       "   <td style=\"text-align:right;\"> 2 </td>\n",
       "   <td style=\"text-align:right;\"> 5 </td>\n",
       "   <td style=\"text-align:right;\"> 5 </td>\n",
       "   <td style=\"text-align:right;\"> 4 </td>\n",
       "   <td style=\"text-align:right;\"> 4 </td>\n",
       "   <td style=\"text-align:right;\"> 4 </td>\n",
       "   <td style=\"text-align:right;\"> 3 </td>\n",
       "   <td style=\"text-align:right;\"> 4 </td>\n",
       "   <td style=\"text-align:right;\"> 6 </td>\n",
       "   <td style=\"text-align:right;\"> 5 </td>\n",
       "   <td style=\"text-align:right;\"> 5 </td>\n",
       "   <td style=\"text-align:right;\"> 4 </td>\n",
       "   <td style=\"text-align:right;\"> 5 </td>\n",
       "   <td style=\"text-align:right;\"> 5 </td>\n",
       "   <td style=\"text-align:right;\"> 5 </td>\n",
       "  </tr>\n",
       "  <tr>\n",
       "   <td style=\"text-align:left;\"> Sam Sutter </td>\n",
       "   <td style=\"text-align:right;\"> 3 </td>\n",
       "   <td style=\"text-align:right;\"> 1 </td>\n",
       "   <td style=\"text-align:right;\"> 1 </td>\n",
       "   <td style=\"text-align:right;\"> 0 </td>\n",
       "   <td style=\"text-align:right;\"> 2 </td>\n",
       "   <td style=\"text-align:right;\"> 5 </td>\n",
       "   <td style=\"text-align:right;\"> 5 </td>\n",
       "   <td style=\"text-align:right;\"> 4 </td>\n",
       "   <td style=\"text-align:right;\"> 4 </td>\n",
       "   <td style=\"text-align:right;\"> 4 </td>\n",
       "   <td style=\"text-align:right;\"> 3 </td>\n",
       "   <td style=\"text-align:right;\"> 4 </td>\n",
       "   <td style=\"text-align:right;\"> 6 </td>\n",
       "   <td style=\"text-align:right;\"> 5 </td>\n",
       "   <td style=\"text-align:right;\"> 5 </td>\n",
       "   <td style=\"text-align:right;\"> 4 </td>\n",
       "   <td style=\"text-align:right;\"> 5 </td>\n",
       "   <td style=\"text-align:right;\"> 5 </td>\n",
       "   <td style=\"text-align:right;\"> 5 </td>\n",
       "  </tr>\n",
       "  <tr>\n",
       "   <td style=\"text-align:left;\"> Andrew O'Reilly </td>\n",
       "   <td style=\"text-align:right;\"> 1 </td>\n",
       "   <td style=\"text-align:right;\"> 1 </td>\n",
       "   <td style=\"text-align:right;\"> 2 </td>\n",
       "   <td style=\"text-align:right;\"> 2 </td>\n",
       "   <td style=\"text-align:right;\"> 0 </td>\n",
       "   <td style=\"text-align:right;\"> 3 </td>\n",
       "   <td style=\"text-align:right;\"> 3 </td>\n",
       "   <td style=\"text-align:right;\"> 2 </td>\n",
       "   <td style=\"text-align:right;\"> 2 </td>\n",
       "   <td style=\"text-align:right;\"> 2 </td>\n",
       "   <td style=\"text-align:right;\"> 1 </td>\n",
       "   <td style=\"text-align:right;\"> 2 </td>\n",
       "   <td style=\"text-align:right;\"> 4 </td>\n",
       "   <td style=\"text-align:right;\"> 3 </td>\n",
       "   <td style=\"text-align:right;\"> 3 </td>\n",
       "   <td style=\"text-align:right;\"> 2 </td>\n",
       "   <td style=\"text-align:right;\"> 3 </td>\n",
       "   <td style=\"text-align:right;\"> 3 </td>\n",
       "   <td style=\"text-align:right;\"> 3 </td>\n",
       "  </tr>\n",
       "  <tr>\n",
       "   <td style=\"text-align:left;\"> Kevin Miller </td>\n",
       "   <td style=\"text-align:right;\"> 2 </td>\n",
       "   <td style=\"text-align:right;\"> 4 </td>\n",
       "   <td style=\"text-align:right;\"> 5 </td>\n",
       "   <td style=\"text-align:right;\"> 5 </td>\n",
       "   <td style=\"text-align:right;\"> 3 </td>\n",
       "   <td style=\"text-align:right;\"> 0 </td>\n",
       "   <td style=\"text-align:right;\"> 2 </td>\n",
       "   <td style=\"text-align:right;\"> 2 </td>\n",
       "   <td style=\"text-align:right;\"> 1 </td>\n",
       "   <td style=\"text-align:right;\"> 1 </td>\n",
       "   <td style=\"text-align:right;\"> 2 </td>\n",
       "   <td style=\"text-align:right;\"> 3 </td>\n",
       "   <td style=\"text-align:right;\"> 3 </td>\n",
       "   <td style=\"text-align:right;\"> 2 </td>\n",
       "   <td style=\"text-align:right;\"> 3 </td>\n",
       "   <td style=\"text-align:right;\"> 2 </td>\n",
       "   <td style=\"text-align:right;\"> 3 </td>\n",
       "   <td style=\"text-align:right;\"> 2 </td>\n",
       "   <td style=\"text-align:right;\"> 2 </td>\n",
       "  </tr>\n",
       "  <tr>\n",
       "   <td style=\"text-align:left;\"> Mary Miller </td>\n",
       "   <td style=\"text-align:right;\"> 2 </td>\n",
       "   <td style=\"text-align:right;\"> 4 </td>\n",
       "   <td style=\"text-align:right;\"> 5 </td>\n",
       "   <td style=\"text-align:right;\"> 5 </td>\n",
       "   <td style=\"text-align:right;\"> 3 </td>\n",
       "   <td style=\"text-align:right;\"> 2 </td>\n",
       "   <td style=\"text-align:right;\"> 0 </td>\n",
       "   <td style=\"text-align:right;\"> 3 </td>\n",
       "   <td style=\"text-align:right;\"> 2 </td>\n",
       "   <td style=\"text-align:right;\"> 1 </td>\n",
       "   <td style=\"text-align:right;\"> 2 </td>\n",
       "   <td style=\"text-align:right;\"> 3 </td>\n",
       "   <td style=\"text-align:right;\"> 4 </td>\n",
       "   <td style=\"text-align:right;\"> 3 </td>\n",
       "   <td style=\"text-align:right;\"> 4 </td>\n",
       "   <td style=\"text-align:right;\"> 2 </td>\n",
       "   <td style=\"text-align:right;\"> 3 </td>\n",
       "   <td style=\"text-align:right;\"> 3 </td>\n",
       "   <td style=\"text-align:right;\"> 3 </td>\n",
       "  </tr>\n",
       "  <tr>\n",
       "   <td style=\"text-align:left;\"> Sam Albright </td>\n",
       "   <td style=\"text-align:right;\"> 2 </td>\n",
       "   <td style=\"text-align:right;\"> 3 </td>\n",
       "   <td style=\"text-align:right;\"> 4 </td>\n",
       "   <td style=\"text-align:right;\"> 4 </td>\n",
       "   <td style=\"text-align:right;\"> 2 </td>\n",
       "   <td style=\"text-align:right;\"> 2 </td>\n",
       "   <td style=\"text-align:right;\"> 3 </td>\n",
       "   <td style=\"text-align:right;\"> 0 </td>\n",
       "   <td style=\"text-align:right;\"> 1 </td>\n",
       "   <td style=\"text-align:right;\"> 2 </td>\n",
       "   <td style=\"text-align:right;\"> 1 </td>\n",
       "   <td style=\"text-align:right;\"> 2 </td>\n",
       "   <td style=\"text-align:right;\"> 3 </td>\n",
       "   <td style=\"text-align:right;\"> 2 </td>\n",
       "   <td style=\"text-align:right;\"> 3 </td>\n",
       "   <td style=\"text-align:right;\"> 1 </td>\n",
       "   <td style=\"text-align:right;\"> 2 </td>\n",
       "   <td style=\"text-align:right;\"> 2 </td>\n",
       "   <td style=\"text-align:right;\"> 2 </td>\n",
       "  </tr>\n",
       "  <tr>\n",
       "   <td style=\"text-align:left;\"> Nancy Albright </td>\n",
       "   <td style=\"text-align:right;\"> 1 </td>\n",
       "   <td style=\"text-align:right;\"> 3 </td>\n",
       "   <td style=\"text-align:right;\"> 4 </td>\n",
       "   <td style=\"text-align:right;\"> 4 </td>\n",
       "   <td style=\"text-align:right;\"> 2 </td>\n",
       "   <td style=\"text-align:right;\"> 1 </td>\n",
       "   <td style=\"text-align:right;\"> 2 </td>\n",
       "   <td style=\"text-align:right;\"> 1 </td>\n",
       "   <td style=\"text-align:right;\"> 0 </td>\n",
       "   <td style=\"text-align:right;\"> 1 </td>\n",
       "   <td style=\"text-align:right;\"> 2 </td>\n",
       "   <td style=\"text-align:right;\"> 3 </td>\n",
       "   <td style=\"text-align:right;\"> 2 </td>\n",
       "   <td style=\"text-align:right;\"> 1 </td>\n",
       "   <td style=\"text-align:right;\"> 2 </td>\n",
       "   <td style=\"text-align:right;\"> 2 </td>\n",
       "   <td style=\"text-align:right;\"> 2 </td>\n",
       "   <td style=\"text-align:right;\"> 1 </td>\n",
       "   <td style=\"text-align:right;\"> 1 </td>\n",
       "  </tr>\n",
       "  <tr>\n",
       "   <td style=\"text-align:left;\"> Hank Hanover </td>\n",
       "   <td style=\"text-align:right;\"> 1 </td>\n",
       "   <td style=\"text-align:right;\"> 3 </td>\n",
       "   <td style=\"text-align:right;\"> 4 </td>\n",
       "   <td style=\"text-align:right;\"> 4 </td>\n",
       "   <td style=\"text-align:right;\"> 2 </td>\n",
       "   <td style=\"text-align:right;\"> 1 </td>\n",
       "   <td style=\"text-align:right;\"> 1 </td>\n",
       "   <td style=\"text-align:right;\"> 2 </td>\n",
       "   <td style=\"text-align:right;\"> 1 </td>\n",
       "   <td style=\"text-align:right;\"> 0 </td>\n",
       "   <td style=\"text-align:right;\"> 1 </td>\n",
       "   <td style=\"text-align:right;\"> 2 </td>\n",
       "   <td style=\"text-align:right;\"> 3 </td>\n",
       "   <td style=\"text-align:right;\"> 2 </td>\n",
       "   <td style=\"text-align:right;\"> 3 </td>\n",
       "   <td style=\"text-align:right;\"> 1 </td>\n",
       "   <td style=\"text-align:right;\"> 2 </td>\n",
       "   <td style=\"text-align:right;\"> 2 </td>\n",
       "   <td style=\"text-align:right;\"> 2 </td>\n",
       "  </tr>\n",
       "  <tr>\n",
       "   <td style=\"text-align:left;\"> Mark Shelley </td>\n",
       "   <td style=\"text-align:right;\"> 1 </td>\n",
       "   <td style=\"text-align:right;\"> 2 </td>\n",
       "   <td style=\"text-align:right;\"> 3 </td>\n",
       "   <td style=\"text-align:right;\"> 3 </td>\n",
       "   <td style=\"text-align:right;\"> 1 </td>\n",
       "   <td style=\"text-align:right;\"> 2 </td>\n",
       "   <td style=\"text-align:right;\"> 2 </td>\n",
       "   <td style=\"text-align:right;\"> 1 </td>\n",
       "   <td style=\"text-align:right;\"> 2 </td>\n",
       "   <td style=\"text-align:right;\"> 1 </td>\n",
       "   <td style=\"text-align:right;\"> 0 </td>\n",
       "   <td style=\"text-align:right;\"> 1 </td>\n",
       "   <td style=\"text-align:right;\"> 4 </td>\n",
       "   <td style=\"text-align:right;\"> 3 </td>\n",
       "   <td style=\"text-align:right;\"> 2 </td>\n",
       "   <td style=\"text-align:right;\"> 1 </td>\n",
       "   <td style=\"text-align:right;\"> 2 </td>\n",
       "   <td style=\"text-align:right;\"> 3 </td>\n",
       "   <td style=\"text-align:right;\"> 3 </td>\n",
       "  </tr>\n",
       "  <tr>\n",
       "   <td style=\"text-align:left;\"> Francis Aguilar </td>\n",
       "   <td style=\"text-align:right;\"> 2 </td>\n",
       "   <td style=\"text-align:right;\"> 3 </td>\n",
       "   <td style=\"text-align:right;\"> 4 </td>\n",
       "   <td style=\"text-align:right;\"> 4 </td>\n",
       "   <td style=\"text-align:right;\"> 2 </td>\n",
       "   <td style=\"text-align:right;\"> 3 </td>\n",
       "   <td style=\"text-align:right;\"> 3 </td>\n",
       "   <td style=\"text-align:right;\"> 2 </td>\n",
       "   <td style=\"text-align:right;\"> 3 </td>\n",
       "   <td style=\"text-align:right;\"> 2 </td>\n",
       "   <td style=\"text-align:right;\"> 1 </td>\n",
       "   <td style=\"text-align:right;\"> 0 </td>\n",
       "   <td style=\"text-align:right;\"> 3 </td>\n",
       "   <td style=\"text-align:right;\"> 2 </td>\n",
       "   <td style=\"text-align:right;\"> 1 </td>\n",
       "   <td style=\"text-align:right;\"> 2 </td>\n",
       "   <td style=\"text-align:right;\"> 3 </td>\n",
       "   <td style=\"text-align:right;\"> 4 </td>\n",
       "   <td style=\"text-align:right;\"> 3 </td>\n",
       "  </tr>\n",
       "  <tr>\n",
       "   <td style=\"text-align:left;\"> Angela Atkins </td>\n",
       "   <td style=\"text-align:right;\"> 3 </td>\n",
       "   <td style=\"text-align:right;\"> 5 </td>\n",
       "   <td style=\"text-align:right;\"> 6 </td>\n",
       "   <td style=\"text-align:right;\"> 6 </td>\n",
       "   <td style=\"text-align:right;\"> 4 </td>\n",
       "   <td style=\"text-align:right;\"> 3 </td>\n",
       "   <td style=\"text-align:right;\"> 4 </td>\n",
       "   <td style=\"text-align:right;\"> 3 </td>\n",
       "   <td style=\"text-align:right;\"> 2 </td>\n",
       "   <td style=\"text-align:right;\"> 3 </td>\n",
       "   <td style=\"text-align:right;\"> 4 </td>\n",
       "   <td style=\"text-align:right;\"> 3 </td>\n",
       "   <td style=\"text-align:right;\"> 0 </td>\n",
       "   <td style=\"text-align:right;\"> 1 </td>\n",
       "   <td style=\"text-align:right;\"> 2 </td>\n",
       "   <td style=\"text-align:right;\"> 3 </td>\n",
       "   <td style=\"text-align:right;\"> 2 </td>\n",
       "   <td style=\"text-align:right;\"> 3 </td>\n",
       "   <td style=\"text-align:right;\"> 2 </td>\n",
       "  </tr>\n",
       "  <tr>\n",
       "   <td style=\"text-align:left;\"> Homer Atkins </td>\n",
       "   <td style=\"text-align:right;\"> 2 </td>\n",
       "   <td style=\"text-align:right;\"> 4 </td>\n",
       "   <td style=\"text-align:right;\"> 5 </td>\n",
       "   <td style=\"text-align:right;\"> 5 </td>\n",
       "   <td style=\"text-align:right;\"> 3 </td>\n",
       "   <td style=\"text-align:right;\"> 2 </td>\n",
       "   <td style=\"text-align:right;\"> 3 </td>\n",
       "   <td style=\"text-align:right;\"> 2 </td>\n",
       "   <td style=\"text-align:right;\"> 1 </td>\n",
       "   <td style=\"text-align:right;\"> 2 </td>\n",
       "   <td style=\"text-align:right;\"> 3 </td>\n",
       "   <td style=\"text-align:right;\"> 2 </td>\n",
       "   <td style=\"text-align:right;\"> 1 </td>\n",
       "   <td style=\"text-align:right;\"> 0 </td>\n",
       "   <td style=\"text-align:right;\"> 1 </td>\n",
       "   <td style=\"text-align:right;\"> 2 </td>\n",
       "   <td style=\"text-align:right;\"> 1 </td>\n",
       "   <td style=\"text-align:right;\"> 2 </td>\n",
       "   <td style=\"text-align:right;\"> 1 </td>\n",
       "  </tr>\n",
       "  <tr>\n",
       "   <td style=\"text-align:left;\"> Michelle Allen </td>\n",
       "   <td style=\"text-align:right;\"> 3 </td>\n",
       "   <td style=\"text-align:right;\"> 4 </td>\n",
       "   <td style=\"text-align:right;\"> 5 </td>\n",
       "   <td style=\"text-align:right;\"> 5 </td>\n",
       "   <td style=\"text-align:right;\"> 3 </td>\n",
       "   <td style=\"text-align:right;\"> 3 </td>\n",
       "   <td style=\"text-align:right;\"> 4 </td>\n",
       "   <td style=\"text-align:right;\"> 3 </td>\n",
       "   <td style=\"text-align:right;\"> 2 </td>\n",
       "   <td style=\"text-align:right;\"> 3 </td>\n",
       "   <td style=\"text-align:right;\"> 2 </td>\n",
       "   <td style=\"text-align:right;\"> 1 </td>\n",
       "   <td style=\"text-align:right;\"> 2 </td>\n",
       "   <td style=\"text-align:right;\"> 1 </td>\n",
       "   <td style=\"text-align:right;\"> 0 </td>\n",
       "   <td style=\"text-align:right;\"> 3 </td>\n",
       "   <td style=\"text-align:right;\"> 2 </td>\n",
       "   <td style=\"text-align:right;\"> 3 </td>\n",
       "   <td style=\"text-align:right;\"> 2 </td>\n",
       "  </tr>\n",
       "  <tr>\n",
       "   <td style=\"text-align:left;\"> Zeb Jordan </td>\n",
       "   <td style=\"text-align:right;\"> 1 </td>\n",
       "   <td style=\"text-align:right;\"> 3 </td>\n",
       "   <td style=\"text-align:right;\"> 4 </td>\n",
       "   <td style=\"text-align:right;\"> 4 </td>\n",
       "   <td style=\"text-align:right;\"> 2 </td>\n",
       "   <td style=\"text-align:right;\"> 2 </td>\n",
       "   <td style=\"text-align:right;\"> 2 </td>\n",
       "   <td style=\"text-align:right;\"> 1 </td>\n",
       "   <td style=\"text-align:right;\"> 2 </td>\n",
       "   <td style=\"text-align:right;\"> 1 </td>\n",
       "   <td style=\"text-align:right;\"> 1 </td>\n",
       "   <td style=\"text-align:right;\"> 2 </td>\n",
       "   <td style=\"text-align:right;\"> 3 </td>\n",
       "   <td style=\"text-align:right;\"> 2 </td>\n",
       "   <td style=\"text-align:right;\"> 3 </td>\n",
       "   <td style=\"text-align:right;\"> 0 </td>\n",
       "   <td style=\"text-align:right;\"> 1 </td>\n",
       "   <td style=\"text-align:right;\"> 3 </td>\n",
       "   <td style=\"text-align:right;\"> 2 </td>\n",
       "  </tr>\n",
       "  <tr>\n",
       "   <td style=\"text-align:left;\"> Arthur Ah </td>\n",
       "   <td style=\"text-align:right;\"> 2 </td>\n",
       "   <td style=\"text-align:right;\"> 4 </td>\n",
       "   <td style=\"text-align:right;\"> 5 </td>\n",
       "   <td style=\"text-align:right;\"> 5 </td>\n",
       "   <td style=\"text-align:right;\"> 3 </td>\n",
       "   <td style=\"text-align:right;\"> 3 </td>\n",
       "   <td style=\"text-align:right;\"> 3 </td>\n",
       "   <td style=\"text-align:right;\"> 2 </td>\n",
       "   <td style=\"text-align:right;\"> 2 </td>\n",
       "   <td style=\"text-align:right;\"> 2 </td>\n",
       "   <td style=\"text-align:right;\"> 2 </td>\n",
       "   <td style=\"text-align:right;\"> 3 </td>\n",
       "   <td style=\"text-align:right;\"> 2 </td>\n",
       "   <td style=\"text-align:right;\"> 1 </td>\n",
       "   <td style=\"text-align:right;\"> 2 </td>\n",
       "   <td style=\"text-align:right;\"> 1 </td>\n",
       "   <td style=\"text-align:right;\"> 0 </td>\n",
       "   <td style=\"text-align:right;\"> 2 </td>\n",
       "   <td style=\"text-align:right;\"> 1 </td>\n",
       "  </tr>\n",
       "  <tr>\n",
       "   <td style=\"text-align:left;\"> Arthur Abbot </td>\n",
       "   <td style=\"text-align:right;\"> 2 </td>\n",
       "   <td style=\"text-align:right;\"> 4 </td>\n",
       "   <td style=\"text-align:right;\"> 5 </td>\n",
       "   <td style=\"text-align:right;\"> 5 </td>\n",
       "   <td style=\"text-align:right;\"> 3 </td>\n",
       "   <td style=\"text-align:right;\"> 2 </td>\n",
       "   <td style=\"text-align:right;\"> 3 </td>\n",
       "   <td style=\"text-align:right;\"> 2 </td>\n",
       "   <td style=\"text-align:right;\"> 1 </td>\n",
       "   <td style=\"text-align:right;\"> 2 </td>\n",
       "   <td style=\"text-align:right;\"> 3 </td>\n",
       "   <td style=\"text-align:right;\"> 4 </td>\n",
       "   <td style=\"text-align:right;\"> 3 </td>\n",
       "   <td style=\"text-align:right;\"> 2 </td>\n",
       "   <td style=\"text-align:right;\"> 3 </td>\n",
       "   <td style=\"text-align:right;\"> 3 </td>\n",
       "   <td style=\"text-align:right;\"> 2 </td>\n",
       "   <td style=\"text-align:right;\"> 0 </td>\n",
       "   <td style=\"text-align:right;\"> 1 </td>\n",
       "  </tr>\n",
       "  <tr>\n",
       "   <td style=\"text-align:left;\"> Sarah Atkins </td>\n",
       "   <td style=\"text-align:right;\"> 2 </td>\n",
       "   <td style=\"text-align:right;\"> 4 </td>\n",
       "   <td style=\"text-align:right;\"> 5 </td>\n",
       "   <td style=\"text-align:right;\"> 5 </td>\n",
       "   <td style=\"text-align:right;\"> 3 </td>\n",
       "   <td style=\"text-align:right;\"> 2 </td>\n",
       "   <td style=\"text-align:right;\"> 3 </td>\n",
       "   <td style=\"text-align:right;\"> 2 </td>\n",
       "   <td style=\"text-align:right;\"> 1 </td>\n",
       "   <td style=\"text-align:right;\"> 2 </td>\n",
       "   <td style=\"text-align:right;\"> 3 </td>\n",
       "   <td style=\"text-align:right;\"> 3 </td>\n",
       "   <td style=\"text-align:right;\"> 2 </td>\n",
       "   <td style=\"text-align:right;\"> 1 </td>\n",
       "   <td style=\"text-align:right;\"> 2 </td>\n",
       "   <td style=\"text-align:right;\"> 2 </td>\n",
       "   <td style=\"text-align:right;\"> 1 </td>\n",
       "   <td style=\"text-align:right;\"> 1 </td>\n",
       "   <td style=\"text-align:right;\"> 0 </td>\n",
       "  </tr>\n",
       "</tbody>\n",
       "</table>"
      ]
     },
     "metadata": {},
     "output_type": "display_data"
    }
   ],
   "source": [
    "distances(g) %>% caption(\"Shortest Path Length\", row.names=TRUE)"
   ]
  },
  {
   "cell_type": "code",
   "execution_count": 7,
   "metadata": {
    "hide_input": true
   },
   "outputs": [
    {
     "data": {
      "text/html": [
       "<table>\n",
       "<caption><center><font color=\"black\"><b>node-level statistics</b></font></center></caption>\n",
       " <thead>\n",
       "  <tr>\n",
       "   <th style=\"text-align:left;\">   </th>\n",
       "   <th style=\"text-align:right;\"> indegree </th>\n",
       "   <th style=\"text-align:right;\"> outdegree </th>\n",
       "   <th style=\"text-align:right;\"> betweenness </th>\n",
       "   <th style=\"text-align:right;\"> average_path_length </th>\n",
       "   <th style=\"text-align:right;\"> closeness </th>\n",
       "   <th style=\"text-align:right;\"> eccentricity </th>\n",
       "   <th style=\"text-align:right;\"> eigencentrality </th>\n",
       "  </tr>\n",
       " </thead>\n",
       "<tbody>\n",
       "  <tr>\n",
       "   <td style=\"text-align:left;\"> Melvin Ashe </td>\n",
       "   <td style=\"text-align:right;\"> 5 </td>\n",
       "   <td style=\"text-align:right;\"> 5 </td>\n",
       "   <td style=\"text-align:right;\"> 33.016667 </td>\n",
       "   <td style=\"text-align:right;\"> 1.944444 </td>\n",
       "   <td style=\"text-align:right;\"> 0.5142857 </td>\n",
       "   <td style=\"text-align:right;\"> 3 </td>\n",
       "   <td style=\"text-align:right;\"> 0.9602457 </td>\n",
       "  </tr>\n",
       "  <tr>\n",
       "   <td style=\"text-align:left;\"> Winston Allen </td>\n",
       "   <td style=\"text-align:right;\"> 3 </td>\n",
       "   <td style=\"text-align:right;\"> 3 </td>\n",
       "   <td style=\"text-align:right;\"> 32.000000 </td>\n",
       "   <td style=\"text-align:right;\"> 3.055556 </td>\n",
       "   <td style=\"text-align:right;\"> 0.3272727 </td>\n",
       "   <td style=\"text-align:right;\"> 5 </td>\n",
       "   <td style=\"text-align:right;\"> 0.1175367 </td>\n",
       "  </tr>\n",
       "  <tr>\n",
       "   <td style=\"text-align:left;\"> Walter Alex </td>\n",
       "   <td style=\"text-align:right;\"> 2 </td>\n",
       "   <td style=\"text-align:right;\"> 2 </td>\n",
       "   <td style=\"text-align:right;\"> 0.000000 </td>\n",
       "   <td style=\"text-align:right;\"> 3.944444 </td>\n",
       "   <td style=\"text-align:right;\"> 0.2535211 </td>\n",
       "   <td style=\"text-align:right;\"> 6 </td>\n",
       "   <td style=\"text-align:right;\"> 0.0341112 </td>\n",
       "  </tr>\n",
       "  <tr>\n",
       "   <td style=\"text-align:left;\"> Sam Sutter </td>\n",
       "   <td style=\"text-align:right;\"> 2 </td>\n",
       "   <td style=\"text-align:right;\"> 2 </td>\n",
       "   <td style=\"text-align:right;\"> 0.000000 </td>\n",
       "   <td style=\"text-align:right;\"> 3.944444 </td>\n",
       "   <td style=\"text-align:right;\"> 0.2535211 </td>\n",
       "   <td style=\"text-align:right;\"> 6 </td>\n",
       "   <td style=\"text-align:right;\"> 0.0341112 </td>\n",
       "  </tr>\n",
       "  <tr>\n",
       "   <td style=\"text-align:left;\"> Andrew O'Reilly </td>\n",
       "   <td style=\"text-align:right;\"> 3 </td>\n",
       "   <td style=\"text-align:right;\"> 3 </td>\n",
       "   <td style=\"text-align:right;\"> 45.000000 </td>\n",
       "   <td style=\"text-align:right;\"> 2.333333 </td>\n",
       "   <td style=\"text-align:right;\"> 0.4285714 </td>\n",
       "   <td style=\"text-align:right;\"> 4 </td>\n",
       "   <td style=\"text-align:right;\"> 0.4543097 </td>\n",
       "  </tr>\n",
       "  <tr>\n",
       "   <td style=\"text-align:left;\"> Kevin Miller </td>\n",
       "   <td style=\"text-align:right;\"> 2 </td>\n",
       "   <td style=\"text-align:right;\"> 2 </td>\n",
       "   <td style=\"text-align:right;\"> 0.000000 </td>\n",
       "   <td style=\"text-align:right;\"> 2.611111 </td>\n",
       "   <td style=\"text-align:right;\"> 0.3829787 </td>\n",
       "   <td style=\"text-align:right;\"> 5 </td>\n",
       "   <td style=\"text-align:right;\"> 0.4458628 </td>\n",
       "  </tr>\n",
       "  <tr>\n",
       "   <td style=\"text-align:left;\"> Mary Miller </td>\n",
       "   <td style=\"text-align:right;\"> 1 </td>\n",
       "   <td style=\"text-align:right;\"> 1 </td>\n",
       "   <td style=\"text-align:right;\"> 0.000000 </td>\n",
       "   <td style=\"text-align:right;\"> 3.000000 </td>\n",
       "   <td style=\"text-align:right;\"> 0.3333333 </td>\n",
       "   <td style=\"text-align:right;\"> 5 </td>\n",
       "   <td style=\"text-align:right;\"> 0.2249368 </td>\n",
       "  </tr>\n",
       "  <tr>\n",
       "   <td style=\"text-align:left;\"> Sam Albright </td>\n",
       "   <td style=\"text-align:right;\"> 3 </td>\n",
       "   <td style=\"text-align:right;\"> 3 </td>\n",
       "   <td style=\"text-align:right;\"> 2.350000 </td>\n",
       "   <td style=\"text-align:right;\"> 2.277778 </td>\n",
       "   <td style=\"text-align:right;\"> 0.4390244 </td>\n",
       "   <td style=\"text-align:right;\"> 4 </td>\n",
       "   <td style=\"text-align:right;\"> 0.6331179 </td>\n",
       "  </tr>\n",
       "  <tr>\n",
       "   <td style=\"text-align:left;\"> Nancy Albright </td>\n",
       "   <td style=\"text-align:right;\"> 7 </td>\n",
       "   <td style=\"text-align:right;\"> 7 </td>\n",
       "   <td style=\"text-align:right;\"> 49.500000 </td>\n",
       "   <td style=\"text-align:right;\"> 1.944444 </td>\n",
       "   <td style=\"text-align:right;\"> 0.5142857 </td>\n",
       "   <td style=\"text-align:right;\"> 4 </td>\n",
       "   <td style=\"text-align:right;\"> 0.9821697 </td>\n",
       "  </tr>\n",
       "  <tr>\n",
       "   <td style=\"text-align:left;\"> Hank Hanover </td>\n",
       "   <td style=\"text-align:right;\"> 6 </td>\n",
       "   <td style=\"text-align:right;\"> 6 </td>\n",
       "   <td style=\"text-align:right;\"> 25.850000 </td>\n",
       "   <td style=\"text-align:right;\"> 2.055556 </td>\n",
       "   <td style=\"text-align:right;\"> 0.4864865 </td>\n",
       "   <td style=\"text-align:right;\"> 4 </td>\n",
       "   <td style=\"text-align:right;\"> 1.0000000 </td>\n",
       "  </tr>\n",
       "  <tr>\n",
       "   <td style=\"text-align:left;\"> Mark Shelley </td>\n",
       "   <td style=\"text-align:right;\"> 6 </td>\n",
       "   <td style=\"text-align:right;\"> 6 </td>\n",
       "   <td style=\"text-align:right;\"> 32.683333 </td>\n",
       "   <td style=\"text-align:right;\"> 2.055556 </td>\n",
       "   <td style=\"text-align:right;\"> 0.4864865 </td>\n",
       "   <td style=\"text-align:right;\"> 4 </td>\n",
       "   <td style=\"text-align:right;\"> 0.9419394 </td>\n",
       "  </tr>\n",
       "  <tr>\n",
       "   <td style=\"text-align:left;\"> Francis Aguilar </td>\n",
       "   <td style=\"text-align:right;\"> 2 </td>\n",
       "   <td style=\"text-align:right;\"> 2 </td>\n",
       "   <td style=\"text-align:right;\"> 7.900000 </td>\n",
       "   <td style=\"text-align:right;\"> 2.611111 </td>\n",
       "   <td style=\"text-align:right;\"> 0.3829787 </td>\n",
       "   <td style=\"text-align:right;\"> 4 </td>\n",
       "   <td style=\"text-align:right;\"> 0.2493614 </td>\n",
       "  </tr>\n",
       "  <tr>\n",
       "   <td style=\"text-align:left;\"> Angela Atkins </td>\n",
       "   <td style=\"text-align:right;\"> 1 </td>\n",
       "   <td style=\"text-align:right;\"> 1 </td>\n",
       "   <td style=\"text-align:right;\"> 0.000000 </td>\n",
       "   <td style=\"text-align:right;\"> 3.277778 </td>\n",
       "   <td style=\"text-align:right;\"> 0.3050847 </td>\n",
       "   <td style=\"text-align:right;\"> 6 </td>\n",
       "   <td style=\"text-align:right;\"> 0.1105545 </td>\n",
       "  </tr>\n",
       "  <tr>\n",
       "   <td style=\"text-align:left;\"> Homer Atkins </td>\n",
       "   <td style=\"text-align:right;\"> 5 </td>\n",
       "   <td style=\"text-align:right;\"> 5 </td>\n",
       "   <td style=\"text-align:right;\"> 27.483333 </td>\n",
       "   <td style=\"text-align:right;\"> 2.333333 </td>\n",
       "   <td style=\"text-align:right;\"> 0.4285714 </td>\n",
       "   <td style=\"text-align:right;\"> 5 </td>\n",
       "   <td style=\"text-align:right;\"> 0.4914915 </td>\n",
       "  </tr>\n",
       "  <tr>\n",
       "   <td style=\"text-align:left;\"> Michelle Allen </td>\n",
       "   <td style=\"text-align:right;\"> 2 </td>\n",
       "   <td style=\"text-align:right;\"> 2 </td>\n",
       "   <td style=\"text-align:right;\"> 4.550000 </td>\n",
       "   <td style=\"text-align:right;\"> 2.833333 </td>\n",
       "   <td style=\"text-align:right;\"> 0.3529412 </td>\n",
       "   <td style=\"text-align:right;\"> 5 </td>\n",
       "   <td style=\"text-align:right;\"> 0.1666451 </td>\n",
       "  </tr>\n",
       "  <tr>\n",
       "   <td style=\"text-align:left;\"> Zeb Jordan </td>\n",
       "   <td style=\"text-align:right;\"> 5 </td>\n",
       "   <td style=\"text-align:right;\"> 5 </td>\n",
       "   <td style=\"text-align:right;\"> 11.483333 </td>\n",
       "   <td style=\"text-align:right;\"> 2.166667 </td>\n",
       "   <td style=\"text-align:right;\"> 0.4615385 </td>\n",
       "   <td style=\"text-align:right;\"> 4 </td>\n",
       "   <td style=\"text-align:right;\"> 0.8905395 </td>\n",
       "  </tr>\n",
       "  <tr>\n",
       "   <td style=\"text-align:left;\"> Arthur Ah </td>\n",
       "   <td style=\"text-align:right;\"> 3 </td>\n",
       "   <td style=\"text-align:right;\"> 3 </td>\n",
       "   <td style=\"text-align:right;\"> 4.400000 </td>\n",
       "   <td style=\"text-align:right;\"> 2.500000 </td>\n",
       "   <td style=\"text-align:right;\"> 0.4000000 </td>\n",
       "   <td style=\"text-align:right;\"> 5 </td>\n",
       "   <td style=\"text-align:right;\"> 0.4237628 </td>\n",
       "  </tr>\n",
       "  <tr>\n",
       "   <td style=\"text-align:left;\"> Arthur Abbot </td>\n",
       "   <td style=\"text-align:right;\"> 2 </td>\n",
       "   <td style=\"text-align:right;\"> 2 </td>\n",
       "   <td style=\"text-align:right;\"> 0.000000 </td>\n",
       "   <td style=\"text-align:right;\"> 2.777778 </td>\n",
       "   <td style=\"text-align:right;\"> 0.3600000 </td>\n",
       "   <td style=\"text-align:right;\"> 5 </td>\n",
       "   <td style=\"text-align:right;\"> 0.3338193 </td>\n",
       "  </tr>\n",
       "  <tr>\n",
       "   <td style=\"text-align:left;\"> Sarah Atkins </td>\n",
       "   <td style=\"text-align:right;\"> 4 </td>\n",
       "   <td style=\"text-align:right;\"> 4 </td>\n",
       "   <td style=\"text-align:right;\"> 3.783333 </td>\n",
       "   <td style=\"text-align:right;\"> 2.444444 </td>\n",
       "   <td style=\"text-align:right;\"> 0.4090909 </td>\n",
       "   <td style=\"text-align:right;\"> 5 </td>\n",
       "   <td style=\"text-align:right;\"> 0.5018887 </td>\n",
       "  </tr>\n",
       "</tbody>\n",
       "</table>"
      ]
     },
     "metadata": {},
     "output_type": "display_data"
    }
   ],
   "source": [
    "statistics = data.frame(indegree=degree(g, mode=\"in\"),\n",
    "                        outdegree=degree(g, mode=\"out\"),\n",
    "                        betweenness=betweenness(g),\n",
    "                        average_path_length=colSums(distances(g))/(vcount(g)-1),\n",
    "                        closeness=closeness(g, normalized=TRUE),\n",
    "                        eccentricity=eccentricity(g, mode=\"out\"),\n",
    "                        eigencentrality=evcent(g, directed=TRUE)$vector)\n",
    "\n",
    "statistics %>% caption(\"node-level statistics\", row.names=TRUE)"
   ]
  },
  {
   "cell_type": "markdown",
   "metadata": {},
   "source": [
    "## Data Visualization"
   ]
  },
  {
   "cell_type": "code",
   "execution_count": 8,
   "metadata": {
    "hide_input": true,
    "scrolled": false
   },
   "outputs": [
    {
     "data": {
      "image/png": "[encoded data removed]",
      "text/plain": [
       "plot without title"
      ]
     },
     "metadata": {},
     "output_type": "display_data"
    }
   ],
   "source": [
    "x = statistics[order(statistics$outdegree, decreasing=TRUE),]\n",
    "\n",
    "ggplot(x) + ggtitle(\"Out Degree\") +\n",
    "geom_col(aes(x=factor(rownames(x), level=rownames(x)), y=outdegree)) +\n",
    "theme.x_axis_45 + theme.no_x_axis_title"
   ]
  },
  {
   "cell_type": "code",
   "execution_count": 9,
   "metadata": {
    "hide_input": true
   },
   "outputs": [
    {
     "data": {
      "image/png": "[encoded data removed]",
      "text/plain": [
       "plot without title"
      ]
     },
     "metadata": {},
     "output_type": "display_data"
    }
   ],
   "source": [
    "x = statistics[order(statistics$betweenness, decreasing=TRUE),]\n",
    "\n",
    "ggplot(x) + ggtitle(\"Betweenness\") +\n",
    "geom_col(aes(x=factor(rownames(x), level=rownames(x)), y=betweenness)) +\n",
    "theme.x_axis_45 + theme.no_x_axis_title"
   ]
  },
  {
   "cell_type": "code",
   "execution_count": 10,
   "metadata": {
    "hide_input": true
   },
   "outputs": [
    {
     "data": {
      "image/png": "[encoded data removed]",
      "text/plain": [
       "plot without title"
      ]
     },
     "metadata": {},
     "output_type": "display_data"
    }
   ],
   "source": [
    "x = statistics[order(statistics$closeness,  decreasing=TRUE),]\n",
    "\n",
    "ggplot(x) + ggtitle(\"Closeness\") +\n",
    "geom_col(aes(x=factor(rownames(x), level=rownames(x)), y=closeness)) +\n",
    "theme.x_axis_45 + theme.no_x_axis_title"
   ]
  },
  {
   "cell_type": "code",
   "execution_count": 11,
   "metadata": {
    "hide_input": true
   },
   "outputs": [
    {
     "data": {
      "image/png": "[encoded data removed]",
      "text/plain": [
       "plot without title"
      ]
     },
     "metadata": {},
     "output_type": "display_data"
    }
   ],
   "source": [
    "x = statistics[order(statistics$eccentricity),]\n",
    "\n",
    "ggplot(x) + ggtitle(\"Eccentricty\") +\n",
    "geom_col(aes(x=factor(rownames(x), level=rownames(x)), y=eccentricity)) +\n",
    "theme.x_axis_45 + theme.no_x_axis_title"
   ]
  },
  {
   "cell_type": "code",
   "execution_count": 12,
   "metadata": {
    "hide_input": true
   },
   "outputs": [
    {
     "data": {
      "image/png": "[encoded data removed]",
      "text/plain": [
       "plot without title"
      ]
     },
     "metadata": {},
     "output_type": "display_data"
    }
   ],
   "source": [
    "x = statistics[order(statistics$eigencentrality, decreasing=TRUE),]\n",
    "\n",
    "ggplot(x) + ggtitle(\"Eigencentrality\") +\n",
    "geom_col(aes(x=factor(rownames(x), level=rownames(x)), y=eigencentrality)) +\n",
    "theme.x_axis_45 + theme.no_x_axis_title"
   ]
  },
  {
   "cell_type": "markdown",
   "metadata": {},
   "source": [
    "## Important Nodes"
   ]
  },
  {
   "cell_type": "code",
   "execution_count": 13,
   "metadata": {
    "hide_input": true
   },
   "outputs": [
    {
     "data": {
      "text/html": [
       "<table>\n",
       "<caption><center><font color=\"black\"><b>top 4</b></font></center></caption>\n",
       " <thead>\n",
       "  <tr>\n",
       "   <th style=\"text-align:left;\">   </th>\n",
       "   <th style=\"text-align:right;\"> count </th>\n",
       "  </tr>\n",
       " </thead>\n",
       "<tbody>\n",
       "  <tr>\n",
       "   <td style=\"text-align:left;\"> Melvin Ashe </td>\n",
       "   <td style=\"text-align:right;\"> 5 </td>\n",
       "  </tr>\n",
       "  <tr>\n",
       "   <td style=\"text-align:left;\"> Nancy Albright </td>\n",
       "   <td style=\"text-align:right;\"> 5 </td>\n",
       "  </tr>\n",
       "  <tr>\n",
       "   <td style=\"text-align:left;\"> Mark Shelley </td>\n",
       "   <td style=\"text-align:right;\"> 4 </td>\n",
       "  </tr>\n",
       "  <tr>\n",
       "   <td style=\"text-align:left;\"> Hank Hanover </td>\n",
       "   <td style=\"text-align:right;\"> 3 </td>\n",
       "  </tr>\n",
       "  <tr>\n",
       "   <td style=\"text-align:left;\"> Andrew O'Reilly </td>\n",
       "   <td style=\"text-align:right;\"> 2 </td>\n",
       "  </tr>\n",
       "  <tr>\n",
       "   <td style=\"text-align:left;\"> Sam Albright </td>\n",
       "   <td style=\"text-align:right;\"> 1 </td>\n",
       "  </tr>\n",
       "  <tr>\n",
       "   <td style=\"text-align:left;\"> Winston Allen </td>\n",
       "   <td style=\"text-align:right;\"> 0 </td>\n",
       "  </tr>\n",
       "  <tr>\n",
       "   <td style=\"text-align:left;\"> Walter Alex </td>\n",
       "   <td style=\"text-align:right;\"> 0 </td>\n",
       "  </tr>\n",
       "  <tr>\n",
       "   <td style=\"text-align:left;\"> Sam Sutter </td>\n",
       "   <td style=\"text-align:right;\"> 0 </td>\n",
       "  </tr>\n",
       "  <tr>\n",
       "   <td style=\"text-align:left;\"> Kevin Miller </td>\n",
       "   <td style=\"text-align:right;\"> 0 </td>\n",
       "  </tr>\n",
       "  <tr>\n",
       "   <td style=\"text-align:left;\"> Mary Miller </td>\n",
       "   <td style=\"text-align:right;\"> 0 </td>\n",
       "  </tr>\n",
       "  <tr>\n",
       "   <td style=\"text-align:left;\"> Francis Aguilar </td>\n",
       "   <td style=\"text-align:right;\"> 0 </td>\n",
       "  </tr>\n",
       "  <tr>\n",
       "   <td style=\"text-align:left;\"> Angela Atkins </td>\n",
       "   <td style=\"text-align:right;\"> 0 </td>\n",
       "  </tr>\n",
       "  <tr>\n",
       "   <td style=\"text-align:left;\"> Homer Atkins </td>\n",
       "   <td style=\"text-align:right;\"> 0 </td>\n",
       "  </tr>\n",
       "  <tr>\n",
       "   <td style=\"text-align:left;\"> Michelle Allen </td>\n",
       "   <td style=\"text-align:right;\"> 0 </td>\n",
       "  </tr>\n",
       "  <tr>\n",
       "   <td style=\"text-align:left;\"> Zeb Jordan </td>\n",
       "   <td style=\"text-align:right;\"> 0 </td>\n",
       "  </tr>\n",
       "  <tr>\n",
       "   <td style=\"text-align:left;\"> Arthur Ah </td>\n",
       "   <td style=\"text-align:right;\"> 0 </td>\n",
       "  </tr>\n",
       "  <tr>\n",
       "   <td style=\"text-align:left;\"> Arthur Abbot </td>\n",
       "   <td style=\"text-align:right;\"> 0 </td>\n",
       "  </tr>\n",
       "  <tr>\n",
       "   <td style=\"text-align:left;\"> Sarah Atkins </td>\n",
       "   <td style=\"text-align:right;\"> 0 </td>\n",
       "  </tr>\n",
       "</tbody>\n",
       "</table>"
      ]
     },
     "metadata": {},
     "output_type": "display_data"
    }
   ],
   "source": [
    "count = rep(0, vcount(g))\n",
    "names(count) = data.nodes$name\n",
    "\n",
    "x = statistics[order(statistics$outdegree, decreasing=TRUE),]\n",
    "count[rownames(x)[1:4]] = count[rownames(x)[1:4]] + 1\n",
    "\n",
    "x = statistics[order(statistics$betweenness, decreasing=TRUE),]\n",
    "count[rownames(x)[1:4]] = count[rownames(x)[1:4]] + 1\n",
    "\n",
    "x = statistics[order(statistics$closeness, decreasing=TRUE),]\n",
    "count[rownames(x)[1:4]] = count[rownames(x)[1:4]] + 1\n",
    "\n",
    "x = statistics[order(statistics$eccentricity),]\n",
    "count[rownames(x)[1:4]] = count[rownames(x)[1:4]] + 1\n",
    "\n",
    "x = statistics[order(statistics$eigencentrality, decreasing=TRUE),]\n",
    "count[rownames(x)[1:4]] = count[rownames(x)[1:4]] + 1\n",
    "\n",
    "top4 = data.frame(count=count[order(count, decreasing=TRUE)])\n",
    "\n",
    "top4 %>% caption(\"top 4\", row.names=TRUE)"
   ]
  },
  {
   "cell_type": "markdown",
   "metadata": {},
   "source": [
    "## Marketing Campaign Simulation"
   ]
  },
  {
   "cell_type": "markdown",
   "metadata": {},
   "source": [
    "### No Marketing"
   ]
  },
  {
   "cell_type": "markdown",
   "metadata": {},
   "source": [
    "**Initialize**"
   ]
  },
  {
   "cell_type": "code",
   "execution_count": 14,
   "metadata": {
    "hide_input": true,
    "scrolled": false
   },
   "outputs": [
    {
     "data": {
      "text/html": [
       "<table>\n",
       "<thead><tr><th scope=col>referal_weight</th><th scope=col>initial_interest</th></tr></thead>\n",
       "<tbody>\n",
       "\t<tr><td>0.1 </td><td>0.01</td></tr>\n",
       "</tbody>\n",
       "</table>\n"
      ],
      "text/latex": [
       "\\begin{tabular}{r|ll}\n",
       " referal\\_weight & initial\\_interest\\\\\n",
       "\\hline\n",
       "\t 0.1  & 0.01\\\\\n",
       "\\end{tabular}\n"
      ],
      "text/markdown": [
       "\n",
       "| referal_weight | initial_interest |\n",
       "|---|---|\n",
       "| 0.1  | 0.01 |\n",
       "\n"
      ],
      "text/plain": [
       "  referal_weight initial_interest\n",
       "1 0.1            0.01            "
      ]
     },
     "metadata": {},
     "output_type": "display_data"
    },
    {
     "data": {
      "image/png": "[encoded data removed]",
      "text/plain": [
       "Plot with title \"\""
      ]
     },
     "metadata": {},
     "output_type": "display_data"
    }
   ],
   "source": [
    "set.seed(12345)\n",
    "\n",
    "data.nodes.i = data.nodes\n",
    "data.nodes.i$interest = initial_interest\n",
    "data.nodes.i$product = factor(data.nodes.i$product, levels=union(levels(data.nodes.i$product), \"E\"))\n",
    "\n",
    "data.frame(referal_weight, initial_interest)\n",
    "\n",
    "output_size(9,7)\n",
    "g = graph_from_data_frame(data.links, directed=FALSE, vertices=data.nodes.i)\n",
    "plot(g, layout=mylayout,\n",
    "     vertex.label=sprintf(\"%s\\n%0.2f\", vertex_attr(g)$name, vertex_attr(g)$interest),\n",
    "     vertex.color=data.nodes$product, palette=lighten(PALETTE[c(1:4,8)], amount=0.2),\n",
    "     asp=0)\n",
    "output_size(restore)"
   ]
  },
  {
   "cell_type": "markdown",
   "metadata": {},
   "source": [
    "**Step 1**"
   ]
  },
  {
   "cell_type": "markdown",
   "metadata": {},
   "source": [
    "Re-calculate product adoption based on interest."
   ]
  },
  {
   "cell_type": "code",
   "execution_count": 15,
   "metadata": {
    "hide_input": true,
    "scrolled": false
   },
   "outputs": [
    {
     "data": {
      "image/png": "[encoded data removed]",
      "text/plain": [
       "Plot with title \"\""
      ]
     },
     "metadata": {},
     "output_type": "display_data"
    }
   ],
   "source": [
    "data.nodes.i$product[runif(nrow(data.nodes.i)) < data.nodes.i$interest] = \"E\"\n",
    "data.nodes.i$interest[data.nodes.i$product == \"E\"] = 1\n",
    "\n",
    "output_size(9,7)\n",
    "g = graph_from_data_frame(data.links, directed=FALSE, vertices=data.nodes.i)\n",
    "plot(g, layout=mylayout,\n",
    "     vertex.label=sprintf(\"%s\\n%0.2f\", vertex_attr(g)$name, vertex_attr(g)$interest),\n",
    "     vertex.color=data.nodes.i$product, palette=lighten(PALETTE[c(1:4,8)], amount=0.2),\n",
    "     asp=0)\n",
    "output_size(restore)"
   ]
  },
  {
   "cell_type": "markdown",
   "metadata": {},
   "source": [
    "Re-calculate interest based on neighbors' interest."
   ]
  },
  {
   "cell_type": "code",
   "execution_count": 16,
   "metadata": {
    "hide_input": true,
    "scrolled": false
   },
   "outputs": [
    {
     "data": {
      "image/png": "[encoded data removed]",
      "text/plain": [
       "Plot with title \"\""
      ]
     },
     "metadata": {},
     "output_type": "display_data"
    }
   ],
   "source": [
    "for (i in which(data.nodes.i$product != \"E\"))\n",
    "  { as.numeric(ego(g, nodes=V(g), mindist=1)[[i]])\n",
    "    data.nodes.i$interest[i] = data.nodes.i$interest[i]*(1-referal_weight) + referal_weight*mean(data.nodes.i[as.numeric(ego(g, nodes=V(g), mindist=1)[[i]]),]$interest) }\n",
    "\n",
    "output_size(9,7)\n",
    "g = graph_from_data_frame(data.links, directed=FALSE, vertices=data.nodes.i)\n",
    "plot(g, layout=mylayout,\n",
    "     vertex.label=sprintf(\"%s\\n%0.2f\", vertex_attr(g)$name, vertex_attr(g)$interest),\n",
    "     vertex.color=data.nodes.i$product, palette=lighten(PALETTE[c(1:4,8)], amount=0.2),\n",
    "     asp=0)\n",
    "output_size(restore)"
   ]
  },
  {
   "cell_type": "markdown",
   "metadata": {},
   "source": [
    "**Step 2**"
   ]
  },
  {
   "cell_type": "markdown",
   "metadata": {},
   "source": [
    "Re-calculate product adoption based on interest."
   ]
  },
  {
   "cell_type": "code",
   "execution_count": 17,
   "metadata": {
    "hide_input": true,
    "scrolled": false
   },
   "outputs": [
    {
     "data": {
      "image/png": "[encoded data removed]",
      "text/plain": [
       "Plot with title \"\""
      ]
     },
     "metadata": {},
     "output_type": "display_data"
    }
   ],
   "source": [
    "data.nodes.i$product[runif(nrow(data.nodes.i)) < data.nodes.i$interest] = \"E\"\n",
    "data.nodes.i$interest[data.nodes.i$product == \"E\"] = 1\n",
    "\n",
    "output_size(9,7)\n",
    "g = graph_from_data_frame(data.links, directed=FALSE, vertices=data.nodes.i)\n",
    "plot(g, layout=mylayout,\n",
    "     vertex.label=sprintf(\"%s\\n%0.2f\", vertex_attr(g)$name, vertex_attr(g)$interest),\n",
    "     vertex.color=data.nodes.i$product, palette=lighten(PALETTE[c(1:4,8)], amount=0.2),\n",
    "     asp=0)\n",
    "output_size(restore)"
   ]
  },
  {
   "cell_type": "markdown",
   "metadata": {},
   "source": [
    "Re-calculate interest based on neighbors' interest."
   ]
  },
  {
   "cell_type": "code",
   "execution_count": 18,
   "metadata": {
    "hide_input": true
   },
   "outputs": [
    {
     "data": {
      "image/png": "[encoded data removed]",
      "text/plain": [
       "Plot with title \"\""
      ]
     },
     "metadata": {},
     "output_type": "display_data"
    }
   ],
   "source": [
    "for (i in which(data.nodes.i$product != \"E\"))\n",
    "  { as.numeric(ego(g, nodes=V(g), mindist=1)[[i]])\n",
    "    data.nodes.i$interest[i] = data.nodes.i$interest[i]*(1-referal_weight) + referal_weight*mean(data.nodes.i[as.numeric(ego(g, nodes=V(g), mindist=1)[[i]]),]$interest) }\n",
    "\n",
    "output_size(9,7)\n",
    "g = graph_from_data_frame(data.links, directed=FALSE, vertices=data.nodes.i)\n",
    "plot(g, layout=mylayout,\n",
    "     vertex.label=sprintf(\"%s\\n%0.2f\", vertex_attr(g)$name, vertex_attr(g)$interest),\n",
    "     vertex.color=data.nodes.i$product, palette=lighten(PALETTE[c(1:4,8)], amount=0.2),\n",
    "     asp=0)\n",
    "output_size(restore)"
   ]
  },
  {
   "cell_type": "markdown",
   "metadata": {},
   "source": [
    "**Step 10**"
   ]
  },
  {
   "cell_type": "markdown",
   "metadata": {},
   "source": [
    "Re-calculate product adoption based on interest and re-calculate interest based on neighbors' interest."
   ]
  },
  {
   "cell_type": "code",
   "execution_count": 19,
   "metadata": {
    "hide_input": true
   },
   "outputs": [
    {
     "data": {
      "text/html": [
       "<table>\n",
       "<thead><tr><th scope=col>product_adoption_rate</th></tr></thead>\n",
       "<tbody>\n",
       "\t<tr><td>0.3157895</td></tr>\n",
       "</tbody>\n",
       "</table>\n"
      ],
      "text/latex": [
       "\\begin{tabular}{r|l}\n",
       " product\\_adoption\\_rate\\\\\n",
       "\\hline\n",
       "\t 0.3157895\\\\\n",
       "\\end{tabular}\n"
      ],
      "text/markdown": [
       "\n",
       "| product_adoption_rate |\n",
       "|---|\n",
       "| 0.3157895 |\n",
       "\n"
      ],
      "text/plain": [
       "  product_adoption_rate\n",
       "1 0.3157895            "
      ]
     },
     "metadata": {},
     "output_type": "display_data"
    },
    {
     "data": {
      "image/png": "[encoded data removed]",
      "text/plain": [
       "Plot with title \"\""
      ]
     },
     "metadata": {},
     "output_type": "display_data"
    }
   ],
   "source": [
    "for (step in 3:10)\n",
    "  { data.nodes.i$product[runif(nrow(data.nodes.i)) < data.nodes.i$interest] = \"E\"\n",
    "    data.nodes.i$interest[data.nodes.i$product == \"E\"] = 1\n",
    "   \n",
    "    for (i in which(data.nodes.i$product != \"E\"))\n",
    "      { as.numeric(ego(g, nodes=V(g), mindist=1)[[i]])\n",
    "        data.nodes.i$interest[i] = data.nodes.i$interest[i]*(1-referal_weight) + referal_weight*mean(data.nodes.i[as.numeric(ego(g, nodes=V(g), mindist=1)[[i]]),]$interest) } }\n",
    "\n",
    "product_adoption_rate = length(which(data.nodes.i$product == \"E\"))/nrow(data.nodes.i)\n",
    "results = data.frame(strategy=\"no marketing\", product_adoption_rate)\n",
    "\n",
    "product_adoption_rate %>% fmt\n",
    "\n",
    "output_size(9,7)\n",
    "g = graph_from_data_frame(data.links, directed=FALSE, vertices=data.nodes.i)\n",
    "plot(g, layout=mylayout,\n",
    "     vertex.label=sprintf(\"%s\\n%0.2f\", vertex_attr(g)$name, vertex_attr(g)$interest),\n",
    "     vertex.color=data.nodes.i$product, palette=lighten(PALETTE[c(1:4,8)], amount=0.2),\n",
    "     asp=0)\n",
    "output_size(restore)"
   ]
  },
  {
   "cell_type": "markdown",
   "metadata": {},
   "source": [
    "### Non-Targeted Marketing"
   ]
  },
  {
   "cell_type": "markdown",
   "metadata": {},
   "source": [
    "**Initialize**"
   ]
  },
  {
   "cell_type": "code",
   "execution_count": 20,
   "metadata": {
    "hide_input": true,
    "scrolled": false
   },
   "outputs": [
    {
     "data": {
      "text/html": [
       "<table>\n",
       "<thead><tr><th scope=col>referal_weight</th><th scope=col>nontarget_initial_interest</th></tr></thead>\n",
       "<tbody>\n",
       "\t<tr><td>0.1       </td><td>0.01473684</td></tr>\n",
       "</tbody>\n",
       "</table>\n"
      ],
      "text/latex": [
       "\\begin{tabular}{r|ll}\n",
       " referal\\_weight & nontarget\\_initial\\_interest\\\\\n",
       "\\hline\n",
       "\t 0.1        & 0.01473684\\\\\n",
       "\\end{tabular}\n"
      ],
      "text/markdown": [
       "\n",
       "| referal_weight | nontarget_initial_interest |\n",
       "|---|---|\n",
       "| 0.1        | 0.01473684 |\n",
       "\n"
      ],
      "text/plain": [
       "  referal_weight nontarget_initial_interest\n",
       "1 0.1            0.01473684                "
      ]
     },
     "metadata": {},
     "output_type": "display_data"
    },
    {
     "data": {
      "image/png": "[encoded data removed]",
      "text/plain": [
       "Plot with title \"\""
      ]
     },
     "metadata": {},
     "output_type": "display_data"
    }
   ],
   "source": [
    "set.seed(12345)\n",
    "\n",
    "nontarget_initial_interest = min(1, spend_impact_offset + (spend_impact_rate * budget/nrow(data.nodes.i)))\n",
    "\n",
    "data.nodes.i = data.nodes\n",
    "data.nodes.i$interest = nontarget_initial_interest\n",
    "data.nodes.i$product = factor(data.nodes.i$product, levels=union(levels(data.nodes.i$product), \"E\"))\n",
    "\n",
    "data.frame(referal_weight, nontarget_initial_interest)\n",
    "\n",
    "output_size(9,7)\n",
    "g = graph_from_data_frame(data.links, directed=FALSE, vertices=data.nodes.i)\n",
    "plot(g, layout=mylayout,\n",
    "     vertex.label=sprintf(\"%s\\n%0.2f\", vertex_attr(g)$name, vertex_attr(g)$interest),\n",
    "     vertex.color=data.nodes$product, palette=lighten(PALETTE[c(1:4,8)], amount=0.2),\n",
    "     asp=0)\n",
    "output_size(restore)"
   ]
  },
  {
   "cell_type": "markdown",
   "metadata": {},
   "source": [
    "**Step 1**"
   ]
  },
  {
   "cell_type": "markdown",
   "metadata": {},
   "source": [
    "Re-calculate product adoption based on interest."
   ]
  },
  {
   "cell_type": "code",
   "execution_count": 21,
   "metadata": {
    "hide_input": true
   },
   "outputs": [
    {
     "data": {
      "image/png": "[encoded data removed]",
      "text/plain": [
       "Plot with title \"\""
      ]
     },
     "metadata": {},
     "output_type": "display_data"
    }
   ],
   "source": [
    "data.nodes.i$product[runif(nrow(data.nodes.i)) < data.nodes.i$interest] = \"E\"\n",
    "data.nodes.i$interest[data.nodes.i$product == \"E\"] = 1\n",
    "\n",
    "output_size(9,7)\n",
    "g = graph_from_data_frame(data.links, directed=FALSE, vertices=data.nodes.i)\n",
    "plot(g, layout=mylayout,\n",
    "     vertex.label=sprintf(\"%s\\n%0.2f\", vertex_attr(g)$name, vertex_attr(g)$interest),\n",
    "     vertex.color=data.nodes.i$product, palette=lighten(PALETTE[c(1:4,8)], amount=0.2),\n",
    "     asp=0)\n",
    "output_size(restore)"
   ]
  },
  {
   "cell_type": "markdown",
   "metadata": {},
   "source": [
    "Re-calculate interest based on neighbors' interest."
   ]
  },
  {
   "cell_type": "code",
   "execution_count": 22,
   "metadata": {
    "hide_input": true
   },
   "outputs": [
    {
     "data": {
      "image/png": "[encoded data removed]",
      "text/plain": [
       "Plot with title \"\""
      ]
     },
     "metadata": {},
     "output_type": "display_data"
    }
   ],
   "source": [
    "for (i in which(data.nodes.i$product != \"E\"))\n",
    "  { as.numeric(ego(g, nodes=V(g), mindist=1)[[i]])\n",
    "    data.nodes.i$interest[i] = data.nodes.i$interest[i]*(1-referal_weight) + referal_weight*mean(data.nodes.i[as.numeric(ego(g, nodes=V(g), mindist=1)[[i]]),]$interest) }\n",
    "\n",
    "output_size(9,7)\n",
    "g = graph_from_data_frame(data.links, directed=FALSE, vertices=data.nodes.i)\n",
    "plot(g, layout=mylayout,\n",
    "     vertex.label=sprintf(\"%s\\n%0.2f\", vertex_attr(g)$name, vertex_attr(g)$interest),\n",
    "     vertex.color=data.nodes.i$product, palette=lighten(PALETTE[c(1:4,8)], amount=0.2),\n",
    "     asp=0)\n",
    "output_size(restore)"
   ]
  },
  {
   "cell_type": "markdown",
   "metadata": {},
   "source": [
    "**Step 2**"
   ]
  },
  {
   "cell_type": "markdown",
   "metadata": {},
   "source": [
    "Re-calculate product adoption based on interest."
   ]
  },
  {
   "cell_type": "code",
   "execution_count": 23,
   "metadata": {
    "hide_input": true
   },
   "outputs": [
    {
     "data": {
      "image/png": "[encoded data removed]",
      "text/plain": [
       "Plot with title \"\""
      ]
     },
     "metadata": {},
     "output_type": "display_data"
    }
   ],
   "source": [
    "data.nodes.i$product[runif(nrow(data.nodes.i)) < data.nodes.i$interest] = \"E\"\n",
    "data.nodes.i$interest[data.nodes.i$product == \"E\"] = 1\n",
    "\n",
    "output_size(9,7)\n",
    "g = graph_from_data_frame(data.links, directed=FALSE, vertices=data.nodes.i)\n",
    "plot(g, layout=mylayout,\n",
    "     vertex.label=sprintf(\"%s\\n%0.2f\", vertex_attr(g)$name, vertex_attr(g)$interest),\n",
    "     vertex.color=data.nodes.i$product, palette=lighten(PALETTE[c(1:4,8)], amount=0.2),\n",
    "     asp=0)\n",
    "output_size(restore)"
   ]
  },
  {
   "cell_type": "markdown",
   "metadata": {},
   "source": [
    "Re-calculate interest based on neighbors' interest."
   ]
  },
  {
   "cell_type": "code",
   "execution_count": 24,
   "metadata": {
    "hide_input": true
   },
   "outputs": [
    {
     "data": {
      "image/png": "[encoded data removed]",
      "text/plain": [
       "Plot with title \"\""
      ]
     },
     "metadata": {},
     "output_type": "display_data"
    }
   ],
   "source": [
    "for (i in which(data.nodes.i$product != \"E\"))\n",
    "  { as.numeric(ego(g, nodes=V(g), mindist=1)[[i]])\n",
    "    data.nodes.i$interest[i] = data.nodes.i$interest[i]*(1-referal_weight) + referal_weight*mean(data.nodes.i[as.numeric(ego(g, nodes=V(g), mindist=1)[[i]]),]$interest) }\n",
    "\n",
    "output_size(9,7)\n",
    "g = graph_from_data_frame(data.links, directed=FALSE, vertices=data.nodes.i)\n",
    "plot(g, layout=mylayout,\n",
    "     vertex.label=sprintf(\"%s\\n%0.2f\", vertex_attr(g)$name, vertex_attr(g)$interest),\n",
    "     vertex.color=data.nodes.i$product, palette=lighten(PALETTE[c(1:4,8)], amount=0.2),\n",
    "     asp=0)\n",
    "output_size(restore)"
   ]
  },
  {
   "cell_type": "markdown",
   "metadata": {},
   "source": [
    "**Step 10**"
   ]
  },
  {
   "cell_type": "markdown",
   "metadata": {},
   "source": [
    "Re-calculate product adoption based on interest and re-calculate interest based on neighbors' interest."
   ]
  },
  {
   "cell_type": "code",
   "execution_count": 25,
   "metadata": {
    "hide_input": true,
    "scrolled": false
   },
   "outputs": [
    {
     "data": {
      "text/html": [
       "<table>\n",
       "<thead><tr><th scope=col>product_adoption_rate</th></tr></thead>\n",
       "<tbody>\n",
       "\t<tr><td>0.4210526</td></tr>\n",
       "</tbody>\n",
       "</table>\n"
      ],
      "text/latex": [
       "\\begin{tabular}{r|l}\n",
       " product\\_adoption\\_rate\\\\\n",
       "\\hline\n",
       "\t 0.4210526\\\\\n",
       "\\end{tabular}\n"
      ],
      "text/markdown": [
       "\n",
       "| product_adoption_rate |\n",
       "|---|\n",
       "| 0.4210526 |\n",
       "\n"
      ],
      "text/plain": [
       "  product_adoption_rate\n",
       "1 0.4210526            "
      ]
     },
     "metadata": {},
     "output_type": "display_data"
    },
    {
     "data": {
      "image/png": "[encoded data removed]",
      "text/plain": [
       "Plot with title \"\""
      ]
     },
     "metadata": {},
     "output_type": "display_data"
    }
   ],
   "source": [
    "for (step in 3:10)\n",
    "  { data.nodes.i$product[runif(nrow(data.nodes.i)) < data.nodes.i$interest] = \"E\"\n",
    "    data.nodes.i$interest[data.nodes.i$product == \"E\"] = 1\n",
    "   \n",
    "    for (i in which(data.nodes.i$product != \"E\"))\n",
    "      { as.numeric(ego(g, nodes=V(g), mindist=1)[[i]])\n",
    "        data.nodes.i$interest[i] = data.nodes.i$interest[i]*(1-referal_weight) + referal_weight*mean(data.nodes.i[as.numeric(ego(g, nodes=V(g), mindist=1)[[i]]),]$interest) } }\n",
    "\n",
    "product_adoption_rate = length(which(data.nodes.i$product == \"E\"))/nrow(data.nodes.i)\n",
    "results = rbind(results, data.frame(strategy=\"nontargeted marketing\", product_adoption_rate))\n",
    "\n",
    "product_adoption_rate %>% fmt\n",
    "\n",
    "output_size(9,7)\n",
    "g = graph_from_data_frame(data.links, directed=FALSE, vertices=data.nodes.i)\n",
    "plot(g, layout=mylayout,\n",
    "     vertex.label=sprintf(\"%s\\n%0.2f\", vertex_attr(g)$name, vertex_attr(g)$interest),\n",
    "     vertex.color=data.nodes.i$product, palette=lighten(PALETTE[c(1:4,8)], amount=0.2),\n",
    "     asp=0)\n",
    "output_size(restore)"
   ]
  },
  {
   "cell_type": "markdown",
   "metadata": {},
   "source": [
    "### Targeted Marketing to Unimportant Prospects"
   ]
  },
  {
   "cell_type": "markdown",
   "metadata": {},
   "source": [
    "**Initialize**"
   ]
  },
  {
   "cell_type": "code",
   "execution_count": 26,
   "metadata": {
    "hide_input": true
   },
   "outputs": [
    {
     "data": {
      "text/html": [
       "<table>\n",
       "<thead><tr><th scope=col>referal_weight</th><th scope=col>initial_interest</th><th scope=col>target_initial_interest</th></tr></thead>\n",
       "<tbody>\n",
       "\t<tr><td>0.1 </td><td>0.01</td><td>0.82</td></tr>\n",
       "</tbody>\n",
       "</table>\n"
      ],
      "text/latex": [
       "\\begin{tabular}{r|lll}\n",
       " referal\\_weight & initial\\_interest & target\\_initial\\_interest\\\\\n",
       "\\hline\n",
       "\t 0.1  & 0.01 & 0.82\\\\\n",
       "\\end{tabular}\n"
      ],
      "text/markdown": [
       "\n",
       "| referal_weight | initial_interest | target_initial_interest |\n",
       "|---|---|---|\n",
       "| 0.1  | 0.01 | 0.82 |\n",
       "\n"
      ],
      "text/plain": [
       "  referal_weight initial_interest target_initial_interest\n",
       "1 0.1            0.01             0.82                   "
      ]
     },
     "metadata": {},
     "output_type": "display_data"
    },
    {
     "data": {
      "image/png": "[encoded data removed]",
      "text/plain": [
       "Plot with title \"\""
      ]
     },
     "metadata": {},
     "output_type": "display_data"
    }
   ],
   "source": [
    "set.seed(12345)\n",
    "\n",
    "target_initial_interest = min(1, spend_impact_offset + (spend_impact_rate * budget/2))\n",
    "\n",
    "data.nodes.i = data.nodes\n",
    "data.nodes.i$interest = initial_interest\n",
    "data.nodes.i$interest[data.nodes.i$name == rownames(top4)[13]] = target_initial_interest\n",
    "data.nodes.i$interest[data.nodes.i$name == rownames(top4)[9]]  = target_initial_interest\n",
    "data.nodes.i$product = factor(data.nodes.i$product, levels=union(levels(data.nodes.i$product), \"E\"))\n",
    "\n",
    "data.frame(referal_weight, initial_interest, target_initial_interest)\n",
    "\n",
    "output_size(9,7)\n",
    "g = graph_from_data_frame(data.links, directed=FALSE, vertices=data.nodes.i)\n",
    "plot(g, layout=mylayout,\n",
    "     vertex.label=sprintf(\"%s\\n%0.2f\", vertex_attr(g)$name, vertex_attr(g)$interest),\n",
    "     vertex.color=data.nodes$product, palette=lighten(PALETTE[c(1:4,8)], amount=0.2),\n",
    "     asp=0)\n",
    "output_size(restore)"
   ]
  },
  {
   "cell_type": "markdown",
   "metadata": {},
   "source": [
    "**Step 1**"
   ]
  },
  {
   "cell_type": "markdown",
   "metadata": {},
   "source": [
    "Re-calculate product adoption based on interest."
   ]
  },
  {
   "cell_type": "code",
   "execution_count": 27,
   "metadata": {
    "hide_input": true
   },
   "outputs": [
    {
     "data": {
      "image/png": "[encoded data removed]",
      "text/plain": [
       "Plot with title \"\""
      ]
     },
     "metadata": {},
     "output_type": "display_data"
    }
   ],
   "source": [
    "data.nodes.i$product[runif(nrow(data.nodes.i)) < data.nodes.i$interest] = \"E\"\n",
    "data.nodes.i$interest[data.nodes.i$product == \"E\"] = 1\n",
    "\n",
    "output_size(9,7)\n",
    "g = graph_from_data_frame(data.links, directed=FALSE, vertices=data.nodes.i)\n",
    "plot(g, layout=mylayout,\n",
    "     vertex.label=sprintf(\"%s\\n%0.2f\", vertex_attr(g)$name, vertex_attr(g)$interest),\n",
    "     vertex.color=data.nodes.i$product, palette=lighten(PALETTE[c(1:4,8)], amount=0.2),\n",
    "     asp=0)\n",
    "output_size(restore)"
   ]
  },
  {
   "cell_type": "markdown",
   "metadata": {},
   "source": [
    "Re-calculate interest based on neighbors' interest."
   ]
  },
  {
   "cell_type": "code",
   "execution_count": 28,
   "metadata": {
    "hide_input": true
   },
   "outputs": [
    {
     "data": {
      "image/png": "[encoded data removed]",
      "text/plain": [
       "Plot with title \"\""
      ]
     },
     "metadata": {},
     "output_type": "display_data"
    }
   ],
   "source": [
    "for (i in which(data.nodes.i$product != \"E\"))\n",
    "  { as.numeric(ego(g, nodes=V(g), mindist=1)[[i]])\n",
    "    data.nodes.i$interest[i] = data.nodes.i$interest[i]*(1-referal_weight) + referal_weight*mean(data.nodes.i[as.numeric(ego(g, nodes=V(g), mindist=1)[[i]]),]$interest) }\n",
    "\n",
    "output_size(9,7)\n",
    "g = graph_from_data_frame(data.links, directed=FALSE, vertices=data.nodes.i)\n",
    "plot(g, layout=mylayout,\n",
    "     vertex.label=sprintf(\"%s\\n%0.2f\", vertex_attr(g)$name, vertex_attr(g)$interest),\n",
    "     vertex.color=data.nodes.i$product, palette=lighten(PALETTE[c(1:4,8)], amount=0.2),\n",
    "     asp=0)\n",
    "output_size(restore)"
   ]
  },
  {
   "cell_type": "markdown",
   "metadata": {},
   "source": [
    "**Step 2**"
   ]
  },
  {
   "cell_type": "markdown",
   "metadata": {},
   "source": [
    "Re-calculate product adoption based on interest."
   ]
  },
  {
   "cell_type": "code",
   "execution_count": 29,
   "metadata": {
    "hide_input": true
   },
   "outputs": [
    {
     "data": {
      "image/png": "[encoded data removed]",
      "text/plain": [
       "Plot with title \"\""
      ]
     },
     "metadata": {},
     "output_type": "display_data"
    }
   ],
   "source": [
    "data.nodes.i$product[runif(nrow(data.nodes.i)) < data.nodes.i$interest] = \"E\"\n",
    "data.nodes.i$interest[data.nodes.i$product == \"E\"] = 1\n",
    "\n",
    "output_size(9,7)\n",
    "g = graph_from_data_frame(data.links, directed=FALSE, vertices=data.nodes.i)\n",
    "plot(g, layout=mylayout,\n",
    "     vertex.label=sprintf(\"%s\\n%0.2f\", vertex_attr(g)$name, vertex_attr(g)$interest),\n",
    "     vertex.color=data.nodes.i$product, palette=lighten(PALETTE[c(1:4,8)], amount=0.2),\n",
    "     asp=0)\n",
    "output_size(restore)"
   ]
  },
  {
   "cell_type": "markdown",
   "metadata": {},
   "source": [
    "Re-calculate interest based on neighbors' interest."
   ]
  },
  {
   "cell_type": "code",
   "execution_count": 30,
   "metadata": {
    "hide_input": true
   },
   "outputs": [
    {
     "data": {
      "image/png": "[encoded data removed]",
      "text/plain": [
       "Plot with title \"\""
      ]
     },
     "metadata": {},
     "output_type": "display_data"
    }
   ],
   "source": [
    "for (i in which(data.nodes.i$product != \"E\"))\n",
    "  { as.numeric(ego(g, nodes=V(g), mindist=1)[[i]])\n",
    "    data.nodes.i$interest[i] = data.nodes.i$interest[i]*(1-referal_weight) + referal_weight*mean(data.nodes.i[as.numeric(ego(g, nodes=V(g), mindist=1)[[i]]),]$interest) }\n",
    "\n",
    "output_size(9,7)\n",
    "g = graph_from_data_frame(data.links, directed=FALSE, vertices=data.nodes.i)\n",
    "plot(g, layout=mylayout,\n",
    "     vertex.label=sprintf(\"%s\\n%0.2f\", vertex_attr(g)$name, vertex_attr(g)$interest),\n",
    "     vertex.color=data.nodes.i$product, palette=lighten(PALETTE[c(1:4,8)], amount=0.2),\n",
    "     asp=0)\n",
    "output_size(restore)"
   ]
  },
  {
   "cell_type": "markdown",
   "metadata": {},
   "source": [
    "**Step 10**"
   ]
  },
  {
   "cell_type": "markdown",
   "metadata": {},
   "source": [
    "Re-calculate product adoption based on interest and re-calculate interest based on neighbors' interest."
   ]
  },
  {
   "cell_type": "code",
   "execution_count": 31,
   "metadata": {
    "hide_input": true,
    "scrolled": false
   },
   "outputs": [
    {
     "data": {
      "text/html": [
       "<table>\n",
       "<thead><tr><th scope=col>product_adoption_rate</th></tr></thead>\n",
       "<tbody>\n",
       "\t<tr><td>0.4210526</td></tr>\n",
       "</tbody>\n",
       "</table>\n"
      ],
      "text/latex": [
       "\\begin{tabular}{r|l}\n",
       " product\\_adoption\\_rate\\\\\n",
       "\\hline\n",
       "\t 0.4210526\\\\\n",
       "\\end{tabular}\n"
      ],
      "text/markdown": [
       "\n",
       "| product_adoption_rate |\n",
       "|---|\n",
       "| 0.4210526 |\n",
       "\n"
      ],
      "text/plain": [
       "  product_adoption_rate\n",
       "1 0.4210526            "
      ]
     },
     "metadata": {},
     "output_type": "display_data"
    },
    {
     "data": {
      "image/png": "[encoded data removed]",
      "text/plain": [
       "Plot with title \"\""
      ]
     },
     "metadata": {},
     "output_type": "display_data"
    }
   ],
   "source": [
    "for (step in 3:10)\n",
    "  { data.nodes.i$product[runif(nrow(data.nodes.i)) < data.nodes.i$interest] = \"E\"\n",
    "    data.nodes.i$interest[data.nodes.i$product == \"E\"] = 1\n",
    "   \n",
    "    for (i in which(data.nodes.i$product != \"E\"))\n",
    "      { as.numeric(ego(g, nodes=V(g), mindist=1)[[i]])\n",
    "        data.nodes.i$interest[i] = data.nodes.i$interest[i]*(1-referal_weight) + referal_weight*mean(data.nodes.i[as.numeric(ego(g, nodes=V(g), mindist=1)[[i]]),]$interest) } }\n",
    "\n",
    "product_adoption_rate = length(which(data.nodes.i$product == \"E\"))/nrow(data.nodes.i)\n",
    "results = rbind(results, data.frame(strategy=\"targeted marketing to unimportant\", product_adoption_rate))\n",
    "\n",
    "product_adoption_rate %>% fmt\n",
    "\n",
    "output_size(9,7)\n",
    "g = graph_from_data_frame(data.links, directed=FALSE, vertices=data.nodes.i)\n",
    "plot(g, layout=mylayout,\n",
    "     vertex.label=sprintf(\"%s\\n%0.2f\", vertex_attr(g)$name, vertex_attr(g)$interest),\n",
    "     vertex.color=data.nodes.i$product, palette=lighten(PALETTE[c(1:4,8)], amount=0.2),\n",
    "     asp=0)\n",
    "output_size(restore)"
   ]
  },
  {
   "cell_type": "markdown",
   "metadata": {},
   "source": [
    "### Targeted Marketing to Important Prospects"
   ]
  },
  {
   "cell_type": "markdown",
   "metadata": {},
   "source": [
    "**Initialize**"
   ]
  },
  {
   "cell_type": "code",
   "execution_count": 32,
   "metadata": {
    "hide_input": true
   },
   "outputs": [
    {
     "data": {
      "text/html": [
       "<table>\n",
       "<thead><tr><th scope=col>referal_weight</th><th scope=col>initial_interest</th><th scope=col>target_initial_interest</th></tr></thead>\n",
       "<tbody>\n",
       "\t<tr><td>0.1 </td><td>0.01</td><td>0.82</td></tr>\n",
       "</tbody>\n",
       "</table>\n"
      ],
      "text/latex": [
       "\\begin{tabular}{r|lll}\n",
       " referal\\_weight & initial\\_interest & target\\_initial\\_interest\\\\\n",
       "\\hline\n",
       "\t 0.1  & 0.01 & 0.82\\\\\n",
       "\\end{tabular}\n"
      ],
      "text/markdown": [
       "\n",
       "| referal_weight | initial_interest | target_initial_interest |\n",
       "|---|---|---|\n",
       "| 0.1  | 0.01 | 0.82 |\n",
       "\n"
      ],
      "text/plain": [
       "  referal_weight initial_interest target_initial_interest\n",
       "1 0.1            0.01             0.82                   "
      ]
     },
     "metadata": {},
     "output_type": "display_data"
    },
    {
     "data": {
      "image/png": "[encoded data removed]",
      "text/plain": [
       "Plot with title \"\""
      ]
     },
     "metadata": {},
     "output_type": "display_data"
    }
   ],
   "source": [
    "set.seed(12345)\n",
    "\n",
    "target_initial_interest = min(1, spend_impact_offset + (spend_impact_rate * budget/2))\n",
    "\n",
    "data.nodes.i = data.nodes\n",
    "data.nodes.i$interest = initial_interest\n",
    "data.nodes.i$interest[data.nodes.i$name == rownames(top4)[1]] = target_initial_interest\n",
    "data.nodes.i$interest[data.nodes.i$name == rownames(top4)[2]] = target_initial_interest\n",
    "data.nodes.i$product = factor(data.nodes.i$product, levels=union(levels(data.nodes.i$product), \"E\"))\n",
    "\n",
    "data.frame(referal_weight, initial_interest, target_initial_interest)\n",
    "\n",
    "output_size(9,7)\n",
    "g = graph_from_data_frame(data.links, directed=FALSE, vertices=data.nodes.i)\n",
    "plot(g, layout=mylayout,\n",
    "     vertex.label=sprintf(\"%s\\n%0.2f\", vertex_attr(g)$name, vertex_attr(g)$interest),\n",
    "     vertex.color=data.nodes$product, palette=lighten(PALETTE[c(1:4,8)], amount=0.2),\n",
    "     asp=0)\n",
    "output_size(restore)"
   ]
  },
  {
   "cell_type": "markdown",
   "metadata": {},
   "source": [
    "**Step 1**"
   ]
  },
  {
   "cell_type": "markdown",
   "metadata": {},
   "source": [
    "Re-calculate product adoption based on interest."
   ]
  },
  {
   "cell_type": "code",
   "execution_count": 33,
   "metadata": {
    "hide_input": true
   },
   "outputs": [
    {
     "data": {
      "image/png": "[encoded data removed]",
      "text/plain": [
       "Plot with title \"\""
      ]
     },
     "metadata": {},
     "output_type": "display_data"
    }
   ],
   "source": [
    "data.nodes.i$product[runif(nrow(data.nodes.i)) < data.nodes.i$interest] = \"E\"\n",
    "data.nodes.i$interest[data.nodes.i$product == \"E\"] = 1\n",
    "\n",
    "output_size(9,7)\n",
    "g = graph_from_data_frame(data.links, directed=FALSE, vertices=data.nodes.i)\n",
    "plot(g, layout=mylayout,\n",
    "     vertex.label=sprintf(\"%s\\n%0.2f\", vertex_attr(g)$name, vertex_attr(g)$interest),\n",
    "     vertex.color=data.nodes.i$product, palette=lighten(PALETTE[c(1:4,8)], amount=0.2),\n",
    "     asp=0)\n",
    "output_size(restore)"
   ]
  },
  {
   "cell_type": "markdown",
   "metadata": {},
   "source": [
    "Re-calculate interest based on neighbors' interest."
   ]
  },
  {
   "cell_type": "code",
   "execution_count": 34,
   "metadata": {
    "hide_input": true
   },
   "outputs": [
    {
     "data": {
      "image/png": "[encoded data removed]",
      "text/plain": [
       "Plot with title \"\""
      ]
     },
     "metadata": {},
     "output_type": "display_data"
    }
   ],
   "source": [
    "for (i in which(data.nodes.i$product != \"E\"))\n",
    "  { as.numeric(ego(g, nodes=V(g), mindist=1)[[i]])\n",
    "    data.nodes.i$interest[i] = data.nodes.i$interest[i]*(1-referal_weight) + referal_weight*mean(data.nodes.i[as.numeric(ego(g, nodes=V(g), mindist=1)[[i]]),]$interest) }\n",
    "\n",
    "output_size(9,7)\n",
    "g = graph_from_data_frame(data.links, directed=FALSE, vertices=data.nodes.i)\n",
    "plot(g, layout=mylayout,\n",
    "     vertex.label=sprintf(\"%s\\n%0.2f\", vertex_attr(g)$name, vertex_attr(g)$interest),\n",
    "     vertex.color=data.nodes.i$product, palette=lighten(PALETTE[c(1:4,8)], amount=0.2),\n",
    "     asp=0)\n",
    "output_size(restore)"
   ]
  },
  {
   "cell_type": "markdown",
   "metadata": {},
   "source": [
    "**Step 2**"
   ]
  },
  {
   "cell_type": "markdown",
   "metadata": {},
   "source": [
    "Re-calculate product adoption based on interest."
   ]
  },
  {
   "cell_type": "code",
   "execution_count": 35,
   "metadata": {
    "hide_input": true
   },
   "outputs": [
    {
     "data": {
      "image/png": "[encoded data removed]",
      "text/plain": [
       "Plot with title \"\""
      ]
     },
     "metadata": {},
     "output_type": "display_data"
    }
   ],
   "source": [
    "data.nodes.i$product[runif(nrow(data.nodes.i)) < data.nodes.i$interest] = \"E\"\n",
    "data.nodes.i$interest[data.nodes.i$product == \"E\"] = 1\n",
    "\n",
    "output_size(9,7)\n",
    "g = graph_from_data_frame(data.links, directed=FALSE, vertices=data.nodes.i)\n",
    "plot(g, layout=mylayout,\n",
    "     vertex.label=sprintf(\"%s\\n%0.2f\", vertex_attr(g)$name, vertex_attr(g)$interest),\n",
    "     vertex.color=data.nodes.i$product, palette=lighten(PALETTE[c(1:4,8)], amount=0.2),\n",
    "     asp=0)\n",
    "output_size(restore)"
   ]
  },
  {
   "cell_type": "markdown",
   "metadata": {},
   "source": [
    "Re-calculate interest based on neighbors' interest."
   ]
  },
  {
   "cell_type": "code",
   "execution_count": 36,
   "metadata": {
    "hide_input": true
   },
   "outputs": [
    {
     "data": {
      "image/png": "[encoded data removed]",
      "text/plain": [
       "Plot with title \"\""
      ]
     },
     "metadata": {},
     "output_type": "display_data"
    }
   ],
   "source": [
    "for (i in which(data.nodes.i$product != \"E\"))\n",
    "  { as.numeric(ego(g, nodes=V(g), mindist=1)[[i]])\n",
    "    data.nodes.i$interest[i] = data.nodes.i$interest[i]*(1-referal_weight) + referal_weight*mean(data.nodes.i[as.numeric(ego(g, nodes=V(g), mindist=1)[[i]]),]$interest) }\n",
    "\n",
    "output_size(9,7)\n",
    "g = graph_from_data_frame(data.links, directed=FALSE, vertices=data.nodes.i)\n",
    "plot(g, layout=mylayout,\n",
    "     vertex.label=sprintf(\"%s\\n%0.2f\", vertex_attr(g)$name, vertex_attr(g)$interest),\n",
    "     vertex.color=data.nodes.i$product, palette=lighten(PALETTE[c(1:4,8)], amount=0.2),\n",
    "     asp=0)\n",
    "output_size(restore)"
   ]
  },
  {
   "cell_type": "markdown",
   "metadata": {},
   "source": [
    "**Step 10**"
   ]
  },
  {
   "cell_type": "markdown",
   "metadata": {},
   "source": [
    "Re-calculate product adoption based on interest and re-calculate interest based on neighbors' interest."
   ]
  },
  {
   "cell_type": "code",
   "execution_count": 37,
   "metadata": {
    "hide_input": true
   },
   "outputs": [
    {
     "data": {
      "text/html": [
       "<table>\n",
       "<thead><tr><th scope=col>product_adoption_rate</th></tr></thead>\n",
       "<tbody>\n",
       "\t<tr><td>0.7894737</td></tr>\n",
       "</tbody>\n",
       "</table>\n"
      ],
      "text/latex": [
       "\\begin{tabular}{r|l}\n",
       " product\\_adoption\\_rate\\\\\n",
       "\\hline\n",
       "\t 0.7894737\\\\\n",
       "\\end{tabular}\n"
      ],
      "text/markdown": [
       "\n",
       "| product_adoption_rate |\n",
       "|---|\n",
       "| 0.7894737 |\n",
       "\n"
      ],
      "text/plain": [
       "  product_adoption_rate\n",
       "1 0.7894737            "
      ]
     },
     "metadata": {},
     "output_type": "display_data"
    },
    {
     "data": {
      "image/png": "[encoded data removed]",
      "text/plain": [
       "Plot with title \"\""
      ]
     },
     "metadata": {},
     "output_type": "display_data"
    }
   ],
   "source": [
    "for (step in 3:10)\n",
    "  { data.nodes.i$product[runif(nrow(data.nodes.i)) < data.nodes.i$interest] = \"E\"\n",
    "    data.nodes.i$interest[data.nodes.i$product == \"E\"] = 1\n",
    "   \n",
    "    for (i in which(data.nodes.i$product != \"E\"))\n",
    "      { as.numeric(ego(g, nodes=V(g), mindist=1)[[i]])\n",
    "        data.nodes.i$interest[i] = data.nodes.i$interest[i]*(1-referal_weight) + referal_weight*mean(data.nodes.i[as.numeric(ego(g, nodes=V(g), mindist=1)[[i]]),]$interest) } }\n",
    "\n",
    "product_adoption_rate = length(which(data.nodes.i$product == \"E\"))/nrow(data.nodes.i)\n",
    "results = rbind(results, data.frame(strategy=\"targeted marketing to important\", product_adoption_rate))\n",
    "\n",
    "product_adoption_rate %>% fmt\n",
    "\n",
    "output_size(9,7)\n",
    "g = graph_from_data_frame(data.links, directed=FALSE, vertices=data.nodes.i)\n",
    "plot(g, layout=mylayout,\n",
    "     vertex.label=sprintf(\"%s\\n%0.2f\", vertex_attr(g)$name, vertex_attr(g)$interest),\n",
    "     vertex.color=data.nodes.i$product, palette=lighten(PALETTE[c(1:4,8)], amount=0.2),\n",
    "     asp=0)\n",
    "output_size(restore)"
   ]
  },
  {
   "cell_type": "markdown",
   "metadata": {},
   "source": [
    "### Results"
   ]
  },
  {
   "cell_type": "code",
   "execution_count": 38,
   "metadata": {
    "hide_input": true
   },
   "outputs": [
    {
     "data": {
      "image/png": "[encoded data removed]",
      "text/plain": [
       "plot without title"
      ]
     },
     "metadata": {},
     "output_type": "display_data"
    }
   ],
   "source": [
    "ggplot(results) + ggtitle(\"Product Adoption Rate\") + ylim(0,1) +\n",
    "geom_col(aes(x=strategy, y=product_adoption_rate))"
   ]
  },
  {
   "cell_type": "markdown",
   "metadata": {},
   "source": [
    "## Real Names"
   ]
  },
  {
   "cell_type": "code",
   "execution_count": 39,
   "metadata": {
    "hide_input": true,
    "scrolled": false
   },
   "outputs": [
    {
     "data": {
      "text/html": [
       "<table>\n",
       "<caption><center><font color=\"black\"><b>top 4</b></font></center></caption>\n",
       " <thead>\n",
       "  <tr>\n",
       "   <th style=\"text-align:left;\">   </th>\n",
       "   <th style=\"text-align:right;\"> real_name </th>\n",
       "   <th style=\"text-align:right;\"> count </th>\n",
       "  </tr>\n",
       " </thead>\n",
       "<tbody>\n",
       "  <tr>\n",
       "   <td style=\"text-align:left;\"> Melvin Ashe </td>\n",
       "   <td style=\"text-align:right;\"> Mohamed Atta </td>\n",
       "   <td style=\"text-align:right;\"> 5 </td>\n",
       "  </tr>\n",
       "  <tr>\n",
       "   <td style=\"text-align:left;\"> Nancy Albright </td>\n",
       "   <td style=\"text-align:right;\"> Nawaf Alhamzi </td>\n",
       "   <td style=\"text-align:right;\"> 5 </td>\n",
       "  </tr>\n",
       "  <tr>\n",
       "   <td style=\"text-align:left;\"> Mark Shelley </td>\n",
       "   <td style=\"text-align:right;\"> Marwan al-Shehhi </td>\n",
       "   <td style=\"text-align:right;\"> 4 </td>\n",
       "  </tr>\n",
       "  <tr>\n",
       "   <td style=\"text-align:left;\"> Hank Hanover </td>\n",
       "   <td style=\"text-align:right;\"> Hani Hanjour </td>\n",
       "   <td style=\"text-align:right;\"> 3 </td>\n",
       "  </tr>\n",
       "  <tr>\n",
       "   <td style=\"text-align:left;\"> Andrew O'Reilly </td>\n",
       "   <td style=\"text-align:right;\"> Abdulaziz Alomari </td>\n",
       "   <td style=\"text-align:right;\"> 2 </td>\n",
       "  </tr>\n",
       "  <tr>\n",
       "   <td style=\"text-align:left;\"> Sam Albright </td>\n",
       "   <td style=\"text-align:right;\"> Salem Alhamzi </td>\n",
       "   <td style=\"text-align:right;\"> 1 </td>\n",
       "  </tr>\n",
       "  <tr>\n",
       "   <td style=\"text-align:left;\"> Winston Allen </td>\n",
       "   <td style=\"text-align:right;\"> Waleed Alshehri </td>\n",
       "   <td style=\"text-align:right;\"> 0 </td>\n",
       "  </tr>\n",
       "  <tr>\n",
       "   <td style=\"text-align:left;\"> Walter Alex </td>\n",
       "   <td style=\"text-align:right;\"> Wail Alshari </td>\n",
       "   <td style=\"text-align:right;\"> 0 </td>\n",
       "  </tr>\n",
       "  <tr>\n",
       "   <td style=\"text-align:left;\"> Sam Sutter </td>\n",
       "   <td style=\"text-align:right;\"> Sata al-Suqami </td>\n",
       "   <td style=\"text-align:right;\"> 0 </td>\n",
       "  </tr>\n",
       "  <tr>\n",
       "   <td style=\"text-align:left;\"> Kevin Miller </td>\n",
       "   <td style=\"text-align:right;\"> Khalid al-Midhar </td>\n",
       "   <td style=\"text-align:right;\"> 0 </td>\n",
       "  </tr>\n",
       "  <tr>\n",
       "   <td style=\"text-align:left;\"> Mary Miller </td>\n",
       "   <td style=\"text-align:right;\"> Majed Moqed </td>\n",
       "   <td style=\"text-align:right;\"> 0 </td>\n",
       "  </tr>\n",
       "  <tr>\n",
       "   <td style=\"text-align:left;\"> Francis Aguilar </td>\n",
       "   <td style=\"text-align:right;\"> Fayez Ahmed </td>\n",
       "   <td style=\"text-align:right;\"> 0 </td>\n",
       "  </tr>\n",
       "  <tr>\n",
       "   <td style=\"text-align:left;\"> Angela Atkins </td>\n",
       "   <td style=\"text-align:right;\"> Ahmed Alghamdi </td>\n",
       "   <td style=\"text-align:right;\"> 0 </td>\n",
       "  </tr>\n",
       "  <tr>\n",
       "   <td style=\"text-align:left;\"> Homer Atkins </td>\n",
       "   <td style=\"text-align:right;\"> Hamza Alghamdi </td>\n",
       "   <td style=\"text-align:right;\"> 0 </td>\n",
       "  </tr>\n",
       "  <tr>\n",
       "   <td style=\"text-align:left;\"> Michelle Allen </td>\n",
       "   <td style=\"text-align:right;\"> Mohald Alshehri </td>\n",
       "   <td style=\"text-align:right;\"> 0 </td>\n",
       "  </tr>\n",
       "  <tr>\n",
       "   <td style=\"text-align:left;\"> Zeb Jordan </td>\n",
       "   <td style=\"text-align:right;\"> Ziad Jarrah </td>\n",
       "   <td style=\"text-align:right;\"> 0 </td>\n",
       "  </tr>\n",
       "  <tr>\n",
       "   <td style=\"text-align:left;\"> Arthur Ah </td>\n",
       "   <td style=\"text-align:right;\"> Ahmed Alhaznawi </td>\n",
       "   <td style=\"text-align:right;\"> 0 </td>\n",
       "  </tr>\n",
       "  <tr>\n",
       "   <td style=\"text-align:left;\"> Arthur Abbot </td>\n",
       "   <td style=\"text-align:right;\"> Ahmed Alnami </td>\n",
       "   <td style=\"text-align:right;\"> 0 </td>\n",
       "  </tr>\n",
       "  <tr>\n",
       "   <td style=\"text-align:left;\"> Sarah Atkins </td>\n",
       "   <td style=\"text-align:right;\"> Saeed Alghamdi </td>\n",
       "   <td style=\"text-align:right;\"> 0 </td>\n",
       "  </tr>\n",
       "</tbody>\n",
       "</table>"
      ]
     },
     "metadata": {},
     "output_type": "display_data"
    }
   ],
   "source": [
    "top4$real_name = real_name[aaply(rownames(top4), 1, function(i) which(i == data.nodes$name))]\n",
    "top4[2:1] %>% caption(\"top 4\", row.names=TRUE)"
   ]
  },
  {
   "cell_type": "markdown",
   "metadata": {},
   "source": [
    "<p style=\"text-align:left; font-size:10px;\">\n",
    "Copyright (c) Berkeley Data Analytics Group, LLC\n",
    "<span style=\"float:right;\">\n",
    "Document revised November 22, 2019\n",
    "</span>\n",
    "</p>"
   ]
  }
 ],
 "metadata": {
  "hide_code_all_hidden": false,
  "hide_input": false,
  "kernelspec": {
   "display_name": "R",
   "language": "R",
   "name": "ir"
  },
  "language_info": {
   "codemirror_mode": "r",
   "file_extension": ".r",
   "mimetype": "text/x-r-source",
   "name": "R",
   "pygments_lexer": "r",
   "version": "3.6.1"
  },
  "toc": {
   "base_numbering": 1,
   "nav_menu": {},
   "number_sections": true,
   "sideBar": true,
   "skip_h1_title": true,
   "title_cell": "Table of Contents",
   "title_sidebar": "Contents",
   "toc_cell": false,
   "toc_position": {
    "height": "calc(100% - 180px)",
    "left": "10px",
    "top": "150px",
    "width": "255.865px"
   },
   "toc_section_display": true,
   "toc_window_display": false
  }
 },
 "nbformat": 4,
 "nbformat_minor": 2
}
