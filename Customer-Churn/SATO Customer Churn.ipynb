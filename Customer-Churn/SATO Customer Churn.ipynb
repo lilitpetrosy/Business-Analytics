{
 "cells": [
  {
   "cell_type": "markdown",
   "metadata": {
    "hideCode": false,
    "hidePrompt": false
   },
   "source": [
    "# SATO Customer Churn\n",
    "\n",
    "## Naive Bayes | Cross-Validation\n",
    "---\n",
    "![](banner_telecom.png)"
   ]
  },
  {
   "cell_type": "code",
   "execution_count": 7,
   "metadata": {
    "hide_input": true
   },
   "outputs": [
    {
     "ename": "ERROR",
     "evalue": "Error in library(dummies): there is no package called ‘dummies’\n",
     "output_type": "error",
     "traceback": [
      "Error in library(dummies): there is no package called ‘dummies’\nTraceback:\n",
      "1. source(f)",
      "2. withVisible(eval(ei, envir))",
      "3. eval(ei, envir)",
      "4. eval(ei, envir)",
      "5. suppressMessages(library(dummies))",
      "6. withCallingHandlers(expr, message = function(c) invokeRestart(\"muffleMessage\"))",
      "7. library(dummies)"
     ]
    }
   ],
   "source": [
    "f = \"setup.R\"; for (i in 1:10) { if (file.exists(f)) break else f = paste0(\"../\", f) }; source(f)\n",
    "options(repr.matrix.max.rows=674)\n",
    "options(repr.matrix.max.cols=200)\n",
    "update_geom_defaults(\"point\", list(size=1)) "
   ]
  },
  {
   "cell_type": "markdown",
   "metadata": {},
   "source": [
    "## Situation\n",
    "\n",
    "A major wireless telecom operator in South Asia is concerned about the impact of customer churn on its profit, and is considering various intervention strategies.\n",
    "\n",
    "* **Role:** Vice President of Customer Service. \n",
    "* **Business Decision:** Which intervention strategy to implement and how much to invest in it?\n",
    "* **Approach:** Compare the effectiveness of various intervention strategies to reduce customer churn, including proactive intervention for customers selected at random and for customers predicted to be at risk. \n",
    "\n",
    "* **Dataset:**  MCS: Multiple Classifier System to Predict the Churners in the Telecom Industry (https://www.kaggle.com/mahreen/sato2015) \n",
    "  * South Asian Telecom Operator (SATO) data set is real life data collected from a major wireless telecom operator in South Asia. Most of the variables in the data set are associated with call detail records (CDR), billing, and personal information. It contains 2000 subscribers. All of these subscribers were not contract-based and had a monthly based subscription. The subscriber data was extracted from the time interval of two months August 2015 and September 2015. \n",
    "\n",
    "  * The dataset includes these variables:\n",
    "    * **Aggregate of Total Revenue:** The overall monthly revenue earned in Rupees by the carrier in the months August & September 2015.\n",
    "    * **Aggregate of SMS Revenue:** The revenue earned through the SMS service used by the subscriber.\n",
    "    * **Aggregate of Data Revenue:** The revenue earned through the Data service used by the subscriber.\n",
    "    * **Aggregate of Off Net Revenue:** The revenue earned by the calls etc. made to the off-network (not the same network as the subscriber) customers by the carrier’s present subscriber.\n",
    "    * **Aggregate of On Net Revenue:** The revenue earned by the calls etc. made to the on-network (on the same network as the subscriber) customers by the carrier’s present subscriber. \n",
    "    * **Network Age:** The time passed since the subscriber started using the services of the carrier.\n",
    "    * **User Type:** This detail helps in knowing if the user is subscribed to a 2G or 3G service.\n",
    "    * **Aggregate of Complaint Count:** The number of complaints made by the subscribers.\n",
    "    * **Favorite Other Network:** This information can certainly have a huge impact on churn ratio as it gives the information about which other network or operator the subscribers makes the most of the calls to and thus might influence the customer to move to that network to save money.\n",
    "    * **Aggregate of Data Volume:** The volume of the data service used by the subscriber."
   ]
  },
  {
   "cell_type": "markdown",
   "metadata": {},
   "source": [
    "## Business Model\n",
    "\n",
    "Estimate value of an active customer and lost value of a churned customer.  Estimate churn rate based on another telco.  Make reasonable assumptions about other business parameters, including total number of customers, intervention cost, and save rate (fraction of interventions to would-be churned customers that result in keeping them active)."
   ]
  },
  {
   "cell_type": "markdown",
   "metadata": {},
   "source": [
    "### Influence Diagram\n",
    "\n",
    "<img src=\"business-model_sato.jpg\" align=left width=850 />"
   ]
  },
  {
   "cell_type": "markdown",
   "metadata": {},
   "source": [
    "### Business Parameters"
   ]
  },
  {
   "cell_type": "code",
   "execution_count": 2,
   "metadata": {},
   "outputs": [
    {
     "data": {
      "text/html": [
       "<table>\n",
       "<thead><tr><th scope=col>customers</th><th scope=col>churn_rate</th><th scope=col>intervention_cost</th><th scope=col>save_rate</th></tr></thead>\n",
       "<tbody>\n",
       "\t<tr><td>1000000</td><td>0.143  </td><td>500    </td><td>0.25   </td></tr>\n",
       "</tbody>\n",
       "</table>\n"
      ],
      "text/latex": [
       "\\begin{tabular}{r|llll}\n",
       " customers & churn\\_rate & intervention\\_cost & save\\_rate\\\\\n",
       "\\hline\n",
       "\t 1000000 & 0.143   & 500     & 0.25   \\\\\n",
       "\\end{tabular}\n"
      ],
      "text/markdown": [
       "\n",
       "| customers | churn_rate | intervention_cost | save_rate |\n",
       "|---|---|---|---|\n",
       "| 1000000 | 0.143   | 500     | 0.25    |\n",
       "\n"
      ],
      "text/plain": [
       "  customers churn_rate intervention_cost save_rate\n",
       "1 1000000   0.143      500               0.25     "
      ]
     },
     "metadata": {},
     "output_type": "display_data"
    }
   ],
   "source": [
    "customers=1000000 # assumption\n",
    "churn_rate=0.143 # based on another telco\n",
    "intervention_cost=500 # rupees per year, assumption\n",
    "save_rate=0.25 # assumption\n",
    "data.frame(customers, churn_rate, intervention_cost, save_rate)"
   ]
  },
  {
   "cell_type": "markdown",
   "metadata": {},
   "source": [
    "### Sensitivity Analysis\n",
    "\n",
    "The following are alternative business parameter values for further sensitivity analysis."
   ]
  },
  {
   "cell_type": "code",
   "execution_count": 3,
   "metadata": {},
   "outputs": [],
   "source": [
    "# save_rate = 0.15\n",
    "# save_rate = 0.25\n",
    "# save_rate = 0.40\n",
    "\n",
    "# intervention_cost = 250\n",
    "# intervention_cost = 500\n",
    "# intervention_cost = 1000"
   ]
  },
  {
   "cell_type": "markdown",
   "metadata": {},
   "source": [
    "## Data"
   ]
  },
  {
   "cell_type": "code",
   "execution_count": 6,
   "metadata": {
    "hideCode": false,
    "hidePrompt": false,
    "run_control": {
     "marked": false
    },
    "scrolled": false
   },
   "outputs": [
    {
     "ename": "ERROR",
     "evalue": "Error in output_size(data.raw): не могу найти функцию \"output_size\"\n",
     "output_type": "error",
     "traceback": [
      "Error in output_size(data.raw): не могу найти функцию \"output_size\"\nTraceback:\n"
     ]
    }
   ],
   "source": [
    "data.raw = read.csv(\"SATO.csv\", na.strings=\"\")\n",
    "output_size(data.raw)\n",
    "data.raw[1:10,]"
   ]
  },
  {
   "cell_type": "markdown",
   "metadata": {},
   "source": [
    "## Analysis"
   ]
  },
  {
   "cell_type": "markdown",
   "metadata": {},
   "source": [
    "### Customer Value\n",
    "\n",
    "Active customer value & churned customer value ..."
   ]
  },
  {
   "cell_type": "code",
   "execution_count": 5,
   "metadata": {},
   "outputs": [
    {
     "data": {
      "text/html": [
       "<table>\n",
       "<thead><tr><th scope=col>customers</th><th scope=col>active_value</th><th scope=col>churned_value</th><th scope=col>churn_rate</th><th scope=col>intervention_cost</th><th scope=col>save_rate</th></tr></thead>\n",
       "<tbody>\n",
       "\t<tr><td>1000000 </td><td>6901.378</td><td>3958.863</td><td>0.143   </td><td>500     </td><td>0.25    </td></tr>\n",
       "</tbody>\n",
       "</table>\n"
      ],
      "text/latex": [
       "\\begin{tabular}{r|llllll}\n",
       " customers & active\\_value & churned\\_value & churn\\_rate & intervention\\_cost & save\\_rate\\\\\n",
       "\\hline\n",
       "\t 1000000  & 6901.378 & 3958.863 & 0.143    & 500      & 0.25    \\\\\n",
       "\\end{tabular}\n"
      ],
      "text/markdown": [
       "\n",
       "| customers | active_value | churned_value | churn_rate | intervention_cost | save_rate |\n",
       "|---|---|---|---|---|---|\n",
       "| 1000000  | 6901.378 | 3958.863 | 0.143    | 500      | 0.25     |\n",
       "\n"
      ],
      "text/plain": [
       "  customers active_value churned_value churn_rate intervention_cost save_rate\n",
       "1 1000000   6901.378     3958.863      0.143      500               0.25     "
      ]
     },
     "metadata": {},
     "output_type": "display_data"
    }
   ],
   "source": [
    "active = data.raw$Class==\"Active\"\n",
    "churned = data.raw$Class==\"Churned\"\n",
    "active_value  = mean(data.raw$Aggregate_Total_Rev[active] * 6) # rupees per year\n",
    "churned_value = mean(data.raw$Aggregate_Total_Rev[churned] * 6) # rupees per year\n",
    "\n",
    "data.frame(customers, active_value, churned_value, churn_rate, intervention_cost, save_rate)"
   ]
  },
  {
   "cell_type": "markdown",
   "metadata": {},
   "source": [
    "### Baseline\n",
    "\n",
    "Determine what profit would be if no intervention is attempted."
   ]
  },
  {
   "cell_type": "code",
   "execution_count": 6,
   "metadata": {},
   "outputs": [
    {
     "data": {
      "text/html": [
       "<table>\n",
       "<thead><tr><th scope=col>profit.churned</th><th scope=col>profit.active</th><th scope=col>profit.baseline</th></tr></thead>\n",
       "<tbody>\n",
       "\t<tr><td>0         </td><td>5914481245</td><td>5914481245</td></tr>\n",
       "</tbody>\n",
       "</table>\n"
      ],
      "text/latex": [
       "\\begin{tabular}{r|lll}\n",
       " profit.churned & profit.active & profit.baseline\\\\\n",
       "\\hline\n",
       "\t 0          & 5914481245 & 5914481245\\\\\n",
       "\\end{tabular}\n"
      ],
      "text/markdown": [
       "\n",
       "| profit.churned | profit.active | profit.baseline |\n",
       "|---|---|---|\n",
       "| 0          | 5914481245 | 5914481245 |\n",
       "\n"
      ],
      "text/plain": [
       "  profit.churned profit.active profit.baseline\n",
       "1 0              5914481245    5914481245     "
      ]
     },
     "metadata": {},
     "output_type": "display_data"
    }
   ],
   "source": [
    "profit.churned = 0\n",
    "profit.active = customers * (1-churn_rate) * active_value\n",
    "\n",
    "profit.baseline = profit.active + profit.churned\n",
    "\n",
    "data.frame(profit.churned, profit.active, profit.baseline)"
   ]
  },
  {
   "cell_type": "markdown",
   "metadata": {},
   "source": [
    "### Prepare Data"
   ]
  },
  {
   "cell_type": "markdown",
   "metadata": {},
   "source": [
    "#### Unbalance data\n",
    "\n",
    "Note that the raw data is balanced: equal numbers of active and churned customers.  Unbalance the data by oversampling active customers so that ratio of active to churned customers aligns with assumed churn rate."
   ]
  },
  {
   "cell_type": "code",
   "execution_count": 7,
   "metadata": {},
   "outputs": [
    {
     "data": {
      "text/html": [
       "<table>\n",
       "<thead><tr><th scope=col>n.churned</th><th scope=col>n.active</th></tr></thead>\n",
       "<tbody>\n",
       "\t<tr><td>1000</td><td>1000</td></tr>\n",
       "</tbody>\n",
       "</table>\n"
      ],
      "text/latex": [
       "\\begin{tabular}{r|ll}\n",
       " n.churned & n.active\\\\\n",
       "\\hline\n",
       "\t 1000 & 1000\\\\\n",
       "\\end{tabular}\n"
      ],
      "text/markdown": [
       "\n",
       "| n.churned | n.active |\n",
       "|---|---|\n",
       "| 1000 | 1000 |\n",
       "\n"
      ],
      "text/plain": [
       "  n.churned n.active\n",
       "1 1000      1000    "
      ]
     },
     "metadata": {},
     "output_type": "display_data"
    }
   ],
   "source": [
    "which.churned = which(data.raw$Class==\"Churned\")\n",
    "which.active  = which(data.raw$Class==\"Active\")\n",
    "\n",
    "n.churned = length(which.churned)\n",
    "n.active  = length(which.churned)\n",
    "\n",
    "data.frame(n.churned, n.active)"
   ]
  },
  {
   "cell_type": "code",
   "execution_count": 8,
   "metadata": {},
   "outputs": [
    {
     "data": {
      "text/html": [
       "<table>\n",
       "<thead><tr><th scope=col>n.active.target</th></tr></thead>\n",
       "<tbody>\n",
       "\t<tr><td>5993</td></tr>\n",
       "</tbody>\n",
       "</table>\n"
      ],
      "text/latex": [
       "\\begin{tabular}{r|l}\n",
       " n.active.target\\\\\n",
       "\\hline\n",
       "\t 5993\\\\\n",
       "\\end{tabular}\n"
      ],
      "text/markdown": [
       "\n",
       "| n.active.target |\n",
       "|---|\n",
       "| 5993 |\n",
       "\n"
      ],
      "text/plain": [
       "  n.active.target\n",
       "1 5993           "
      ]
     },
     "metadata": {},
     "output_type": "display_data"
    }
   ],
   "source": [
    "n.active.target = round(n.churned * (1-churn_rate) / churn_rate)\n",
    "\n",
    "data.frame(n.active.target)"
   ]
  },
  {
   "cell_type": "code",
   "execution_count": 9,
   "metadata": {},
   "outputs": [
    {
     "data": {
      "text/html": [
       "<table><tr><td style=\"background-color:white; vertical-align:top; padding-right:40px;\"><table>\n",
       " <thead>\n",
       "  <tr>\n",
       "   <th style=\"text-align:right;background-color: #FFFFFF !important;\"> observations </th>\n",
       "   <th style=\"text-align:right;background-color: #FFFFFF !important;\"> variables </th>\n",
       "  </tr>\n",
       " </thead>\n",
       "<tbody>\n",
       "  <tr>\n",
       "   <td style=\"text-align:right;\"> 6993 </td>\n",
       "   <td style=\"text-align:right;\"> 14 </td>\n",
       "  </tr>\n",
       "</tbody>\n",
       "</table></td><td style=\"background-color:white; vertical-align:top; padding-right:40px;\"><table>\n",
       " <thead>\n",
       "  <tr>\n",
       "   <th style=\"text-align:right;background-color: #FFFFFF !important;\"> churn_rate </th>\n",
       "  </tr>\n",
       " </thead>\n",
       "<tbody>\n",
       "  <tr>\n",
       "   <td style=\"text-align:right;\"> 0.143 </td>\n",
       "  </tr>\n",
       "</tbody>\n",
       "</table></td><td style=\"background-color:white; vertical-align:top;\"><table>\n",
       " <thead>\n",
       "  <tr>\n",
       "   <th style=\"text-align:right;background-color: #FFFFFF !important;\"> churn_rate.calc </th>\n",
       "  </tr>\n",
       " </thead>\n",
       "<tbody>\n",
       "  <tr>\n",
       "   <td style=\"text-align:right;\"> 0.1430001 </td>\n",
       "  </tr>\n",
       "</tbody>\n",
       "</table></td></tr></table>"
      ]
     },
     "metadata": {},
     "output_type": "display_data"
    }
   ],
   "source": [
    "set.seed(12345)\n",
    "which.active.target = sample(which.active, n.active.target, replace=TRUE)\n",
    "\n",
    "data = data.raw[c(which.active.target, which.churned),]\n",
    "\n",
    "layout(size(data), fmt(churn_rate), fmt(length(which(data$Class==\"Churned\"))/nrow(data), \"churn_rate.calc\"))"
   ]
  },
  {
   "cell_type": "markdown",
   "metadata": {},
   "source": [
    "#### Create 5 folds"
   ]
  },
  {
   "cell_type": "code",
   "execution_count": 10,
   "metadata": {},
   "outputs": [],
   "source": [
    "set.seed(12345)\n",
    "fold = createFolds(data$Class, k=5)\n",
    "\n",
    "data.train.1 = data[setdiff(1:nrow(data), fold$Fold1),]\n",
    "data.train.2 = data[setdiff(1:nrow(data), fold$Fold2),]\n",
    "data.train.3 = data[setdiff(1:nrow(data), fold$Fold3),]\n",
    "data.train.4 = data[setdiff(1:nrow(data), fold$Fold4),]\n",
    "data.train.5 = data[setdiff(1:nrow(data), fold$Fold5),]\n",
    "\n",
    "data.test.1 = data[fold$Fold1,]\n",
    "data.test.2 = data[fold$Fold2,]\n",
    "data.test.3 = data[fold$Fold3,]\n",
    "data.test.4 = data[fold$Fold4,]\n",
    "data.test.5 = data[fold$Fold5,]"
   ]
  },
  {
   "cell_type": "markdown",
   "metadata": {},
   "source": [
    "### Intervene with Randomly Selected 10% of Customers\n",
    "\n",
    "Consider the effect on profit of a predictive model that selects 10% of customers at random (only some may be at risk of churn) for intervention (necessarily for would-be churned customers and unnecessarily for active customers).  Evaluate using 5-fold cross-validation. "
   ]
  },
  {
   "cell_type": "markdown",
   "metadata": {},
   "source": [
    "#### Probabilities, predictions, & confusion matrix"
   ]
  },
  {
   "cell_type": "markdown",
   "metadata": {},
   "source": [
    "##### Fold 1: Probabilities, predictions, & confusion matrix"
   ]
  },
  {
   "cell_type": "code",
   "execution_count": 11,
   "metadata": {
    "scrolled": true
   },
   "outputs": [
    {
     "data": {
      "text/html": [
       "<table>\n",
       "<thead><tr><th scope=col>Active</th><th scope=col>Churned</th></tr></thead>\n",
       "<tbody>\n",
       "\t<tr><td>1</td><td>0</td></tr>\n",
       "\t<tr><td>1</td><td>0</td></tr>\n",
       "\t<tr><td>1</td><td>0</td></tr>\n",
       "\t<tr><td>1</td><td>0</td></tr>\n",
       "\t<tr><td>1</td><td>0</td></tr>\n",
       "\t<tr><td>1</td><td>0</td></tr>\n",
       "\t<tr><td>1</td><td>0</td></tr>\n",
       "\t<tr><td>1</td><td>0</td></tr>\n",
       "\t<tr><td>1</td><td>0</td></tr>\n",
       "\t<tr><td>0</td><td>1</td></tr>\n",
       "</tbody>\n",
       "</table>\n"
      ],
      "text/latex": [
       "\\begin{tabular}{r|ll}\n",
       " Active & Churned\\\\\n",
       "\\hline\n",
       "\t 1 & 0\\\\\n",
       "\t 1 & 0\\\\\n",
       "\t 1 & 0\\\\\n",
       "\t 1 & 0\\\\\n",
       "\t 1 & 0\\\\\n",
       "\t 1 & 0\\\\\n",
       "\t 1 & 0\\\\\n",
       "\t 1 & 0\\\\\n",
       "\t 1 & 0\\\\\n",
       "\t 0 & 1\\\\\n",
       "\\end{tabular}\n"
      ],
      "text/markdown": [
       "\n",
       "| Active | Churned |\n",
       "|---|---|\n",
       "| 1 | 0 |\n",
       "| 1 | 0 |\n",
       "| 1 | 0 |\n",
       "| 1 | 0 |\n",
       "| 1 | 0 |\n",
       "| 1 | 0 |\n",
       "| 1 | 0 |\n",
       "| 1 | 0 |\n",
       "| 1 | 0 |\n",
       "| 0 | 1 |\n",
       "\n"
      ],
      "text/plain": [
       "   Active Churned\n",
       "1  1      0      \n",
       "2  1      0      \n",
       "3  1      0      \n",
       "4  1      0      \n",
       "5  1      0      \n",
       "6  1      0      \n",
       "7  1      0      \n",
       "8  1      0      \n",
       "9  1      0      \n",
       "10 0      1      "
      ]
     },
     "metadata": {},
     "output_type": "display_data"
    }
   ],
   "source": [
    "set.seed(12345)\n",
    "model.1 = random_intervention(Class ~ ., data.train.1, intervention_rate=0.10)\n",
    "prob.1 = predict(model.1, data.test.1)\n",
    "prob.1[1:10,]"
   ]
  },
  {
   "cell_type": "code",
   "execution_count": 12,
   "metadata": {
    "scrolled": true
   },
   "outputs": [
    {
     "data": {
      "text/html": [
       "<ol class=list-inline>\n",
       "\t<li>Active</li>\n",
       "\t<li>Active</li>\n",
       "\t<li>Active</li>\n",
       "\t<li>Active</li>\n",
       "\t<li>Active</li>\n",
       "\t<li>Active</li>\n",
       "\t<li>Active</li>\n",
       "\t<li>Active</li>\n",
       "\t<li>Active</li>\n",
       "\t<li>Churned</li>\n",
       "\t<li>Active</li>\n",
       "\t<li>Active</li>\n",
       "\t<li>Active</li>\n",
       "\t<li>Active</li>\n",
       "\t<li>Active</li>\n",
       "\t<li>Active</li>\n",
       "\t<li>Active</li>\n",
       "\t<li>Active</li>\n",
       "\t<li>Active</li>\n",
       "\t<li>Churned</li>\n",
       "\t<li>Active</li>\n",
       "\t<li>Active</li>\n",
       "\t<li>Churned</li>\n",
       "\t<li>Active</li>\n",
       "\t<li>Active</li>\n",
       "\t<li>Active</li>\n",
       "\t<li>Active</li>\n",
       "\t<li>Active</li>\n",
       "\t<li>Active</li>\n",
       "\t<li>Active</li>\n",
       "\t<li>Active</li>\n",
       "\t<li>Active</li>\n",
       "\t<li>Active</li>\n",
       "\t<li>Active</li>\n",
       "\t<li>Active</li>\n",
       "</ol>\n",
       "\n",
       "<details>\n",
       "\t<summary style=display:list-item;cursor:pointer>\n",
       "\t\t<strong>Levels</strong>:\n",
       "\t</summary>\n",
       "\t<ol class=list-inline>\n",
       "\t\t<li>'Active'</li>\n",
       "\t\t<li>'Churned'</li>\n",
       "\t</ol>\n",
       "</details>"
      ],
      "text/latex": [
       "\\begin{enumerate*}\n",
       "\\item Active\n",
       "\\item Active\n",
       "\\item Active\n",
       "\\item Active\n",
       "\\item Active\n",
       "\\item Active\n",
       "\\item Active\n",
       "\\item Active\n",
       "\\item Active\n",
       "\\item Churned\n",
       "\\item Active\n",
       "\\item Active\n",
       "\\item Active\n",
       "\\item Active\n",
       "\\item Active\n",
       "\\item Active\n",
       "\\item Active\n",
       "\\item Active\n",
       "\\item Active\n",
       "\\item Churned\n",
       "\\item Active\n",
       "\\item Active\n",
       "\\item Churned\n",
       "\\item Active\n",
       "\\item Active\n",
       "\\item Active\n",
       "\\item Active\n",
       "\\item Active\n",
       "\\item Active\n",
       "\\item Active\n",
       "\\item Active\n",
       "\\item Active\n",
       "\\item Active\n",
       "\\item Active\n",
       "\\item Active\n",
       "\\end{enumerate*}\n",
       "\n",
       "\\emph{Levels}: \\begin{enumerate*}\n",
       "\\item 'Active'\n",
       "\\item 'Churned'\n",
       "\\end{enumerate*}\n"
      ],
      "text/markdown": [
       "1. Active\n",
       "2. Active\n",
       "3. Active\n",
       "4. Active\n",
       "5. Active\n",
       "6. Active\n",
       "7. Active\n",
       "8. Active\n",
       "9. Active\n",
       "10. Churned\n",
       "11. Active\n",
       "12. Active\n",
       "13. Active\n",
       "14. Active\n",
       "15. Active\n",
       "16. Active\n",
       "17. Active\n",
       "18. Active\n",
       "19. Active\n",
       "20. Churned\n",
       "21. Active\n",
       "22. Active\n",
       "23. Churned\n",
       "24. Active\n",
       "25. Active\n",
       "26. Active\n",
       "27. Active\n",
       "28. Active\n",
       "29. Active\n",
       "30. Active\n",
       "31. Active\n",
       "32. Active\n",
       "33. Active\n",
       "34. Active\n",
       "35. Active\n",
       "\n",
       "\n",
       "\n",
       "**Levels**: 1. 'Active'\n",
       "2. 'Churned'\n",
       "\n",
       "\n"
      ],
      "text/plain": [
       " [1] Active  Active  Active  Active  Active  Active  Active  Active  Active \n",
       "[10] Churned Active  Active  Active  Active  Active  Active  Active  Active \n",
       "[19] Active  Churned Active  Active  Churned Active  Active  Active  Active \n",
       "[28] Active  Active  Active  Active  Active  Active  Active  Active \n",
       "Levels: Active Churned"
      ]
     },
     "metadata": {},
     "output_type": "display_data"
    }
   ],
   "source": [
    "prediction.1 = as.class(prob.1, class=\"Active\", cutoff=0.5)\n",
    "prediction.1[1:35]"
   ]
  },
  {
   "cell_type": "code",
   "execution_count": 13,
   "metadata": {},
   "outputs": [
    {
     "data": {
      "text/html": [
       "<table>\n",
       "<caption><center><font color=\"black\"><b>CM.1</b></font></center></caption>\n",
       " <thead>\n",
       "  <tr>\n",
       "   <th style=\"text-align:left;background-color: #FFFFFF !important;\">   </th>\n",
       "   <th style=\"text-align:right;background-color: #FFFFFF !important;\"> Active </th>\n",
       "   <th style=\"text-align:right;background-color: #FFFFFF !important;\"> Churned </th>\n",
       "  </tr>\n",
       " </thead>\n",
       "<tbody>\n",
       "  <tr>\n",
       "   <td style=\"text-align:left;font-weight: bold;\"> Active </td>\n",
       "   <td style=\"text-align:right;\"> 1082 </td>\n",
       "   <td style=\"text-align:right;\"> 178 </td>\n",
       "  </tr>\n",
       "  <tr>\n",
       "   <td style=\"text-align:left;font-weight: bold;\"> Churned </td>\n",
       "   <td style=\"text-align:right;\"> 116 </td>\n",
       "   <td style=\"text-align:right;\"> 22 </td>\n",
       "  </tr>\n",
       "</tbody>\n",
       "</table>"
      ]
     },
     "metadata": {},
     "output_type": "display_data"
    }
   ],
   "source": [
    "CM.1 = confusionMatrix(prediction.1, data.test.1$Class)$table\n",
    "fmt.cm(CM.1)"
   ]
  },
  {
   "cell_type": "code",
   "execution_count": 14,
   "metadata": {},
   "outputs": [
    {
     "data": {
      "text/html": [
       "<table>\n",
       "<caption><center><font color=\"black\"><b>cm.1</b></font></center></caption>\n",
       " <thead>\n",
       "  <tr>\n",
       "   <th style=\"text-align:left;background-color: #FFFFFF !important;\">   </th>\n",
       "   <th style=\"text-align:right;background-color: #FFFFFF !important;\"> Active </th>\n",
       "   <th style=\"text-align:right;background-color: #FFFFFF !important;\"> Churned </th>\n",
       "  </tr>\n",
       " </thead>\n",
       "<tbody>\n",
       "  <tr>\n",
       "   <td style=\"text-align:left;font-weight: bold;\"> Active </td>\n",
       "   <td style=\"text-align:right;\"> 0.7739628 </td>\n",
       "   <td style=\"text-align:right;\"> 0.1273247 </td>\n",
       "  </tr>\n",
       "  <tr>\n",
       "   <td style=\"text-align:left;font-weight: bold;\"> Churned </td>\n",
       "   <td style=\"text-align:right;\"> 0.0829757 </td>\n",
       "   <td style=\"text-align:right;\"> 0.0157368 </td>\n",
       "  </tr>\n",
       "</tbody>\n",
       "</table>"
      ]
     },
     "metadata": {},
     "output_type": "display_data"
    }
   ],
   "source": [
    "cm.1 = CM.1 / sum(CM.1)\n",
    "fmt.cm(cm.1)"
   ]
  },
  {
   "cell_type": "markdown",
   "metadata": {},
   "source": [
    "##### Folds 2, 3, 4, 5:  Probabilities, predictions, & confusion matrices"
   ]
  },
  {
   "cell_type": "code",
   "execution_count": 15,
   "metadata": {
    "scrolled": true
   },
   "outputs": [
    {
     "data": {
      "text/html": [
       "<table><tr><td style=\"background-color:white; vertical-align:top; padding-right:40px;\"><table>\n",
       "<caption><center><font color=\"black\"><b>cm.2</b></font></center></caption>\n",
       " <thead>\n",
       "  <tr>\n",
       "   <th style=\"text-align:left;background-color: #FFFFFF !important;\">   </th>\n",
       "   <th style=\"text-align:right;background-color: #FFFFFF !important;\"> Active </th>\n",
       "   <th style=\"text-align:right;background-color: #FFFFFF !important;\"> Churned </th>\n",
       "  </tr>\n",
       " </thead>\n",
       "<tbody>\n",
       "  <tr>\n",
       "   <td style=\"text-align:left;font-weight: bold;\"> Active </td>\n",
       "   <td style=\"text-align:right;\"> 0.7769836 </td>\n",
       "   <td style=\"text-align:right;\"> 0.1322373 </td>\n",
       "  </tr>\n",
       "  <tr>\n",
       "   <td style=\"text-align:left;font-weight: bold;\"> Churned </td>\n",
       "   <td style=\"text-align:right;\"> 0.0800572 </td>\n",
       "   <td style=\"text-align:right;\"> 0.0107219 </td>\n",
       "  </tr>\n",
       "</tbody>\n",
       "</table></td><td style=\"background-color:white; vertical-align:top; padding-right:40px;\"><table>\n",
       "<caption><center><font color=\"black\"><b>cm.3</b></font></center></caption>\n",
       " <thead>\n",
       "  <tr>\n",
       "   <th style=\"text-align:left;background-color: #FFFFFF !important;\">   </th>\n",
       "   <th style=\"text-align:right;background-color: #FFFFFF !important;\"> Active </th>\n",
       "   <th style=\"text-align:right;background-color: #FFFFFF !important;\"> Churned </th>\n",
       "  </tr>\n",
       " </thead>\n",
       "<tbody>\n",
       "  <tr>\n",
       "   <td style=\"text-align:left;font-weight: bold;\"> Active </td>\n",
       "   <td style=\"text-align:right;\"> 0.7805575 </td>\n",
       "   <td style=\"text-align:right;\"> 0.1236598 </td>\n",
       "  </tr>\n",
       "  <tr>\n",
       "   <td style=\"text-align:left;font-weight: bold;\"> Churned </td>\n",
       "   <td style=\"text-align:right;\"> 0.0764832 </td>\n",
       "   <td style=\"text-align:right;\"> 0.0192995 </td>\n",
       "  </tr>\n",
       "</tbody>\n",
       "</table></td><td style=\"background-color:white; vertical-align:top; padding-right:40px;\"><table>\n",
       "<caption><center><font color=\"black\"><b>cm.4</b></font></center></caption>\n",
       " <thead>\n",
       "  <tr>\n",
       "   <th style=\"text-align:left;background-color: #FFFFFF !important;\">   </th>\n",
       "   <th style=\"text-align:right;background-color: #FFFFFF !important;\"> Active </th>\n",
       "   <th style=\"text-align:right;background-color: #FFFFFF !important;\"> Churned </th>\n",
       "  </tr>\n",
       " </thead>\n",
       "<tbody>\n",
       "  <tr>\n",
       "   <td style=\"text-align:left;font-weight: bold;\"> Active </td>\n",
       "   <td style=\"text-align:right;\"> 0.7726948 </td>\n",
       "   <td style=\"text-align:right;\"> 0.1243746 </td>\n",
       "  </tr>\n",
       "  <tr>\n",
       "   <td style=\"text-align:left;font-weight: bold;\"> Churned </td>\n",
       "   <td style=\"text-align:right;\"> 0.0843460 </td>\n",
       "   <td style=\"text-align:right;\"> 0.0185847 </td>\n",
       "  </tr>\n",
       "</tbody>\n",
       "</table></td><td style=\"background-color:white; vertical-align:top;\"><table>\n",
       "<caption><center><font color=\"black\"><b>cm.5</b></font></center></caption>\n",
       " <thead>\n",
       "  <tr>\n",
       "   <th style=\"text-align:left;background-color: #FFFFFF !important;\">   </th>\n",
       "   <th style=\"text-align:right;background-color: #FFFFFF !important;\"> Active </th>\n",
       "   <th style=\"text-align:right;background-color: #FFFFFF !important;\"> Churned </th>\n",
       "  </tr>\n",
       " </thead>\n",
       "<tbody>\n",
       "  <tr>\n",
       "   <td style=\"text-align:left;font-weight: bold;\"> Active </td>\n",
       "   <td style=\"text-align:right;\"> 0.7718169 </td>\n",
       "   <td style=\"text-align:right;\"> 0.1258941 </td>\n",
       "  </tr>\n",
       "  <tr>\n",
       "   <td style=\"text-align:left;font-weight: bold;\"> Churned </td>\n",
       "   <td style=\"text-align:right;\"> 0.0851216 </td>\n",
       "   <td style=\"text-align:right;\"> 0.0171674 </td>\n",
       "  </tr>\n",
       "</tbody>\n",
       "</table></td></tr></table>"
      ]
     },
     "metadata": {},
     "output_type": "display_data"
    }
   ],
   "source": [
    "set.seed(123456)\n",
    "\n",
    "model.2 = random_intervention(Class ~ ., data.train.2, intervention_rate=0.10)\n",
    "prob.2 = predict(model.2, data.test.2)\n",
    "prediction.2 = as.class(prob.2, class=\"Active\", cutoff=0.5)\n",
    "CM.2 = confusionMatrix(prediction.2, data.test.2$Class)$table\n",
    "cm.2 = CM.2 / sum(CM.2)\n",
    "\n",
    "model.3 = random_intervention(Class ~ ., data.train.3, intervention_rate=0.10)\n",
    "prob.3 = predict(model.3, data.test.3)\n",
    "prediction.3 = as.class(prob.3, class=\"Active\", cutoff=0.5)\n",
    "CM.3 = confusionMatrix(prediction.3, data.test.3$Class)$table\n",
    "cm.3 = CM.3 / sum(CM.3)\n",
    "\n",
    "model.4 = random_intervention(Class ~ ., data.train.4, intervention_rate=0.10)\n",
    "prob.4 = predict(model.4, data.test.4)\n",
    "prediction.4 = as.class(prob.4, class=\"Active\", cutoff=0.5)\n",
    "CM.4 = confusionMatrix(prediction.4, data.test.4$Class)$table\n",
    "cm.4 = CM.4 / sum(CM.4)\n",
    "\n",
    "model.5 = random_intervention(Class ~ ., data.train.5, intervention_rate=0.10)\n",
    "prob.5 = predict(model.5, data.test.5)\n",
    "prediction.5 = as.class(prob.5, class=\"Active\", cutoff=0.5)\n",
    "CM.5 = confusionMatrix(prediction.5, data.test.5$Class)$table\n",
    "cm.5 = CM.5 / sum(CM.5)\n",
    "\n",
    "layout(fmt.cm(cm.2), fmt.cm(cm.3), fmt.cm(cm.4), fmt.cm(cm.5))"
   ]
  },
  {
   "cell_type": "markdown",
   "metadata": {},
   "source": [
    "#### Accuracy"
   ]
  },
  {
   "cell_type": "code",
   "execution_count": 16,
   "metadata": {},
   "outputs": [
    {
     "data": {
      "text/html": [
       "<table>\n",
       "<thead><tr><th scope=col>accuracy.random10</th></tr></thead>\n",
       "<tbody>\n",
       "\t<tr><td>0.7915052</td></tr>\n",
       "</tbody>\n",
       "</table>\n"
      ],
      "text/latex": [
       "\\begin{tabular}{r|l}\n",
       " accuracy.random10\\\\\n",
       "\\hline\n",
       "\t 0.7915052\\\\\n",
       "\\end{tabular}\n"
      ],
      "text/markdown": [
       "\n",
       "| accuracy.random10 |\n",
       "|---|\n",
       "| 0.7915052 |\n",
       "\n"
      ],
      "text/plain": [
       "  accuracy.random10\n",
       "1 0.7915052        "
      ]
     },
     "metadata": {},
     "output_type": "display_data"
    }
   ],
   "source": [
    "accuracy.1 = cm.1[\"Active\",\"Active\"]+cm.1[\"Churned\",\"Churned\"]\n",
    "accuracy.2 = cm.2[\"Active\",\"Active\"]+cm.2[\"Churned\",\"Churned\"]\n",
    "accuracy.3 = cm.3[\"Active\",\"Active\"]+cm.3[\"Churned\",\"Churned\"]\n",
    "accuracy.4 = cm.4[\"Active\",\"Active\"]+cm.4[\"Churned\",\"Churned\"]\n",
    "accuracy.5 = cm.5[\"Active\",\"Active\"]+cm.5[\"Churned\",\"Churned\"]\n",
    "\n",
    "accuracy.random10 = mean(c(accuracy.1, accuracy.2, accuracy.3, accuracy.4, accuracy.5))\n",
    "data.frame(accuracy.random10)"
   ]
  },
  {
   "cell_type": "markdown",
   "metadata": {},
   "source": [
    "#### Profit"
   ]
  },
  {
   "cell_type": "markdown",
   "metadata": {},
   "source": [
    "##### Fold 1: Profit"
   ]
  },
  {
   "cell_type": "code",
   "execution_count": 17,
   "metadata": {},
   "outputs": [
    {
     "data": {
      "text/html": [
       "<table>\n",
       "<thead><tr><th scope=col>active_active.1</th><th scope=col>active_churned.1</th><th scope=col>churned_active.1</th><th scope=col>churned_churned.1</th></tr></thead>\n",
       "<tbody>\n",
       "\t<tr><td>774018</td><td>127270</td><td>82982 </td><td>15730 </td></tr>\n",
       "</tbody>\n",
       "</table>\n"
      ],
      "text/latex": [
       "\\begin{tabular}{r|llll}\n",
       " active\\_active.1 & active\\_churned.1 & churned\\_active.1 & churned\\_churned.1\\\\\n",
       "\\hline\n",
       "\t 774018 & 127270 & 82982  & 15730 \\\\\n",
       "\\end{tabular}\n"
      ],
      "text/markdown": [
       "\n",
       "| active_active.1 | active_churned.1 | churned_active.1 | churned_churned.1 |\n",
       "|---|---|---|---|\n",
       "| 774018 | 127270 | 82982  | 15730  |\n",
       "\n"
      ],
      "text/plain": [
       "  active_active.1 active_churned.1 churned_active.1 churned_churned.1\n",
       "1 774018          127270           82982            15730            "
      ]
     },
     "metadata": {},
     "output_type": "display_data"
    }
   ],
   "source": [
    "active_active.1   = round(customers * (1-churn_rate) * cm.1[\"Active\",\"Active\"]/sum(cm.1[,\"Active\"]))\n",
    "active_churned.1  = round(customers * churn_rate * cm.1[\"Active\",\"Churned\"]/sum(cm.1[,\"Churned\"]))\n",
    "churned_active.1  = round(customers * (1-churn_rate) * cm.1[\"Churned\",\"Active\"]/sum(cm.1[,\"Active\"]))\n",
    "churned_churned.1 = round(customers * churn_rate * cm.1[\"Churned\",\"Churned\"]/sum(cm.1[,\"Churned\"]))\n",
    "\n",
    "data.frame(active_active.1, active_churned.1, churned_active.1, churned_churned.1)"
   ]
  },
  {
   "cell_type": "code",
   "execution_count": 18,
   "metadata": {
    "scrolled": true
   },
   "outputs": [
    {
     "data": {
      "text/html": [
       "<table>\n",
       "<thead><tr><th scope=col>profit.churned_churned.1</th><th scope=col>profit.active_churned.1</th><th scope=col>profit.churned_active.1</th><th scope=col>profit.active_active.1</th><th scope=col>profit.1</th></tr></thead>\n",
       "<tbody>\n",
       "\t<tr><td>7703228   </td><td>0         </td><td>531199178 </td><td>5341791067</td><td>5880693473</td></tr>\n",
       "</tbody>\n",
       "</table>\n"
      ],
      "text/latex": [
       "\\begin{tabular}{r|lllll}\n",
       " profit.churned\\_churned.1 & profit.active\\_churned.1 & profit.churned\\_active.1 & profit.active\\_active.1 & profit.1\\\\\n",
       "\\hline\n",
       "\t 7703228    & 0          & 531199178  & 5341791067 & 5880693473\\\\\n",
       "\\end{tabular}\n"
      ],
      "text/markdown": [
       "\n",
       "| profit.churned_churned.1 | profit.active_churned.1 | profit.churned_active.1 | profit.active_active.1 | profit.1 |\n",
       "|---|---|---|---|---|\n",
       "| 7703228    | 0          | 531199178  | 5341791067 | 5880693473 |\n",
       "\n"
      ],
      "text/plain": [
       "  profit.churned_churned.1 profit.active_churned.1 profit.churned_active.1\n",
       "1 7703228                  0                       531199178              \n",
       "  profit.active_active.1 profit.1  \n",
       "1 5341791067             5880693473"
      ]
     },
     "metadata": {},
     "output_type": "display_data"
    }
   ],
   "source": [
    "profit.churned_churned.1 = ((churned_churned.1 * save_rate * churned_value) - (churned_churned.1 * intervention_cost))\n",
    "profit.active_churned.1 = 0\n",
    "profit.churned_active.1 = (churned_active.1 * active_value) - (churned_active.1 * intervention_cost)\n",
    "profit.active_active.1 = (active_active.1 * active_value)\n",
    "profit.1 = profit.churned_churned.1 + profit.active_churned.1 + profit.churned_active.1 + profit.active_active.1\n",
    "\n",
    "data.frame(profit.churned_churned.1, profit.active_churned.1, profit.churned_active.1, profit.active_active.1, profit.1)"
   ]
  },
  {
   "cell_type": "markdown",
   "metadata": {},
   "source": [
    "##### Fold 2: Profit"
   ]
  },
  {
   "cell_type": "code",
   "execution_count": 19,
   "metadata": {
    "scrolled": true
   },
   "outputs": [
    {
     "data": {
      "text/html": [
       "<table>\n",
       "<thead><tr><th scope=col>profit.churned_churned.2</th><th scope=col>profit.active_churned.2</th><th scope=col>profit.churned_active.2</th><th scope=col>profit.active_active.2</th><th scope=col>profit.2</th></tr></thead>\n",
       "<tbody>\n",
       "\t<tr><td>5252201   </td><td>0         </td><td>512449541 </td><td>5362005204</td><td>5879706946</td></tr>\n",
       "</tbody>\n",
       "</table>\n"
      ],
      "text/latex": [
       "\\begin{tabular}{r|lllll}\n",
       " profit.churned\\_churned.2 & profit.active\\_churned.2 & profit.churned\\_active.2 & profit.active\\_active.2 & profit.2\\\\\n",
       "\\hline\n",
       "\t 5252201    & 0          & 512449541  & 5362005204 & 5879706946\\\\\n",
       "\\end{tabular}\n"
      ],
      "text/markdown": [
       "\n",
       "| profit.churned_churned.2 | profit.active_churned.2 | profit.churned_active.2 | profit.active_active.2 | profit.2 |\n",
       "|---|---|---|---|---|\n",
       "| 5252201    | 0          | 512449541  | 5362005204 | 5879706946 |\n",
       "\n"
      ],
      "text/plain": [
       "  profit.churned_churned.2 profit.active_churned.2 profit.churned_active.2\n",
       "1 5252201                  0                       512449541              \n",
       "  profit.active_active.2 profit.2  \n",
       "1 5362005204             5879706946"
      ]
     },
     "metadata": {},
     "output_type": "display_data"
    }
   ],
   "source": [
    "active_active.2   = round(customers * (1-churn_rate) * cm.2[\"Active\",\"Active\"]/sum(cm.2[,\"Active\"]))\n",
    "active_churned.2  = round(customers * churn_rate * cm.2[\"Active\",\"Churned\"]/sum(cm.2[,\"Churned\"]))\n",
    "churned_active.2  = round(customers * (1-churn_rate) * cm.2[\"Churned\",\"Active\"]/sum(cm.2[,\"Active\"]))\n",
    "churned_churned.2 = round(customers * churn_rate * cm.2[\"Churned\",\"Churned\"]/sum(cm.2[,\"Churned\"]))\n",
    "\n",
    "profit.churned_churned.2 = ((churned_churned.2 * save_rate * churned_value) - (churned_churned.2 * intervention_cost))\n",
    "profit.active_churned.2 = 0\n",
    "profit.churned_active.2 = (churned_active.2 * active_value) - (churned_active.2 * intervention_cost)\n",
    "profit.active_active.2 = (active_active.2 * active_value)\n",
    "profit.2 = profit.churned_churned.2 + profit.active_churned.2 + profit.churned_active.2 + profit.active_active.2\n",
    "\n",
    "data.frame(profit.churned_churned.2, profit.active_churned.2, profit.churned_active.2, profit.active_active.2, profit.2)"
   ]
  },
  {
   "cell_type": "markdown",
   "metadata": {},
   "source": [
    "##### Fold 3: Profit"
   ]
  },
  {
   "cell_type": "code",
   "execution_count": 20,
   "metadata": {},
   "outputs": [
    {
     "data": {
      "text/html": [
       "<table>\n",
       "<thead><tr><th scope=col>profit.churned_churned.3</th><th scope=col>profit.active_churned.3</th><th scope=col>profit.churned_active.3</th><th scope=col>profit.active_active.3</th><th scope=col>profit.3</th></tr></thead>\n",
       "<tbody>\n",
       "\t<tr><td>9453962   </td><td>0         </td><td>489577416 </td><td>5386663829</td><td>5885695207</td></tr>\n",
       "</tbody>\n",
       "</table>\n"
      ],
      "text/latex": [
       "\\begin{tabular}{r|lllll}\n",
       " profit.churned\\_churned.3 & profit.active\\_churned.3 & profit.churned\\_active.3 & profit.active\\_active.3 & profit.3\\\\\n",
       "\\hline\n",
       "\t 9453962    & 0          & 489577416  & 5386663829 & 5885695207\\\\\n",
       "\\end{tabular}\n"
      ],
      "text/markdown": [
       "\n",
       "| profit.churned_churned.3 | profit.active_churned.3 | profit.churned_active.3 | profit.active_active.3 | profit.3 |\n",
       "|---|---|---|---|---|\n",
       "| 9453962    | 0          | 489577416  | 5386663829 | 5885695207 |\n",
       "\n"
      ],
      "text/plain": [
       "  profit.churned_churned.3 profit.active_churned.3 profit.churned_active.3\n",
       "1 9453962                  0                       489577416              \n",
       "  profit.active_active.3 profit.3  \n",
       "1 5386663829             5885695207"
      ]
     },
     "metadata": {},
     "output_type": "display_data"
    }
   ],
   "source": [
    "active_active.3   = round(customers * (1-churn_rate) * cm.3[\"Active\",\"Active\"]/sum(cm.3[,\"Active\"]))\n",
    "active_churned.3  = round(customers * churn_rate * cm.3[\"Active\",\"Churned\"]/sum(cm.3[,\"Churned\"]))\n",
    "churned_active.3  = round(customers * (1-churn_rate) * cm.3[\"Churned\",\"Active\"]/sum(cm.3[,\"Active\"]))\n",
    "churned_churned.3 = round(customers * churn_rate * cm.3[\"Churned\",\"Churned\"]/sum(cm.3[,\"Churned\"]))\n",
    "\n",
    "profit.churned_churned.3 = ((churned_churned.3 * save_rate * churned_value) - (churned_churned.3 * intervention_cost))\n",
    "profit.active_churned.3 = 0\n",
    "profit.churned_active.3 = (churned_active.3 * active_value) - (churned_active.3 * intervention_cost)\n",
    "profit.active_active.3 = (active_active.3 * active_value)\n",
    "profit.3 = profit.churned_churned.3 + profit.active_churned.3 + profit.churned_active.3 + profit.active_active.3\n",
    "\n",
    "data.frame(profit.churned_churned.3, profit.active_churned.3, profit.churned_active.3, profit.active_active.3, profit.3)"
   ]
  },
  {
   "cell_type": "markdown",
   "metadata": {},
   "source": [
    "##### Fold 4: Profit"
   ]
  },
  {
   "cell_type": "code",
   "execution_count": 21,
   "metadata": {},
   "outputs": [
    {
     "data": {
      "text/html": [
       "<table>\n",
       "<thead><tr><th scope=col>profit.churned_churned.4</th><th scope=col>profit.active_churned.4</th><th scope=col>profit.churned_active.4</th><th scope=col>profit.active_active.4</th><th scope=col>profit.4</th></tr></thead>\n",
       "<tbody>\n",
       "\t<tr><td>9103815   </td><td>0         </td><td>539905053 </td><td>5332405192</td><td>5881414060</td></tr>\n",
       "</tbody>\n",
       "</table>\n"
      ],
      "text/latex": [
       "\\begin{tabular}{r|lllll}\n",
       " profit.churned\\_churned.4 & profit.active\\_churned.4 & profit.churned\\_active.4 & profit.active\\_active.4 & profit.4\\\\\n",
       "\\hline\n",
       "\t 9103815    & 0          & 539905053  & 5332405192 & 5881414060\\\\\n",
       "\\end{tabular}\n"
      ],
      "text/markdown": [
       "\n",
       "| profit.churned_churned.4 | profit.active_churned.4 | profit.churned_active.4 | profit.active_active.4 | profit.4 |\n",
       "|---|---|---|---|---|\n",
       "| 9103815    | 0          | 539905053  | 5332405192 | 5881414060 |\n",
       "\n"
      ],
      "text/plain": [
       "  profit.churned_churned.4 profit.active_churned.4 profit.churned_active.4\n",
       "1 9103815                  0                       539905053              \n",
       "  profit.active_active.4 profit.4  \n",
       "1 5332405192             5881414060"
      ]
     },
     "metadata": {},
     "output_type": "display_data"
    }
   ],
   "source": [
    "active_active.4   = round(customers * (1-churn_rate) * cm.4[\"Active\",\"Active\"]/sum(cm.4[,\"Active\"]))\n",
    "active_churned.4  = round(customers * churn_rate * cm.4[\"Active\",\"Churned\"]/sum(cm.4[,\"Churned\"]))\n",
    "churned_active.4  = round(customers * (1-churn_rate) * cm.4[\"Churned\",\"Active\"]/sum(cm.4[,\"Active\"]))\n",
    "churned_churned.4 = round(customers * churn_rate * cm.4[\"Churned\",\"Churned\"]/sum(cm.4[,\"Churned\"]))\n",
    "\n",
    "profit.churned_churned.4 = ((churned_churned.4 * save_rate * churned_value) - (churned_churned.4 * intervention_cost))\n",
    "profit.active_churned.4 = 0\n",
    "profit.churned_active.4 = (churned_active.4 * active_value) - (churned_active.4 * intervention_cost)\n",
    "profit.active_active.4 = (active_active.4 * active_value)\n",
    "profit.4 = profit.churned_churned.4 + profit.active_churned.4 + profit.churned_active.4 + profit.active_active.4\n",
    "\n",
    "data.frame(profit.churned_churned.4, profit.active_churned.4, profit.churned_active.4, profit.active_active.4, profit.4)"
   ]
  },
  {
   "cell_type": "markdown",
   "metadata": {},
   "source": [
    "##### Fold 5: Profit"
   ]
  },
  {
   "cell_type": "code",
   "execution_count": 22,
   "metadata": {},
   "outputs": [
    {
     "data": {
      "text/html": [
       "<table>\n",
       "<thead><tr><th scope=col>profit.churned_churned.5</th><th scope=col>profit.active_churned.5</th><th scope=col>profit.churned_active.5</th><th scope=col>profit.active_active.5</th><th scope=col>profit.5</th></tr></thead>\n",
       "<tbody>\n",
       "\t<tr><td>8403522   </td><td>0         </td><td>544936536 </td><td>5326980709</td><td>5880320767</td></tr>\n",
       "</tbody>\n",
       "</table>\n"
      ],
      "text/latex": [
       "\\begin{tabular}{r|lllll}\n",
       " profit.churned\\_churned.5 & profit.active\\_churned.5 & profit.churned\\_active.5 & profit.active\\_active.5 & profit.5\\\\\n",
       "\\hline\n",
       "\t 8403522    & 0          & 544936536  & 5326980709 & 5880320767\\\\\n",
       "\\end{tabular}\n"
      ],
      "text/markdown": [
       "\n",
       "| profit.churned_churned.5 | profit.active_churned.5 | profit.churned_active.5 | profit.active_active.5 | profit.5 |\n",
       "|---|---|---|---|---|\n",
       "| 8403522    | 0          | 544936536  | 5326980709 | 5880320767 |\n",
       "\n"
      ],
      "text/plain": [
       "  profit.churned_churned.5 profit.active_churned.5 profit.churned_active.5\n",
       "1 8403522                  0                       544936536              \n",
       "  profit.active_active.5 profit.5  \n",
       "1 5326980709             5880320767"
      ]
     },
     "metadata": {},
     "output_type": "display_data"
    }
   ],
   "source": [
    "active_active.5   = round(customers * (1-churn_rate) * cm.5[\"Active\",\"Active\"]/sum(cm.5[,\"Active\"]))\n",
    "active_churned.5  = round(customers * churn_rate * cm.5[\"Active\",\"Churned\"]/sum(cm.5[,\"Churned\"]))\n",
    "churned_active.5  = round(customers * (1-churn_rate) * cm.5[\"Churned\",\"Active\"]/sum(cm.5[,\"Active\"]))\n",
    "churned_churned.5 = round(customers * churn_rate * cm.5[\"Churned\",\"Churned\"]/sum(cm.5[,\"Churned\"]))\n",
    "\n",
    "profit.churned_churned.5 = ((churned_churned.5 * save_rate * churned_value) - (churned_churned.5 * intervention_cost))\n",
    "profit.active_churned.5 = 0\n",
    "profit.churned_active.5 = (churned_active.5 * active_value) - (churned_active.5 * intervention_cost)\n",
    "profit.active_active.5 = (active_active.5 * active_value)\n",
    "profit.5 = profit.churned_churned.5 + profit.active_churned.5 + profit.churned_active.5 + profit.active_active.5\n",
    "\n",
    "data.frame(profit.churned_churned.5, profit.active_churned.5, profit.churned_active.5, profit.active_active.5, profit.5)"
   ]
  },
  {
   "cell_type": "markdown",
   "metadata": {},
   "source": [
    "##### Average Profit"
   ]
  },
  {
   "cell_type": "code",
   "execution_count": 23,
   "metadata": {},
   "outputs": [
    {
     "data": {
      "text/html": [
       "<table>\n",
       "<thead><tr><th scope=col>profit.random10</th></tr></thead>\n",
       "<tbody>\n",
       "\t<tr><td>5881566091</td></tr>\n",
       "</tbody>\n",
       "</table>\n"
      ],
      "text/latex": [
       "\\begin{tabular}{r|l}\n",
       " profit.random10\\\\\n",
       "\\hline\n",
       "\t 5881566091\\\\\n",
       "\\end{tabular}\n"
      ],
      "text/markdown": [
       "\n",
       "| profit.random10 |\n",
       "|---|\n",
       "| 5881566091 |\n",
       "\n"
      ],
      "text/plain": [
       "  profit.random10\n",
       "1 5881566091     "
      ]
     },
     "metadata": {},
     "output_type": "display_data"
    }
   ],
   "source": [
    "profit.random10 = mean(c(profit.1, profit.2, profit.3, profit.4, profit.5))\n",
    "data.frame(profit.random10)"
   ]
  },
  {
   "cell_type": "markdown",
   "metadata": {},
   "source": [
    "### Intervene with Randomly Selected 20% of Customers\n",
    "\n",
    "Consider the effect on profit of a predictive model that selects 20% of customers at random (only some may be at risk of churn) for intervention (necessarily for would-be churned customers and unnecessarily for active customers).  Evaluate using 5-fold cross-validation. "
   ]
  },
  {
   "cell_type": "markdown",
   "metadata": {},
   "source": [
    "#### Probabilities, predictions, & confusion matrices\n",
    "\n",
    "Note that correct prediction of active observations is high because most of the observations in the test data are active.  In constrast, correct prediction of churned observations is 3 times lower than incorrect prediction of churned observations.   "
   ]
  },
  {
   "cell_type": "code",
   "execution_count": 24,
   "metadata": {
    "scrolled": false
   },
   "outputs": [
    {
     "data": {
      "text/html": [
       "<table><tr><td style=\"background-color:white; vertical-align:top; padding-right:40px;\"><table>\n",
       "<caption><center><font color=\"black\"><b>cm.1</b></font></center></caption>\n",
       " <thead>\n",
       "  <tr>\n",
       "   <th style=\"text-align:left;background-color: #FFFFFF !important;\">   </th>\n",
       "   <th style=\"text-align:right;background-color: #FFFFFF !important;\"> Active </th>\n",
       "   <th style=\"text-align:right;background-color: #FFFFFF !important;\"> Churned </th>\n",
       "  </tr>\n",
       " </thead>\n",
       "<tbody>\n",
       "  <tr>\n",
       "   <td style=\"text-align:left;font-weight: bold;\"> Active </td>\n",
       "   <td style=\"text-align:right;\"> 0.6859800 </td>\n",
       "   <td style=\"text-align:right;\"> 0.1087268 </td>\n",
       "  </tr>\n",
       "  <tr>\n",
       "   <td style=\"text-align:left;font-weight: bold;\"> Churned </td>\n",
       "   <td style=\"text-align:right;\"> 0.1709585 </td>\n",
       "   <td style=\"text-align:right;\"> 0.0343348 </td>\n",
       "  </tr>\n",
       "</tbody>\n",
       "</table></td><td style=\"background-color:white; vertical-align:top; padding-right:40px;\"><table>\n",
       "<caption><center><font color=\"black\"><b>cm.2</b></font></center></caption>\n",
       " <thead>\n",
       "  <tr>\n",
       "   <th style=\"text-align:left;background-color: #FFFFFF !important;\">   </th>\n",
       "   <th style=\"text-align:right;background-color: #FFFFFF !important;\"> Active </th>\n",
       "   <th style=\"text-align:right;background-color: #FFFFFF !important;\"> Churned </th>\n",
       "  </tr>\n",
       " </thead>\n",
       "<tbody>\n",
       "  <tr>\n",
       "   <td style=\"text-align:left;font-weight: bold;\"> Active </td>\n",
       "   <td style=\"text-align:right;\"> 0.6754825 </td>\n",
       "   <td style=\"text-align:right;\"> 0.1193710 </td>\n",
       "  </tr>\n",
       "  <tr>\n",
       "   <td style=\"text-align:left;font-weight: bold;\"> Churned </td>\n",
       "   <td style=\"text-align:right;\"> 0.1815583 </td>\n",
       "   <td style=\"text-align:right;\"> 0.0235883 </td>\n",
       "  </tr>\n",
       "</tbody>\n",
       "</table></td><td style=\"background-color:white; vertical-align:top;\"><table>\n",
       "<caption><center><font color=\"black\"><b>cm.3</b></font></center></caption>\n",
       " <thead>\n",
       "  <tr>\n",
       "   <th style=\"text-align:left;background-color: #FFFFFF !important;\">   </th>\n",
       "   <th style=\"text-align:right;background-color: #FFFFFF !important;\"> Active </th>\n",
       "   <th style=\"text-align:right;background-color: #FFFFFF !important;\"> Churned </th>\n",
       "  </tr>\n",
       " </thead>\n",
       "<tbody>\n",
       "  <tr>\n",
       "   <td style=\"text-align:left;font-weight: bold;\"> Active </td>\n",
       "   <td style=\"text-align:right;\"> 0.6876340 </td>\n",
       "   <td style=\"text-align:right;\"> 0.1179414 </td>\n",
       "  </tr>\n",
       "  <tr>\n",
       "   <td style=\"text-align:left;font-weight: bold;\"> Churned </td>\n",
       "   <td style=\"text-align:right;\"> 0.1694067 </td>\n",
       "   <td style=\"text-align:right;\"> 0.0250179 </td>\n",
       "  </tr>\n",
       "</tbody>\n",
       "</table></td></tr></table>"
      ]
     },
     "metadata": {},
     "output_type": "display_data"
    },
    {
     "data": {
      "text/html": [
       "<table><tr><td style=\"background-color:white; vertical-align:top; padding-right:40px;\"><table>\n",
       "<caption><center><font color=\"black\"><b>cm.4</b></font></center></caption>\n",
       " <thead>\n",
       "  <tr>\n",
       "   <th style=\"text-align:left;background-color: #FFFFFF !important;\">   </th>\n",
       "   <th style=\"text-align:right;background-color: #FFFFFF !important;\"> Active </th>\n",
       "   <th style=\"text-align:right;background-color: #FFFFFF !important;\"> Churned </th>\n",
       "  </tr>\n",
       " </thead>\n",
       "<tbody>\n",
       "  <tr>\n",
       "   <td style=\"text-align:left;font-weight: bold;\"> Active </td>\n",
       "   <td style=\"text-align:right;\"> 0.6940672 </td>\n",
       "   <td style=\"text-align:right;\"> 0.1136526 </td>\n",
       "  </tr>\n",
       "  <tr>\n",
       "   <td style=\"text-align:left;font-weight: bold;\"> Churned </td>\n",
       "   <td style=\"text-align:right;\"> 0.1629736 </td>\n",
       "   <td style=\"text-align:right;\"> 0.0293066 </td>\n",
       "  </tr>\n",
       "</tbody>\n",
       "</table></td><td style=\"background-color:white; vertical-align:top;\"><table>\n",
       "<caption><center><font color=\"black\"><b>cm.5</b></font></center></caption>\n",
       " <thead>\n",
       "  <tr>\n",
       "   <th style=\"text-align:left;background-color: #FFFFFF !important;\">   </th>\n",
       "   <th style=\"text-align:right;background-color: #FFFFFF !important;\"> Active </th>\n",
       "   <th style=\"text-align:right;background-color: #FFFFFF !important;\"> Churned </th>\n",
       "  </tr>\n",
       " </thead>\n",
       "<tbody>\n",
       "  <tr>\n",
       "   <td style=\"text-align:left;font-weight: bold;\"> Active </td>\n",
       "   <td style=\"text-align:right;\"> 0.6931330 </td>\n",
       "   <td style=\"text-align:right;\"> 0.1158798 </td>\n",
       "  </tr>\n",
       "  <tr>\n",
       "   <td style=\"text-align:left;font-weight: bold;\"> Churned </td>\n",
       "   <td style=\"text-align:right;\"> 0.1638054 </td>\n",
       "   <td style=\"text-align:right;\"> 0.0271817 </td>\n",
       "  </tr>\n",
       "</tbody>\n",
       "</table></td></tr></table>"
      ]
     },
     "metadata": {},
     "output_type": "display_data"
    }
   ],
   "source": [
    "set.seed(12345)\n",
    "\n",
    "model.1 = random_intervention(Class ~ ., data.train.1, intervention_rate=0.20)\n",
    "prob.1 = predict(model.1, data.test.1)\n",
    "prediction.1 = as.class(prob.1, class=\"Active\", cutoff=0.5)\n",
    "CM.1 = confusionMatrix(prediction.1, data.test.1$Class)$table\n",
    "cm.1 = CM.1 / sum(CM.1)\n",
    "\n",
    "model.2 = random_intervention(Class ~ ., data.train.2, intervention_rate=0.20)\n",
    "prob.2 = predict(model.2, data.test.2)\n",
    "prediction.2 = as.class(prob.2, class=\"Active\", cutoff=0.5)\n",
    "CM.2 = confusionMatrix(prediction.2, data.test.2$Class)$table\n",
    "cm.2 = CM.2 / sum(CM.2)\n",
    "\n",
    "model.3 = random_intervention(Class ~ ., data.train.3, intervention_rate=0.20)\n",
    "prob.3 = predict(model.3, data.test.3)\n",
    "prediction.3 = as.class(prob.3, class=\"Active\", cutoff=0.5)\n",
    "CM.3 = confusionMatrix(prediction.3, data.test.3$Class)$table\n",
    "cm.3 = CM.3 / sum(CM.3)\n",
    "\n",
    "model.4 = random_intervention(Class ~ ., data.train.4, intervention_rate=0.20)\n",
    "prob.4 = predict(model.4, data.test.4)\n",
    "prediction.4 = as.class(prob.4, class=\"Active\", cutoff=0.5)\n",
    "CM.4 = confusionMatrix(prediction.4, data.test.4$Class)$table\n",
    "cm.4 = CM.4 / sum(CM.4)\n",
    "\n",
    "model.5 = random_intervention(Class ~ ., data.train.5, intervention_rate=0.20)\n",
    "prob.5 = predict(model.5, data.test.5)\n",
    "prediction.5 = as.class(prob.5, class=\"Active\", cutoff=0.5)\n",
    "CM.5 = confusionMatrix(prediction.5, data.test.5$Class)$table\n",
    "cm.5 = CM.5 / sum(CM.5)\n",
    "\n",
    "layout(fmt.cm(cm.1), fmt.cm(cm.2), fmt.cm(cm.3))\n",
    "layout(fmt.cm(cm.4), fmt.cm(cm.5))"
   ]
  },
  {
   "cell_type": "markdown",
   "metadata": {},
   "source": [
    "#### Accuracy"
   ]
  },
  {
   "cell_type": "code",
   "execution_count": 25,
   "metadata": {},
   "outputs": [
    {
     "data": {
      "text/html": [
       "<table>\n",
       "<thead><tr><th scope=col>accuracy.random20</th></tr></thead>\n",
       "<tbody>\n",
       "\t<tr><td>0.7151452</td></tr>\n",
       "</tbody>\n",
       "</table>\n"
      ],
      "text/latex": [
       "\\begin{tabular}{r|l}\n",
       " accuracy.random20\\\\\n",
       "\\hline\n",
       "\t 0.7151452\\\\\n",
       "\\end{tabular}\n"
      ],
      "text/markdown": [
       "\n",
       "| accuracy.random20 |\n",
       "|---|\n",
       "| 0.7151452 |\n",
       "\n"
      ],
      "text/plain": [
       "  accuracy.random20\n",
       "1 0.7151452        "
      ]
     },
     "metadata": {},
     "output_type": "display_data"
    }
   ],
   "source": [
    "accuracy.1 = cm.1[\"Active\",\"Active\"]+cm.1[\"Churned\",\"Churned\"]\n",
    "accuracy.2 = cm.2[\"Active\",\"Active\"]+cm.2[\"Churned\",\"Churned\"]\n",
    "accuracy.3 = cm.3[\"Active\",\"Active\"]+cm.3[\"Churned\",\"Churned\"]\n",
    "accuracy.4 = cm.4[\"Active\",\"Active\"]+cm.4[\"Churned\",\"Churned\"]\n",
    "accuracy.5 = cm.5[\"Active\",\"Active\"]+cm.5[\"Churned\",\"Churned\"]\n",
    "\n",
    "accuracy.random20 = mean(c(accuracy.1, accuracy.2, accuracy.3, accuracy.4, accuracy.5))\n",
    "data.frame(accuracy.random20)"
   ]
  },
  {
   "cell_type": "markdown",
   "metadata": {},
   "source": [
    "#### Profit"
   ]
  },
  {
   "cell_type": "code",
   "execution_count": 26,
   "metadata": {},
   "outputs": [
    {
     "data": {
      "text/html": [
       "<table>\n",
       "<thead><tr><th scope=col>fold</th><th scope=col>profit.active_active</th><th scope=col>profit.active_churned</th><th scope=col>profit.churned_active</th><th scope=col>profit.churned_churned</th><th scope=col>profit</th></tr></thead>\n",
       "<tbody>\n",
       "\t<tr><td>1         </td><td>4734545687</td><td>0         </td><td>1094450058</td><td>16807044  </td><td>5845802789</td></tr>\n",
       "\t<tr><td>2         </td><td>4661536006</td><td>0         </td><td>1162170239</td><td>11554843  </td><td>5835261088</td></tr>\n",
       "\t<tr><td>3         </td><td>4745394654</td><td>0         </td><td>1084387091</td><td>12255136  </td><td>5842036881</td></tr>\n",
       "\t<tr><td>4         </td><td>4789791221</td><td>0         </td><td>1043207024</td><td>14356017  </td><td>5847354262</td></tr>\n",
       "\t<tr><td>5         </td><td>4783918148</td><td>0         </td><td>1048654597</td><td>13305576  </td><td>5845878321</td></tr>\n",
       "</tbody>\n",
       "</table>\n"
      ],
      "text/latex": [
       "\\begin{tabular}{r|llllll}\n",
       " fold & profit.active\\_active & profit.active\\_churned & profit.churned\\_active & profit.churned\\_churned & profit\\\\\n",
       "\\hline\n",
       "\t 1          & 4734545687 & 0          & 1094450058 & 16807044   & 5845802789\\\\\n",
       "\t 2          & 4661536006 & 0          & 1162170239 & 11554843   & 5835261088\\\\\n",
       "\t 3          & 4745394654 & 0          & 1084387091 & 12255136   & 5842036881\\\\\n",
       "\t 4          & 4789791221 & 0          & 1043207024 & 14356017   & 5847354262\\\\\n",
       "\t 5          & 4783918148 & 0          & 1048654597 & 13305576   & 5845878321\\\\\n",
       "\\end{tabular}\n"
      ],
      "text/markdown": [
       "\n",
       "| fold | profit.active_active | profit.active_churned | profit.churned_active | profit.churned_churned | profit |\n",
       "|---|---|---|---|---|---|\n",
       "| 1          | 4734545687 | 0          | 1094450058 | 16807044   | 5845802789 |\n",
       "| 2          | 4661536006 | 0          | 1162170239 | 11554843   | 5835261088 |\n",
       "| 3          | 4745394654 | 0          | 1084387091 | 12255136   | 5842036881 |\n",
       "| 4          | 4789791221 | 0          | 1043207024 | 14356017   | 5847354262 |\n",
       "| 5          | 4783918148 | 0          | 1048654597 | 13305576   | 5845878321 |\n",
       "\n"
      ],
      "text/plain": [
       "  fold profit.active_active profit.active_churned profit.churned_active\n",
       "1 1    4734545687           0                     1094450058           \n",
       "2 2    4661536006           0                     1162170239           \n",
       "3 3    4745394654           0                     1084387091           \n",
       "4 4    4789791221           0                     1043207024           \n",
       "5 5    4783918148           0                     1048654597           \n",
       "  profit.churned_churned profit    \n",
       "1 16807044               5845802789\n",
       "2 11554843               5835261088\n",
       "3 12255136               5842036881\n",
       "4 14356017               5847354262\n",
       "5 13305576               5845878321"
      ]
     },
     "metadata": {},
     "output_type": "display_data"
    },
    {
     "data": {
      "text/html": [
       "<table>\n",
       "<thead><tr><th scope=col>profit.random20</th></tr></thead>\n",
       "<tbody>\n",
       "\t<tr><td>5843266668</td></tr>\n",
       "</tbody>\n",
       "</table>\n"
      ],
      "text/latex": [
       "\\begin{tabular}{r|l}\n",
       " profit.random20\\\\\n",
       "\\hline\n",
       "\t 5843266668\\\\\n",
       "\\end{tabular}\n"
      ],
      "text/markdown": [
       "\n",
       "| profit.random20 |\n",
       "|---|\n",
       "| 5843266668 |\n",
       "\n"
      ],
      "text/plain": [
       "  profit.random20\n",
       "1 5843266668     "
      ]
     },
     "metadata": {},
     "output_type": "display_data"
    }
   ],
   "source": [
    "active_active.1   = round(customers * (1-churn_rate) * cm.1[\"Active\",\"Active\"]/sum(cm.1[,\"Active\"]))\n",
    "active_churned.1  = round(customers * churn_rate * cm.1[\"Active\",\"Churned\"]/sum(cm.1[,\"Churned\"]))\n",
    "churned_active.1  = round(customers * (1-churn_rate) * cm.1[\"Churned\",\"Active\"]/sum(cm.1[,\"Active\"]))\n",
    "churned_churned.1 = round(customers * churn_rate * cm.1[\"Churned\",\"Churned\"]/sum(cm.1[,\"Churned\"]))\n",
    "\n",
    "profit.churned_churned.1 = ((churned_churned.1 * save_rate * churned_value) - (churned_churned.1 * intervention_cost))\n",
    "profit.active_churned.1 = 0\n",
    "profit.churned_active.1 = (churned_active.1 * active_value) - (churned_active.1 * intervention_cost)\n",
    "profit.active_active.1 = (active_active.1 * active_value)\n",
    "profit.1 = profit.churned_churned.1 + profit.active_churned.1 + profit.churned_active.1 + profit.active_active.1\n",
    "\n",
    "\n",
    "active_active.2   = round(customers * (1-churn_rate) * cm.2[\"Active\",\"Active\"]/sum(cm.2[,\"Active\"]))\n",
    "active_churned.2  = round(customers * churn_rate * cm.2[\"Active\",\"Churned\"]/sum(cm.2[,\"Churned\"]))\n",
    "churned_active.2  = round(customers * (1-churn_rate) * cm.2[\"Churned\",\"Active\"]/sum(cm.2[,\"Active\"]))\n",
    "churned_churned.2 = round(customers * churn_rate * cm.2[\"Churned\",\"Churned\"]/sum(cm.2[,\"Churned\"]))\n",
    "\n",
    "profit.churned_churned.2 = ((churned_churned.2 * save_rate * churned_value) - (churned_churned.2 * intervention_cost))\n",
    "profit.active_churned.2 = 0\n",
    "profit.churned_active.2 = (churned_active.2 * active_value) - (churned_active.2 * intervention_cost)\n",
    "profit.active_active.2 = (active_active.2 * active_value)\n",
    "profit.2 = profit.churned_churned.2 + profit.active_churned.2 + profit.churned_active.2 + profit.active_active.2\n",
    "\n",
    "\n",
    "active_active.3   = round(customers * (1-churn_rate) * cm.3[\"Active\",\"Active\"]/sum(cm.3[,\"Active\"]))\n",
    "active_churned.3  = round(customers * churn_rate * cm.3[\"Active\",\"Churned\"]/sum(cm.3[,\"Churned\"]))\n",
    "churned_active.3  = round(customers * (1-churn_rate) * cm.3[\"Churned\",\"Active\"]/sum(cm.3[,\"Active\"]))\n",
    "churned_churned.3 = round(customers * churn_rate * cm.3[\"Churned\",\"Churned\"]/sum(cm.3[,\"Churned\"]))\n",
    "\n",
    "profit.churned_churned.3 = ((churned_churned.3 * save_rate * churned_value) - (churned_churned.3 * intervention_cost))\n",
    "profit.active_churned.3 = 0\n",
    "profit.churned_active.3 = (churned_active.3 * active_value) - (churned_active.3 * intervention_cost)\n",
    "profit.active_active.3 = (active_active.3 * active_value)\n",
    "profit.3 = profit.churned_churned.3 + profit.active_churned.3 + profit.churned_active.3 + profit.active_active.3\n",
    "\n",
    "\n",
    "active_active.4   = round(customers * (1-churn_rate) * cm.4[\"Active\",\"Active\"]/sum(cm.4[,\"Active\"]))\n",
    "active_churned.4  = round(customers * churn_rate * cm.4[\"Active\",\"Churned\"]/sum(cm.4[,\"Churned\"]))\n",
    "churned_active.4  = round(customers * (1-churn_rate) * cm.4[\"Churned\",\"Active\"]/sum(cm.4[,\"Active\"]))\n",
    "churned_churned.4 = round(customers * churn_rate * cm.4[\"Churned\",\"Churned\"]/sum(cm.4[,\"Churned\"]))\n",
    "\n",
    "profit.churned_churned.4 = ((churned_churned.4 * save_rate * churned_value) - (churned_churned.4 * intervention_cost))\n",
    "profit.active_churned.4 = 0\n",
    "profit.churned_active.4 = (churned_active.4 * active_value) - (churned_active.4 * intervention_cost)\n",
    "profit.active_active.4 = (active_active.4 * active_value)\n",
    "profit.4 = profit.churned_churned.4 + profit.active_churned.4 + profit.churned_active.4 + profit.active_active.4\n",
    "\n",
    "\n",
    "active_active.5   = round(customers * (1-churn_rate) * cm.5[\"Active\",\"Active\"]/sum(cm.5[,\"Active\"]))\n",
    "active_churned.5  = round(customers * churn_rate * cm.5[\"Active\",\"Churned\"]/sum(cm.5[,\"Churned\"]))\n",
    "churned_active.5  = round(customers * (1-churn_rate) * cm.5[\"Churned\",\"Active\"]/sum(cm.5[,\"Active\"]))\n",
    "churned_churned.5 = round(customers * churn_rate * cm.5[\"Churned\",\"Churned\"]/sum(cm.5[,\"Churned\"]))\n",
    "\n",
    "profit.churned_churned.5 = ((churned_churned.5 * save_rate * churned_value) - (churned_churned.5 * intervention_cost))\n",
    "profit.active_churned.5 = 0\n",
    "profit.churned_active.5 = (churned_active.5 * active_value) - (churned_active.5 * intervention_cost)\n",
    "profit.active_active.5 = (active_active.5 * active_value)\n",
    "profit.5 = profit.churned_churned.5 + profit.active_churned.5 + profit.churned_active.5 + profit.active_active.5\n",
    "\n",
    "\n",
    "profit.random20 = mean(c(profit.1, profit.2, profit.3, profit.4, profit.5))\n",
    "\n",
    "\n",
    "data.frame(fold=1:5,\n",
    "           profit.active_active=  c(profit.active_active.1,   profit.active_active.2,   profit.active_active.3,   profit.active_active.4,   profit.active_active.5),\n",
    "           profit.active_churned= c(profit.active_churned.1,  profit.active_churned.2,  profit.active_churned.3,  profit.active_churned.4,  profit.active_churned.5),\n",
    "           profit.churned_active= c(profit.churned_active.1,  profit.churned_active.2,  profit.churned_active.3,  profit.churned_active.4,  profit.churned_active.5),\n",
    "           profit.churned_churned=c(profit.churned_churned.1, profit.churned_churned.2, profit.churned_churned.3, profit.churned_churned.4, profit.churned_churned.5),\n",
    "           profit=c(profit.1, profit.2, profit.3, profit.4, profit.5))\n",
    "\n",
    "data.frame(profit.random20)"
   ]
  },
  {
   "cell_type": "markdown",
   "metadata": {},
   "source": [
    "### Intervene with Predicted At-Risk Customers\n",
    "\n",
    "Consider the effect on profit of a naive Bayes predictive model that selects customers (only some may be at risk of churn) for intervention (necessarily for would-be churned customers and unnecessarily for active customers).  Evaluate using 5-fold cross-validation."
   ]
  },
  {
   "cell_type": "markdown",
   "metadata": {},
   "source": [
    "#### Fold 1: Model "
   ]
  },
  {
   "cell_type": "code",
   "execution_count": 27,
   "metadata": {
    "scrolled": false
   },
   "outputs": [
    {
     "data": {
      "text/plain": [
       "\n",
       "Naive Bayes Classifier for Discrete Predictors\n",
       "\n",
       "Call:\n",
       "naiveBayes.default(x = X, y = Y, laplace = laplace)\n",
       "\n",
       "A-priori probabilities:\n",
       "Y\n",
       "   Active   Churned \n",
       "0.8570152 0.1429848 \n",
       "\n",
       "Conditional probabilities:\n",
       "         network_age\n",
       "Y             [,1]     [,2]\n",
       "  Active  1698.747 1383.675\n",
       "  Churned 1248.720 1153.039\n",
       "\n",
       "         Aggregate_Total_Rev\n",
       "Y             [,1]     [,2]\n",
       "  Active  1157.102 1157.077\n",
       "  Churned  688.034 1268.333\n",
       "\n",
       "         Aggregate_SMS_Rev\n",
       "Y             [,1]     [,2]\n",
       "  Active  26.74145 56.16296\n",
       "  Churned 34.84649 57.77641\n",
       "\n",
       "         Aggregate_Data_Rev\n",
       "Y             [,1]     [,2]\n",
       "  Active  55.47275 126.9113\n",
       "  Churned 59.52698 331.5728\n",
       "\n",
       "         Aggregate_Data_Vol\n",
       "Y            [,1]     [,2]\n",
       "  Active  4114314 10916942\n",
       "  Churned 1313707  4001877\n",
       "\n",
       "         Aggregate_Calls\n",
       "Y             [,1]     [,2]\n",
       "  Active  346.1541 453.1232\n",
       "  Churned 147.6400 246.8455\n",
       "\n",
       "         Aggregate_ONNET_REV\n",
       "Y             [,1]     [,2]\n",
       "  Active  8989.376 16367.30\n",
       "  Churned 5894.991 17970.51\n",
       "\n",
       "         Aggregate_OFFNET_REV\n",
       "Y             [,1]     [,2]\n",
       "  Active  16524.80 33272.86\n",
       "  Churned 16947.48 37765.48\n",
       "\n",
       "         Aggregate_complaint_count\n",
       "Y             [,1]     [,2]\n",
       "  Active  2.020229 1.922087\n",
       "  Churned 1.740000 2.062211\n",
       "\n",
       "         aug_user_type\n",
       "Y                2G        3G     Other\n",
       "  Active  0.2000969 0.6019864 0.1979167\n",
       "  Churned 0.2418670 0.5162659 0.2418670\n",
       "\n",
       "         sep_user_type\n",
       "Y                2G        3G     Other\n",
       "  Active  0.1781080 0.6291578 0.1927341\n",
       "  Churned 0.2336579 0.5285118 0.2378303\n",
       "\n",
       "         aug_fav_a\n",
       "Y                  0   mobilink       ptcl    telenor      ufone      warid\n",
       "  Active  0.04048414 0.13981636 0.17341402 0.14941569 0.22474958 0.12458264\n",
       "  Churned 0.01625000 0.15000000 0.28500000 0.12625000 0.22875000 0.09125000\n",
       "         aug_fav_a\n",
       "Y               zong\n",
       "  Active  0.14753756\n",
       "  Churned 0.10250000\n",
       "\n",
       "         sep_fav_a\n",
       "Y           mobilink       ptcl    telenor      ufone      warid       zong\n",
       "  Active  0.04570117 0.09745409 0.02566778 0.78839733 0.02232888 0.02045075\n",
       "  Churned 0.09500000 0.30875000 0.05625000 0.43375000 0.05375000 0.05250000\n"
      ]
     },
     "metadata": {},
     "output_type": "display_data"
    }
   ],
   "source": [
    "model.1 = naiveBayes(Class ~ ., data.train.1)\n",
    "model.1"
   ]
  },
  {
   "cell_type": "markdown",
   "metadata": {},
   "source": [
    "#### Inspect some internals of the model"
   ]
  },
  {
   "cell_type": "code",
   "execution_count": 28,
   "metadata": {},
   "outputs": [
    {
     "data": {
      "text/html": [
       "<table>\n",
       "<thead><tr><th scope=col>Class</th><th scope=col>likelihood.network_age.gaussian_mean</th><th scope=col>likelihood.network_age.gaussian_sd</th></tr></thead>\n",
       "<tbody>\n",
       "\t<tr><td>Active  </td><td>1698.747</td><td>1383.675</td></tr>\n",
       "\t<tr><td>Churned </td><td>1248.720</td><td>1153.039</td></tr>\n",
       "</tbody>\n",
       "</table>\n"
      ],
      "text/latex": [
       "\\begin{tabular}{r|lll}\n",
       " Class & likelihood.network\\_age.gaussian\\_mean & likelihood.network\\_age.gaussian\\_sd\\\\\n",
       "\\hline\n",
       "\t Active   & 1698.747 & 1383.675\\\\\n",
       "\t Churned  & 1248.720 & 1153.039\\\\\n",
       "\\end{tabular}\n"
      ],
      "text/markdown": [
       "\n",
       "| Class | likelihood.network_age.gaussian_mean | likelihood.network_age.gaussian_sd |\n",
       "|---|---|---|\n",
       "| Active   | 1698.747 | 1383.675 |\n",
       "| Churned  | 1248.720 | 1153.039 |\n",
       "\n"
      ],
      "text/plain": [
       "  Class   likelihood.network_age.gaussian_mean\n",
       "1 Active  1698.747                            \n",
       "2 Churned 1248.720                            \n",
       "  likelihood.network_age.gaussian_sd\n",
       "1 1383.675                          \n",
       "2 1153.039                          "
      ]
     },
     "metadata": {},
     "output_type": "display_data"
    }
   ],
   "source": [
    "data.frame(Class=c(\"Active\",\"Churned\"),\n",
    "           likelihood.network_age.gaussian_mean = c(mean(data.train.1$network_age[data.train.1$Class==\"Active\"]),\n",
    "                                                    mean(data.train.1$network_age[data.train.1$Class==\"Churned\"])),\n",
    "           likelihood.network_age.gaussian_sd = c(sd(data.train.1$network_age[data.train.1$Class==\"Active\"]),\n",
    "                                                  sd(data.train.1$network_age[data.train.1$Class==\"Churned\"])))"
   ]
  },
  {
   "cell_type": "code",
   "execution_count": 29,
   "metadata": {},
   "outputs": [
    {
     "data": {
      "text/html": [
       "<table><tr><td style=\"background-color:white; vertical-align:top; padding-right:40px;\"><table>\n",
       "<caption><center><font color=\"black\"><b>Active</b></font></center></caption>\n",
       " <thead>\n",
       "  <tr>\n",
       "   <th style=\"text-align:right;background-color: #FFFFFF !important;\"> Var1 </th>\n",
       "   <th style=\"text-align:right;background-color: #FFFFFF !important;\"> Freq </th>\n",
       "   <th style=\"text-align:right;background-color: #FFFFFF !important;\"> likelihood </th>\n",
       "  </tr>\n",
       " </thead>\n",
       "<tbody>\n",
       "  <tr>\n",
       "   <td style=\"text-align:right;\"> 2G </td>\n",
       "   <td style=\"text-align:right;\"> 826 </td>\n",
       "   <td style=\"text-align:right;\"> 0.2000969 </td>\n",
       "  </tr>\n",
       "  <tr>\n",
       "   <td style=\"text-align:right;\"> 3G </td>\n",
       "   <td style=\"text-align:right;\"> 2485 </td>\n",
       "   <td style=\"text-align:right;\"> 0.6019864 </td>\n",
       "  </tr>\n",
       "  <tr>\n",
       "   <td style=\"text-align:right;\"> Other </td>\n",
       "   <td style=\"text-align:right;\"> 817 </td>\n",
       "   <td style=\"text-align:right;\"> 0.1979167 </td>\n",
       "  </tr>\n",
       "</tbody>\n",
       "</table></td><td style=\"background-color:white; vertical-align:top;\"><table>\n",
       "<caption><center><font color=\"black\"><b>Churned</b></font></center></caption>\n",
       " <thead>\n",
       "  <tr>\n",
       "   <th style=\"text-align:right;background-color: #FFFFFF !important;\"> Var1 </th>\n",
       "   <th style=\"text-align:right;background-color: #FFFFFF !important;\"> Freq </th>\n",
       "   <th style=\"text-align:right;background-color: #FFFFFF !important;\"> likelihood </th>\n",
       "  </tr>\n",
       " </thead>\n",
       "<tbody>\n",
       "  <tr>\n",
       "   <td style=\"text-align:right;\"> 2G </td>\n",
       "   <td style=\"text-align:right;\"> 171 </td>\n",
       "   <td style=\"text-align:right;\"> 0.2418670 </td>\n",
       "  </tr>\n",
       "  <tr>\n",
       "   <td style=\"text-align:right;\"> 3G </td>\n",
       "   <td style=\"text-align:right;\"> 365 </td>\n",
       "   <td style=\"text-align:right;\"> 0.5162659 </td>\n",
       "  </tr>\n",
       "  <tr>\n",
       "   <td style=\"text-align:right;\"> Other </td>\n",
       "   <td style=\"text-align:right;\"> 171 </td>\n",
       "   <td style=\"text-align:right;\"> 0.2418670 </td>\n",
       "  </tr>\n",
       "</tbody>\n",
       "</table></td></tr></table>"
      ]
     },
     "metadata": {},
     "output_type": "display_data"
    }
   ],
   "source": [
    "model.Active = as.data.frame(table(data.train.1$aug_user_type[data.train.1$Class==\"Active\"]))\n",
    "model.Active$likelihood = model.Active$Freq / sum(model.Active$Freq)\n",
    "\n",
    "model.Churned = as.data.frame(table(data.train.1$aug_user_type[data.train.1$Class==\"Churned\"]))\n",
    "model.Churned$likelihood = model.Churned$Freq / sum(model.Churned$Freq)\n",
    "\n",
    "layout(fmt(model.Active, \"Active\"), fmt(model.Churned, \"Churned\"))"
   ]
  },
  {
   "cell_type": "markdown",
   "metadata": {},
   "source": [
    "#### Folds 1: Probabilities "
   ]
  },
  {
   "cell_type": "code",
   "execution_count": 30,
   "metadata": {
    "scrolled": true
   },
   "outputs": [
    {
     "data": {
      "text/html": [
       "<table>\n",
       "<thead><tr><th scope=col>Active</th><th scope=col>Churned</th></tr></thead>\n",
       "<tbody>\n",
       "\t<tr><td>0.9994437     </td><td>0.000556336015</td></tr>\n",
       "\t<tr><td>0.7817316     </td><td>0.218268360881</td></tr>\n",
       "\t<tr><td>0.9704236     </td><td>0.029576357604</td></tr>\n",
       "\t<tr><td>0.9180357     </td><td>0.081964279365</td></tr>\n",
       "\t<tr><td>0.9999994     </td><td>0.000000569189</td></tr>\n",
       "\t<tr><td>0.8644693     </td><td>0.135530657820</td></tr>\n",
       "\t<tr><td>0.9999451     </td><td>0.000054856858</td></tr>\n",
       "\t<tr><td>0.7703932     </td><td>0.229606844459</td></tr>\n",
       "\t<tr><td>0.8502242     </td><td>0.149775832352</td></tr>\n",
       "\t<tr><td>0.7348143     </td><td>0.265185686471</td></tr>\n",
       "</tbody>\n",
       "</table>\n"
      ],
      "text/latex": [
       "\\begin{tabular}{ll}\n",
       " Active & Churned\\\\\n",
       "\\hline\n",
       "\t 0.9994437      & 0.000556336015\\\\\n",
       "\t 0.7817316      & 0.218268360881\\\\\n",
       "\t 0.9704236      & 0.029576357604\\\\\n",
       "\t 0.9180357      & 0.081964279365\\\\\n",
       "\t 0.9999994      & 0.000000569189\\\\\n",
       "\t 0.8644693      & 0.135530657820\\\\\n",
       "\t 0.9999451      & 0.000054856858\\\\\n",
       "\t 0.7703932      & 0.229606844459\\\\\n",
       "\t 0.8502242      & 0.149775832352\\\\\n",
       "\t 0.7348143      & 0.265185686471\\\\\n",
       "\\end{tabular}\n"
      ],
      "text/markdown": [
       "\n",
       "| Active | Churned |\n",
       "|---|---|\n",
       "| 0.9994437      | 0.000556336015 |\n",
       "| 0.7817316      | 0.218268360881 |\n",
       "| 0.9704236      | 0.029576357604 |\n",
       "| 0.9180357      | 0.081964279365 |\n",
       "| 0.9999994      | 0.000000569189 |\n",
       "| 0.8644693      | 0.135530657820 |\n",
       "| 0.9999451      | 0.000054856858 |\n",
       "| 0.7703932      | 0.229606844459 |\n",
       "| 0.8502242      | 0.149775832352 |\n",
       "| 0.7348143      | 0.265185686471 |\n",
       "\n"
      ],
      "text/plain": [
       "      Active    Churned       \n",
       " [1,] 0.9994437 0.000556336015\n",
       " [2,] 0.7817316 0.218268360881\n",
       " [3,] 0.9704236 0.029576357604\n",
       " [4,] 0.9180357 0.081964279365\n",
       " [5,] 0.9999994 0.000000569189\n",
       " [6,] 0.8644693 0.135530657820\n",
       " [7,] 0.9999451 0.000054856858\n",
       " [8,] 0.7703932 0.229606844459\n",
       " [9,] 0.8502242 0.149775832352\n",
       "[10,] 0.7348143 0.265185686471"
      ]
     },
     "metadata": {},
     "output_type": "display_data"
    }
   ],
   "source": [
    "prob.1 = predict(model.1, data.test.1, type=\"raw\")\n",
    "prob.1[1:10,]"
   ]
  },
  {
   "cell_type": "markdown",
   "metadata": {},
   "source": [
    "#### Fold 1: Predictions"
   ]
  },
  {
   "cell_type": "code",
   "execution_count": 31,
   "metadata": {
    "scrolled": true
   },
   "outputs": [
    {
     "data": {
      "text/html": [
       "<ol class=list-inline>\n",
       "\t<li>Active</li>\n",
       "\t<li>Active</li>\n",
       "\t<li>Active</li>\n",
       "\t<li>Active</li>\n",
       "\t<li>Active</li>\n",
       "\t<li>Active</li>\n",
       "\t<li>Active</li>\n",
       "\t<li>Active</li>\n",
       "\t<li>Active</li>\n",
       "\t<li>Active</li>\n",
       "\t<li>Active</li>\n",
       "\t<li>Active</li>\n",
       "\t<li>Active</li>\n",
       "\t<li>Active</li>\n",
       "\t<li>Churned</li>\n",
       "\t<li>Active</li>\n",
       "\t<li>Active</li>\n",
       "\t<li>Active</li>\n",
       "\t<li>Active</li>\n",
       "\t<li>Active</li>\n",
       "\t<li>Active</li>\n",
       "\t<li>Churned</li>\n",
       "\t<li>Active</li>\n",
       "\t<li>Active</li>\n",
       "\t<li>Active</li>\n",
       "\t<li>Churned</li>\n",
       "\t<li>Active</li>\n",
       "\t<li>Active</li>\n",
       "\t<li>Churned</li>\n",
       "\t<li>Active</li>\n",
       "\t<li>Active</li>\n",
       "\t<li>Active</li>\n",
       "\t<li>Active</li>\n",
       "\t<li>Active</li>\n",
       "\t<li>Churned</li>\n",
       "</ol>\n",
       "\n",
       "<details>\n",
       "\t<summary style=display:list-item;cursor:pointer>\n",
       "\t\t<strong>Levels</strong>:\n",
       "\t</summary>\n",
       "\t<ol class=list-inline>\n",
       "\t\t<li>'Active'</li>\n",
       "\t\t<li>'Churned'</li>\n",
       "\t</ol>\n",
       "</details>"
      ],
      "text/latex": [
       "\\begin{enumerate*}\n",
       "\\item Active\n",
       "\\item Active\n",
       "\\item Active\n",
       "\\item Active\n",
       "\\item Active\n",
       "\\item Active\n",
       "\\item Active\n",
       "\\item Active\n",
       "\\item Active\n",
       "\\item Active\n",
       "\\item Active\n",
       "\\item Active\n",
       "\\item Active\n",
       "\\item Active\n",
       "\\item Churned\n",
       "\\item Active\n",
       "\\item Active\n",
       "\\item Active\n",
       "\\item Active\n",
       "\\item Active\n",
       "\\item Active\n",
       "\\item Churned\n",
       "\\item Active\n",
       "\\item Active\n",
       "\\item Active\n",
       "\\item Churned\n",
       "\\item Active\n",
       "\\item Active\n",
       "\\item Churned\n",
       "\\item Active\n",
       "\\item Active\n",
       "\\item Active\n",
       "\\item Active\n",
       "\\item Active\n",
       "\\item Churned\n",
       "\\end{enumerate*}\n",
       "\n",
       "\\emph{Levels}: \\begin{enumerate*}\n",
       "\\item 'Active'\n",
       "\\item 'Churned'\n",
       "\\end{enumerate*}\n"
      ],
      "text/markdown": [
       "1. Active\n",
       "2. Active\n",
       "3. Active\n",
       "4. Active\n",
       "5. Active\n",
       "6. Active\n",
       "7. Active\n",
       "8. Active\n",
       "9. Active\n",
       "10. Active\n",
       "11. Active\n",
       "12. Active\n",
       "13. Active\n",
       "14. Active\n",
       "15. Churned\n",
       "16. Active\n",
       "17. Active\n",
       "18. Active\n",
       "19. Active\n",
       "20. Active\n",
       "21. Active\n",
       "22. Churned\n",
       "23. Active\n",
       "24. Active\n",
       "25. Active\n",
       "26. Churned\n",
       "27. Active\n",
       "28. Active\n",
       "29. Churned\n",
       "30. Active\n",
       "31. Active\n",
       "32. Active\n",
       "33. Active\n",
       "34. Active\n",
       "35. Churned\n",
       "\n",
       "\n",
       "\n",
       "**Levels**: 1. 'Active'\n",
       "2. 'Churned'\n",
       "\n",
       "\n"
      ],
      "text/plain": [
       " [1] Active  Active  Active  Active  Active  Active  Active  Active  Active \n",
       "[10] Active  Active  Active  Active  Active  Churned Active  Active  Active \n",
       "[19] Active  Active  Active  Churned Active  Active  Active  Churned Active \n",
       "[28] Active  Churned Active  Active  Active  Active  Active  Churned\n",
       "Levels: Active Churned"
      ]
     },
     "metadata": {},
     "output_type": "display_data"
    }
   ],
   "source": [
    "prediction.1 = as.class(prob.1, class=\"Active\", cutoff=0.5)\n",
    "prediction.1[1:35]"
   ]
  },
  {
   "cell_type": "markdown",
   "metadata": {},
   "source": [
    "#### Fold 1: Confusion matrix"
   ]
  },
  {
   "cell_type": "code",
   "execution_count": 32,
   "metadata": {},
   "outputs": [
    {
     "data": {
      "text/html": [
       "<table>\n",
       "<caption><center><font color=\"black\"><b>cm.1</b></font></center></caption>\n",
       " <thead>\n",
       "  <tr>\n",
       "   <th style=\"text-align:left;background-color: #FFFFFF !important;\">   </th>\n",
       "   <th style=\"text-align:right;background-color: #FFFFFF !important;\"> Active </th>\n",
       "   <th style=\"text-align:right;background-color: #FFFFFF !important;\"> Churned </th>\n",
       "  </tr>\n",
       " </thead>\n",
       "<tbody>\n",
       "  <tr>\n",
       "   <td style=\"text-align:left;font-weight: bold;\"> Active </td>\n",
       "   <td style=\"text-align:right;\"> 0.7560801 </td>\n",
       "   <td style=\"text-align:right;\"> 0.0815451 </td>\n",
       "  </tr>\n",
       "  <tr>\n",
       "   <td style=\"text-align:left;font-weight: bold;\"> Churned </td>\n",
       "   <td style=\"text-align:right;\"> 0.1008584 </td>\n",
       "   <td style=\"text-align:right;\"> 0.0615165 </td>\n",
       "  </tr>\n",
       "</tbody>\n",
       "</table>"
      ]
     },
     "metadata": {},
     "output_type": "display_data"
    }
   ],
   "source": [
    "CM.1 = confusionMatrix(prediction.1, data.test.1$Class)$table\n",
    "cm.1 = CM.1 / sum(CM.1)\n",
    "fmt.cm(cm.1)"
   ]
  },
  {
   "cell_type": "markdown",
   "metadata": {},
   "source": [
    "#### Folds 2, 3, 4, 5:  Models, probabilities, predictions, & confusion matrices"
   ]
  },
  {
   "cell_type": "code",
   "execution_count": 33,
   "metadata": {},
   "outputs": [
    {
     "data": {
      "text/html": [
       "<table><tr><td style=\"background-color:white; vertical-align:top; padding-right:40px;\"><table>\n",
       "<caption><center><font color=\"black\"><b>cm.2</b></font></center></caption>\n",
       " <thead>\n",
       "  <tr>\n",
       "   <th style=\"text-align:left;background-color: #FFFFFF !important;\">   </th>\n",
       "   <th style=\"text-align:right;background-color: #FFFFFF !important;\"> Active </th>\n",
       "   <th style=\"text-align:right;background-color: #FFFFFF !important;\"> Churned </th>\n",
       "  </tr>\n",
       " </thead>\n",
       "<tbody>\n",
       "  <tr>\n",
       "   <td style=\"text-align:left;font-weight: bold;\"> Active </td>\n",
       "   <td style=\"text-align:right;\"> 0.7362402 </td>\n",
       "   <td style=\"text-align:right;\"> 0.0786276 </td>\n",
       "  </tr>\n",
       "  <tr>\n",
       "   <td style=\"text-align:left;font-weight: bold;\"> Churned </td>\n",
       "   <td style=\"text-align:right;\"> 0.1208006 </td>\n",
       "   <td style=\"text-align:right;\"> 0.0643317 </td>\n",
       "  </tr>\n",
       "</tbody>\n",
       "</table></td><td style=\"background-color:white; vertical-align:top; padding-right:40px;\"><table>\n",
       "<caption><center><font color=\"black\"><b>cm.3</b></font></center></caption>\n",
       " <thead>\n",
       "  <tr>\n",
       "   <th style=\"text-align:left;background-color: #FFFFFF !important;\">   </th>\n",
       "   <th style=\"text-align:right;background-color: #FFFFFF !important;\"> Active </th>\n",
       "   <th style=\"text-align:right;background-color: #FFFFFF !important;\"> Churned </th>\n",
       "  </tr>\n",
       " </thead>\n",
       "<tbody>\n",
       "  <tr>\n",
       "   <td style=\"text-align:left;font-weight: bold;\"> Active </td>\n",
       "   <td style=\"text-align:right;\"> 0.7362402 </td>\n",
       "   <td style=\"text-align:right;\"> 0.0786276 </td>\n",
       "  </tr>\n",
       "  <tr>\n",
       "   <td style=\"text-align:left;font-weight: bold;\"> Churned </td>\n",
       "   <td style=\"text-align:right;\"> 0.1208006 </td>\n",
       "   <td style=\"text-align:right;\"> 0.0643317 </td>\n",
       "  </tr>\n",
       "</tbody>\n",
       "</table></td><td style=\"background-color:white; vertical-align:top; padding-right:40px;\"><table>\n",
       "<caption><center><font color=\"black\"><b>cm.4</b></font></center></caption>\n",
       " <thead>\n",
       "  <tr>\n",
       "   <th style=\"text-align:left;background-color: #FFFFFF !important;\">   </th>\n",
       "   <th style=\"text-align:right;background-color: #FFFFFF !important;\"> Active </th>\n",
       "   <th style=\"text-align:right;background-color: #FFFFFF !important;\"> Churned </th>\n",
       "  </tr>\n",
       " </thead>\n",
       "<tbody>\n",
       "  <tr>\n",
       "   <td style=\"text-align:left;font-weight: bold;\"> Active </td>\n",
       "   <td style=\"text-align:right;\"> 0.6504646 </td>\n",
       "   <td style=\"text-align:right;\"> 0.0578985 </td>\n",
       "  </tr>\n",
       "  <tr>\n",
       "   <td style=\"text-align:left;font-weight: bold;\"> Churned </td>\n",
       "   <td style=\"text-align:right;\"> 0.2065761 </td>\n",
       "   <td style=\"text-align:right;\"> 0.0850608 </td>\n",
       "  </tr>\n",
       "</tbody>\n",
       "</table></td><td style=\"background-color:white; vertical-align:top;\"><table>\n",
       "<caption><center><font color=\"black\"><b>cm.5</b></font></center></caption>\n",
       " <thead>\n",
       "  <tr>\n",
       "   <th style=\"text-align:left;background-color: #FFFFFF !important;\">   </th>\n",
       "   <th style=\"text-align:right;background-color: #FFFFFF !important;\"> Active </th>\n",
       "   <th style=\"text-align:right;background-color: #FFFFFF !important;\"> Churned </th>\n",
       "  </tr>\n",
       " </thead>\n",
       "<tbody>\n",
       "  <tr>\n",
       "   <td style=\"text-align:left;font-weight: bold;\"> Active </td>\n",
       "   <td style=\"text-align:right;\"> 0.7675250 </td>\n",
       "   <td style=\"text-align:right;\"> 0.0865522 </td>\n",
       "  </tr>\n",
       "  <tr>\n",
       "   <td style=\"text-align:left;font-weight: bold;\"> Churned </td>\n",
       "   <td style=\"text-align:right;\"> 0.0894134 </td>\n",
       "   <td style=\"text-align:right;\"> 0.0565093 </td>\n",
       "  </tr>\n",
       "</tbody>\n",
       "</table></td></tr></table>"
      ]
     },
     "metadata": {},
     "output_type": "display_data"
    }
   ],
   "source": [
    "model.2 = naiveBayes(Class ~ ., data.train.2)\n",
    "prob.2 = predict(model.2, data.test.2, type=\"raw\")\n",
    "prediction.2 = as.class(prob.2, class=\"Active\", cutoff=0.5)\n",
    "CM.2 = confusionMatrix(prediction.2, data.test.2$Class)$table\n",
    "cm.2 = CM.2 / sum(CM.2)\n",
    "\n",
    "model.3 = naiveBayes(Class ~ ., data.train.3)\n",
    "prob.3 = predict(model.3, data.test.3, type=\"raw\")\n",
    "prediction.3 = as.class(prob.3, class=\"Active\", cutoff=0.5)\n",
    "CM.3 = confusionMatrix(prediction.3, data.test.3$Class)$table\n",
    "cm.3 = CM.2 / sum(CM.3)\n",
    "\n",
    "model.4 = naiveBayes(Class ~ ., data.train.4)\n",
    "prob.4 = predict(model.4, data.test.4, type=\"raw\")\n",
    "prediction.4 = as.class(prob.4, class=\"Active\", cutoff=0.5)\n",
    "CM.4 = confusionMatrix(prediction.4, data.test.4$Class)$table\n",
    "cm.4 = CM.4 / sum(CM.4)\n",
    "\n",
    "model.5 = naiveBayes(Class ~ ., data.train.5)\n",
    "prob.5 = predict(model.5, data.test.5, type=\"raw\")\n",
    "prediction.5 = as.class(prob.5, class=\"Active\", cutoff=0.5)\n",
    "CM.5 = confusionMatrix(prediction.5, data.test.5$Class)$table\n",
    "cm.5 = CM.5 / sum(CM.5)\n",
    "\n",
    "layout(fmt.cm(cm.2), fmt.cm(cm.3), fmt.cm(cm.4), fmt.cm(cm.5))"
   ]
  },
  {
   "cell_type": "markdown",
   "metadata": {},
   "source": [
    "#### Accuracy"
   ]
  },
  {
   "cell_type": "code",
   "execution_count": 34,
   "metadata": {},
   "outputs": [
    {
     "data": {
      "text/html": [
       "<table>\n",
       "<thead><tr><th scope=col>accuracy.nb</th></tr></thead>\n",
       "<tbody>\n",
       "\t<tr><td>0.79566</td></tr>\n",
       "</tbody>\n",
       "</table>\n"
      ],
      "text/latex": [
       "\\begin{tabular}{r|l}\n",
       " accuracy.nb\\\\\n",
       "\\hline\n",
       "\t 0.79566\\\\\n",
       "\\end{tabular}\n"
      ],
      "text/markdown": [
       "\n",
       "| accuracy.nb |\n",
       "|---|\n",
       "| 0.79566 |\n",
       "\n"
      ],
      "text/plain": [
       "  accuracy.nb\n",
       "1 0.79566    "
      ]
     },
     "metadata": {},
     "output_type": "display_data"
    }
   ],
   "source": [
    "accuracy.1 = cm.1[\"Active\",\"Active\"]+cm.1[\"Churned\",\"Churned\"]\n",
    "accuracy.2 = cm.2[\"Active\",\"Active\"]+cm.2[\"Churned\",\"Churned\"]\n",
    "accuracy.3 = cm.3[\"Active\",\"Active\"]+cm.3[\"Churned\",\"Churned\"]\n",
    "accuracy.4 = cm.4[\"Active\",\"Active\"]+cm.4[\"Churned\",\"Churned\"]\n",
    "accuracy.5 = cm.5[\"Active\",\"Active\"]+cm.5[\"Churned\",\"Churned\"]\n",
    "\n",
    "accuracy.nb = mean(c(accuracy.1, accuracy.2, accuracy.3, accuracy.4, accuracy.5))\n",
    "data.frame(accuracy.nb)"
   ]
  },
  {
   "cell_type": "markdown",
   "metadata": {},
   "source": [
    "#### Profit"
   ]
  },
  {
   "cell_type": "code",
   "execution_count": 35,
   "metadata": {},
   "outputs": [
    {
     "data": {
      "text/html": [
       "<table>\n",
       "<thead><tr><th scope=col>fold</th><th scope=col>profit.active_active</th><th scope=col>profit.active_churned</th><th scope=col>profit.churned_active</th><th scope=col>profit.churned_churned</th><th scope=col>profit</th></tr></thead>\n",
       "<tbody>\n",
       "\t<tr><td>1         </td><td>5218366816</td><td>0         </td><td> 645681429</td><td>30112620  </td><td>5894160865</td></tr>\n",
       "\t<tr><td>2         </td><td>5080829247</td><td>0         </td><td> 773254498</td><td>31513207  </td><td>5885596952</td></tr>\n",
       "\t<tr><td>3         </td><td>5080829247</td><td>0         </td><td> 773254498</td><td>31513207  </td><td>5885596952</td></tr>\n",
       "\t<tr><td>4         </td><td>4488891125</td><td>0         </td><td>1322307120</td><td>41667463  </td><td>5852865708</td></tr>\n",
       "\t<tr><td>5         </td><td>5297359993</td><td>0         </td><td> 572411252</td><td>27661593  </td><td>5897432838</td></tr>\n",
       "</tbody>\n",
       "</table>\n"
      ],
      "text/latex": [
       "\\begin{tabular}{r|llllll}\n",
       " fold & profit.active\\_active & profit.active\\_churned & profit.churned\\_active & profit.churned\\_churned & profit\\\\\n",
       "\\hline\n",
       "\t 1          & 5218366816 & 0          &  645681429 & 30112620   & 5894160865\\\\\n",
       "\t 2          & 5080829247 & 0          &  773254498 & 31513207   & 5885596952\\\\\n",
       "\t 3          & 5080829247 & 0          &  773254498 & 31513207   & 5885596952\\\\\n",
       "\t 4          & 4488891125 & 0          & 1322307120 & 41667463   & 5852865708\\\\\n",
       "\t 5          & 5297359993 & 0          &  572411252 & 27661593   & 5897432838\\\\\n",
       "\\end{tabular}\n"
      ],
      "text/markdown": [
       "\n",
       "| fold | profit.active_active | profit.active_churned | profit.churned_active | profit.churned_churned | profit |\n",
       "|---|---|---|---|---|---|\n",
       "| 1          | 5218366816 | 0          |  645681429 | 30112620   | 5894160865 |\n",
       "| 2          | 5080829247 | 0          |  773254498 | 31513207   | 5885596952 |\n",
       "| 3          | 5080829247 | 0          |  773254498 | 31513207   | 5885596952 |\n",
       "| 4          | 4488891125 | 0          | 1322307120 | 41667463   | 5852865708 |\n",
       "| 5          | 5297359993 | 0          |  572411252 | 27661593   | 5897432838 |\n",
       "\n"
      ],
      "text/plain": [
       "  fold profit.active_active profit.active_churned profit.churned_active\n",
       "1 1    5218366816           0                      645681429           \n",
       "2 2    5080829247           0                      773254498           \n",
       "3 3    5080829247           0                      773254498           \n",
       "4 4    4488891125           0                     1322307120           \n",
       "5 5    5297359993           0                      572411252           \n",
       "  profit.churned_churned profit    \n",
       "1 30112620               5894160865\n",
       "2 31513207               5885596952\n",
       "3 31513207               5885596952\n",
       "4 41667463               5852865708\n",
       "5 27661593               5897432838"
      ]
     },
     "metadata": {},
     "output_type": "display_data"
    },
    {
     "data": {
      "text/html": [
       "<table>\n",
       "<thead><tr><th scope=col>profit.nb</th></tr></thead>\n",
       "<tbody>\n",
       "\t<tr><td>5883130663</td></tr>\n",
       "</tbody>\n",
       "</table>\n"
      ],
      "text/latex": [
       "\\begin{tabular}{r|l}\n",
       " profit.nb\\\\\n",
       "\\hline\n",
       "\t 5883130663\\\\\n",
       "\\end{tabular}\n"
      ],
      "text/markdown": [
       "\n",
       "| profit.nb |\n",
       "|---|\n",
       "| 5883130663 |\n",
       "\n"
      ],
      "text/plain": [
       "  profit.nb \n",
       "1 5883130663"
      ]
     },
     "metadata": {},
     "output_type": "display_data"
    }
   ],
   "source": [
    "active_active.1   = round(customers * (1-churn_rate) * cm.1[\"Active\",\"Active\"]/sum(cm.1[,\"Active\"]))\n",
    "active_churned.1  = round(customers * churn_rate * cm.1[\"Active\",\"Churned\"]/sum(cm.1[,\"Churned\"]))\n",
    "churned_active.1  = round(customers * (1-churn_rate) * cm.1[\"Churned\",\"Active\"]/sum(cm.1[,\"Active\"]))\n",
    "churned_churned.1 = round(customers * churn_rate * cm.1[\"Churned\",\"Churned\"]/sum(cm.1[,\"Churned\"]))\n",
    "\n",
    "profit.churned_churned.1 = ((churned_churned.1 * save_rate * churned_value) - (churned_churned.1 * intervention_cost))\n",
    "profit.active_churned.1 = 0\n",
    "profit.churned_active.1 = (churned_active.1 * active_value) - (churned_active.1 * intervention_cost)\n",
    "profit.active_active.1 = (active_active.1 * active_value)\n",
    "profit.1 = profit.churned_churned.1 + profit.active_churned.1 + profit.churned_active.1 + profit.active_active.1\n",
    "\n",
    "\n",
    "active_active.2   = round(customers * (1-churn_rate) * cm.2[\"Active\",\"Active\"]/sum(cm.2[,\"Active\"]))\n",
    "active_churned.2  = round(customers * churn_rate * cm.2[\"Active\",\"Churned\"]/sum(cm.2[,\"Churned\"]))\n",
    "churned_active.2  = round(customers * (1-churn_rate) * cm.2[\"Churned\",\"Active\"]/sum(cm.2[,\"Active\"]))\n",
    "churned_churned.2 = round(customers * churn_rate * cm.2[\"Churned\",\"Churned\"]/sum(cm.2[,\"Churned\"]))\n",
    "\n",
    "profit.churned_churned.2 = ((churned_churned.2 * save_rate * churned_value) - (churned_churned.2 * intervention_cost))\n",
    "profit.active_churned.2 = 0\n",
    "profit.churned_active.2 = (churned_active.2 * active_value) - (churned_active.2 * intervention_cost)\n",
    "profit.active_active.2 = (active_active.2 * active_value)\n",
    "profit.2 = profit.churned_churned.2 + profit.active_churned.2 + profit.churned_active.2 + profit.active_active.2\n",
    "\n",
    "\n",
    "active_active.3   = round(customers * (1-churn_rate) * cm.3[\"Active\",\"Active\"]/sum(cm.3[,\"Active\"]))\n",
    "active_churned.3  = round(customers * churn_rate * cm.3[\"Active\",\"Churned\"]/sum(cm.3[,\"Churned\"]))\n",
    "churned_active.3  = round(customers * (1-churn_rate) * cm.3[\"Churned\",\"Active\"]/sum(cm.3[,\"Active\"]))\n",
    "churned_churned.3 = round(customers * churn_rate * cm.3[\"Churned\",\"Churned\"]/sum(cm.3[,\"Churned\"]))\n",
    "\n",
    "profit.churned_churned.3 = ((churned_churned.3 * save_rate * churned_value) - (churned_churned.3 * intervention_cost))\n",
    "profit.active_churned.3 = 0\n",
    "profit.churned_active.3 = (churned_active.3 * active_value) - (churned_active.3 * intervention_cost)\n",
    "profit.active_active.3 = (active_active.3 * active_value)\n",
    "profit.3 = profit.churned_churned.3 + profit.active_churned.3 + profit.churned_active.3 + profit.active_active.3\n",
    "\n",
    "\n",
    "active_active.4   = round(customers * (1-churn_rate) * cm.4[\"Active\",\"Active\"]/sum(cm.4[,\"Active\"]))\n",
    "active_churned.4  = round(customers * churn_rate * cm.4[\"Active\",\"Churned\"]/sum(cm.4[,\"Churned\"]))\n",
    "churned_active.4  = round(customers * (1-churn_rate) * cm.4[\"Churned\",\"Active\"]/sum(cm.4[,\"Active\"]))\n",
    "churned_churned.4 = round(customers * churn_rate * cm.4[\"Churned\",\"Churned\"]/sum(cm.4[,\"Churned\"]))\n",
    "\n",
    "profit.churned_churned.4 = ((churned_churned.4 * save_rate * churned_value) - (churned_churned.4 * intervention_cost))\n",
    "profit.active_churned.4 = 0\n",
    "profit.churned_active.4 = (churned_active.4 * active_value) - (churned_active.4 * intervention_cost)\n",
    "profit.active_active.4 = (active_active.4 * active_value)\n",
    "profit.4 = profit.churned_churned.4 + profit.active_churned.4 + profit.churned_active.4 + profit.active_active.4\n",
    "\n",
    "\n",
    "active_active.5   = round(customers * (1-churn_rate) * cm.5[\"Active\",\"Active\"]/sum(cm.5[,\"Active\"]))\n",
    "active_churned.5  = round(customers * churn_rate * cm.5[\"Active\",\"Churned\"]/sum(cm.5[,\"Churned\"]))\n",
    "churned_active.5  = round(customers * (1-churn_rate) * cm.5[\"Churned\",\"Active\"]/sum(cm.5[,\"Active\"]))\n",
    "churned_churned.5 = round(customers * churn_rate * cm.5[\"Churned\",\"Churned\"]/sum(cm.5[,\"Churned\"]))\n",
    "\n",
    "profit.churned_churned.5 = ((churned_churned.5 * save_rate * churned_value) - (churned_churned.5 * intervention_cost))\n",
    "profit.active_churned.5 = 0\n",
    "profit.churned_active.5 = (churned_active.5 * active_value) - (churned_active.5 * intervention_cost)\n",
    "profit.active_active.5 = (active_active.5 * active_value)\n",
    "profit.5 = profit.churned_churned.5 + profit.active_churned.5 + profit.churned_active.5 + profit.active_active.5\n",
    "\n",
    "\n",
    "profit.nb = mean(c(profit.1, profit.2, profit.3, profit.4, profit.5))\n",
    "\n",
    "\n",
    "data.frame(fold=1:5,\n",
    "           profit.active_active=  c(profit.active_active.1,   profit.active_active.2,   profit.active_active.3,   profit.active_active.4,   profit.active_active.5),\n",
    "           profit.active_churned= c(profit.active_churned.1,  profit.active_churned.2,  profit.active_churned.3,  profit.active_churned.4,  profit.active_churned.5),\n",
    "           profit.churned_active= c(profit.churned_active.1,  profit.churned_active.2,  profit.churned_active.3,  profit.churned_active.4,  profit.churned_active.5),\n",
    "           profit.churned_churned=c(profit.churned_churned.1, profit.churned_churned.2, profit.churned_churned.3, profit.churned_churned.4, profit.churned_churned.5),\n",
    "           profit=c(profit.1, profit.2, profit.3, profit.4, profit.5))\n",
    "\n",
    "data.frame(profit.nb)"
   ]
  },
  {
   "cell_type": "markdown",
   "metadata": {},
   "source": [
    "### Compare Strategies"
   ]
  },
  {
   "cell_type": "code",
   "execution_count": 36,
   "metadata": {},
   "outputs": [
    {
     "data": {
      "text/html": [
       "<table>\n",
       "<thead><tr><th scope=col>strategy</th><th scope=col>accuracy</th><th scope=col>profit</th><th scope=col>improvement</th></tr></thead>\n",
       "<tbody>\n",
       "\t<tr><td>baseline         </td><td>       NA        </td><td>5914481245       </td><td>        0        </td></tr>\n",
       "\t<tr><td>randomly call 10%</td><td>0.7915052        </td><td>5881566091       </td><td>-32915154        </td></tr>\n",
       "\t<tr><td>randomly call 20%</td><td>0.7151452        </td><td>5843266668       </td><td>-71214577        </td></tr>\n",
       "\t<tr><td>naive bayes      </td><td>0.7956600        </td><td>5883130663       </td><td>-31350582        </td></tr>\n",
       "</tbody>\n",
       "</table>\n"
      ],
      "text/latex": [
       "\\begin{tabular}{r|llll}\n",
       " strategy & accuracy & profit & improvement\\\\\n",
       "\\hline\n",
       "\t baseline          &        NA         & 5914481245        &         0        \\\\\n",
       "\t randomly call 10\\% & 0.7915052           & 5881566091          & -32915154          \\\\\n",
       "\t randomly call 20\\% & 0.7151452           & 5843266668          & -71214577          \\\\\n",
       "\t naive bayes       & 0.7956600         & 5883130663        & -31350582        \\\\\n",
       "\\end{tabular}\n"
      ],
      "text/markdown": [
       "\n",
       "| strategy | accuracy | profit | improvement |\n",
       "|---|---|---|---|\n",
       "| baseline          |        NA         | 5914481245        |         0         |\n",
       "| randomly call 10% | 0.7915052         | 5881566091        | -32915154         |\n",
       "| randomly call 20% | 0.7151452         | 5843266668        | -71214577         |\n",
       "| naive bayes       | 0.7956600         | 5883130663        | -31350582         |\n",
       "\n"
      ],
      "text/plain": [
       "  strategy          accuracy  profit     improvement\n",
       "1 baseline                 NA 5914481245         0  \n",
       "2 randomly call 10% 0.7915052 5881566091 -32915154  \n",
       "3 randomly call 20% 0.7151452 5843266668 -71214577  \n",
       "4 naive bayes       0.7956600 5883130663 -31350582  "
      ]
     },
     "metadata": {},
     "output_type": "display_data"
    }
   ],
   "source": [
    "improvement.baseline = 0\n",
    "improvement.random10 = profit.random10-profit.baseline\n",
    "improvement.random20 = profit.random20-profit.baseline\n",
    "improvement.nb = profit.nb-profit.baseline\n",
    "\n",
    "report = data.frame(strategy=c(\"baseline\", \"randomly call 10%\", \"randomly call 20%\", \"naive bayes\"),\n",
    "                    accuracy=c(NA, accuracy.random10, accuracy.random20, accuracy.nb),\n",
    "                    profit=c(profit.baseline, profit.random10, profit.random20, profit.nb),\n",
    "                    improvement=c(improvement.baseline, improvement.random10, improvement.random20, improvement.nb))\n",
    "report"
   ]
  },
  {
   "cell_type": "code",
   "execution_count": 37,
   "metadata": {
    "scrolled": false
   },
   "outputs": [
    {
     "data": {
      "image/png": "[encoded data removed]",
      "text/plain": [
       "plot without title"
      ]
     },
     "metadata": {},
     "output_type": "display_data"
    }
   ],
   "source": [
    "ggplot(report) + xlab(\"strategy\") +\n",
    "geom_col(aes(x=factor(strategy, strategy), y=improvement, fill=strategy)) + \n",
    "geom_hline(yintercept=0) +\n",
    "scale_fill_manual(values=PALETTE) + theme.no_legend"
   ]
  },
  {
   "cell_type": "code",
   "execution_count": 38,
   "metadata": {},
   "outputs": [
    {
     "data": {
      "text/html": [
       "<table>\n",
       "<thead><tr><th scope=col>save_rate</th><th scope=col>intervention_cost</th><th scope=col>business_value</th></tr></thead>\n",
       "<tbody>\n",
       "\t<tr><td>0.25     </td><td>500      </td><td>-31350582</td></tr>\n",
       "</tbody>\n",
       "</table>\n"
      ],
      "text/latex": [
       "\\begin{tabular}{r|lll}\n",
       " save\\_rate & intervention\\_cost & business\\_value\\\\\n",
       "\\hline\n",
       "\t 0.25      & 500       & -31350582\\\\\n",
       "\\end{tabular}\n"
      ],
      "text/markdown": [
       "\n",
       "| save_rate | intervention_cost | business_value |\n",
       "|---|---|---|\n",
       "| 0.25      | 500       | -31350582 |\n",
       "\n"
      ],
      "text/plain": [
       "  save_rate intervention_cost business_value\n",
       "1 0.25      500               -31350582     "
      ]
     },
     "metadata": {},
     "output_type": "display_data"
    }
   ],
   "source": [
    "profit.next_best_strategy = max(report$profit[1:3])\n",
    "business_value = profit.nb - profit.next_best_strategy\n",
    "\n",
    "data.frame(save_rate, intervention_cost, business_value)"
   ]
  },
  {
   "cell_type": "markdown",
   "metadata": {},
   "source": [
    "## Discussion\n",
    "\n",
    "* Why unbalance the data?\n",
    "* How much is the naive Bayes model worth?\n",
    "* How much is training intervention agents worth?\n",
    "* How much is reducing intervention agent costs worth?\n",
    "* What effect does growth have on how much the naive Bayes model is worth?\n",
    "* What insights do you get from accuracy measures, confusion matrix measures, and business value measures?"
   ]
  },
  {
   "cell_type": "markdown",
   "metadata": {},
   "source": [
    "## Further Reading\n",
    "\n",
    "* https://www.researchgate.net/publication/320331663_MCS_Multiple_Classifier_System_to_Predict_the_Churners_in_the_Telecom_Industry"
   ]
  },
  {
   "cell_type": "markdown",
   "metadata": {},
   "source": [
    "<font size=1;>\n",
    "<p style=\"text-align: left;\">\n",
    "Copyright (c) Berkeley Data Analytics Group, LLC\n",
    "<span style=\"float: right;\">\n",
    "Document revised March 8, 2020\n",
    "</span>\n",
    "</p>\n",
    "</font>"
   ]
  }
 ],
 "metadata": {
  "hide_code_all_hidden": false,
  "hide_input": false,
  "kernelspec": {
   "display_name": "R",
   "language": "R",
   "name": "ir"
  },
  "language_info": {
   "codemirror_mode": "r",
   "file_extension": ".r",
   "mimetype": "text/x-r-source",
   "name": "R",
   "pygments_lexer": "r",
   "version": "3.6.1"
  },
  "toc": {
   "base_numbering": 1,
   "nav_menu": {},
   "number_sections": true,
   "sideBar": true,
   "skip_h1_title": true,
   "title_cell": "Table of Contents",
   "title_sidebar": "Contents",
   "toc_cell": false,
   "toc_position": {},
   "toc_section_display": true,
   "toc_window_display": false
  }
 },
 "nbformat": 4,
 "nbformat_minor": 2
}
